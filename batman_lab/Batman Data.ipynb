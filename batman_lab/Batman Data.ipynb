{
 "cells": [
  {
   "cell_type": "code",
   "execution_count": 2,
   "metadata": {
    "collapsed": true
   },
   "outputs": [],
   "source": [
    "import numpy as np\n",
    "from datascience import *\n",
    "import folium"
   ]
  },
  {
   "cell_type": "code",
   "execution_count": null,
   "metadata": {
    "collapsed": true
   },
   "outputs": [],
   "source": []
  },
  {
   "cell_type": "markdown",
   "metadata": {},
   "source": [
    "data from https://data.cityofnewyork.us/Public-Safety/NYPD-Complaint-Map-Year-to-Date-/2fra-mtpn\n",
    "and http://www.nyc.gov/html/tlc/html/about/trip_record_data.shtml"
   ]
  },
  {
   "cell_type": "markdown",
   "metadata": {},
   "source": [
    "# MISC"
   ]
  },
  {
   "cell_type": "code",
   "execution_count": 3,
   "metadata": {
    "collapsed": true
   },
   "outputs": [],
   "source": [
    "def remove_nan(t):\n",
    "    \"\"\"\n",
    "    Removes all rows with nan values checking each column\n",
    "    Note you should use this AFTER stripping the table of columns you do not need\n",
    "    so you do not remove rows when given a column without much information\n",
    "    \"\"\"\n",
    "    def checkNotnan(val):\n",
    "        if (val!=val)|(val=='nan')|(val=='NAN')|(val=='NaN'):\n",
    "            return False\n",
    "        return True\n",
    "    for i in range(t.num_columns):\n",
    "        t = t.where(i, checkNotnan)\n",
    "    return t"
   ]
  },
  {
   "cell_type": "markdown",
   "metadata": {},
   "source": [
    "# Taxi Data"
   ]
  },
  {
   "cell_type": "code",
   "execution_count": 5,
   "metadata": {},
   "outputs": [],
   "source": [
    "df = Table.read_table(\"./DATA/green_tripdata_2016-01.csv\")"
   ]
  },
  {
   "cell_type": "code",
   "execution_count": 11,
   "metadata": {
    "collapsed": true
   },
   "outputs": [],
   "source": [
    "df = df.sample(5000)\n",
    "#note sampling for ease of use"
   ]
  },
  {
   "cell_type": "code",
   "execution_count": 12,
   "metadata": {},
   "outputs": [
    {
     "data": {
      "text/html": [
       "<table border=\"1\" class=\"dataframe\">\n",
       "    <thead>\n",
       "        <tr>\n",
       "            <th>lpep_pickup_datetime</th> <th>Lpep_dropoff_datetime</th> <th>Pickup_longitude</th> <th>Pickup_latitude</th> <th>Dropoff_longitude</th> <th>Dropoff_latitude</th> <th>Passenger_count</th>\n",
       "        </tr>\n",
       "    </thead>\n",
       "    <tbody>\n",
       "        <tr>\n",
       "            <td>2016-01-15 17:58:18 </td> <td>2016-01-15 18:04:28  </td> <td>-73.8523        </td> <td>40.8343        </td> <td>-73.8745         </td> <td>40.8342         </td> <td>1              </td>\n",
       "        </tr>\n",
       "    </tbody>\n",
       "        <tr>\n",
       "            <td>2016-01-15 20:26:20 </td> <td>2016-01-15 20:33:29  </td> <td>-73.9886        </td> <td>40.6754        </td> <td>-73.9951         </td> <td>40.6799         </td> <td>1              </td>\n",
       "        </tr>\n",
       "    </tbody>\n",
       "        <tr>\n",
       "            <td>2016-01-09 08:43:10 </td> <td>2016-01-09 08:46:54  </td> <td>-73.9523        </td> <td>40.7981        </td> <td>-73.9567         </td> <td>40.7832         </td> <td>1              </td>\n",
       "        </tr>\n",
       "    </tbody>\n",
       "        <tr>\n",
       "            <td>2016-01-17 17:48:42 </td> <td>2016-01-17 17:52:24  </td> <td>-73.9366        </td> <td>40.8201        </td> <td>-73.9393         </td> <td>40.8052         </td> <td>1              </td>\n",
       "        </tr>\n",
       "    </tbody>\n",
       "        <tr>\n",
       "            <td>2016-01-29 15:14:41 </td> <td>2016-01-29 15:24:53  </td> <td>-73.9541        </td> <td>40.7873        </td> <td>-73.9699         </td> <td>40.7989         </td> <td>1              </td>\n",
       "        </tr>\n",
       "    </tbody>\n",
       "</table>\n",
       "<p>... (4995 rows omitted)</p"
      ],
      "text/plain": [
       "<IPython.core.display.HTML object>"
      ]
     },
     "metadata": {},
     "output_type": "display_data"
    }
   ],
   "source": [
    "df = df.select([1,2,5,6,7,8,9])\n",
    "df.show(5)"
   ]
  },
  {
   "cell_type": "code",
   "execution_count": 13,
   "metadata": {
    "collapsed": true
   },
   "outputs": [],
   "source": [
    "# converting to datetimes"
   ]
  },
  {
   "cell_type": "code",
   "execution_count": 14,
   "metadata": {
    "collapsed": true
   },
   "outputs": [],
   "source": [
    "def to_datetime(string_date):\n",
    "    return datetime.strptime(string_date, '%Y-%m-%d %H:%M:%S')"
   ]
  },
  {
   "cell_type": "code",
   "execution_count": 52,
   "metadata": {
    "collapsed": true
   },
   "outputs": [],
   "source": [
    "df_dt = df.with_column('pickup_dt', df.apply(to_datetime, 0)).drop('lpep_pickup_datetime')\n",
    "df_dt = df_dt.with_column('dropoff_dt', df.apply(to_datetime, 1)).drop('Lpep_dropoff_datetime')"
   ]
  },
  {
   "cell_type": "code",
   "execution_count": 53,
   "metadata": {},
   "outputs": [
    {
     "data": {
      "text/html": [
       "<table border=\"1\" class=\"dataframe\">\n",
       "    <thead>\n",
       "        <tr>\n",
       "            <th>Pickup_longitude</th> <th>Pickup_latitude</th> <th>Dropoff_longitude</th> <th>Dropoff_latitude</th> <th>Passenger_count</th> <th>pickup_dt</th> <th>dropoff_dt</th>\n",
       "        </tr>\n",
       "    </thead>\n",
       "    <tbody>\n",
       "        <tr>\n",
       "            <td>-73.8523        </td> <td>40.8343        </td> <td>-73.8745         </td> <td>40.8342         </td> <td>1              </td> <td>2016-01-15 17:58:18</td> <td>2016-01-15 18:04:28</td>\n",
       "        </tr>\n",
       "    </tbody>\n",
       "        <tr>\n",
       "            <td>-73.9886        </td> <td>40.6754        </td> <td>-73.9951         </td> <td>40.6799         </td> <td>1              </td> <td>2016-01-15 20:26:20</td> <td>2016-01-15 20:33:29</td>\n",
       "        </tr>\n",
       "    </tbody>\n",
       "        <tr>\n",
       "            <td>-73.9523        </td> <td>40.7981        </td> <td>-73.9567         </td> <td>40.7832         </td> <td>1              </td> <td>2016-01-09 08:43:10</td> <td>2016-01-09 08:46:54</td>\n",
       "        </tr>\n",
       "    </tbody>\n",
       "        <tr>\n",
       "            <td>-73.9366        </td> <td>40.8201        </td> <td>-73.9393         </td> <td>40.8052         </td> <td>1              </td> <td>2016-01-17 17:48:42</td> <td>2016-01-17 17:52:24</td>\n",
       "        </tr>\n",
       "    </tbody>\n",
       "        <tr>\n",
       "            <td>-73.9541        </td> <td>40.7873        </td> <td>-73.9699         </td> <td>40.7989         </td> <td>1              </td> <td>2016-01-29 15:14:41</td> <td>2016-01-29 15:24:53</td>\n",
       "        </tr>\n",
       "    </tbody>\n",
       "</table>\n",
       "<p>... (4995 rows omitted)</p"
      ],
      "text/plain": [
       "<IPython.core.display.HTML object>"
      ]
     },
     "metadata": {},
     "output_type": "display_data"
    }
   ],
   "source": [
    "df_dt.show(5)"
   ]
  },
  {
   "cell_type": "code",
   "execution_count": 17,
   "metadata": {
    "collapsed": true
   },
   "outputs": [],
   "source": [
    "df_dt = df_dt.where(0, are.not_equal_to(0))"
   ]
  },
  {
   "cell_type": "code",
   "execution_count": 18,
   "metadata": {},
   "outputs": [
    {
     "data": {
      "text/html": [
       "<table border=\"1\" class=\"dataframe\">\n",
       "    <thead>\n",
       "        <tr>\n",
       "            <th>Pickup_longitude</th> <th>Pickup_latitude</th> <th>Dropoff_longitude</th> <th>Dropoff_latitude</th> <th>Passenger_count</th> <th>pickup_dt</th> <th>dropoff_dt</th>\n",
       "        </tr>\n",
       "    </thead>\n",
       "    <tbody>\n",
       "        <tr>\n",
       "            <td>-73.8523        </td> <td>40.8343        </td> <td>-73.8745         </td> <td>40.8342         </td> <td>1              </td> <td>2016-01-15 17:58:18</td> <td>2016-01-15 17:58:18</td>\n",
       "        </tr>\n",
       "    </tbody>\n",
       "        <tr>\n",
       "            <td>-73.9886        </td> <td>40.6754        </td> <td>-73.9951         </td> <td>40.6799         </td> <td>1              </td> <td>2016-01-15 20:26:20</td> <td>2016-01-15 20:26:20</td>\n",
       "        </tr>\n",
       "    </tbody>\n",
       "        <tr>\n",
       "            <td>-73.9523        </td> <td>40.7981        </td> <td>-73.9567         </td> <td>40.7832         </td> <td>1              </td> <td>2016-01-09 08:43:10</td> <td>2016-01-09 08:43:10</td>\n",
       "        </tr>\n",
       "    </tbody>\n",
       "        <tr>\n",
       "            <td>-73.9366        </td> <td>40.8201        </td> <td>-73.9393         </td> <td>40.8052         </td> <td>1              </td> <td>2016-01-17 17:48:42</td> <td>2016-01-17 17:48:42</td>\n",
       "        </tr>\n",
       "    </tbody>\n",
       "        <tr>\n",
       "            <td>-73.9541        </td> <td>40.7873        </td> <td>-73.9699         </td> <td>40.7989         </td> <td>1              </td> <td>2016-01-29 15:14:41</td> <td>2016-01-29 15:14:41</td>\n",
       "        </tr>\n",
       "    </tbody>\n",
       "</table>\n",
       "<p>... (4991 rows omitted)</p"
      ],
      "text/plain": [
       "<IPython.core.display.HTML object>"
      ]
     },
     "metadata": {},
     "output_type": "display_data"
    }
   ],
   "source": [
    "df_dt.show(5)"
   ]
  },
  {
   "cell_type": "code",
   "execution_count": 12,
   "metadata": {
    "collapsed": true
   },
   "outputs": [],
   "source": [
    "df_loc_pickup = df_dt.select([1,0])\n",
    "df_loc_dropoff = df_dt.select([3,2])"
   ]
  },
  {
   "cell_type": "code",
   "execution_count": 13,
   "metadata": {},
   "outputs": [
    {
     "data": {
      "text/plain": [
       "Row(Dropoff_latitude=40.7015380859375, Dropoff_longitude=-73.986228942871094)"
      ]
     },
     "execution_count": 13,
     "metadata": {},
     "output_type": "execute_result"
    }
   ],
   "source": [
    "df_loc_dropoff.row(0)"
   ]
  },
  {
   "cell_type": "markdown",
   "metadata": {},
   "source": [
    "# Complaints Data"
   ]
  },
  {
   "cell_type": "code",
   "execution_count": 19,
   "metadata": {
    "collapsed": true
   },
   "outputs": [],
   "source": [
    "complaints = Table.read_table(\"NY_complaints.csv\")"
   ]
  },
  {
   "cell_type": "code",
   "execution_count": 20,
   "metadata": {},
   "outputs": [
    {
     "data": {
      "text/html": [
       "<table border=\"1\" class=\"dataframe\">\n",
       "    <thead>\n",
       "        <tr>\n",
       "            <th>CMPLNT_NUM</th> <th>CMPLNT_FR_DT</th> <th>CMPLNT_FR_TM</th> <th>CMPLNT_TO_DT</th> <th>CMPLNT_TO_TM</th> <th>RPT_DT</th> <th>KY_CD</th> <th>OFNS_DESC</th> <th>PD_CD</th> <th>PD_DESC</th> <th>CRM_ATPT_CPTD_CD</th> <th>LAW_CAT_CD</th> <th>JURIS_DESC</th> <th>BORO_NM</th> <th>ADDR_PCT_CD</th> <th>LOC_OF_OCCUR_DESC</th> <th>PREM_TYP_DESC</th> <th>PARKS_NM</th> <th>HADEVELOPT</th> <th>X_COORD_CD</th> <th>Y_COORD_CD</th> <th>Latitude</th> <th>Longitude</th> <th>Lat_Lon</th>\n",
       "        </tr>\n",
       "    </thead>\n",
       "    <tbody>\n",
       "        <tr>\n",
       "            <td>845348933 </td> <td>03/31/2017  </td> <td>23:30:00    </td> <td>nan         </td> <td>nan         </td> <td>03/31/2017</td> <td>578  </td> <td>HARRASSMENT 2                 </td> <td>638  </td> <td>HARASSMENT,SUBD 3,4,5            </td> <td>COMPLETED       </td> <td>VIOLATION  </td> <td>N.Y. POLICE DEPT</td> <td>BROOKLYN </td> <td>69         </td> <td>INSIDE           </td> <td>RESIDENCE - APT. HOUSE</td> <td>nan     </td> <td>nan       </td> <td>1.01242e+06</td> <td>171737    </td> <td>40.638  </td> <td>-73.8985 </td> <td>(40.638018389, -73.898491201)</td>\n",
       "        </tr>\n",
       "    </tbody>\n",
       "        <tr>\n",
       "            <td>886921338 </td> <td>03/31/2017  </td> <td>23:25:00    </td> <td>03/31/2017  </td> <td>23:30:00    </td> <td>03/31/2017</td> <td>344  </td> <td>ASSAULT 3 & RELATED OFFENSES  </td> <td>101  </td> <td>ASSAULT 3                        </td> <td>COMPLETED       </td> <td>MISDEMEANOR</td> <td>N.Y. POLICE DEPT</td> <td>MANHATTAN</td> <td>14         </td> <td>nan              </td> <td>STREET                </td> <td>nan     </td> <td>nan       </td> <td>987466     </td> <td>215861    </td> <td>40.7592 </td> <td>-73.9884 </td> <td>(40.759172699, -73.988392793)</td>\n",
       "        </tr>\n",
       "    </tbody>\n",
       "        <tr>\n",
       "            <td>893265998 </td> <td>03/31/2017  </td> <td>23:15:00    </td> <td>03/31/2017  </td> <td>23:25:00    </td> <td>03/31/2017</td> <td>105  </td> <td>ROBBERY                       </td> <td>394  </td> <td>ROBBERY,LICENSED FOR HIRE VEHICLE</td> <td>COMPLETED       </td> <td>FELONY     </td> <td>N.Y. POLICE DEPT</td> <td>BRONX    </td> <td>42         </td> <td>FRONT OF         </td> <td>TAXI (LIVERY LICENSED)</td> <td>nan     </td> <td>nan       </td> <td>1.0105e+06 </td> <td>245411    </td> <td>40.8402 </td> <td>-73.9051 </td> <td>(40.84024096, -73.905125257) </td>\n",
       "        </tr>\n",
       "    </tbody>\n",
       "        <tr>\n",
       "            <td>518511851 </td> <td>03/31/2017  </td> <td>23:00:00    </td> <td>03/31/2017  </td> <td>23:10:00    </td> <td>03/31/2017</td> <td>364  </td> <td>OTHER STATE LAWS (NON PENAL LA</td> <td>809  </td> <td>TAX LAW                          </td> <td>COMPLETED       </td> <td>MISDEMEANOR</td> <td>N.Y. POLICE DEPT</td> <td>BRONX    </td> <td>49         </td> <td>INSIDE           </td> <td>GROCERY/BODEGA        </td> <td>nan     </td> <td>nan       </td> <td>1.02362e+06</td> <td>253318    </td> <td>40.8619 </td> <td>-73.8577 </td> <td>(40.861894559, -73.85766248) </td>\n",
       "        </tr>\n",
       "    </tbody>\n",
       "        <tr>\n",
       "            <td>541009476 </td> <td>03/31/2017  </td> <td>22:55:00    </td> <td>03/31/2017  </td> <td>22:59:00    </td> <td>03/31/2017</td> <td>235  </td> <td>DANGEROUS DRUGS               </td> <td>511  </td> <td>CONTROLLED SUBSTANCE, POSSESSI   </td> <td>COMPLETED       </td> <td>MISDEMEANOR</td> <td>N.Y. POLICE DEPT</td> <td>BROOKLYN </td> <td>68         </td> <td>FRONT OF         </td> <td>STREET                </td> <td>nan     </td> <td>nan       </td> <td>977956     </td> <td>167273    </td> <td>40.6258 </td> <td>-74.0227 </td> <td>(40.625808217, -74.022675222)</td>\n",
       "        </tr>\n",
       "    </tbody>\n",
       "</table>\n",
       "<p>... (108296 rows omitted)</p"
      ],
      "text/plain": [
       "<IPython.core.display.HTML object>"
      ]
     },
     "metadata": {},
     "output_type": "display_data"
    }
   ],
   "source": [
    "complaints.show(5)"
   ]
  },
  {
   "cell_type": "code",
   "execution_count": 21,
   "metadata": {
    "collapsed": true
   },
   "outputs": [],
   "source": [
    "#converting to datetime\n",
    "def to_datetime_complaints(string_date, string_time):\n",
    "    return datetime.combine(datetime.strptime(string_date, '%m/%d/%Y'), datetime.strptime(string_time, '%H:%M:%S').time())"
   ]
  },
  {
   "cell_type": "code",
   "execution_count": 22,
   "metadata": {},
   "outputs": [
    {
     "name": "stderr",
     "output_type": "stream",
     "text": [
      "/anaconda/lib/python3.6/site-packages/datascience/tables.py:362: FutureWarning: column lists are deprecated; pass each as an argument\n",
      "  \"column lists are deprecated; pass each as an argument\", FutureWarning)\n"
     ]
    }
   ],
   "source": [
    "complaints_dt = complaints.apply(to_datetime_complaints, [1,2])"
   ]
  },
  {
   "cell_type": "code",
   "execution_count": 23,
   "metadata": {
    "collapsed": true
   },
   "outputs": [],
   "source": [
    "complaints = complaints.select(['OFNS_DESC','PD_DESC','LAW_CAT_CD','BORO_NM','Longitude','Latitude']).with_column('TIME',complaints_dt)"
   ]
  },
  {
   "cell_type": "code",
   "execution_count": 24,
   "metadata": {},
   "outputs": [
    {
     "data": {
      "text/html": [
       "<table border=\"1\" class=\"dataframe\">\n",
       "    <thead>\n",
       "        <tr>\n",
       "            <th>OFNS_DESC</th> <th>PD_DESC</th> <th>LAW_CAT_CD</th> <th>BORO_NM</th> <th>Longitude</th> <th>Latitude</th> <th>TIME</th>\n",
       "        </tr>\n",
       "    </thead>\n",
       "    <tbody>\n",
       "        <tr>\n",
       "            <td>HARRASSMENT 2                 </td> <td>HARASSMENT,SUBD 3,4,5            </td> <td>VIOLATION  </td> <td>BROOKLYN </td> <td>-73.8985 </td> <td>40.638  </td> <td>2017-03-31 23:30:00</td>\n",
       "        </tr>\n",
       "    </tbody>\n",
       "        <tr>\n",
       "            <td>ASSAULT 3 & RELATED OFFENSES  </td> <td>ASSAULT 3                        </td> <td>MISDEMEANOR</td> <td>MANHATTAN</td> <td>-73.9884 </td> <td>40.7592 </td> <td>2017-03-31 23:25:00</td>\n",
       "        </tr>\n",
       "    </tbody>\n",
       "        <tr>\n",
       "            <td>ROBBERY                       </td> <td>ROBBERY,LICENSED FOR HIRE VEHICLE</td> <td>FELONY     </td> <td>BRONX    </td> <td>-73.9051 </td> <td>40.8402 </td> <td>2017-03-31 23:15:00</td>\n",
       "        </tr>\n",
       "    </tbody>\n",
       "        <tr>\n",
       "            <td>OTHER STATE LAWS (NON PENAL LA</td> <td>TAX LAW                          </td> <td>MISDEMEANOR</td> <td>BRONX    </td> <td>-73.8577 </td> <td>40.8619 </td> <td>2017-03-31 23:00:00</td>\n",
       "        </tr>\n",
       "    </tbody>\n",
       "        <tr>\n",
       "            <td>DANGEROUS DRUGS               </td> <td>CONTROLLED SUBSTANCE, POSSESSI   </td> <td>MISDEMEANOR</td> <td>BROOKLYN </td> <td>-74.0227 </td> <td>40.6258 </td> <td>2017-03-31 22:55:00</td>\n",
       "        </tr>\n",
       "    </tbody>\n",
       "</table>\n",
       "<p>... (108296 rows omitted)</p"
      ],
      "text/plain": [
       "<IPython.core.display.HTML object>"
      ]
     },
     "metadata": {},
     "output_type": "display_data"
    }
   ],
   "source": [
    "complaints.show(5)"
   ]
  },
  {
   "cell_type": "code",
   "execution_count": 25,
   "metadata": {},
   "outputs": [
    {
     "data": {
      "text/html": [
       "<table border=\"1\" class=\"dataframe\">\n",
       "    <thead>\n",
       "        <tr>\n",
       "            <th>OFNS_DESC</th> <th>PD_DESC</th> <th>LAW_CAT_CD</th> <th>BORO_NM</th> <th>Longitude</th> <th>Latitude</th> <th>TIME</th>\n",
       "        </tr>\n",
       "    </thead>\n",
       "    <tbody>\n",
       "        <tr>\n",
       "            <td>FRAUDS       </td> <td>FRAUD,UNCLASSIFIED-MISDEMEANOR</td> <td>MISDEMEANOR</td> <td>QUEENS   </td> <td>-73.7408 </td> <td>40.6536 </td> <td>2016-01-20 08:00:00</td>\n",
       "        </tr>\n",
       "    </tbody>\n",
       "        <tr>\n",
       "            <td>PETIT LARCENY</td> <td>LARCENY,PETIT FROM BUILDING,UN</td> <td>MISDEMEANOR</td> <td>BRONX    </td> <td>-73.8586 </td> <td>40.8881 </td> <td>2016-01-19 06:00:00</td>\n",
       "        </tr>\n",
       "    </tbody>\n",
       "        <tr>\n",
       "            <td>FORGERY      </td> <td>FORGERY,ETC.,UNCLASSIFIED-FELO</td> <td>FELONY     </td> <td>MANHATTAN</td> <td>-73.979  </td> <td>40.7601 </td> <td>2016-01-07 16:27:00</td>\n",
       "        </tr>\n",
       "    </tbody>\n",
       "        <tr>\n",
       "            <td>FRAUDS       </td> <td>FRAUD,UNCLASSIFIED-MISDEMEANOR</td> <td>MISDEMEANOR</td> <td>MANHATTAN</td> <td>-73.979  </td> <td>40.7601 </td> <td>2016-01-07 16:27:00</td>\n",
       "        </tr>\n",
       "    </tbody>\n",
       "        <tr>\n",
       "            <td>GRAND LARCENY</td> <td>LARCENY,GRAND BY DISHONEST EMP</td> <td>FELONY     </td> <td>MANHATTAN</td> <td>-73.988  </td> <td>40.7623 </td> <td>2016-01-04 09:00:00</td>\n",
       "        </tr>\n",
       "    </tbody>\n",
       "</table>\n",
       "<p>... (222 rows omitted)</p"
      ],
      "text/plain": [
       "<IPython.core.display.HTML object>"
      ]
     },
     "metadata": {},
     "output_type": "display_data"
    }
   ],
   "source": [
    "#we restrict ourselves to january 2016 from taxi data. potentially can add more but for now this is fine\n",
    "def in_jan_2016(dt_val):\n",
    "    start = datetime(2016,1,1,0,0,0)\n",
    "    end = datetime(2016,2,1,0,0,0)\n",
    "    return (start<=dt_val)&(dt_val<end)\n",
    "complaints = complaints.where('TIME', in_jan_2016)\n",
    "complaints.show(5)"
   ]
  },
  {
   "cell_type": "code",
   "execution_count": 32,
   "metadata": {
    "collapsed": true
   },
   "outputs": [],
   "source": [
    "complaints = remove_nan(complaints)"
   ]
  },
  {
   "cell_type": "code",
   "execution_count": 33,
   "metadata": {},
   "outputs": [
    {
     "data": {
      "text/html": [
       "<table border=\"1\" class=\"dataframe\">\n",
       "    <thead>\n",
       "        <tr>\n",
       "            <th>OFNS_DESC</th> <th>PD_DESC</th> <th>LAW_CAT_CD</th> <th>BORO_NM</th> <th>Longitude</th> <th>Latitude</th> <th>TIME</th>\n",
       "        </tr>\n",
       "    </thead>\n",
       "    <tbody>\n",
       "        <tr>\n",
       "            <td>FRAUDS   </td> <td>FRAUD,UNCLASSIFIED-MISDEMEANOR</td> <td>MISDEMEANOR</td> <td>QUEENS </td> <td>-73.7408 </td> <td>40.6536 </td> <td>2016-01-20 08:00:00</td>\n",
       "        </tr>\n",
       "    </tbody>\n",
       "</table>\n",
       "<p>... (209 rows omitted)</p"
      ],
      "text/plain": [
       "<IPython.core.display.HTML object>"
      ]
     },
     "metadata": {},
     "output_type": "display_data"
    }
   ],
   "source": [
    "complaints.show(1)"
   ]
  },
  {
   "cell_type": "code",
   "execution_count": 34,
   "metadata": {
    "collapsed": true
   },
   "outputs": [],
   "source": [
    "complaints.to_csv('january_complaints.csv')"
   ]
  },
  {
   "cell_type": "code",
   "execution_count": 35,
   "metadata": {
    "collapsed": true
   },
   "outputs": [],
   "source": [
    "def non_drug_felony(val):\n",
    "    if (\"DRUG\" in val)|(\"SUBSTANCE\" in val):\n",
    "        return False\n",
    "    return True"
   ]
  },
  {
   "cell_type": "code",
   "execution_count": 36,
   "metadata": {
    "collapsed": true
   },
   "outputs": [],
   "source": [
    "def contains_assault(val):\n",
    "    if (\"ASSAULT\" in val):\n",
    "        return True\n",
    "    return False"
   ]
  },
  {
   "cell_type": "code",
   "execution_count": 37,
   "metadata": {},
   "outputs": [
    {
     "data": {
      "text/html": [
       "<table border=\"1\" class=\"dataframe\">\n",
       "    <thead>\n",
       "        <tr>\n",
       "            <th>OFNS_DESC</th> <th>PD_DESC</th> <th>LAW_CAT_CD</th> <th>BORO_NM</th> <th>Longitude</th> <th>Latitude</th> <th>TIME</th>\n",
       "        </tr>\n",
       "    </thead>\n",
       "    <tbody>\n",
       "        <tr>\n",
       "            <td>FORGERY                     </td> <td>FORGERY,ETC.,UNCLASSIFIED-FELO</td> <td>FELONY    </td> <td>MANHATTAN</td> <td>-73.979  </td> <td>40.7601 </td> <td>2016-01-07 16:27:00</td>\n",
       "        </tr>\n",
       "    </tbody>\n",
       "        <tr>\n",
       "            <td>GRAND LARCENY               </td> <td>LARCENY,GRAND BY DISHONEST EMP</td> <td>FELONY    </td> <td>MANHATTAN</td> <td>-73.988  </td> <td>40.7623 </td> <td>2016-01-04 09:00:00</td>\n",
       "        </tr>\n",
       "    </tbody>\n",
       "        <tr>\n",
       "            <td>THEFT-FRAUD                 </td> <td>FRAUD,UNCLASSIFIED-FELONY     </td> <td>FELONY    </td> <td>BRONX    </td> <td>-73.8782 </td> <td>40.8749 </td> <td>2016-01-01 12:00:00</td>\n",
       "        </tr>\n",
       "    </tbody>\n",
       "        <tr>\n",
       "            <td>THEFT-FRAUD                 </td> <td>FRAUD,UNCLASSIFIED-FELONY     </td> <td>FELONY    </td> <td>BROOKLYN </td> <td>-73.9598 </td> <td>40.6068 </td> <td>2016-01-01 00:00:00</td>\n",
       "        </tr>\n",
       "    </tbody>\n",
       "        <tr>\n",
       "            <td>NYS LAWS-UNCLASSIFIED FELONY</td> <td>NY STATE LAWS,UNCLASSIFIED FEL</td> <td>FELONY    </td> <td>BROOKLYN </td> <td>-73.9216 </td> <td>40.6665 </td> <td>2016-01-16 00:01:00</td>\n",
       "        </tr>\n",
       "    </tbody>\n",
       "</table>\n",
       "<p>... (56 rows omitted)</p"
      ],
      "text/plain": [
       "<IPython.core.display.HTML object>"
      ]
     },
     "metadata": {},
     "output_type": "display_data"
    }
   ],
   "source": [
    "complaints_felony = complaints.where('LAW_CAT_CD', \"FELONY\").where('PD_DESC', non_drug_felony)\n",
    "complaints_felony.show(5)"
   ]
  },
  {
   "cell_type": "code",
   "execution_count": 38,
   "metadata": {
    "collapsed": true
   },
   "outputs": [],
   "source": [
    "complaints_felony = remove_nan(complaints_felony)"
   ]
  },
  {
   "cell_type": "code",
   "execution_count": 39,
   "metadata": {},
   "outputs": [
    {
     "data": {
      "text/html": [
       "<table border=\"1\" class=\"dataframe\">\n",
       "    <thead>\n",
       "        <tr>\n",
       "            <th>OFNS_DESC</th> <th>PD_DESC</th> <th>LAW_CAT_CD</th> <th>BORO_NM</th> <th>Longitude</th> <th>Latitude</th> <th>TIME</th>\n",
       "        </tr>\n",
       "    </thead>\n",
       "    <tbody>\n",
       "        <tr>\n",
       "            <td>FORGERY                     </td> <td>FORGERY,ETC.,UNCLASSIFIED-FELO</td> <td>FELONY    </td> <td>MANHATTAN</td> <td>-73.979  </td> <td>40.7601 </td> <td>2016-01-07 16:27:00</td>\n",
       "        </tr>\n",
       "    </tbody>\n",
       "        <tr>\n",
       "            <td>GRAND LARCENY               </td> <td>LARCENY,GRAND BY DISHONEST EMP</td> <td>FELONY    </td> <td>MANHATTAN</td> <td>-73.988  </td> <td>40.7623 </td> <td>2016-01-04 09:00:00</td>\n",
       "        </tr>\n",
       "    </tbody>\n",
       "        <tr>\n",
       "            <td>THEFT-FRAUD                 </td> <td>FRAUD,UNCLASSIFIED-FELONY     </td> <td>FELONY    </td> <td>BRONX    </td> <td>-73.8782 </td> <td>40.8749 </td> <td>2016-01-01 12:00:00</td>\n",
       "        </tr>\n",
       "    </tbody>\n",
       "        <tr>\n",
       "            <td>THEFT-FRAUD                 </td> <td>FRAUD,UNCLASSIFIED-FELONY     </td> <td>FELONY    </td> <td>BROOKLYN </td> <td>-73.9598 </td> <td>40.6068 </td> <td>2016-01-01 00:00:00</td>\n",
       "        </tr>\n",
       "    </tbody>\n",
       "        <tr>\n",
       "            <td>NYS LAWS-UNCLASSIFIED FELONY</td> <td>NY STATE LAWS,UNCLASSIFIED FEL</td> <td>FELONY    </td> <td>BROOKLYN </td> <td>-73.9216 </td> <td>40.6665 </td> <td>2016-01-16 00:01:00</td>\n",
       "        </tr>\n",
       "    </tbody>\n",
       "</table>\n",
       "<p>... (56 rows omitted)</p"
      ],
      "text/plain": [
       "<IPython.core.display.HTML object>"
      ]
     },
     "metadata": {},
     "output_type": "display_data"
    }
   ],
   "source": [
    "complaints_felony.show(5)"
   ]
  },
  {
   "cell_type": "markdown",
   "metadata": {},
   "source": [
    "# Visualization"
   ]
  },
  {
   "cell_type": "code",
   "execution_count": 40,
   "metadata": {
    "collapsed": true
   },
   "outputs": [],
   "source": [
    "def addMarkers(fol_map, markers, color=\"blue\",icon='star'):\n",
    "    \"\"\"adds markers to fol_map based off of table of lat/lon from markers, assumes latitude first then longitude\n",
    "    limits to 50 markers added at a time to not overload\"\"\"\n",
    "    for i in range(markers.num_rows):\n",
    "        row = markers.row(i)\n",
    "        lat = row[0]\n",
    "        lon = row[1]\n",
    "        folium.Marker([lat,lon],icon=folium.Icon(color=color, icon=icon)).add_to(fol_map)\n",
    "        if (i>50):\n",
    "            return"
   ]
  },
  {
   "cell_type": "code",
   "execution_count": 41,
   "metadata": {
    "collapsed": true
   },
   "outputs": [],
   "source": [
    "map_test = folium.Map(location=[40.7128,-74.0059])"
   ]
  },
  {
   "cell_type": "code",
   "execution_count": 42,
   "metadata": {},
   "outputs": [
    {
     "ename": "NameError",
     "evalue": "name 'df_loc_dropoff' is not defined",
     "output_type": "error",
     "traceback": [
      "\u001b[0;31m---------------------------------------------------------------------------\u001b[0m",
      "\u001b[0;31mNameError\u001b[0m                                 Traceback (most recent call last)",
      "\u001b[0;32m<ipython-input-42-f2861a87710a>\u001b[0m in \u001b[0;36m<module>\u001b[0;34m()\u001b[0m\n\u001b[0;32m----> 1\u001b[0;31m \u001b[0maddMarkers\u001b[0m\u001b[0;34m(\u001b[0m\u001b[0mmap_test\u001b[0m\u001b[0;34m,\u001b[0m \u001b[0mdf_loc_dropoff\u001b[0m\u001b[0;34m)\u001b[0m\u001b[0;34m\u001b[0m\u001b[0m\n\u001b[0m\u001b[1;32m      2\u001b[0m \u001b[0maddMarkers\u001b[0m\u001b[0;34m(\u001b[0m\u001b[0mmap_test\u001b[0m\u001b[0;34m,\u001b[0m \u001b[0mcomplaints_felony\u001b[0m\u001b[0;34m.\u001b[0m\u001b[0mselect\u001b[0m\u001b[0;34m(\u001b[0m\u001b[0;34m[\u001b[0m\u001b[0;34m'Latitude'\u001b[0m\u001b[0;34m,\u001b[0m\u001b[0;34m'Longitude'\u001b[0m\u001b[0;34m]\u001b[0m\u001b[0;34m)\u001b[0m\u001b[0;34m,\u001b[0m \u001b[0;34m\"red\"\u001b[0m\u001b[0;34m)\u001b[0m\u001b[0;34m\u001b[0m\u001b[0m\n",
      "\u001b[0;31mNameError\u001b[0m: name 'df_loc_dropoff' is not defined"
     ]
    }
   ],
   "source": [
    "addMarkers(map_test, df_loc_dropoff)\n",
    "addMarkers(map_test, complaints_felony.select(['Latitude','Longitude']), \"red\")"
   ]
  },
  {
   "cell_type": "code",
   "execution_count": null,
   "metadata": {
    "collapsed": true
   },
   "outputs": [],
   "source": [
    "map_test"
   ]
  },
  {
   "cell_type": "markdown",
   "metadata": {},
   "source": [
    "# Calculating distance"
   ]
  },
  {
   "cell_type": "code",
   "execution_count": 43,
   "metadata": {
    "collapsed": true
   },
   "outputs": [],
   "source": [
    "#could import library but worry about implementing this in class\n",
    "def dist_coord(lat1,lon1,lat2,lon2):\n",
    "    '''returns distance in km between to coordinates'''\n",
    "    '''can handle latitudes/longitudes of same size'''\n",
    "    R = 6373.0\n",
    "    lat1 = np.radians(lat1)\n",
    "    lon1 = np.radians(lon1)\n",
    "    lat2 = np.radians(lat2)\n",
    "    lon2 = np.radians(lon2)\n",
    "    dlon = lon2 - lon1\n",
    "    dlat = lat2 - lat1\n",
    "    a = (np.sin(dlat/2))**2 + np.cos(lat1) * np.cos(lat2) * (np.sin(dlon/2))**2\n",
    "    c = 2 * np.arctan2(np.sqrt(a), np.sqrt(1-a))\n",
    "    distance = R * c\n",
    "    return distance\n"
   ]
  },
  {
   "cell_type": "code",
   "execution_count": 44,
   "metadata": {
    "collapsed": true
   },
   "outputs": [],
   "source": [
    "def find_close(lat, lon, dist, tab, tablelat=0,tablelon=1):\n",
    "    \"\"\"given a table of locations with lat/longitude data, \n",
    "    returns table with only rows of distance <= dist to given lat,lon\"\"\"\n",
    "    distances = dist_coord(lat,lon,tab.column(tablelat),tab.column(tablelon))\n",
    "    out = tab.with_column('DistanceFrom', distances)\n",
    "    return out.where('DistanceFrom',lambda x:x<dist)"
   ]
  },
  {
   "cell_type": "code",
   "execution_count": 45,
   "metadata": {},
   "outputs": [
    {
     "data": {
      "text/plain": [
       "Row(OFNS_DESC='FORGERY', PD_DESC='FORGERY,ETC.,UNCLASSIFIED-FELO', LAW_CAT_CD='FELONY', BORO_NM='MANHATTAN', Longitude=-73.978982121000001, Latitude=40.760115558999999, TIME=datetime.datetime(2016, 1, 7, 16, 27))"
      ]
     },
     "execution_count": 45,
     "metadata": {},
     "output_type": "execute_result"
    }
   ],
   "source": [
    "complaints_felony.row(0)"
   ]
  },
  {
   "cell_type": "code",
   "execution_count": 46,
   "metadata": {
    "collapsed": true
   },
   "outputs": [],
   "source": [
    "lat = complaints_felony.row(5)[5]\n",
    "lon = complaints_felony.row(5)[4]\n",
    "test_close = find_close(lat,lon,1,df_dt,3,2)"
   ]
  },
  {
   "cell_type": "code",
   "execution_count": 47,
   "metadata": {},
   "outputs": [
    {
     "data": {
      "text/html": [
       "<table border=\"1\" class=\"dataframe\">\n",
       "    <thead>\n",
       "        <tr>\n",
       "            <th>Dropoff_latitude</th> <th>Dropoff_longitude</th>\n",
       "        </tr>\n",
       "    </thead>\n",
       "    <tbody>\n",
       "        <tr>\n",
       "            <td>40.8615         </td> <td>-73.8929         </td>\n",
       "        </tr>\n",
       "    </tbody>\n",
       "        <tr>\n",
       "            <td>40.8672         </td> <td>-73.9058         </td>\n",
       "        </tr>\n",
       "    </tbody>\n",
       "        <tr>\n",
       "            <td>40.8679         </td> <td>-73.8971         </td>\n",
       "        </tr>\n",
       "    </tbody>\n",
       "        <tr>\n",
       "            <td>40.855          </td> <td>-73.9051         </td>\n",
       "        </tr>\n",
       "    </tbody>\n",
       "        <tr>\n",
       "            <td>40.8603         </td> <td>-73.8985         </td>\n",
       "        </tr>\n",
       "    </tbody>\n",
       "        <tr>\n",
       "            <td>40.8621         </td> <td>-73.8951         </td>\n",
       "        </tr>\n",
       "    </tbody>\n",
       "        <tr>\n",
       "            <td>40.8613         </td> <td>-73.8989         </td>\n",
       "        </tr>\n",
       "    </tbody>\n",
       "        <tr>\n",
       "            <td>40.8617         </td> <td>-73.9041         </td>\n",
       "        </tr>\n",
       "    </tbody>\n",
       "        <tr>\n",
       "            <td>40.8668         </td> <td>-73.896          </td>\n",
       "        </tr>\n",
       "    </tbody>\n",
       "        <tr>\n",
       "            <td>40.8566         </td> <td>-73.8911         </td>\n",
       "        </tr>\n",
       "    </tbody>\n",
       "</table>\n",
       "<p>... (11 rows omitted)</p"
      ],
      "text/plain": [
       "Dropoff_latitude | Dropoff_longitude\n",
       "40.8615          | -73.8929\n",
       "40.8672          | -73.9058\n",
       "40.8679          | -73.8971\n",
       "40.855           | -73.9051\n",
       "40.8603          | -73.8985\n",
       "40.8621          | -73.8951\n",
       "40.8613          | -73.8989\n",
       "40.8617          | -73.9041\n",
       "40.8668          | -73.896\n",
       "40.8566          | -73.8911\n",
       "... (11 rows omitted)"
      ]
     },
     "execution_count": 47,
     "metadata": {},
     "output_type": "execute_result"
    }
   ],
   "source": [
    "test_close.select(3,2)"
   ]
  },
  {
   "cell_type": "code",
   "execution_count": 48,
   "metadata": {
    "collapsed": true
   },
   "outputs": [],
   "source": [
    "map_test_close = folium.Map(location=[40.7128,-74.0059],tiles='Stamen Toner')\n",
    "addMarkers(map_test_close, test_close.select(3,2))\n",
    "addMarkers(map_test_close, Table().with_columns('Latitude',lat,'Longitude',lon), \"red\")\n",
    "addMarkers(map_test_close, test_close.select(1,0), \"green\")"
   ]
  },
  {
   "cell_type": "code",
   "execution_count": 49,
   "metadata": {
    "scrolled": true
   },
   "outputs": [
    {
     "data": {
      "text/html": [
       "<div style=\"width:100%;\"><div style=\"position:relative;width:100%;height:0;padding-bottom:60%;\"><iframe src=\"data:text/html;charset=utf-8;base64,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\" style=\"position:absolute;width:100%;height:100%;left:0;top:0;border:none !important;\" allowfullscreen webkitallowfullscreen mozallowfullscreen></iframe></div></div>"
      ],
      "text/plain": [
       "<folium.folium.Map at 0x12e584400>"
      ]
     },
     "execution_count": 49,
     "metadata": {},
     "output_type": "execute_result"
    }
   ],
   "source": [
    "map_test_close"
   ]
  },
  {
   "cell_type": "code",
   "execution_count": null,
   "metadata": {
    "collapsed": true
   },
   "outputs": [],
   "source": [
    "#40.853784, -73.877685"
   ]
  },
  {
   "cell_type": "markdown",
   "metadata": {},
   "source": [
    "# Creating fake data"
   ]
  },
  {
   "cell_type": "code",
   "execution_count": 54,
   "metadata": {},
   "outputs": [
    {
     "data": {
      "text/html": [
       "<table border=\"1\" class=\"dataframe\">\n",
       "    <thead>\n",
       "        <tr>\n",
       "            <th>Pickup_longitude</th> <th>Pickup_latitude</th> <th>Dropoff_longitude</th> <th>Dropoff_latitude</th> <th>Passenger_count</th> <th>pickup_dt</th> <th>dropoff_dt</th>\n",
       "        </tr>\n",
       "    </thead>\n",
       "    <tbody>\n",
       "        <tr>\n",
       "            <td>-73.8523        </td> <td>40.8343        </td> <td>-73.8745         </td> <td>40.8342         </td> <td>1              </td> <td>2016-01-15 17:58:18</td> <td>2016-01-15 18:04:28</td>\n",
       "        </tr>\n",
       "    </tbody>\n",
       "        <tr>\n",
       "            <td>-73.9886        </td> <td>40.6754        </td> <td>-73.9951         </td> <td>40.6799         </td> <td>1              </td> <td>2016-01-15 20:26:20</td> <td>2016-01-15 20:33:29</td>\n",
       "        </tr>\n",
       "    </tbody>\n",
       "        <tr>\n",
       "            <td>-73.9523        </td> <td>40.7981        </td> <td>-73.9567         </td> <td>40.7832         </td> <td>1              </td> <td>2016-01-09 08:43:10</td> <td>2016-01-09 08:46:54</td>\n",
       "        </tr>\n",
       "    </tbody>\n",
       "</table>\n",
       "<p>... (4997 rows omitted)</p"
      ],
      "text/plain": [
       "<IPython.core.display.HTML object>"
      ]
     },
     "metadata": {},
     "output_type": "display_data"
    }
   ],
   "source": [
    "from sklearn import linear_model\n",
    "df_dt.show(3)"
   ]
  },
  {
   "cell_type": "code",
   "execution_count": 90,
   "metadata": {},
   "outputs": [
    {
     "data": {
      "text/plain": [
       "LinearRegression(copy_X=True, fit_intercept=True, n_jobs=1, normalize=False)"
      ]
     },
     "execution_count": 90,
     "metadata": {},
     "output_type": "execute_result"
    }
   ],
   "source": [
    "time_regression = linear_model.LinearRegression()\n",
    "time_differences = np.array([i.total_seconds() for i in (df_dt[6]-df_dt[5])])\n",
    "time_regression.fit(np.array(dist_coord(df_dt[1],df_dt[0],df_dt[3],df_dt[2])).reshape(-1,1),time_differences.reshape(-1,1))"
   ]
  },
  {
   "cell_type": "code",
   "execution_count": 99,
   "metadata": {},
   "outputs": [
    {
     "data": {
      "text/plain": [
       "1278.9842657658621"
      ]
     },
     "execution_count": 99,
     "metadata": {},
     "output_type": "execute_result"
    }
   ],
   "source": [
    "time_regression.predict(1)[0][0]"
   ]
  },
  {
   "cell_type": "code",
   "execution_count": 100,
   "metadata": {
    "collapsed": true
   },
   "outputs": [],
   "source": [
    "def make_trip_data(from_lat,from_lon,to_lat,to_lon,error_from,error_to,pickup_dt,dropoff_dt,error_dt):\n",
    "    '''Creates a trip data with error. returns row'''\n",
    "    def random_date_uniform(dt,err):\n",
    "        random_timedelta = timedelta(seconds=np.random.uniform(0, err.total_seconds()))\n",
    "        return dt + (random_timedelta - err/2)\n",
    "    pickup_lat = np.random.uniform(from_lat-(error_from/2),from_lat+(error_from/2))\n",
    "    pickup_lon = np.random.uniform(from_lon-(error_from/2),from_lon+(error_from/2))\n",
    "    dropoff_lat = np.random.uniform(to_lat-(error_to/2),to_lat+(error_to/2))\n",
    "    dropoff_lon = np.random.uniform(to_lon-(error_to/2),to_lon+(error_to/2))\n",
    "    pickup_time = random_date_uniform(pickup_dt, error_dt)\n",
    "    dist = dist_coord(pickup_lat,pickup_lon, dropoff_lat, dropoff_lon)\n",
    "    dropoff_time = pickup_time + timedelta(seconds=time_regression.predict(dist)[0][0])\n",
    "    pickup_time = pickup_time.replace(second=0, microsecond=0)\n",
    "    dropoff_time = dropoff_time.replace(second=0, microsecond=0)\n",
    "    out_table = Table().with_columns('Pickup_latitude',pickup_lat,'Pickup_longitude',pickup_lon,\n",
    "                                     'Dropoff_latitude',dropoff_lat,'Dropoff_longitude',dropoff_lon,\n",
    "                                    'Passenger_count',1,'Pickup_dt',pickup_time,'Dropoff_dt',dropoff_time)\n",
    "    return out_table"
   ]
  },
  {
   "cell_type": "code",
   "execution_count": 101,
   "metadata": {},
   "outputs": [
    {
     "data": {
      "text/plain": [
       "Row(OFNS_DESC='CRIMINAL MISCHIEF & RELATED OF', PD_DESC='TAMPERING 1,CRIMINAL', LAW_CAT_CD='FELONY', BORO_NM='BRONX', Longitude=-73.897730961000008, Latitude=40.861357898999998, TIME=datetime.datetime(2016, 1, 8, 9, 52))"
      ]
     },
     "execution_count": 101,
     "metadata": {},
     "output_type": "execute_result"
    }
   ],
   "source": [
    "complaints_felony.row(5)"
   ]
  },
  {
   "cell_type": "code",
   "execution_count": 102,
   "metadata": {
    "collapsed": true
   },
   "outputs": [],
   "source": [
    "# 1 km = 0.008983 coords\n",
    "from_lat = 40.853784\n",
    "from_lon = -73.877685\n",
    "to_lon = lon\n",
    "to_lat = lat\n",
    "err_f = 0.008983/10\n",
    "err_t = 0.008983/10\n",
    "pickup_dt = complaints_felony.column('TIME')[5] - timedelta(seconds=10*60)\n",
    "dropoff_dt = complaints_felony.column('TIME')[5] + timedelta(seconds=10*60)\n",
    "err_dt = timedelta(seconds=5*60)"
   ]
  },
  {
   "cell_type": "code",
   "execution_count": 103,
   "metadata": {
    "collapsed": true
   },
   "outputs": [],
   "source": [
    "test_synth_row = make_trip_data(from_lat,from_lon,to_lat,to_lon,err_f,err_t,pickup_dt,dropoff_dt,err_dt)"
   ]
  },
  {
   "cell_type": "code",
   "execution_count": 104,
   "metadata": {
    "collapsed": true
   },
   "outputs": [],
   "source": [
    "table_test_synth = test_synth_row\n",
    "for i in range(10):\n",
    "    table_test_synth = table_test_synth.with_row(make_trip_data(from_lat,from_lon,to_lat,to_lon,err_f,err_t,pickup_dt,dropoff_dt,err_dt))"
   ]
  },
  {
   "cell_type": "code",
   "execution_count": 105,
   "metadata": {
    "collapsed": true
   },
   "outputs": [],
   "source": [
    "def make_synth_table(crimes,lat_index,lon_index,dt_index,source_lat,source_lon,distance_err,prob):\n",
    "    '''returns synthetic data give source_array info and crime table\n",
    "        goes through each row and with probability given \n",
    "        will create a synthetic row corresponding to crime\n",
    "        TODO: implement time (currently simplified to 10 minutes with 5 min err)'''\n",
    "    out = None\n",
    "    for i in range(crimes.num_rows):\n",
    "        to_lat = crimes.row(i)[lat_index]\n",
    "        to_lon = crimes.row(i)[lon_index]\n",
    "        err_f = distance_err\n",
    "        err_t = distance_err\n",
    "        pickup_dt = crimes.column(dt_index)[i] - timedelta(seconds=10*60)\n",
    "        dropoff_dt = crimes.column(dt_index)[i] - timedelta(seconds=10*60)\n",
    "        err_dt = timedelta(seconds=5*60)\n",
    "        if (np.random.uniform(0,1) > prob):\n",
    "            continue\n",
    "        elif (out==None):\n",
    "            out = make_trip_data(from_lat,from_lon,to_lat,to_lon,err_f,err_t,pickup_dt,dropoff_dt,err_dt).with_column('Crime Num',i)\n",
    "        else:\n",
    "            out = out.with_row(make_trip_data(from_lat,from_lon,to_lat,to_lon,err_f,err_t,pickup_dt,dropoff_dt,err_dt).with_column('Crime Num',i))\n",
    "            \n",
    "    return out"
   ]
  },
  {
   "cell_type": "code",
   "execution_count": 106,
   "metadata": {
    "collapsed": true
   },
   "outputs": [],
   "source": [
    "source_lat = 40.853784\n",
    "source_lon = -73.877685\n",
    "err = 0.008983/10\n",
    "\n",
    "synth_table_all = make_synth_table(complaints_felony,5,4,6,source_lat,source_lon,err,.8)"
   ]
  },
  {
   "cell_type": "code",
   "execution_count": 107,
   "metadata": {},
   "outputs": [
    {
     "data": {
      "text/html": [
       "<table border=\"1\" class=\"dataframe\">\n",
       "    <thead>\n",
       "        <tr>\n",
       "            <th>Pickup_latitude</th> <th>Pickup_longitude</th> <th>Dropoff_latitude</th> <th>Dropoff_longitude</th> <th>Passenger_count</th> <th>Pickup_dt</th> <th>Dropoff_dt</th> <th>Crime Num</th>\n",
       "        </tr>\n",
       "    </thead>\n",
       "    <tbody>\n",
       "        <tr>\n",
       "            <td>40.8538        </td> <td>-73.8775        </td> <td>40.7604         </td> <td>-73.9791         </td> <td>1              </td> <td>2016-01-07 16:16:00</td> <td>2016-01-07 16:37:00</td> <td>0        </td>\n",
       "        </tr>\n",
       "    </tbody>\n",
       "        <tr>\n",
       "            <td>40.8534        </td> <td>-73.8775        </td> <td>40.7619         </td> <td>-73.9883         </td> <td>1              </td> <td>2016-01-04 08:49:00</td> <td>2016-01-04 09:10:00</td> <td>1        </td>\n",
       "        </tr>\n",
       "    </tbody>\n",
       "        <tr>\n",
       "            <td>40.8542        </td> <td>-73.8778        </td> <td>40.8747         </td> <td>-73.8779         </td> <td>1              </td> <td>2016-01-01 11:49:00</td> <td>2016-01-01 12:10:00</td> <td>2        </td>\n",
       "        </tr>\n",
       "    </tbody>\n",
       "        <tr>\n",
       "            <td>40.854         </td> <td>-73.8779        </td> <td>40.6073         </td> <td>-73.96           </td> <td>1              </td> <td>2015-12-31 23:51:00</td> <td>2016-01-01 00:12:00</td> <td>3        </td>\n",
       "        </tr>\n",
       "    </tbody>\n",
       "        <tr>\n",
       "            <td>40.854         </td> <td>-73.8778        </td> <td>40.6661         </td> <td>-73.9213         </td> <td>1              </td> <td>2016-01-15 23:49:00</td> <td>2016-01-16 00:10:00</td> <td>4        </td>\n",
       "        </tr>\n",
       "    </tbody>\n",
       "</table>\n",
       "<p>... (45 rows omitted)</p"
      ],
      "text/plain": [
       "<IPython.core.display.HTML object>"
      ]
     },
     "metadata": {},
     "output_type": "display_data"
    }
   ],
   "source": [
    "synth_table_all.show(5)"
   ]
  },
  {
   "cell_type": "code",
   "execution_count": 108,
   "metadata": {
    "collapsed": true
   },
   "outputs": [],
   "source": [
    "map_test_synth = folium.Map(location=[40.7128,-74.0059],tiles='Stamen Toner')\n",
    "addMarkers(map_test_synth, complaints_felony.select(5,4), \"red\")\n",
    "addMarkers(map_test_synth, synth_table_all.select(2,3), \"orange\")\n",
    "addMarkers(map_test_synth, synth_table_all.select(0,1), \"green\")"
   ]
  },
  {
   "cell_type": "code",
   "execution_count": 109,
   "metadata": {},
   "outputs": [
    {
     "data": {
      "text/html": [
       "<div style=\"width:100%;\"><div style=\"position:relative;width:100%;height:0;padding-bottom:60%;\"><iframe src=\"data:text/html;charset=utf-8;base64,PCFET0NUWVBFIGh0bWw+CjxoZWFkPiAgICAKICAgIDxtZXRhIGh0dHAtZXF1aXY9ImNvbnRlbnQtdHlwZSIgY29udGVudD0idGV4dC9odG1sOyBjaGFyc2V0PVVURi04IiAvPgogICAgPHNjcmlwdD5MX1BSRUZFUl9DQU5WQVMgPSBmYWxzZTsgTF9OT19UT1VDSCA9IGZhbHNlOyBMX0RJU0FCTEVfM0QgPSBmYWxzZTs8L3NjcmlwdD4KICAgIDxzY3JpcHQgc3JjPSJodHRwczovL3VucGtnLmNvbS9sZWFmbGV0QDEuMC4xL2Rpc3QvbGVhZmxldC5qcyI+PC9zY3JpcHQ+CiAgICA8c2NyaXB0IHNyYz0iaHR0cHM6Ly9hamF4Lmdvb2dsZWFwaXMuY29tL2FqYXgvbGlicy9qcXVlcnkvMS4xMS4xL2pxdWVyeS5taW4uanMiPjwvc2NyaXB0PgogICAgPHNjcmlwdCBzcmM9Imh0dHBzOi8vbWF4Y2RuLmJvb3RzdHJhcGNkbi5jb20vYm9vdHN0cmFwLzMuMi4wL2pzL2Jvb3RzdHJhcC5taW4uanMiPjwvc2NyaXB0PgogICAgPHNjcmlwdCBzcmM9Imh0dHBzOi8vY2RuanMuY2xvdWRmbGFyZS5jb20vYWpheC9saWJzL0xlYWZsZXQuYXdlc29tZS1tYXJrZXJzLzIuMC4yL2xlYWZsZXQuYXdlc29tZS1tYXJrZXJzLmpzIj48L3NjcmlwdD4KICAgIDxzY3JpcHQgc3JjPSJodHRwczovL2NkbmpzLmNsb3VkZmxhcmUuY29tL2FqYXgvbGlicy9sZWFmbGV0Lm1hcmtlcmNsdXN0ZXIvMS4wLjAvbGVhZmxldC5tYXJrZXJjbHVzdGVyLXNyYy5qcyI+PC9zY3JpcHQ+CiAgICA8c2NyaXB0IHNyYz0iaHR0cHM6Ly9jZG5qcy5jbG91ZGZsYXJlLmNvbS9hamF4L2xpYnMvbGVhZmxldC5tYXJrZXJjbHVzdGVyLzEuMC4wL2xlYWZsZXQubWFya2VyY2x1c3Rlci5qcyI+PC9zY3JpcHQ+CiAgICA8bGluayByZWw9InN0eWxlc2hlZXQiIGhyZWY9Imh0dHBzOi8vdW5wa2cuY29tL2xlYWZsZXRAMS4wLjEvZGlzdC9sZWFmbGV0LmNzcyIgLz4KICAgIDxsaW5rIHJlbD0ic3R5bGVzaGVldCIgaHJlZj0iaHR0cHM6Ly9tYXhjZG4uYm9vdHN0cmFwY2RuLmNvbS9ib290c3RyYXAvMy4yLjAvY3NzL2Jvb3RzdHJhcC5taW4uY3NzIiAvPgogICAgPGxpbmsgcmVsPSJzdHlsZXNoZWV0IiBocmVmPSJodHRwczovL21heGNkbi5ib290c3RyYXBjZG4uY29tL2Jvb3RzdHJhcC8zLjIuMC9jc3MvYm9vdHN0cmFwLXRoZW1lLm1pbi5jc3MiIC8+CiAgICA8bGluayByZWw9InN0eWxlc2hlZXQiIGhyZWY9Imh0dHBzOi8vbWF4Y2RuLmJvb3RzdHJhcGNkbi5jb20vZm9udC1hd2Vzb21lLzQuNi4zL2Nzcy9mb250LWF3ZXNvbWUubWluLmNzcyIgLz4KICAgIDxsaW5rIHJlbD0ic3R5bGVzaGVldCIgaHJlZj0iaHR0cHM6Ly9jZG5qcy5jbG91ZGZsYXJlLmNvbS9hamF4L2xpYnMvTGVhZmxldC5hd2Vzb21lLW1hcmtlcnMvMi4wLjIvbGVhZmxldC5hd2Vzb21lLW1hcmtlcnMuY3NzIiAvPgogICAgPGxpbmsgcmVsPSJzdHlsZXNoZWV0IiBocmVmPSJodHRwczovL2NkbmpzLmNsb3VkZmxhcmUuY29tL2FqYXgvbGlicy9sZWFmbGV0Lm1hcmtlcmNsdXN0ZXIvMS4wLjAvTWFya2VyQ2x1c3Rlci5EZWZhdWx0LmNzcyIgLz4KICAgIDxsaW5rIHJlbD0ic3R5bGVzaGVldCIgaHJlZj0iaHR0cHM6Ly9jZG5qcy5jbG91ZGZsYXJlLmNvbS9hamF4L2xpYnMvbGVhZmxldC5tYXJrZXJjbHVzdGVyLzEuMC4wL01hcmtlckNsdXN0ZXIuY3NzIiAvPgogICAgPGxpbmsgcmVsPSJzdHlsZXNoZWV0IiBocmVmPSJodHRwczovL3Jhd2dpdC5jb20vcHl0aG9uLXZpc3VhbGl6YXRpb24vZm9saXVtL21hc3Rlci9mb2xpdW0vdGVtcGxhdGVzL2xlYWZsZXQuYXdlc29tZS5yb3RhdGUuY3NzIiAvPgogICAgPHN0eWxlPmh0bWwsIGJvZHkge3dpZHRoOiAxMDAlO2hlaWdodDogMTAwJTttYXJnaW46IDA7cGFkZGluZzogMDt9PC9zdHlsZT4KICAgIDxzdHlsZT4jbWFwIHtwb3NpdGlvbjphYnNvbHV0ZTt0b3A6MDtib3R0b206MDtyaWdodDowO2xlZnQ6MDt9PC9zdHlsZT4KICAgIAogICAgICAgICAgICA8c3R5bGU+ICNtYXBfYTRkMDY1NjRiYmM5NGI5ZDg1MzI2ZGRhODU5YWQxNjkgewogICAgICAgICAgICAgICAgcG9zaXRpb24gOiByZWxhdGl2ZTsKICAgICAgICAgICAgICAgIHdpZHRoIDogMTAwLjAlOwogICAgICAgICAgICAgICAgaGVpZ2h0OiAxMDAuMCU7CiAgICAgICAgICAgICAgICBsZWZ0OiAwLjAlOwogICAgICAgICAgICAgICAgdG9wOiAwLjAlOwogICAgICAgICAgICAgICAgfQogICAgICAgICAgICA8L3N0eWxlPgogICAgICAgIAo8L2hlYWQ+Cjxib2R5PiAgICAKICAgIAogICAgICAgICAgICA8ZGl2IGNsYXNzPSJmb2xpdW0tbWFwIiBpZD0ibWFwX2E0ZDA2NTY0YmJjOTRiOWQ4NTMyNmRkYTg1OWFkMTY5IiA+PC9kaXY+CiAgICAgICAgCjwvYm9keT4KPHNjcmlwdD4gICAgCiAgICAKCiAgICAgICAgICAgIAogICAgICAgICAgICAgICAgdmFyIHNvdXRoV2VzdCA9IEwubGF0TG5nKC05MCwgLTE4MCk7CiAgICAgICAgICAgICAgICB2YXIgbm9ydGhFYXN0ID0gTC5sYXRMbmcoOTAsIDE4MCk7CiAgICAgICAgICAgICAgICB2YXIgYm91bmRzID0gTC5sYXRMbmdCb3VuZHMoc291dGhXZXN0LCBub3J0aEVhc3QpOwogICAgICAgICAgICAKCiAgICAgICAgICAgIHZhciBtYXBfYTRkMDY1NjRiYmM5NGI5ZDg1MzI2ZGRhODU5YWQxNjkgPSBMLm1hcCgKICAgICAgICAgICAgICAgICAgICAgICAgICAgICAgICAgICdtYXBfYTRkMDY1NjRiYmM5NGI5ZDg1MzI2ZGRhODU5YWQxNjknLAogICAgICAgICAgICAgICAgICAgICAgICAgICAgICAgICAge2NlbnRlcjogWzQwLjcxMjgsLTc0LjAwNTldLAogICAgICAgICAgICAgICAgICAgICAgICAgICAgICAgICAgem9vbTogMTAsCiAgICAgICAgICAgICAgICAgICAgICAgICAgICAgICAgICBtYXhCb3VuZHM6IGJvdW5kcywKICAgICAgICAgICAgICAgICAgICAgICAgICAgICAgICAgIGxheWVyczogW10sCiAgICAgICAgICAgICAgICAgICAgICAgICAgICAgICAgICB3b3JsZENvcHlKdW1wOiBmYWxzZSwKICAgICAgICAgICAgICAgICAgICAgICAgICAgICAgICAgIGNyczogTC5DUlMuRVBTRzM4NTcKICAgICAgICAgICAgICAgICAgICAgICAgICAgICAgICAgfSk7CiAgICAgICAgICAgIAogICAgICAgIAogICAgCiAgICAgICAgICAgIHZhciB0aWxlX2xheWVyX2ViYTJlOWE0MjdkNTRiYmM4ZGRkZGYxZGUxZTVmZmFhID0gTC50aWxlTGF5ZXIoCiAgICAgICAgICAgICAgICAnaHR0cHM6Ly9zdGFtZW4tdGlsZXMte3N9LmEuc3NsLmZhc3RseS5uZXQvdG9uZXIve3p9L3t4fS97eX0ucG5nJywKICAgICAgICAgICAgICAgIHsKICAgICAgICAgICAgICAgICAgICBtYXhab29tOiAxOCwKICAgICAgICAgICAgICAgICAgICBtaW5ab29tOiAxLAogICAgICAgICAgICAgICAgICAgIGNvbnRpbnVvdXNXb3JsZDogZmFsc2UsCiAgICAgICAgICAgICAgICAgICAgbm9XcmFwOiBmYWxzZSwKICAgICAgICAgICAgICAgICAgICBhdHRyaWJ1dGlvbjogJ01hcCB0aWxlcyBieSA8YSBocmVmPSJodHRwOi8vc3RhbWVuLmNvbSI+U3RhbWVuIERlc2lnbjwvYT4sIHVuZGVyIDxhIGhyZWY9Imh0dHA6Ly9jcmVhdGl2ZWNvbW1vbnMub3JnL2xpY2Vuc2VzL2J5LzMuMCI+Q0MgQlkgMy4wPC9hPi4gRGF0YSBieSA8YSBocmVmPSJodHRwOi8vb3BlbnN0cmVldG1hcC5vcmciPk9wZW5TdHJlZXRNYXA8L2E+LCB1bmRlciA8YSBocmVmPSJodHRwOi8vd3d3Lm9wZW5zdHJlZXRtYXAub3JnL2NvcHlyaWdodCI+T0RiTDwvYT4uJywKICAgICAgICAgICAgICAgICAgICBkZXRlY3RSZXRpbmE6IGZhbHNlCiAgICAgICAgICAgICAgICAgICAgfQogICAgICAgICAgICAgICAgKS5hZGRUbyhtYXBfYTRkMDY1NjRiYmM5NGI5ZDg1MzI2ZGRhODU5YWQxNjkpOwoKICAgICAgICAKICAgIAoKICAgICAgICAgICAgdmFyIG1hcmtlcl9iNzU4OTMwMmUwOTc0NTc4OWEzMWIzZTk4NmNkNjY2NyA9IEwubWFya2VyKAogICAgICAgICAgICAgICAgWzQwLjc2MDExNTU1OSwtNzMuOTc4OTgyMTIxXSwKICAgICAgICAgICAgICAgIHsKICAgICAgICAgICAgICAgICAgICBpY29uOiBuZXcgTC5JY29uLkRlZmF1bHQoKQogICAgICAgICAgICAgICAgICAgIH0KICAgICAgICAgICAgICAgICkKICAgICAgICAgICAgICAgIC5hZGRUbyhtYXBfYTRkMDY1NjRiYmM5NGI5ZDg1MzI2ZGRhODU5YWQxNjkpOwogICAgICAgICAgICAKICAgIAoKICAgICAgICAgICAgICAgIHZhciBpY29uXzg3N2FiNjlkNWM4YTRjYjY5MjhmMzBmZWUxYmM2NmQxID0gTC5Bd2Vzb21lTWFya2Vycy5pY29uKHsKICAgICAgICAgICAgICAgICAgICBpY29uOiAnc3RhcicsCiAgICAgICAgICAgICAgICAgICAgaWNvbkNvbG9yOiAnd2hpdGUnLAogICAgICAgICAgICAgICAgICAgIG1hcmtlckNvbG9yOiAncmVkJywKICAgICAgICAgICAgICAgICAgICBwcmVmaXg6ICdnbHlwaGljb24nLAogICAgICAgICAgICAgICAgICAgIGV4dHJhQ2xhc3NlczogJ2ZhLXJvdGF0ZS0wJwogICAgICAgICAgICAgICAgICAgIH0pOwogICAgICAgICAgICAgICAgbWFya2VyX2I3NTg5MzAyZTA5NzQ1Nzg5YTMxYjNlOTg2Y2Q2NjY3LnNldEljb24oaWNvbl84NzdhYjY5ZDVjOGE0Y2I2OTI4ZjMwZmVlMWJjNjZkMSk7CiAgICAgICAgICAgIAogICAgCgogICAgICAgICAgICB2YXIgbWFya2VyXzk0Y2QzODBlMTllNjRhMGY5Nzk4NzU5N2FkMGVjNDI1ID0gTC5tYXJrZXIoCiAgICAgICAgICAgICAgICBbNDAuNzYyMjY4NzI4LC03My45ODc5ODQzNDVdLAogICAgICAgICAgICAgICAgewogICAgICAgICAgICAgICAgICAgIGljb246IG5ldyBMLkljb24uRGVmYXVsdCgpCiAgICAgICAgICAgICAgICAgICAgfQogICAgICAgICAgICAgICAgKQogICAgICAgICAgICAgICAgLmFkZFRvKG1hcF9hNGQwNjU2NGJiYzk0YjlkODUzMjZkZGE4NTlhZDE2OSk7CiAgICAgICAgICAgIAogICAgCgogICAgICAgICAgICAgICAgdmFyIGljb25fNTg5NWE0ZjNkZjQ0NDViMjk1OWI3OTk1YmFlYmU3NTIgPSBMLkF3ZXNvbWVNYXJrZXJzLmljb24oewogICAgICAgICAgICAgICAgICAgIGljb246ICdzdGFyJywKICAgICAgICAgICAgICAgICAgICBpY29uQ29sb3I6ICd3aGl0ZScsCiAgICAgICAgICAgICAgICAgICAgbWFya2VyQ29sb3I6ICdyZWQnLAogICAgICAgICAgICAgICAgICAgIHByZWZpeDogJ2dseXBoaWNvbicsCiAgICAgICAgICAgICAgICAgICAgZXh0cmFDbGFzc2VzOiAnZmEtcm90YXRlLTAnCiAgICAgICAgICAgICAgICAgICAgfSk7CiAgICAgICAgICAgICAgICBtYXJrZXJfOTRjZDM4MGUxOWU2NGEwZjk3OTg3NTk3YWQwZWM0MjUuc2V0SWNvbihpY29uXzU4OTVhNGYzZGY0NDQ1YjI5NTliNzk5NWJhZWJlNzUyKTsKICAgICAgICAgICAgCiAgICAKCiAgICAgICAgICAgIHZhciBtYXJrZXJfNThhN2I5NGY0N2E5NGMxMDhkY2IzMTEwOWFiZTQ2ODYgPSBMLm1hcmtlcigKICAgICAgICAgICAgICAgIFs0MC44NzQ5MDYwMDUsLTczLjg3ODIyMzgwOV0sCiAgICAgICAgICAgICAgICB7CiAgICAgICAgICAgICAgICAgICAgaWNvbjogbmV3IEwuSWNvbi5EZWZhdWx0KCkKICAgICAgICAgICAgICAgICAgICB9CiAgICAgICAgICAgICAgICApCiAgICAgICAgICAgICAgICAuYWRkVG8obWFwX2E0ZDA2NTY0YmJjOTRiOWQ4NTMyNmRkYTg1OWFkMTY5KTsKICAgICAgICAgICAgCiAgICAKCiAgICAgICAgICAgICAgICB2YXIgaWNvbl9jNzE3OTE3YTg5YzY0YjA0YTdmMTVkOTJkYjRjNDYyMCA9IEwuQXdlc29tZU1hcmtlcnMuaWNvbih7CiAgICAgICAgICAgICAgICAgICAgaWNvbjogJ3N0YXInLAogICAgICAgICAgICAgICAgICAgIGljb25Db2xvcjogJ3doaXRlJywKICAgICAgICAgICAgICAgICAgICBtYXJrZXJDb2xvcjogJ3JlZCcsCiAgICAgICAgICAgICAgICAgICAgcHJlZml4OiAnZ2x5cGhpY29uJywKICAgICAgICAgICAgICAgICAgICBleHRyYUNsYXNzZXM6ICdmYS1yb3RhdGUtMCcKICAgICAgICAgICAgICAgICAgICB9KTsKICAgICAgICAgICAgICAgIG1hcmtlcl81OGE3Yjk0ZjQ3YTk0YzEwOGRjYjMxMTA5YWJlNDY4Ni5zZXRJY29uKGljb25fYzcxNzkxN2E4OWM2NGIwNGE3ZjE1ZDkyZGI0YzQ2MjApOwogICAgICAgICAgICAKICAgIAoKICAgICAgICAgICAgdmFyIG1hcmtlcl8xZDEyMTFhNzM4NDQ0NmJlYWNkY2FkNDNkYWZhMzkzMSA9IEwubWFya2VyKAogICAgICAgICAgICAgICAgWzQwLjYwNjgyMzE4MSwtNzMuOTU5ODA5NTk5XSwKICAgICAgICAgICAgICAgIHsKICAgICAgICAgICAgICAgICAgICBpY29uOiBuZXcgTC5JY29uLkRlZmF1bHQoKQogICAgICAgICAgICAgICAgICAgIH0KICAgICAgICAgICAgICAgICkKICAgICAgICAgICAgICAgIC5hZGRUbyhtYXBfYTRkMDY1NjRiYmM5NGI5ZDg1MzI2ZGRhODU5YWQxNjkpOwogICAgICAgICAgICAKICAgIAoKICAgICAgICAgICAgICAgIHZhciBpY29uX2M2MGZmZDc1MmQ4MjRlYTdhZjY1ODBlODBiYmU1ODAwID0gTC5Bd2Vzb21lTWFya2Vycy5pY29uKHsKICAgICAgICAgICAgICAgICAgICBpY29uOiAnc3RhcicsCiAgICAgICAgICAgICAgICAgICAgaWNvbkNvbG9yOiAnd2hpdGUnLAogICAgICAgICAgICAgICAgICAgIG1hcmtlckNvbG9yOiAncmVkJywKICAgICAgICAgICAgICAgICAgICBwcmVmaXg6ICdnbHlwaGljb24nLAogICAgICAgICAgICAgICAgICAgIGV4dHJhQ2xhc3NlczogJ2ZhLXJvdGF0ZS0wJwogICAgICAgICAgICAgICAgICAgIH0pOwogICAgICAgICAgICAgICAgbWFya2VyXzFkMTIxMWE3Mzg0NDQ2YmVhY2RjYWQ0M2RhZmEzOTMxLnNldEljb24oaWNvbl9jNjBmZmQ3NTJkODI0ZWE3YWY2NTgwZTgwYmJlNTgwMCk7CiAgICAgICAgICAgIAogICAgCgogICAgICAgICAgICB2YXIgbWFya2VyX2VhMzljZDhkZTAwMTRhMzNhNDQxNjI5OTBiNmUzYmEzID0gTC5tYXJrZXIoCiAgICAgICAgICAgICAgICBbNDAuNjY2NDk0NCwtNzMuOTIxNjIyMTE2XSwKICAgICAgICAgICAgICAgIHsKICAgICAgICAgICAgICAgICAgICBpY29uOiBuZXcgTC5JY29uLkRlZmF1bHQoKQogICAgICAgICAgICAgICAgICAgIH0KICAgICAgICAgICAgICAgICkKICAgICAgICAgICAgICAgIC5hZGRUbyhtYXBfYTRkMDY1NjRiYmM5NGI5ZDg1MzI2ZGRhODU5YWQxNjkpOwogICAgICAgICAgICAKICAgIAoKICAgICAgICAgICAgICAgIHZhciBpY29uXzA5MWE1Y2E4NTA5ODQxNWM4MDc1MjgzZTViYWEyYmNkID0gTC5Bd2Vzb21lTWFya2Vycy5pY29uKHsKICAgICAgICAgICAgICAgICAgICBpY29uOiAnc3RhcicsCiAgICAgICAgICAgICAgICAgICAgaWNvbkNvbG9yOiAnd2hpdGUnLAogICAgICAgICAgICAgICAgICAgIG1hcmtlckNvbG9yOiAncmVkJywKICAgICAgICAgICAgICAgICAgICBwcmVmaXg6ICdnbHlwaGljb24nLAogICAgICAgICAgICAgICAgICAgIGV4dHJhQ2xhc3NlczogJ2ZhLXJvdGF0ZS0wJwogICAgICAgICAgICAgICAgICAgIH0pOwogICAgICAgICAgICAgICAgbWFya2VyX2VhMzljZDhkZTAwMTRhMzNhNDQxNjI5OTBiNmUzYmEzLnNldEljb24oaWNvbl8wOTFhNWNhODUwOTg0MTVjODA3NTI4M2U1YmFhMmJjZCk7CiAgICAgICAgICAgIAogICAgCgogICAgICAgICAgICB2YXIgbWFya2VyXzA4ZWI2MWQyMWQ4YjRhMzViZWI1YzRkZjYzNDAzZjU2ID0gTC5tYXJrZXIoCiAgICAgICAgICAgICAgICBbNDAuODYxMzU3ODk5LC03My44OTc3MzA5NjFdLAogICAgICAgICAgICAgICAgewogICAgICAgICAgICAgICAgICAgIGljb246IG5ldyBMLkljb24uRGVmYXVsdCgpCiAgICAgICAgICAgICAgICAgICAgfQogICAgICAgICAgICAgICAgKQogICAgICAgICAgICAgICAgLmFkZFRvKG1hcF9hNGQwNjU2NGJiYzk0YjlkODUzMjZkZGE4NTlhZDE2OSk7CiAgICAgICAgICAgIAogICAgCgogICAgICAgICAgICAgICAgdmFyIGljb25fM2Q2MGNmNzdlNDMzNGFmMjkwMWUwMjhjYTkwYjFkYWEgPSBMLkF3ZXNvbWVNYXJrZXJzLmljb24oewogICAgICAgICAgICAgICAgICAgIGljb246ICdzdGFyJywKICAgICAgICAgICAgICAgICAgICBpY29uQ29sb3I6ICd3aGl0ZScsCiAgICAgICAgICAgICAgICAgICAgbWFya2VyQ29sb3I6ICdyZWQnLAogICAgICAgICAgICAgICAgICAgIHByZWZpeDogJ2dseXBoaWNvbicsCiAgICAgICAgICAgICAgICAgICAgZXh0cmFDbGFzc2VzOiAnZmEtcm90YXRlLTAnCiAgICAgICAgICAgICAgICAgICAgfSk7CiAgICAgICAgICAgICAgICBtYXJrZXJfMDhlYjYxZDIxZDhiNGEzNWJlYjVjNGRmNjM0MDNmNTYuc2V0SWNvbihpY29uXzNkNjBjZjc3ZTQzMzRhZjI5MDFlMDI4Y2E5MGIxZGFhKTsKICAgICAgICAgICAgCiAgICAKCiAgICAgICAgICAgIHZhciBtYXJrZXJfNjE3MWUzYWJjNGJlNDY2NzljZGE4MmY3YWQ1OTdjYzEgPSBMLm1hcmtlcigKICAgICAgICAgICAgICAgIFs0MC44MzY1NTkyMywtNzMuOTE0MjczNTY2XSwKICAgICAgICAgICAgICAgIHsKICAgICAgICAgICAgICAgICAgICBpY29uOiBuZXcgTC5JY29uLkRlZmF1bHQoKQogICAgICAgICAgICAgICAgICAgIH0KICAgICAgICAgICAgICAgICkKICAgICAgICAgICAgICAgIC5hZGRUbyhtYXBfYTRkMDY1NjRiYmM5NGI5ZDg1MzI2ZGRhODU5YWQxNjkpOwogICAgICAgICAgICAKICAgIAoKICAgICAgICAgICAgICAgIHZhciBpY29uXzZiZGNiODQwNjRkYTQyNjNhZDM1OTA3MjliZjExZDQyID0gTC5Bd2Vzb21lTWFya2Vycy5pY29uKHsKICAgICAgICAgICAgICAgICAgICBpY29uOiAnc3RhcicsCiAgICAgICAgICAgICAgICAgICAgaWNvbkNvbG9yOiAnd2hpdGUnLAogICAgICAgICAgICAgICAgICAgIG1hcmtlckNvbG9yOiAncmVkJywKICAgICAgICAgICAgICAgICAgICBwcmVmaXg6ICdnbHlwaGljb24nLAogICAgICAgICAgICAgICAgICAgIGV4dHJhQ2xhc3NlczogJ2ZhLXJvdGF0ZS0wJwogICAgICAgICAgICAgICAgICAgIH0pOwogICAgICAgICAgICAgICAgbWFya2VyXzYxNzFlM2FiYzRiZTQ2Njc5Y2RhODJmN2FkNTk3Y2MxLnNldEljb24oaWNvbl82YmRjYjg0MDY0ZGE0MjYzYWQzNTkwNzI5YmYxMWQ0Mik7CiAgICAgICAgICAgIAogICAgCgogICAgICAgICAgICB2YXIgbWFya2VyXzQ0ZmJmNjJjNDZlNTRhY2I5YmQ5NzhlMjZkY2JiZjcxID0gTC5tYXJrZXIoCiAgICAgICAgICAgICAgICBbNDAuNjY4NjM3NjE4LC03My45NTcyNTk4MzldLAogICAgICAgICAgICAgICAgewogICAgICAgICAgICAgICAgICAgIGljb246IG5ldyBMLkljb24uRGVmYXVsdCgpCiAgICAgICAgICAgICAgICAgICAgfQogICAgICAgICAgICAgICAgKQogICAgICAgICAgICAgICAgLmFkZFRvKG1hcF9hNGQwNjU2NGJiYzk0YjlkODUzMjZkZGE4NTlhZDE2OSk7CiAgICAgICAgICAgIAogICAgCgogICAgICAgICAgICAgICAgdmFyIGljb25fMGY0NTBlM2E2Njc5NDBiYzk1N2MzMmI0NzhiNjc3ZTUgPSBMLkF3ZXNvbWVNYXJrZXJzLmljb24oewogICAgICAgICAgICAgICAgICAgIGljb246ICdzdGFyJywKICAgICAgICAgICAgICAgICAgICBpY29uQ29sb3I6ICd3aGl0ZScsCiAgICAgICAgICAgICAgICAgICAgbWFya2VyQ29sb3I6ICdyZWQnLAogICAgICAgICAgICAgICAgICAgIHByZWZpeDogJ2dseXBoaWNvbicsCiAgICAgICAgICAgICAgICAgICAgZXh0cmFDbGFzc2VzOiAnZmEtcm90YXRlLTAnCiAgICAgICAgICAgICAgICAgICAgfSk7CiAgICAgICAgICAgICAgICBtYXJrZXJfNDRmYmY2MmM0NmU1NGFjYjliZDk3OGUyNmRjYmJmNzEuc2V0SWNvbihpY29uXzBmNDUwZTNhNjY3OTQwYmM5NTdjMzJiNDc4YjY3N2U1KTsKICAgICAgICAgICAgCiAgICAKCiAgICAgICAgICAgIHZhciBtYXJrZXJfZTA0NGY5ZGVjZDkyNDdmNmFhODRmMGRhZDI3N2FlODcgPSBMLm1hcmtlcigKICAgICAgICAgICAgICAgIFs0MC43MTYzNDQxNTIsLTc0LjAwMTI1MzE5M10sCiAgICAgICAgICAgICAgICB7CiAgICAgICAgICAgICAgICAgICAgaWNvbjogbmV3IEwuSWNvbi5EZWZhdWx0KCkKICAgICAgICAgICAgICAgICAgICB9CiAgICAgICAgICAgICAgICApCiAgICAgICAgICAgICAgICAuYWRkVG8obWFwX2E0ZDA2NTY0YmJjOTRiOWQ4NTMyNmRkYTg1OWFkMTY5KTsKICAgICAgICAgICAgCiAgICAKCiAgICAgICAgICAgICAgICB2YXIgaWNvbl85YTkzMDg5OTA3OTU0Y2NiOGQzNzE1ODgwMzRjMDU1YyA9IEwuQXdlc29tZU1hcmtlcnMuaWNvbih7CiAgICAgICAgICAgICAgICAgICAgaWNvbjogJ3N0YXInLAogICAgICAgICAgICAgICAgICAgIGljb25Db2xvcjogJ3doaXRlJywKICAgICAgICAgICAgICAgICAgICBtYXJrZXJDb2xvcjogJ3JlZCcsCiAgICAgICAgICAgICAgICAgICAgcHJlZml4OiAnZ2x5cGhpY29uJywKICAgICAgICAgICAgICAgICAgICBleHRyYUNsYXNzZXM6ICdmYS1yb3RhdGUtMCcKICAgICAgICAgICAgICAgICAgICB9KTsKICAgICAgICAgICAgICAgIG1hcmtlcl9lMDQ0ZjlkZWNkOTI0N2Y2YWE4NGYwZGFkMjc3YWU4Ny5zZXRJY29uKGljb25fOWE5MzA4OTkwNzk1NGNjYjhkMzcxNTg4MDM0YzA1NWMpOwogICAgICAgICAgICAKICAgIAoKICAgICAgICAgICAgdmFyIG1hcmtlcl9iNDE3NzZmNzVmNDc0N2ZkOWQzZGMxZmFkOGVkYWJlMyA9IEwubWFya2VyKAogICAgICAgICAgICAgICAgWzQwLjg0MjI1NDYzNiwtNzMuOTQwNjc0OTM3XSwKICAgICAgICAgICAgICAgIHsKICAgICAgICAgICAgICAgICAgICBpY29uOiBuZXcgTC5JY29uLkRlZmF1bHQoKQogICAgICAgICAgICAgICAgICAgIH0KICAgICAgICAgICAgICAgICkKICAgICAgICAgICAgICAgIC5hZGRUbyhtYXBfYTRkMDY1NjRiYmM5NGI5ZDg1MzI2ZGRhODU5YWQxNjkpOwogICAgICAgICAgICAKICAgIAoKICAgICAgICAgICAgICAgIHZhciBpY29uX2UxYWIxMmVhYzUxYTQ1MzU4NjZmODk3YjEwYjhkMTUxID0gTC5Bd2Vzb21lTWFya2Vycy5pY29uKHsKICAgICAgICAgICAgICAgICAgICBpY29uOiAnc3RhcicsCiAgICAgICAgICAgICAgICAgICAgaWNvbkNvbG9yOiAnd2hpdGUnLAogICAgICAgICAgICAgICAgICAgIG1hcmtlckNvbG9yOiAncmVkJywKICAgICAgICAgICAgICAgICAgICBwcmVmaXg6ICdnbHlwaGljb24nLAogICAgICAgICAgICAgICAgICAgIGV4dHJhQ2xhc3NlczogJ2ZhLXJvdGF0ZS0wJwogICAgICAgICAgICAgICAgICAgIH0pOwogICAgICAgICAgICAgICAgbWFya2VyX2I0MTc3NmY3NWY0NzQ3ZmQ5ZDNkYzFmYWQ4ZWRhYmUzLnNldEljb24oaWNvbl9lMWFiMTJlYWM1MWE0NTM1ODY2Zjg5N2IxMGI4ZDE1MSk7CiAgICAgICAgICAgIAogICAgCgogICAgICAgICAgICB2YXIgbWFya2VyXzNhMjhiZTg2YjlhMzRlMzhhYWM2YTg5NmMzMDhkNzBiID0gTC5tYXJrZXIoCiAgICAgICAgICAgICAgICBbNDAuNzE1Mzk3Mjc2LC03My45NjQ2MzkyMjJdLAogICAgICAgICAgICAgICAgewogICAgICAgICAgICAgICAgICAgIGljb246IG5ldyBMLkljb24uRGVmYXVsdCgpCiAgICAgICAgICAgICAgICAgICAgfQogICAgICAgICAgICAgICAgKQogICAgICAgICAgICAgICAgLmFkZFRvKG1hcF9hNGQwNjU2NGJiYzk0YjlkODUzMjZkZGE4NTlhZDE2OSk7CiAgICAgICAgICAgIAogICAgCgogICAgICAgICAgICAgICAgdmFyIGljb25fM2MxNzlhMDllY2VkNDgyNDliNmM3YzdiMmEzYmYxZWYgPSBMLkF3ZXNvbWVNYXJrZXJzLmljb24oewogICAgICAgICAgICAgICAgICAgIGljb246ICdzdGFyJywKICAgICAgICAgICAgICAgICAgICBpY29uQ29sb3I6ICd3aGl0ZScsCiAgICAgICAgICAgICAgICAgICAgbWFya2VyQ29sb3I6ICdyZWQnLAogICAgICAgICAgICAgICAgICAgIHByZWZpeDogJ2dseXBoaWNvbicsCiAgICAgICAgICAgICAgICAgICAgZXh0cmFDbGFzc2VzOiAnZmEtcm90YXRlLTAnCiAgICAgICAgICAgICAgICAgICAgfSk7CiAgICAgICAgICAgICAgICBtYXJrZXJfM2EyOGJlODZiOWEzNGUzOGFhYzZhODk2YzMwOGQ3MGIuc2V0SWNvbihpY29uXzNjMTc5YTA5ZWNlZDQ4MjQ5YjZjN2M3YjJhM2JmMWVmKTsKICAgICAgICAgICAgCiAgICAKCiAgICAgICAgICAgIHZhciBtYXJrZXJfZjUyOGFhMjM4NDQ1NDEwMTlkZDgwMzYyYTBiNDhkN2IgPSBMLm1hcmtlcigKICAgICAgICAgICAgICAgIFs0MC43NjE4NzQ2OSwtNzMuOTY2MzU4MDg0XSwKICAgICAgICAgICAgICAgIHsKICAgICAgICAgICAgICAgICAgICBpY29uOiBuZXcgTC5JY29uLkRlZmF1bHQoKQogICAgICAgICAgICAgICAgICAgIH0KICAgICAgICAgICAgICAgICkKICAgICAgICAgICAgICAgIC5hZGRUbyhtYXBfYTRkMDY1NjRiYmM5NGI5ZDg1MzI2ZGRhODU5YWQxNjkpOwogICAgICAgICAgICAKICAgIAoKICAgICAgICAgICAgICAgIHZhciBpY29uXzQ4MmYxMjhhOGY0OTQzZGJhMDYzZTNkNjU1MDU1NjU3ID0gTC5Bd2Vzb21lTWFya2Vycy5pY29uKHsKICAgICAgICAgICAgICAgICAgICBpY29uOiAnc3RhcicsCiAgICAgICAgICAgICAgICAgICAgaWNvbkNvbG9yOiAnd2hpdGUnLAogICAgICAgICAgICAgICAgICAgIG1hcmtlckNvbG9yOiAncmVkJywKICAgICAgICAgICAgICAgICAgICBwcmVmaXg6ICdnbHlwaGljb24nLAogICAgICAgICAgICAgICAgICAgIGV4dHJhQ2xhc3NlczogJ2ZhLXJvdGF0ZS0wJwogICAgICAgICAgICAgICAgICAgIH0pOwogICAgICAgICAgICAgICAgbWFya2VyX2Y1MjhhYTIzODQ0NTQxMDE5ZGQ4MDM2MmEwYjQ4ZDdiLnNldEljb24oaWNvbl80ODJmMTI4YThmNDk0M2RiYTA2M2UzZDY1NTA1NTY1Nyk7CiAgICAgICAgICAgIAogICAgCgogICAgICAgICAgICB2YXIgbWFya2VyX2NiODg1NzI5MTkyNzQ4NzViZmI2ZjdjNjBlMGE5ZTEzID0gTC5tYXJrZXIoCiAgICAgICAgICAgICAgICBbNDAuNjA2NDAyMzA4LC03My45MTMzNjYyMjldLAogICAgICAgICAgICAgICAgewogICAgICAgICAgICAgICAgICAgIGljb246IG5ldyBMLkljb24uRGVmYXVsdCgpCiAgICAgICAgICAgICAgICAgICAgfQogICAgICAgICAgICAgICAgKQogICAgICAgICAgICAgICAgLmFkZFRvKG1hcF9hNGQwNjU2NGJiYzk0YjlkODUzMjZkZGE4NTlhZDE2OSk7CiAgICAgICAgICAgIAogICAgCgogICAgICAgICAgICAgICAgdmFyIGljb25fNGM0MzkxNjRhNjA0NDNkOWFjODJmZjZhMjQ2MTZlMzIgPSBMLkF3ZXNvbWVNYXJrZXJzLmljb24oewogICAgICAgICAgICAgICAgICAgIGljb246ICdzdGFyJywKICAgICAgICAgICAgICAgICAgICBpY29uQ29sb3I6ICd3aGl0ZScsCiAgICAgICAgICAgICAgICAgICAgbWFya2VyQ29sb3I6ICdyZWQnLAogICAgICAgICAgICAgICAgICAgIHByZWZpeDogJ2dseXBoaWNvbicsCiAgICAgICAgICAgICAgICAgICAgZXh0cmFDbGFzc2VzOiAnZmEtcm90YXRlLTAnCiAgICAgICAgICAgICAgICAgICAgfSk7CiAgICAgICAgICAgICAgICBtYXJrZXJfY2I4ODU3MjkxOTI3NDg3NWJmYjZmN2M2MGUwYTllMTMuc2V0SWNvbihpY29uXzRjNDM5MTY0YTYwNDQzZDlhYzgyZmY2YTI0NjE2ZTMyKTsKICAgICAgICAgICAgCiAgICAKCiAgICAgICAgICAgIHZhciBtYXJrZXJfN2ExMDliMDAyNjg4NDJhYWIwNmVhYThmYTdhZjY2NTkgPSBMLm1hcmtlcigKICAgICAgICAgICAgICAgIFs0MC43MjI1NzQ1NTgsLTczLjk5MzExNDM5Nl0sCiAgICAgICAgICAgICAgICB7CiAgICAgICAgICAgICAgICAgICAgaWNvbjogbmV3IEwuSWNvbi5EZWZhdWx0KCkKICAgICAgICAgICAgICAgICAgICB9CiAgICAgICAgICAgICAgICApCiAgICAgICAgICAgICAgICAuYWRkVG8obWFwX2E0ZDA2NTY0YmJjOTRiOWQ4NTMyNmRkYTg1OWFkMTY5KTsKICAgICAgICAgICAgCiAgICAKCiAgICAgICAgICAgICAgICB2YXIgaWNvbl9mMzRhZTliMDgxMjU0ZmNmYjU0MzJkYjNhNjdhYTBlZCA9IEwuQXdlc29tZU1hcmtlcnMuaWNvbih7CiAgICAgICAgICAgICAgICAgICAgaWNvbjogJ3N0YXInLAogICAgICAgICAgICAgICAgICAgIGljb25Db2xvcjogJ3doaXRlJywKICAgICAgICAgICAgICAgICAgICBtYXJrZXJDb2xvcjogJ3JlZCcsCiAgICAgICAgICAgICAgICAgICAgcHJlZml4OiAnZ2x5cGhpY29uJywKICAgICAgICAgICAgICAgICAgICBleHRyYUNsYXNzZXM6ICdmYS1yb3RhdGUtMCcKICAgICAgICAgICAgICAgICAgICB9KTsKICAgICAgICAgICAgICAgIG1hcmtlcl83YTEwOWIwMDI2ODg0MmFhYjA2ZWFhOGZhN2FmNjY1OS5zZXRJY29uKGljb25fZjM0YWU5YjA4MTI1NGZjZmI1NDMyZGIzYTY3YWEwZWQpOwogICAgICAgICAgICAKICAgIAoKICAgICAgICAgICAgdmFyIG1hcmtlcl83YTJlM2Y2ODBhY2Y0Nzk4YWM1YjQ4MzBjNDFmZTM2OSA9IEwubWFya2VyKAogICAgICAgICAgICAgICAgWzQwLjc0NjM2Mjg2MiwtNzMuOTg3NDI0MjE1XSwKICAgICAgICAgICAgICAgIHsKICAgICAgICAgICAgICAgICAgICBpY29uOiBuZXcgTC5JY29uLkRlZmF1bHQoKQogICAgICAgICAgICAgICAgICAgIH0KICAgICAgICAgICAgICAgICkKICAgICAgICAgICAgICAgIC5hZGRUbyhtYXBfYTRkMDY1NjRiYmM5NGI5ZDg1MzI2ZGRhODU5YWQxNjkpOwogICAgICAgICAgICAKICAgIAoKICAgICAgICAgICAgICAgIHZhciBpY29uX2NlNjc2NzExYzQ1YzQ2ZDZhYzI3OTVmMDgyNDBkMzYxID0gTC5Bd2Vzb21lTWFya2Vycy5pY29uKHsKICAgICAgICAgICAgICAgICAgICBpY29uOiAnc3RhcicsCiAgICAgICAgICAgICAgICAgICAgaWNvbkNvbG9yOiAnd2hpdGUnLAogICAgICAgICAgICAgICAgICAgIG1hcmtlckNvbG9yOiAncmVkJywKICAgICAgICAgICAgICAgICAgICBwcmVmaXg6ICdnbHlwaGljb24nLAogICAgICAgICAgICAgICAgICAgIGV4dHJhQ2xhc3NlczogJ2ZhLXJvdGF0ZS0wJwogICAgICAgICAgICAgICAgICAgIH0pOwogICAgICAgICAgICAgICAgbWFya2VyXzdhMmUzZjY4MGFjZjQ3OThhYzViNDgzMGM0MWZlMzY5LnNldEljb24oaWNvbl9jZTY3NjcxMWM0NWM0NmQ2YWMyNzk1ZjA4MjQwZDM2MSk7CiAgICAgICAgICAgIAogICAgCgogICAgICAgICAgICB2YXIgbWFya2VyXzVkNzk4MDUzNjhmZDRkOTViNGRiODZhYmU3ZTQzM2JiID0gTC5tYXJrZXIoCiAgICAgICAgICAgICAgICBbNDAuNjIxMjY3MTYyLC03My45MzcyNDAzMjldLAogICAgICAgICAgICAgICAgewogICAgICAgICAgICAgICAgICAgIGljb246IG5ldyBMLkljb24uRGVmYXVsdCgpCiAgICAgICAgICAgICAgICAgICAgfQogICAgICAgICAgICAgICAgKQogICAgICAgICAgICAgICAgLmFkZFRvKG1hcF9hNGQwNjU2NGJiYzk0YjlkODUzMjZkZGE4NTlhZDE2OSk7CiAgICAgICAgICAgIAogICAgCgogICAgICAgICAgICAgICAgdmFyIGljb25fNTczODIxYmMyYTY5NGNiZGE1ZTQ4NzQ4ZDNhZjFmMGIgPSBMLkF3ZXNvbWVNYXJrZXJzLmljb24oewogICAgICAgICAgICAgICAgICAgIGljb246ICdzdGFyJywKICAgICAgICAgICAgICAgICAgICBpY29uQ29sb3I6ICd3aGl0ZScsCiAgICAgICAgICAgICAgICAgICAgbWFya2VyQ29sb3I6ICdyZWQnLAogICAgICAgICAgICAgICAgICAgIHByZWZpeDogJ2dseXBoaWNvbicsCiAgICAgICAgICAgICAgICAgICAgZXh0cmFDbGFzc2VzOiAnZmEtcm90YXRlLTAnCiAgICAgICAgICAgICAgICAgICAgfSk7CiAgICAgICAgICAgICAgICBtYXJrZXJfNWQ3OTgwNTM2OGZkNGQ5NWI0ZGI4NmFiZTdlNDMzYmIuc2V0SWNvbihpY29uXzU3MzgyMWJjMmE2OTRjYmRhNWU0ODc0OGQzYWYxZjBiKTsKICAgICAgICAgICAgCiAgICAKCiAgICAgICAgICAgIHZhciBtYXJrZXJfMDgwODA0ZWU1ZmQxNDVmMTgxMjVjMjAyZGYzNGIyOWUgPSBMLm1hcmtlcigKICAgICAgICAgICAgICAgIFs0MC43NzcyMzcwODgsLTczLjk1ODIzMDAwM10sCiAgICAgICAgICAgICAgICB7CiAgICAgICAgICAgICAgICAgICAgaWNvbjogbmV3IEwuSWNvbi5EZWZhdWx0KCkKICAgICAgICAgICAgICAgICAgICB9CiAgICAgICAgICAgICAgICApCiAgICAgICAgICAgICAgICAuYWRkVG8obWFwX2E0ZDA2NTY0YmJjOTRiOWQ4NTMyNmRkYTg1OWFkMTY5KTsKICAgICAgICAgICAgCiAgICAKCiAgICAgICAgICAgICAgICB2YXIgaWNvbl83ZjlkZTZkNGY1YjI0NzE5OGFhNzZhZjI3ZDhmZDg2ZCA9IEwuQXdlc29tZU1hcmtlcnMuaWNvbih7CiAgICAgICAgICAgICAgICAgICAgaWNvbjogJ3N0YXInLAogICAgICAgICAgICAgICAgICAgIGljb25Db2xvcjogJ3doaXRlJywKICAgICAgICAgICAgICAgICAgICBtYXJrZXJDb2xvcjogJ3JlZCcsCiAgICAgICAgICAgICAgICAgICAgcHJlZml4OiAnZ2x5cGhpY29uJywKICAgICAgICAgICAgICAgICAgICBleHRyYUNsYXNzZXM6ICdmYS1yb3RhdGUtMCcKICAgICAgICAgICAgICAgICAgICB9KTsKICAgICAgICAgICAgICAgIG1hcmtlcl8wODA4MDRlZTVmZDE0NWYxODEyNWMyMDJkZjM0YjI5ZS5zZXRJY29uKGljb25fN2Y5ZGU2ZDRmNWIyNDcxOThhYTc2YWYyN2Q4ZmQ4NmQpOwogICAgICAgICAgICAKICAgIAoKICAgICAgICAgICAgdmFyIG1hcmtlcl83ODUzOGFjZmZmZjQ0MDNlYTU1MDZkMTY1ZjgwYzI0MyA9IEwubWFya2VyKAogICAgICAgICAgICAgICAgWzQwLjY5MzA0MzU4OCwtNzMuODI3NTA4MjczXSwKICAgICAgICAgICAgICAgIHsKICAgICAgICAgICAgICAgICAgICBpY29uOiBuZXcgTC5JY29uLkRlZmF1bHQoKQogICAgICAgICAgICAgICAgICAgIH0KICAgICAgICAgICAgICAgICkKICAgICAgICAgICAgICAgIC5hZGRUbyhtYXBfYTRkMDY1NjRiYmM5NGI5ZDg1MzI2ZGRhODU5YWQxNjkpOwogICAgICAgICAgICAKICAgIAoKICAgICAgICAgICAgICAgIHZhciBpY29uXzY2MmE0ZWEyNWQzOTQ2OGU5Mjk0NTE3MjVhNmY4MDIzID0gTC5Bd2Vzb21lTWFya2Vycy5pY29uKHsKICAgICAgICAgICAgICAgICAgICBpY29uOiAnc3RhcicsCiAgICAgICAgICAgICAgICAgICAgaWNvbkNvbG9yOiAnd2hpdGUnLAogICAgICAgICAgICAgICAgICAgIG1hcmtlckNvbG9yOiAncmVkJywKICAgICAgICAgICAgICAgICAgICBwcmVmaXg6ICdnbHlwaGljb24nLAogICAgICAgICAgICAgICAgICAgIGV4dHJhQ2xhc3NlczogJ2ZhLXJvdGF0ZS0wJwogICAgICAgICAgICAgICAgICAgIH0pOwogICAgICAgICAgICAgICAgbWFya2VyXzc4NTM4YWNmZmZmNDQwM2VhNTUwNmQxNjVmODBjMjQzLnNldEljb24oaWNvbl82NjJhNGVhMjVkMzk0NjhlOTI5NDUxNzI1YTZmODAyMyk7CiAgICAgICAgICAgIAogICAgCgogICAgICAgICAgICB2YXIgbWFya2VyXzUyOTkxOWEwMzU5ODQxNzI4NzY0OGM2MjMxYTg3MmFhID0gTC5tYXJrZXIoCiAgICAgICAgICAgICAgICBbNDAuODEyMDExMDQzLC03My45MjcwNzE4NDRdLAogICAgICAgICAgICAgICAgewogICAgICAgICAgICAgICAgICAgIGljb246IG5ldyBMLkljb24uRGVmYXVsdCgpCiAgICAgICAgICAgICAgICAgICAgfQogICAgICAgICAgICAgICAgKQogICAgICAgICAgICAgICAgLmFkZFRvKG1hcF9hNGQwNjU2NGJiYzk0YjlkODUzMjZkZGE4NTlhZDE2OSk7CiAgICAgICAgICAgIAogICAgCgogICAgICAgICAgICAgICAgdmFyIGljb25fOTE1ODJlZjRkNzk1NGUxMzg1NjY3ZmIxODViMzI5YTAgPSBMLkF3ZXNvbWVNYXJrZXJzLmljb24oewogICAgICAgICAgICAgICAgICAgIGljb246ICdzdGFyJywKICAgICAgICAgICAgICAgICAgICBpY29uQ29sb3I6ICd3aGl0ZScsCiAgICAgICAgICAgICAgICAgICAgbWFya2VyQ29sb3I6ICdyZWQnLAogICAgICAgICAgICAgICAgICAgIHByZWZpeDogJ2dseXBoaWNvbicsCiAgICAgICAgICAgICAgICAgICAgZXh0cmFDbGFzc2VzOiAnZmEtcm90YXRlLTAnCiAgICAgICAgICAgICAgICAgICAgfSk7CiAgICAgICAgICAgICAgICBtYXJrZXJfNTI5OTE5YTAzNTk4NDE3Mjg3NjQ4YzYyMzFhODcyYWEuc2V0SWNvbihpY29uXzkxNTgyZWY0ZDc5NTRlMTM4NTY2N2ZiMTg1YjMyOWEwKTsKICAgICAgICAgICAgCiAgICAKCiAgICAgICAgICAgIHZhciBtYXJrZXJfOGE2NDVlNTAyZTY0NDliZWFjOGYwOGM3MzFhMTk3OWYgPSBMLm1hcmtlcigKICAgICAgICAgICAgICAgIFs0MC42NDQzNjYzNzcsLTczLjg3Nzk5MjMzNl0sCiAgICAgICAgICAgICAgICB7CiAgICAgICAgICAgICAgICAgICAgaWNvbjogbmV3IEwuSWNvbi5EZWZhdWx0KCkKICAgICAgICAgICAgICAgICAgICB9CiAgICAgICAgICAgICAgICApCiAgICAgICAgICAgICAgICAuYWRkVG8obWFwX2E0ZDA2NTY0YmJjOTRiOWQ4NTMyNmRkYTg1OWFkMTY5KTsKICAgICAgICAgICAgCiAgICAKCiAgICAgICAgICAgICAgICB2YXIgaWNvbl9jMWViYmU3M2JmNDY0Yzc1OTBjZDBmMmI4ZmJiZjhiMSA9IEwuQXdlc29tZU1hcmtlcnMuaWNvbih7CiAgICAgICAgICAgICAgICAgICAgaWNvbjogJ3N0YXInLAogICAgICAgICAgICAgICAgICAgIGljb25Db2xvcjogJ3doaXRlJywKICAgICAgICAgICAgICAgICAgICBtYXJrZXJDb2xvcjogJ3JlZCcsCiAgICAgICAgICAgICAgICAgICAgcHJlZml4OiAnZ2x5cGhpY29uJywKICAgICAgICAgICAgICAgICAgICBleHRyYUNsYXNzZXM6ICdmYS1yb3RhdGUtMCcKICAgICAgICAgICAgICAgICAgICB9KTsKICAgICAgICAgICAgICAgIG1hcmtlcl84YTY0NWU1MDJlNjQ0OWJlYWM4ZjA4YzczMWExOTc5Zi5zZXRJY29uKGljb25fYzFlYmJlNzNiZjQ2NGM3NTkwY2QwZjJiOGZiYmY4YjEpOwogICAgICAgICAgICAKICAgIAoKICAgICAgICAgICAgdmFyIG1hcmtlcl9kNTI5NmY0MDM5YTM0NGUxYjYxZTNmYWJhYWUyNmFhMSA9IEwubWFya2VyKAogICAgICAgICAgICAgICAgWzQwLjY2NjA3MTQ2OSwtNzMuODg1MzUyOTIyXSwKICAgICAgICAgICAgICAgIHsKICAgICAgICAgICAgICAgICAgICBpY29uOiBuZXcgTC5JY29uLkRlZmF1bHQoKQogICAgICAgICAgICAgICAgICAgIH0KICAgICAgICAgICAgICAgICkKICAgICAgICAgICAgICAgIC5hZGRUbyhtYXBfYTRkMDY1NjRiYmM5NGI5ZDg1MzI2ZGRhODU5YWQxNjkpOwogICAgICAgICAgICAKICAgIAoKICAgICAgICAgICAgICAgIHZhciBpY29uXzcwZDM2NDJhMDEyNDQyNjRhNTQ4NDI5ZGQ0YWYxN2M2ID0gTC5Bd2Vzb21lTWFya2Vycy5pY29uKHsKICAgICAgICAgICAgICAgICAgICBpY29uOiAnc3RhcicsCiAgICAgICAgICAgICAgICAgICAgaWNvbkNvbG9yOiAnd2hpdGUnLAogICAgICAgICAgICAgICAgICAgIG1hcmtlckNvbG9yOiAncmVkJywKICAgICAgICAgICAgICAgICAgICBwcmVmaXg6ICdnbHlwaGljb24nLAogICAgICAgICAgICAgICAgICAgIGV4dHJhQ2xhc3NlczogJ2ZhLXJvdGF0ZS0wJwogICAgICAgICAgICAgICAgICAgIH0pOwogICAgICAgICAgICAgICAgbWFya2VyX2Q1Mjk2ZjQwMzlhMzQ0ZTFiNjFlM2ZhYmFhZTI2YWExLnNldEljb24oaWNvbl83MGQzNjQyYTAxMjQ0MjY0YTU0ODQyOWRkNGFmMTdjNik7CiAgICAgICAgICAgIAogICAgCgogICAgICAgICAgICB2YXIgbWFya2VyXzk5NTVjODFjODU2YzQzZTA4ZGU2YmUxMjk0OWQ5NTg1ID0gTC5tYXJrZXIoCiAgICAgICAgICAgICAgICBbNDAuODUxMjEzMTY4LC03My45MzUyMTYwNTJdLAogICAgICAgICAgICAgICAgewogICAgICAgICAgICAgICAgICAgIGljb246IG5ldyBMLkljb24uRGVmYXVsdCgpCiAgICAgICAgICAgICAgICAgICAgfQogICAgICAgICAgICAgICAgKQogICAgICAgICAgICAgICAgLmFkZFRvKG1hcF9hNGQwNjU2NGJiYzk0YjlkODUzMjZkZGE4NTlhZDE2OSk7CiAgICAgICAgICAgIAogICAgCgogICAgICAgICAgICAgICAgdmFyIGljb25fMzgyMmY4ZjdlOGZiNDFjYWJhMjdhZjdhNzlhNWU0OWUgPSBMLkF3ZXNvbWVNYXJrZXJzLmljb24oewogICAgICAgICAgICAgICAgICAgIGljb246ICdzdGFyJywKICAgICAgICAgICAgICAgICAgICBpY29uQ29sb3I6ICd3aGl0ZScsCiAgICAgICAgICAgICAgICAgICAgbWFya2VyQ29sb3I6ICdyZWQnLAogICAgICAgICAgICAgICAgICAgIHByZWZpeDogJ2dseXBoaWNvbicsCiAgICAgICAgICAgICAgICAgICAgZXh0cmFDbGFzc2VzOiAnZmEtcm90YXRlLTAnCiAgICAgICAgICAgICAgICAgICAgfSk7CiAgICAgICAgICAgICAgICBtYXJrZXJfOTk1NWM4MWM4NTZjNDNlMDhkZTZiZTEyOTQ5ZDk1ODUuc2V0SWNvbihpY29uXzM4MjJmOGY3ZThmYjQxY2FiYTI3YWY3YTc5YTVlNDllKTsKICAgICAgICAgICAgCiAgICAKCiAgICAgICAgICAgIHZhciBtYXJrZXJfMDg1ZWExMjRmNWRiNDhiZWJlMDEwOWU3MmI0MzY4ZGUgPSBMLm1hcmtlcigKICAgICAgICAgICAgICAgIFs0MC42ODM1NDc3NTIsLTczLjg5NDI0NjY1Ml0sCiAgICAgICAgICAgICAgICB7CiAgICAgICAgICAgICAgICAgICAgaWNvbjogbmV3IEwuSWNvbi5EZWZhdWx0KCkKICAgICAgICAgICAgICAgICAgICB9CiAgICAgICAgICAgICAgICApCiAgICAgICAgICAgICAgICAuYWRkVG8obWFwX2E0ZDA2NTY0YmJjOTRiOWQ4NTMyNmRkYTg1OWFkMTY5KTsKICAgICAgICAgICAgCiAgICAKCiAgICAgICAgICAgICAgICB2YXIgaWNvbl83NzJlNGQ0ZDQ0Zjg0YzA2ODE2OTVlYTM4OWU1NzVlZCA9IEwuQXdlc29tZU1hcmtlcnMuaWNvbih7CiAgICAgICAgICAgICAgICAgICAgaWNvbjogJ3N0YXInLAogICAgICAgICAgICAgICAgICAgIGljb25Db2xvcjogJ3doaXRlJywKICAgICAgICAgICAgICAgICAgICBtYXJrZXJDb2xvcjogJ3JlZCcsCiAgICAgICAgICAgICAgICAgICAgcHJlZml4OiAnZ2x5cGhpY29uJywKICAgICAgICAgICAgICAgICAgICBleHRyYUNsYXNzZXM6ICdmYS1yb3RhdGUtMCcKICAgICAgICAgICAgICAgICAgICB9KTsKICAgICAgICAgICAgICAgIG1hcmtlcl8wODVlYTEyNGY1ZGI0OGJlYmUwMTA5ZTcyYjQzNjhkZS5zZXRJY29uKGljb25fNzcyZTRkNGQ0NGY4NGMwNjgxNjk1ZWEzODllNTc1ZWQpOwogICAgICAgICAgICAKICAgIAoKICAgICAgICAgICAgdmFyIG1hcmtlcl85MWU4N2Q5MDE2NGM0YzM2ODUwYjAxNGM1M2Y1ZTI0OSA9IEwubWFya2VyKAogICAgICAgICAgICAgICAgWzQwLjcxNDA2MDEwMSwtNzMuOTkwMjAwNjQ3XSwKICAgICAgICAgICAgICAgIHsKICAgICAgICAgICAgICAgICAgICBpY29uOiBuZXcgTC5JY29uLkRlZmF1bHQoKQogICAgICAgICAgICAgICAgICAgIH0KICAgICAgICAgICAgICAgICkKICAgICAgICAgICAgICAgIC5hZGRUbyhtYXBfYTRkMDY1NjRiYmM5NGI5ZDg1MzI2ZGRhODU5YWQxNjkpOwogICAgICAgICAgICAKICAgIAoKICAgICAgICAgICAgICAgIHZhciBpY29uX2Q1ZDA3YzQwOTcyYTQwMDk5OGYyN2JkZjE3MWQ0OTk1ID0gTC5Bd2Vzb21lTWFya2Vycy5pY29uKHsKICAgICAgICAgICAgICAgICAgICBpY29uOiAnc3RhcicsCiAgICAgICAgICAgICAgICAgICAgaWNvbkNvbG9yOiAnd2hpdGUnLAogICAgICAgICAgICAgICAgICAgIG1hcmtlckNvbG9yOiAncmVkJywKICAgICAgICAgICAgICAgICAgICBwcmVmaXg6ICdnbHlwaGljb24nLAogICAgICAgICAgICAgICAgICAgIGV4dHJhQ2xhc3NlczogJ2ZhLXJvdGF0ZS0wJwogICAgICAgICAgICAgICAgICAgIH0pOwogICAgICAgICAgICAgICAgbWFya2VyXzkxZTg3ZDkwMTY0YzRjMzY4NTBiMDE0YzUzZjVlMjQ5LnNldEljb24oaWNvbl9kNWQwN2M0MDk3MmE0MDA5OThmMjdiZGYxNzFkNDk5NSk7CiAgICAgICAgICAgIAogICAgCgogICAgICAgICAgICB2YXIgbWFya2VyXzczNDBhMDFiODAwNDQ3ZjliNzI5MDM2OWY5MmE1YTg5ID0gTC5tYXJrZXIoCiAgICAgICAgICAgICAgICBbNDAuODgwNDU3NzI5LC03My45MTc2ODQ5NDJdLAogICAgICAgICAgICAgICAgewogICAgICAgICAgICAgICAgICAgIGljb246IG5ldyBMLkljb24uRGVmYXVsdCgpCiAgICAgICAgICAgICAgICAgICAgfQogICAgICAgICAgICAgICAgKQogICAgICAgICAgICAgICAgLmFkZFRvKG1hcF9hNGQwNjU2NGJiYzk0YjlkODUzMjZkZGE4NTlhZDE2OSk7CiAgICAgICAgICAgIAogICAgCgogICAgICAgICAgICAgICAgdmFyIGljb25fMDkwYWU1NTI4ODVhNDAxZGE1NzQwNDY4OGY5MzY5MGUgPSBMLkF3ZXNvbWVNYXJrZXJzLmljb24oewogICAgICAgICAgICAgICAgICAgIGljb246ICdzdGFyJywKICAgICAgICAgICAgICAgICAgICBpY29uQ29sb3I6ICd3aGl0ZScsCiAgICAgICAgICAgICAgICAgICAgbWFya2VyQ29sb3I6ICdyZWQnLAogICAgICAgICAgICAgICAgICAgIHByZWZpeDogJ2dseXBoaWNvbicsCiAgICAgICAgICAgICAgICAgICAgZXh0cmFDbGFzc2VzOiAnZmEtcm90YXRlLTAnCiAgICAgICAgICAgICAgICAgICAgfSk7CiAgICAgICAgICAgICAgICBtYXJrZXJfNzM0MGEwMWI4MDA0NDdmOWI3MjkwMzY5ZjkyYTVhODkuc2V0SWNvbihpY29uXzA5MGFlNTUyODg1YTQwMWRhNTc0MDQ2ODhmOTM2OTBlKTsKICAgICAgICAgICAgCiAgICAKCiAgICAgICAgICAgIHZhciBtYXJrZXJfY2QyMDY1ODZhMjNlNGRmYmE1Y2MxZGZkM2E4ZGVmMjIgPSBMLm1hcmtlcigKICAgICAgICAgICAgICAgIFs0MC41MTk1OTA1LC03NC4xOTg1MjYxNDddLAogICAgICAgICAgICAgICAgewogICAgICAgICAgICAgICAgICAgIGljb246IG5ldyBMLkljb24uRGVmYXVsdCgpCiAgICAgICAgICAgICAgICAgICAgfQogICAgICAgICAgICAgICAgKQogICAgICAgICAgICAgICAgLmFkZFRvKG1hcF9hNGQwNjU2NGJiYzk0YjlkODUzMjZkZGE4NTlhZDE2OSk7CiAgICAgICAgICAgIAogICAgCgogICAgICAgICAgICAgICAgdmFyIGljb25fZDk1MGUzNDBlYTVjNGFhOGFiNjRiN2JjMDc5MGMxNjggPSBMLkF3ZXNvbWVNYXJrZXJzLmljb24oewogICAgICAgICAgICAgICAgICAgIGljb246ICdzdGFyJywKICAgICAgICAgICAgICAgICAgICBpY29uQ29sb3I6ICd3aGl0ZScsCiAgICAgICAgICAgICAgICAgICAgbWFya2VyQ29sb3I6ICdyZWQnLAogICAgICAgICAgICAgICAgICAgIHByZWZpeDogJ2dseXBoaWNvbicsCiAgICAgICAgICAgICAgICAgICAgZXh0cmFDbGFzc2VzOiAnZmEtcm90YXRlLTAnCiAgICAgICAgICAgICAgICAgICAgfSk7CiAgICAgICAgICAgICAgICBtYXJrZXJfY2QyMDY1ODZhMjNlNGRmYmE1Y2MxZGZkM2E4ZGVmMjIuc2V0SWNvbihpY29uX2Q5NTBlMzQwZWE1YzRhYThhYjY0YjdiYzA3OTBjMTY4KTsKICAgICAgICAgICAgCiAgICAKCiAgICAgICAgICAgIHZhciBtYXJrZXJfYmVhY2E1YmYyZDZlNDgwNDliMmQzNjE3OWVmZGQxNjYgPSBMLm1hcmtlcigKICAgICAgICAgICAgICAgIFs0MC44NTA3NTQ4OTcsLTczLjg2NzgxMDg5OF0sCiAgICAgICAgICAgICAgICB7CiAgICAgICAgICAgICAgICAgICAgaWNvbjogbmV3IEwuSWNvbi5EZWZhdWx0KCkKICAgICAgICAgICAgICAgICAgICB9CiAgICAgICAgICAgICAgICApCiAgICAgICAgICAgICAgICAuYWRkVG8obWFwX2E0ZDA2NTY0YmJjOTRiOWQ4NTMyNmRkYTg1OWFkMTY5KTsKICAgICAgICAgICAgCiAgICAKCiAgICAgICAgICAgICAgICB2YXIgaWNvbl84MDlhYTA1MjI4NTI0MjE4YTdiYzQxMzY4ZTA5NjAwOCA9IEwuQXdlc29tZU1hcmtlcnMuaWNvbih7CiAgICAgICAgICAgICAgICAgICAgaWNvbjogJ3N0YXInLAogICAgICAgICAgICAgICAgICAgIGljb25Db2xvcjogJ3doaXRlJywKICAgICAgICAgICAgICAgICAgICBtYXJrZXJDb2xvcjogJ3JlZCcsCiAgICAgICAgICAgICAgICAgICAgcHJlZml4OiAnZ2x5cGhpY29uJywKICAgICAgICAgICAgICAgICAgICBleHRyYUNsYXNzZXM6ICdmYS1yb3RhdGUtMCcKICAgICAgICAgICAgICAgICAgICB9KTsKICAgICAgICAgICAgICAgIG1hcmtlcl9iZWFjYTViZjJkNmU0ODA0OWIyZDM2MTc5ZWZkZDE2Ni5zZXRJY29uKGljb25fODA5YWEwNTIyODUyNDIxOGE3YmM0MTM2OGUwOTYwMDgpOwogICAgICAgICAgICAKICAgIAoKICAgICAgICAgICAgdmFyIG1hcmtlcl80NTdhYzA0MGVmMjc0OTRjOTc3NjhjNzQzYzE3Y2NjNSA9IEwubWFya2VyKAogICAgICAgICAgICAgICAgWzQwLjYwMTQ1NTUzNiwtNzMuOTQzMTAzNTg2XSwKICAgICAgICAgICAgICAgIHsKICAgICAgICAgICAgICAgICAgICBpY29uOiBuZXcgTC5JY29uLkRlZmF1bHQoKQogICAgICAgICAgICAgICAgICAgIH0KICAgICAgICAgICAgICAgICkKICAgICAgICAgICAgICAgIC5hZGRUbyhtYXBfYTRkMDY1NjRiYmM5NGI5ZDg1MzI2ZGRhODU5YWQxNjkpOwogICAgICAgICAgICAKICAgIAoKICAgICAgICAgICAgICAgIHZhciBpY29uXzJjODU4ZjQwMjJiNjQ0MDlhYjJjYmZlNzQxZTgxODI3ID0gTC5Bd2Vzb21lTWFya2Vycy5pY29uKHsKICAgICAgICAgICAgICAgICAgICBpY29uOiAnc3RhcicsCiAgICAgICAgICAgICAgICAgICAgaWNvbkNvbG9yOiAnd2hpdGUnLAogICAgICAgICAgICAgICAgICAgIG1hcmtlckNvbG9yOiAncmVkJywKICAgICAgICAgICAgICAgICAgICBwcmVmaXg6ICdnbHlwaGljb24nLAogICAgICAgICAgICAgICAgICAgIGV4dHJhQ2xhc3NlczogJ2ZhLXJvdGF0ZS0wJwogICAgICAgICAgICAgICAgICAgIH0pOwogICAgICAgICAgICAgICAgbWFya2VyXzQ1N2FjMDQwZWYyNzQ5NGM5Nzc2OGM3NDNjMTdjY2M1LnNldEljb24oaWNvbl8yYzg1OGY0MDIyYjY0NDA5YWIyY2JmZTc0MWU4MTgyNyk7CiAgICAgICAgICAgIAogICAgCgogICAgICAgICAgICB2YXIgbWFya2VyX2E1OGVjNDI3YWFiZjRjNzg4YzRlNmUwYzg2NzU0MWM5ID0gTC5tYXJrZXIoCiAgICAgICAgICAgICAgICBbNDAuNzYxODc0NjksLTczLjk2NjM1ODA4NF0sCiAgICAgICAgICAgICAgICB7CiAgICAgICAgICAgICAgICAgICAgaWNvbjogbmV3IEwuSWNvbi5EZWZhdWx0KCkKICAgICAgICAgICAgICAgICAgICB9CiAgICAgICAgICAgICAgICApCiAgICAgICAgICAgICAgICAuYWRkVG8obWFwX2E0ZDA2NTY0YmJjOTRiOWQ4NTMyNmRkYTg1OWFkMTY5KTsKICAgICAgICAgICAgCiAgICAKCiAgICAgICAgICAgICAgICB2YXIgaWNvbl8zNmM0Y2I0MTRiZTE0ZWZiOTRmOGQ4NDMyMWRjYmNhMiA9IEwuQXdlc29tZU1hcmtlcnMuaWNvbih7CiAgICAgICAgICAgICAgICAgICAgaWNvbjogJ3N0YXInLAogICAgICAgICAgICAgICAgICAgIGljb25Db2xvcjogJ3doaXRlJywKICAgICAgICAgICAgICAgICAgICBtYXJrZXJDb2xvcjogJ3JlZCcsCiAgICAgICAgICAgICAgICAgICAgcHJlZml4OiAnZ2x5cGhpY29uJywKICAgICAgICAgICAgICAgICAgICBleHRyYUNsYXNzZXM6ICdmYS1yb3RhdGUtMCcKICAgICAgICAgICAgICAgICAgICB9KTsKICAgICAgICAgICAgICAgIG1hcmtlcl9hNThlYzQyN2FhYmY0Yzc4OGM0ZTZlMGM4Njc1NDFjOS5zZXRJY29uKGljb25fMzZjNGNiNDE0YmUxNGVmYjk0ZjhkODQzMjFkY2JjYTIpOwogICAgICAgICAgICAKICAgIAoKICAgICAgICAgICAgdmFyIG1hcmtlcl8yOTAyYjY4NmM3MDU0OGE3YjE4NWUxMDFmZGQxZjBiYSA9IEwubWFya2VyKAogICAgICAgICAgICAgICAgWzQwLjcyMzI3MDI5NiwtNzMuOTgwNTg0NzQxXSwKICAgICAgICAgICAgICAgIHsKICAgICAgICAgICAgICAgICAgICBpY29uOiBuZXcgTC5JY29uLkRlZmF1bHQoKQogICAgICAgICAgICAgICAgICAgIH0KICAgICAgICAgICAgICAgICkKICAgICAgICAgICAgICAgIC5hZGRUbyhtYXBfYTRkMDY1NjRiYmM5NGI5ZDg1MzI2ZGRhODU5YWQxNjkpOwogICAgICAgICAgICAKICAgIAoKICAgICAgICAgICAgICAgIHZhciBpY29uXzAyM2E2NGIxYTRjNDRhNjQ5NmVlOWY0YjM2YTEwNzRmID0gTC5Bd2Vzb21lTWFya2Vycy5pY29uKHsKICAgICAgICAgICAgICAgICAgICBpY29uOiAnc3RhcicsCiAgICAgICAgICAgICAgICAgICAgaWNvbkNvbG9yOiAnd2hpdGUnLAogICAgICAgICAgICAgICAgICAgIG1hcmtlckNvbG9yOiAncmVkJywKICAgICAgICAgICAgICAgICAgICBwcmVmaXg6ICdnbHlwaGljb24nLAogICAgICAgICAgICAgICAgICAgIGV4dHJhQ2xhc3NlczogJ2ZhLXJvdGF0ZS0wJwogICAgICAgICAgICAgICAgICAgIH0pOwogICAgICAgICAgICAgICAgbWFya2VyXzI5MDJiNjg2YzcwNTQ4YTdiMTg1ZTEwMWZkZDFmMGJhLnNldEljb24oaWNvbl8wMjNhNjRiMWE0YzQ0YTY0OTZlZTlmNGIzNmExMDc0Zik7CiAgICAgICAgICAgIAogICAgCgogICAgICAgICAgICB2YXIgbWFya2VyXzAwODY3MDVmOGQyNTQ0ZjZiNWQxNjhjNzVjYTMxMzJiID0gTC5tYXJrZXIoCiAgICAgICAgICAgICAgICBbNDAuODY2MDc2MDAxLC03My44ODg3ODk4OTddLAogICAgICAgICAgICAgICAgewogICAgICAgICAgICAgICAgICAgIGljb246IG5ldyBMLkljb24uRGVmYXVsdCgpCiAgICAgICAgICAgICAgICAgICAgfQogICAgICAgICAgICAgICAgKQogICAgICAgICAgICAgICAgLmFkZFRvKG1hcF9hNGQwNjU2NGJiYzk0YjlkODUzMjZkZGE4NTlhZDE2OSk7CiAgICAgICAgICAgIAogICAgCgogICAgICAgICAgICAgICAgdmFyIGljb25fMjdjMzJjZTNhMGE1NGM1Mjk0Y2U4NjZmZjlkYTU3ODggPSBMLkF3ZXNvbWVNYXJrZXJzLmljb24oewogICAgICAgICAgICAgICAgICAgIGljb246ICdzdGFyJywKICAgICAgICAgICAgICAgICAgICBpY29uQ29sb3I6ICd3aGl0ZScsCiAgICAgICAgICAgICAgICAgICAgbWFya2VyQ29sb3I6ICdyZWQnLAogICAgICAgICAgICAgICAgICAgIHByZWZpeDogJ2dseXBoaWNvbicsCiAgICAgICAgICAgICAgICAgICAgZXh0cmFDbGFzc2VzOiAnZmEtcm90YXRlLTAnCiAgICAgICAgICAgICAgICAgICAgfSk7CiAgICAgICAgICAgICAgICBtYXJrZXJfMDA4NjcwNWY4ZDI1NDRmNmI1ZDE2OGM3NWNhMzEzMmIuc2V0SWNvbihpY29uXzI3YzMyY2UzYTBhNTRjNTI5NGNlODY2ZmY5ZGE1Nzg4KTsKICAgICAgICAgICAgCiAgICAKCiAgICAgICAgICAgIHZhciBtYXJrZXJfNTJkOGUwNzA2ZmI3NDMxZmJjMjJhNjcwYTAxYjMwNmEgPSBMLm1hcmtlcigKICAgICAgICAgICAgICAgIFs0MC42ODIyNDYyMTIsLTczLjg3NzE0Nzg1XSwKICAgICAgICAgICAgICAgIHsKICAgICAgICAgICAgICAgICAgICBpY29uOiBuZXcgTC5JY29uLkRlZmF1bHQoKQogICAgICAgICAgICAgICAgICAgIH0KICAgICAgICAgICAgICAgICkKICAgICAgICAgICAgICAgIC5hZGRUbyhtYXBfYTRkMDY1NjRiYmM5NGI5ZDg1MzI2ZGRhODU5YWQxNjkpOwogICAgICAgICAgICAKICAgIAoKICAgICAgICAgICAgICAgIHZhciBpY29uXzU4ODlmOTNlMjY2ZTQ5MGJhYTllNTcxYjRiODIxMDFlID0gTC5Bd2Vzb21lTWFya2Vycy5pY29uKHsKICAgICAgICAgICAgICAgICAgICBpY29uOiAnc3RhcicsCiAgICAgICAgICAgICAgICAgICAgaWNvbkNvbG9yOiAnd2hpdGUnLAogICAgICAgICAgICAgICAgICAgIG1hcmtlckNvbG9yOiAncmVkJywKICAgICAgICAgICAgICAgICAgICBwcmVmaXg6ICdnbHlwaGljb24nLAogICAgICAgICAgICAgICAgICAgIGV4dHJhQ2xhc3NlczogJ2ZhLXJvdGF0ZS0wJwogICAgICAgICAgICAgICAgICAgIH0pOwogICAgICAgICAgICAgICAgbWFya2VyXzUyZDhlMDcwNmZiNzQzMWZiYzIyYTY3MGEwMWIzMDZhLnNldEljb24oaWNvbl81ODg5ZjkzZTI2NmU0OTBiYWE5ZTU3MWI0YjgyMTAxZSk7CiAgICAgICAgICAgIAogICAgCgogICAgICAgICAgICB2YXIgbWFya2VyXzM1YmI4NmJlZWZmNjRjM2FhZjI3OGYzNzdlYjQzOGJkID0gTC5tYXJrZXIoCiAgICAgICAgICAgICAgICBbNDAuODE0MTc2OTI4LC03My44OTg0NDY1MTFdLAogICAgICAgICAgICAgICAgewogICAgICAgICAgICAgICAgICAgIGljb246IG5ldyBMLkljb24uRGVmYXVsdCgpCiAgICAgICAgICAgICAgICAgICAgfQogICAgICAgICAgICAgICAgKQogICAgICAgICAgICAgICAgLmFkZFRvKG1hcF9hNGQwNjU2NGJiYzk0YjlkODUzMjZkZGE4NTlhZDE2OSk7CiAgICAgICAgICAgIAogICAgCgogICAgICAgICAgICAgICAgdmFyIGljb25fNThkMzBhY2E0OWYyNDIxODgzYzdlMzQxY2Y0YmY4YTUgPSBMLkF3ZXNvbWVNYXJrZXJzLmljb24oewogICAgICAgICAgICAgICAgICAgIGljb246ICdzdGFyJywKICAgICAgICAgICAgICAgICAgICBpY29uQ29sb3I6ICd3aGl0ZScsCiAgICAgICAgICAgICAgICAgICAgbWFya2VyQ29sb3I6ICdyZWQnLAogICAgICAgICAgICAgICAgICAgIHByZWZpeDogJ2dseXBoaWNvbicsCiAgICAgICAgICAgICAgICAgICAgZXh0cmFDbGFzc2VzOiAnZmEtcm90YXRlLTAnCiAgICAgICAgICAgICAgICAgICAgfSk7CiAgICAgICAgICAgICAgICBtYXJrZXJfMzViYjg2YmVlZmY2NGMzYWFmMjc4ZjM3N2ViNDM4YmQuc2V0SWNvbihpY29uXzU4ZDMwYWNhNDlmMjQyMTg4M2M3ZTM0MWNmNGJmOGE1KTsKICAgICAgICAgICAgCiAgICAKCiAgICAgICAgICAgIHZhciBtYXJrZXJfZTAwY2ZmZGMwN2Q1NGQ1MTg5NGQxYTkyN2I4NDk1NzcgPSBMLm1hcmtlcigKICAgICAgICAgICAgICAgIFs0MC42MzI4NzcwOTcsLTc0LjE0MzA3NjkwNF0sCiAgICAgICAgICAgICAgICB7CiAgICAgICAgICAgICAgICAgICAgaWNvbjogbmV3IEwuSWNvbi5EZWZhdWx0KCkKICAgICAgICAgICAgICAgICAgICB9CiAgICAgICAgICAgICAgICApCiAgICAgICAgICAgICAgICAuYWRkVG8obWFwX2E0ZDA2NTY0YmJjOTRiOWQ4NTMyNmRkYTg1OWFkMTY5KTsKICAgICAgICAgICAgCiAgICAKCiAgICAgICAgICAgICAgICB2YXIgaWNvbl8wMWM3ODgzYzY3NTk0ODMzOTRhZGU3NzdiODdiYmI4YSA9IEwuQXdlc29tZU1hcmtlcnMuaWNvbih7CiAgICAgICAgICAgICAgICAgICAgaWNvbjogJ3N0YXInLAogICAgICAgICAgICAgICAgICAgIGljb25Db2xvcjogJ3doaXRlJywKICAgICAgICAgICAgICAgICAgICBtYXJrZXJDb2xvcjogJ3JlZCcsCiAgICAgICAgICAgICAgICAgICAgcHJlZml4OiAnZ2x5cGhpY29uJywKICAgICAgICAgICAgICAgICAgICBleHRyYUNsYXNzZXM6ICdmYS1yb3RhdGUtMCcKICAgICAgICAgICAgICAgICAgICB9KTsKICAgICAgICAgICAgICAgIG1hcmtlcl9lMDBjZmZkYzA3ZDU0ZDUxODk0ZDFhOTI3Yjg0OTU3Ny5zZXRJY29uKGljb25fMDFjNzg4M2M2NzU5NDgzMzk0YWRlNzc3Yjg3YmJiOGEpOwogICAgICAgICAgICAKICAgIAoKICAgICAgICAgICAgdmFyIG1hcmtlcl8xZTE1YzUzMTRiNWI0YTE2YjY0YzgyNWRkNzJlZTkwOCA9IEwubWFya2VyKAogICAgICAgICAgICAgICAgWzQwLjY1ODc5NDIwNCwtNzMuOTQ4OTY5MjE5XSwKICAgICAgICAgICAgICAgIHsKICAgICAgICAgICAgICAgICAgICBpY29uOiBuZXcgTC5JY29uLkRlZmF1bHQoKQogICAgICAgICAgICAgICAgICAgIH0KICAgICAgICAgICAgICAgICkKICAgICAgICAgICAgICAgIC5hZGRUbyhtYXBfYTRkMDY1NjRiYmM5NGI5ZDg1MzI2ZGRhODU5YWQxNjkpOwogICAgICAgICAgICAKICAgIAoKICAgICAgICAgICAgICAgIHZhciBpY29uXzNmYjdmMDZlZTRhNDRhOWFhNzY0YjY1NTU1OWRmOTA1ID0gTC5Bd2Vzb21lTWFya2Vycy5pY29uKHsKICAgICAgICAgICAgICAgICAgICBpY29uOiAnc3RhcicsCiAgICAgICAgICAgICAgICAgICAgaWNvbkNvbG9yOiAnd2hpdGUnLAogICAgICAgICAgICAgICAgICAgIG1hcmtlckNvbG9yOiAncmVkJywKICAgICAgICAgICAgICAgICAgICBwcmVmaXg6ICdnbHlwaGljb24nLAogICAgICAgICAgICAgICAgICAgIGV4dHJhQ2xhc3NlczogJ2ZhLXJvdGF0ZS0wJwogICAgICAgICAgICAgICAgICAgIH0pOwogICAgICAgICAgICAgICAgbWFya2VyXzFlMTVjNTMxNGI1YjRhMTZiNjRjODI1ZGQ3MmVlOTA4LnNldEljb24oaWNvbl8zZmI3ZjA2ZWU0YTQ0YTlhYTc2NGI2NTU1NTlkZjkwNSk7CiAgICAgICAgICAgIAogICAgCgogICAgICAgICAgICB2YXIgbWFya2VyXzFkOTUyMjQ2M2I3ZjQxZTU5N2U4ZWI5YmRjOWM4MzkwID0gTC5tYXJrZXIoCiAgICAgICAgICAgICAgICBbNDAuNzE4MzYyNTA1LC03My43Njg2OTE3MTldLAogICAgICAgICAgICAgICAgewogICAgICAgICAgICAgICAgICAgIGljb246IG5ldyBMLkljb24uRGVmYXVsdCgpCiAgICAgICAgICAgICAgICAgICAgfQogICAgICAgICAgICAgICAgKQogICAgICAgICAgICAgICAgLmFkZFRvKG1hcF9hNGQwNjU2NGJiYzk0YjlkODUzMjZkZGE4NTlhZDE2OSk7CiAgICAgICAgICAgIAogICAgCgogICAgICAgICAgICAgICAgdmFyIGljb25fNGNlNDhmNTIyMGI1NDY1YzhlYjY1MzNlNjZmNDFmNzYgPSBMLkF3ZXNvbWVNYXJrZXJzLmljb24oewogICAgICAgICAgICAgICAgICAgIGljb246ICdzdGFyJywKICAgICAgICAgICAgICAgICAgICBpY29uQ29sb3I6ICd3aGl0ZScsCiAgICAgICAgICAgICAgICAgICAgbWFya2VyQ29sb3I6ICdyZWQnLAogICAgICAgICAgICAgICAgICAgIHByZWZpeDogJ2dseXBoaWNvbicsCiAgICAgICAgICAgICAgICAgICAgZXh0cmFDbGFzc2VzOiAnZmEtcm90YXRlLTAnCiAgICAgICAgICAgICAgICAgICAgfSk7CiAgICAgICAgICAgICAgICBtYXJrZXJfMWQ5NTIyNDYzYjdmNDFlNTk3ZThlYjliZGM5YzgzOTAuc2V0SWNvbihpY29uXzRjZTQ4ZjUyMjBiNTQ2NWM4ZWI2NTMzZTY2ZjQxZjc2KTsKICAgICAgICAgICAgCiAgICAKCiAgICAgICAgICAgIHZhciBtYXJrZXJfZDI4MTk4ZTJlMzEwNDlmYzk5MzNiZTgzZjdkNDQ4YTQgPSBMLm1hcmtlcigKICAgICAgICAgICAgICAgIFs0MC44MTYwODg4NzQsLTczLjkxNzY4ODY4OV0sCiAgICAgICAgICAgICAgICB7CiAgICAgICAgICAgICAgICAgICAgaWNvbjogbmV3IEwuSWNvbi5EZWZhdWx0KCkKICAgICAgICAgICAgICAgICAgICB9CiAgICAgICAgICAgICAgICApCiAgICAgICAgICAgICAgICAuYWRkVG8obWFwX2E0ZDA2NTY0YmJjOTRiOWQ4NTMyNmRkYTg1OWFkMTY5KTsKICAgICAgICAgICAgCiAgICAKCiAgICAgICAgICAgICAgICB2YXIgaWNvbl9hZjg0ZWVhN2I4NmM0ZTBiYjhkNGYyZWU4MGFhNDQzYiA9IEwuQXdlc29tZU1hcmtlcnMuaWNvbih7CiAgICAgICAgICAgICAgICAgICAgaWNvbjogJ3N0YXInLAogICAgICAgICAgICAgICAgICAgIGljb25Db2xvcjogJ3doaXRlJywKICAgICAgICAgICAgICAgICAgICBtYXJrZXJDb2xvcjogJ3JlZCcsCiAgICAgICAgICAgICAgICAgICAgcHJlZml4OiAnZ2x5cGhpY29uJywKICAgICAgICAgICAgICAgICAgICBleHRyYUNsYXNzZXM6ICdmYS1yb3RhdGUtMCcKICAgICAgICAgICAgICAgICAgICB9KTsKICAgICAgICAgICAgICAgIG1hcmtlcl9kMjgxOThlMmUzMTA0OWZjOTkzM2JlODNmN2Q0NDhhNC5zZXRJY29uKGljb25fYWY4NGVlYTdiODZjNGUwYmI4ZDRmMmVlODBhYTQ0M2IpOwogICAgICAgICAgICAKICAgIAoKICAgICAgICAgICAgdmFyIG1hcmtlcl9kZTEyYzU2OGNiZjU0MDFjOWVmNTAwZDVkNTY5YzYxZCA9IEwubWFya2VyKAogICAgICAgICAgICAgICAgWzQwLjY3MTMzMjkwNSwtNzMuODAwNjUwMTU3XSwKICAgICAgICAgICAgICAgIHsKICAgICAgICAgICAgICAgICAgICBpY29uOiBuZXcgTC5JY29uLkRlZmF1bHQoKQogICAgICAgICAgICAgICAgICAgIH0KICAgICAgICAgICAgICAgICkKICAgICAgICAgICAgICAgIC5hZGRUbyhtYXBfYTRkMDY1NjRiYmM5NGI5ZDg1MzI2ZGRhODU5YWQxNjkpOwogICAgICAgICAgICAKICAgIAoKICAgICAgICAgICAgICAgIHZhciBpY29uX2IyOTRkYjZhMjAyZDQzZGU5YWNmYTZhYTEzZGQxNjRhID0gTC5Bd2Vzb21lTWFya2Vycy5pY29uKHsKICAgICAgICAgICAgICAgICAgICBpY29uOiAnc3RhcicsCiAgICAgICAgICAgICAgICAgICAgaWNvbkNvbG9yOiAnd2hpdGUnLAogICAgICAgICAgICAgICAgICAgIG1hcmtlckNvbG9yOiAncmVkJywKICAgICAgICAgICAgICAgICAgICBwcmVmaXg6ICdnbHlwaGljb24nLAogICAgICAgICAgICAgICAgICAgIGV4dHJhQ2xhc3NlczogJ2ZhLXJvdGF0ZS0wJwogICAgICAgICAgICAgICAgICAgIH0pOwogICAgICAgICAgICAgICAgbWFya2VyX2RlMTJjNTY4Y2JmNTQwMWM5ZWY1MDBkNWQ1NjljNjFkLnNldEljb24oaWNvbl9iMjk0ZGI2YTIwMmQ0M2RlOWFjZmE2YWExM2RkMTY0YSk7CiAgICAgICAgICAgIAogICAgCgogICAgICAgICAgICB2YXIgbWFya2VyXzU0ZDYwYjg0YTA2MjRjZmViM2RhYzkzYWE4NzNiNTFjID0gTC5tYXJrZXIoCiAgICAgICAgICAgICAgICBbNDAuNjY2OTM2NTQ4LC03My45Nzk4OTQ2MjJdLAogICAgICAgICAgICAgICAgewogICAgICAgICAgICAgICAgICAgIGljb246IG5ldyBMLkljb24uRGVmYXVsdCgpCiAgICAgICAgICAgICAgICAgICAgfQogICAgICAgICAgICAgICAgKQogICAgICAgICAgICAgICAgLmFkZFRvKG1hcF9hNGQwNjU2NGJiYzk0YjlkODUzMjZkZGE4NTlhZDE2OSk7CiAgICAgICAgICAgIAogICAgCgogICAgICAgICAgICAgICAgdmFyIGljb25fMGQ4M2ExZGVkYzY3NDQ0OWFhMDNhYjkyMmExMGQwNTAgPSBMLkF3ZXNvbWVNYXJrZXJzLmljb24oewogICAgICAgICAgICAgICAgICAgIGljb246ICdzdGFyJywKICAgICAgICAgICAgICAgICAgICBpY29uQ29sb3I6ICd3aGl0ZScsCiAgICAgICAgICAgICAgICAgICAgbWFya2VyQ29sb3I6ICdyZWQnLAogICAgICAgICAgICAgICAgICAgIHByZWZpeDogJ2dseXBoaWNvbicsCiAgICAgICAgICAgICAgICAgICAgZXh0cmFDbGFzc2VzOiAnZmEtcm90YXRlLTAnCiAgICAgICAgICAgICAgICAgICAgfSk7CiAgICAgICAgICAgICAgICBtYXJrZXJfNTRkNjBiODRhMDYyNGNmZWIzZGFjOTNhYTg3M2I1MWMuc2V0SWNvbihpY29uXzBkODNhMWRlZGM2NzQ0NDlhYTAzYWI5MjJhMTBkMDUwKTsKICAgICAgICAgICAgCiAgICAKCiAgICAgICAgICAgIHZhciBtYXJrZXJfMmE4NTFkY2M4ODc3NGZhZjljYWQxY2EzYTEwYjQxOTAgPSBMLm1hcmtlcigKICAgICAgICAgICAgICAgIFs0MC42NTcxMzA2NywtNzMuOTE5NzYyNTcxXSwKICAgICAgICAgICAgICAgIHsKICAgICAgICAgICAgICAgICAgICBpY29uOiBuZXcgTC5JY29uLkRlZmF1bHQoKQogICAgICAgICAgICAgICAgICAgIH0KICAgICAgICAgICAgICAgICkKICAgICAgICAgICAgICAgIC5hZGRUbyhtYXBfYTRkMDY1NjRiYmM5NGI5ZDg1MzI2ZGRhODU5YWQxNjkpOwogICAgICAgICAgICAKICAgIAoKICAgICAgICAgICAgICAgIHZhciBpY29uX2Q5NjI2NWM1NzNmZDRmYzI4N2JmZTk0OWQwMTRiMjVjID0gTC5Bd2Vzb21lTWFya2Vycy5pY29uKHsKICAgICAgICAgICAgICAgICAgICBpY29uOiAnc3RhcicsCiAgICAgICAgICAgICAgICAgICAgaWNvbkNvbG9yOiAnd2hpdGUnLAogICAgICAgICAgICAgICAgICAgIG1hcmtlckNvbG9yOiAncmVkJywKICAgICAgICAgICAgICAgICAgICBwcmVmaXg6ICdnbHlwaGljb24nLAogICAgICAgICAgICAgICAgICAgIGV4dHJhQ2xhc3NlczogJ2ZhLXJvdGF0ZS0wJwogICAgICAgICAgICAgICAgICAgIH0pOwogICAgICAgICAgICAgICAgbWFya2VyXzJhODUxZGNjODg3NzRmYWY5Y2FkMWNhM2ExMGI0MTkwLnNldEljb24oaWNvbl9kOTYyNjVjNTczZmQ0ZmMyODdiZmU5NDlkMDE0YjI1Yyk7CiAgICAgICAgICAgIAogICAgCgogICAgICAgICAgICB2YXIgbWFya2VyXzViNjAzMmViMjQ3ZTQ2MDQ5NGYwYTA2MGMxNWUyNGVmID0gTC5tYXJrZXIoCiAgICAgICAgICAgICAgICBbNDAuODI5MTEzNjUyLC03My44NzU5NTUyNThdLAogICAgICAgICAgICAgICAgewogICAgICAgICAgICAgICAgICAgIGljb246IG5ldyBMLkljb24uRGVmYXVsdCgpCiAgICAgICAgICAgICAgICAgICAgfQogICAgICAgICAgICAgICAgKQogICAgICAgICAgICAgICAgLmFkZFRvKG1hcF9hNGQwNjU2NGJiYzk0YjlkODUzMjZkZGE4NTlhZDE2OSk7CiAgICAgICAgICAgIAogICAgCgogICAgICAgICAgICAgICAgdmFyIGljb25fZmJjYjdiNWFkY2NlNDc2NDhmMmFlZTQ1M2ViYTljNDIgPSBMLkF3ZXNvbWVNYXJrZXJzLmljb24oewogICAgICAgICAgICAgICAgICAgIGljb246ICdzdGFyJywKICAgICAgICAgICAgICAgICAgICBpY29uQ29sb3I6ICd3aGl0ZScsCiAgICAgICAgICAgICAgICAgICAgbWFya2VyQ29sb3I6ICdyZWQnLAogICAgICAgICAgICAgICAgICAgIHByZWZpeDogJ2dseXBoaWNvbicsCiAgICAgICAgICAgICAgICAgICAgZXh0cmFDbGFzc2VzOiAnZmEtcm90YXRlLTAnCiAgICAgICAgICAgICAgICAgICAgfSk7CiAgICAgICAgICAgICAgICBtYXJrZXJfNWI2MDMyZWIyNDdlNDYwNDk0ZjBhMDYwYzE1ZTI0ZWYuc2V0SWNvbihpY29uX2ZiY2I3YjVhZGNjZTQ3NjQ4ZjJhZWU0NTNlYmE5YzQyKTsKICAgICAgICAgICAgCiAgICAKCiAgICAgICAgICAgIHZhciBtYXJrZXJfOWNkZjNlMWUxMjhhNGFiY2E4ODRiMzZiZTM3Y2FmZDkgPSBMLm1hcmtlcigKICAgICAgICAgICAgICAgIFs0MC42NTgxNTk1NDgsLTczLjkxMTcwMjM2XSwKICAgICAgICAgICAgICAgIHsKICAgICAgICAgICAgICAgICAgICBpY29uOiBuZXcgTC5JY29uLkRlZmF1bHQoKQogICAgICAgICAgICAgICAgICAgIH0KICAgICAgICAgICAgICAgICkKICAgICAgICAgICAgICAgIC5hZGRUbyhtYXBfYTRkMDY1NjRiYmM5NGI5ZDg1MzI2ZGRhODU5YWQxNjkpOwogICAgICAgICAgICAKICAgIAoKICAgICAgICAgICAgICAgIHZhciBpY29uX2IzZjM0NzE4NGNkODQ5MGM5YWU5ZDU2NjI0NWU1ZWZjID0gTC5Bd2Vzb21lTWFya2Vycy5pY29uKHsKICAgICAgICAgICAgICAgICAgICBpY29uOiAnc3RhcicsCiAgICAgICAgICAgICAgICAgICAgaWNvbkNvbG9yOiAnd2hpdGUnLAogICAgICAgICAgICAgICAgICAgIG1hcmtlckNvbG9yOiAncmVkJywKICAgICAgICAgICAgICAgICAgICBwcmVmaXg6ICdnbHlwaGljb24nLAogICAgICAgICAgICAgICAgICAgIGV4dHJhQ2xhc3NlczogJ2ZhLXJvdGF0ZS0wJwogICAgICAgICAgICAgICAgICAgIH0pOwogICAgICAgICAgICAgICAgbWFya2VyXzljZGYzZTFlMTI4YTRhYmNhODg0YjM2YmUzN2NhZmQ5LnNldEljb24oaWNvbl9iM2YzNDcxODRjZDg0OTBjOWFlOWQ1NjYyNDVlNWVmYyk7CiAgICAgICAgICAgIAogICAgCgogICAgICAgICAgICB2YXIgbWFya2VyX2IyZWIyMDVkMDVhNDQ3NThhM2EzNDdjMDZmNGNjYWQ1ID0gTC5tYXJrZXIoCiAgICAgICAgICAgICAgICBbNDAuNjYxMDk2ODM5LC03My45MTk3MDM3MzVdLAogICAgICAgICAgICAgICAgewogICAgICAgICAgICAgICAgICAgIGljb246IG5ldyBMLkljb24uRGVmYXVsdCgpCiAgICAgICAgICAgICAgICAgICAgfQogICAgICAgICAgICAgICAgKQogICAgICAgICAgICAgICAgLmFkZFRvKG1hcF9hNGQwNjU2NGJiYzk0YjlkODUzMjZkZGE4NTlhZDE2OSk7CiAgICAgICAgICAgIAogICAgCgogICAgICAgICAgICAgICAgdmFyIGljb25fOTk5NjQ3OGM4ZTExNGI0NGI1YjYzMzlhYzc2ZDNiZGQgPSBMLkF3ZXNvbWVNYXJrZXJzLmljb24oewogICAgICAgICAgICAgICAgICAgIGljb246ICdzdGFyJywKICAgICAgICAgICAgICAgICAgICBpY29uQ29sb3I6ICd3aGl0ZScsCiAgICAgICAgICAgICAgICAgICAgbWFya2VyQ29sb3I6ICdyZWQnLAogICAgICAgICAgICAgICAgICAgIHByZWZpeDogJ2dseXBoaWNvbicsCiAgICAgICAgICAgICAgICAgICAgZXh0cmFDbGFzc2VzOiAnZmEtcm90YXRlLTAnCiAgICAgICAgICAgICAgICAgICAgfSk7CiAgICAgICAgICAgICAgICBtYXJrZXJfYjJlYjIwNWQwNWE0NDc1OGEzYTM0N2MwNmY0Y2NhZDUuc2V0SWNvbihpY29uXzk5OTY0NzhjOGUxMTRiNDRiNWI2MzM5YWM3NmQzYmRkKTsKICAgICAgICAgICAgCiAgICAKCiAgICAgICAgICAgIHZhciBtYXJrZXJfOTBlM2Q5Y2ZiMTBhNDg2NTk2NzE2MDU4ZTdiMGQ1OGQgPSBMLm1hcmtlcigKICAgICAgICAgICAgICAgIFs0MC42MzkyNDYwMDEsLTczLjk0OTMwODQ1Ml0sCiAgICAgICAgICAgICAgICB7CiAgICAgICAgICAgICAgICAgICAgaWNvbjogbmV3IEwuSWNvbi5EZWZhdWx0KCkKICAgICAgICAgICAgICAgICAgICB9CiAgICAgICAgICAgICAgICApCiAgICAgICAgICAgICAgICAuYWRkVG8obWFwX2E0ZDA2NTY0YmJjOTRiOWQ4NTMyNmRkYTg1OWFkMTY5KTsKICAgICAgICAgICAgCiAgICAKCiAgICAgICAgICAgICAgICB2YXIgaWNvbl9hZTg4MGFiMjQxNjc0ZDY2ODZlZWY5ZDVmOWM2N2Q4ZSA9IEwuQXdlc29tZU1hcmtlcnMuaWNvbih7CiAgICAgICAgICAgICAgICAgICAgaWNvbjogJ3N0YXInLAogICAgICAgICAgICAgICAgICAgIGljb25Db2xvcjogJ3doaXRlJywKICAgICAgICAgICAgICAgICAgICBtYXJrZXJDb2xvcjogJ3JlZCcsCiAgICAgICAgICAgICAgICAgICAgcHJlZml4OiAnZ2x5cGhpY29uJywKICAgICAgICAgICAgICAgICAgICBleHRyYUNsYXNzZXM6ICdmYS1yb3RhdGUtMCcKICAgICAgICAgICAgICAgICAgICB9KTsKICAgICAgICAgICAgICAgIG1hcmtlcl85MGUzZDljZmIxMGE0ODY1OTY3MTYwNThlN2IwZDU4ZC5zZXRJY29uKGljb25fYWU4ODBhYjI0MTY3NGQ2Njg2ZWVmOWQ1ZjljNjdkOGUpOwogICAgICAgICAgICAKICAgIAoKICAgICAgICAgICAgdmFyIG1hcmtlcl9kYmZlMTAwNGExN2Q0MjdiYmE3MmUzNjA3ZWMxMjEwNCA9IEwubWFya2VyKAogICAgICAgICAgICAgICAgWzQwLjc1NTAyNTY1MywtNzMuOTkxNDA3MzkxXSwKICAgICAgICAgICAgICAgIHsKICAgICAgICAgICAgICAgICAgICBpY29uOiBuZXcgTC5JY29uLkRlZmF1bHQoKQogICAgICAgICAgICAgICAgICAgIH0KICAgICAgICAgICAgICAgICkKICAgICAgICAgICAgICAgIC5hZGRUbyhtYXBfYTRkMDY1NjRiYmM5NGI5ZDg1MzI2ZGRhODU5YWQxNjkpOwogICAgICAgICAgICAKICAgIAoKICAgICAgICAgICAgICAgIHZhciBpY29uX2FiNjQwYjQ4YzM0NzQ3OGZiNGM3MTRmYzYxZmJhYjEzID0gTC5Bd2Vzb21lTWFya2Vycy5pY29uKHsKICAgICAgICAgICAgICAgICAgICBpY29uOiAnc3RhcicsCiAgICAgICAgICAgICAgICAgICAgaWNvbkNvbG9yOiAnd2hpdGUnLAogICAgICAgICAgICAgICAgICAgIG1hcmtlckNvbG9yOiAncmVkJywKICAgICAgICAgICAgICAgICAgICBwcmVmaXg6ICdnbHlwaGljb24nLAogICAgICAgICAgICAgICAgICAgIGV4dHJhQ2xhc3NlczogJ2ZhLXJvdGF0ZS0wJwogICAgICAgICAgICAgICAgICAgIH0pOwogICAgICAgICAgICAgICAgbWFya2VyX2RiZmUxMDA0YTE3ZDQyN2JiYTcyZTM2MDdlYzEyMTA0LnNldEljb24oaWNvbl9hYjY0MGI0OGMzNDc0NzhmYjRjNzE0ZmM2MWZiYWIxMyk7CiAgICAgICAgICAgIAogICAgCgogICAgICAgICAgICB2YXIgbWFya2VyX2I1MDJmYTgxZjc5MjQ2ODRhOTMxZmJmYTU0OGMzM2U3ID0gTC5tYXJrZXIoCiAgICAgICAgICAgICAgICBbNDAuNzExNzI5ODYyLC03My45NDMwNzA3ODNdLAogICAgICAgICAgICAgICAgewogICAgICAgICAgICAgICAgICAgIGljb246IG5ldyBMLkljb24uRGVmYXVsdCgpCiAgICAgICAgICAgICAgICAgICAgfQogICAgICAgICAgICAgICAgKQogICAgICAgICAgICAgICAgLmFkZFRvKG1hcF9hNGQwNjU2NGJiYzk0YjlkODUzMjZkZGE4NTlhZDE2OSk7CiAgICAgICAgICAgIAogICAgCgogICAgICAgICAgICAgICAgdmFyIGljb25fYmU2Y2E3Y2M3ZTRjNDRjMGIzZDBmZjRjODgzZDMwY2IgPSBMLkF3ZXNvbWVNYXJrZXJzLmljb24oewogICAgICAgICAgICAgICAgICAgIGljb246ICdzdGFyJywKICAgICAgICAgICAgICAgICAgICBpY29uQ29sb3I6ICd3aGl0ZScsCiAgICAgICAgICAgICAgICAgICAgbWFya2VyQ29sb3I6ICdyZWQnLAogICAgICAgICAgICAgICAgICAgIHByZWZpeDogJ2dseXBoaWNvbicsCiAgICAgICAgICAgICAgICAgICAgZXh0cmFDbGFzc2VzOiAnZmEtcm90YXRlLTAnCiAgICAgICAgICAgICAgICAgICAgfSk7CiAgICAgICAgICAgICAgICBtYXJrZXJfYjUwMmZhODFmNzkyNDY4NGE5MzFmYmZhNTQ4YzMzZTcuc2V0SWNvbihpY29uX2JlNmNhN2NjN2U0YzQ0YzBiM2QwZmY0Yzg4M2QzMGNiKTsKICAgICAgICAgICAgCiAgICAKCiAgICAgICAgICAgIHZhciBtYXJrZXJfYzZkNzY0MWM0MjVlNDg3OGE1NzljNWJmYzA2NmY4NTcgPSBMLm1hcmtlcigKICAgICAgICAgICAgICAgIFs0MC43NzEwMjE4MTQsLTczLjk4OTAzNjk3Ml0sCiAgICAgICAgICAgICAgICB7CiAgICAgICAgICAgICAgICAgICAgaWNvbjogbmV3IEwuSWNvbi5EZWZhdWx0KCkKICAgICAgICAgICAgICAgICAgICB9CiAgICAgICAgICAgICAgICApCiAgICAgICAgICAgICAgICAuYWRkVG8obWFwX2E0ZDA2NTY0YmJjOTRiOWQ4NTMyNmRkYTg1OWFkMTY5KTsKICAgICAgICAgICAgCiAgICAKCiAgICAgICAgICAgICAgICB2YXIgaWNvbl9jOTMwNzQ0NDBiMGE0YTIyYjMyYmMxNjhlNDNkYzY3MSA9IEwuQXdlc29tZU1hcmtlcnMuaWNvbih7CiAgICAgICAgICAgICAgICAgICAgaWNvbjogJ3N0YXInLAogICAgICAgICAgICAgICAgICAgIGljb25Db2xvcjogJ3doaXRlJywKICAgICAgICAgICAgICAgICAgICBtYXJrZXJDb2xvcjogJ3JlZCcsCiAgICAgICAgICAgICAgICAgICAgcHJlZml4OiAnZ2x5cGhpY29uJywKICAgICAgICAgICAgICAgICAgICBleHRyYUNsYXNzZXM6ICdmYS1yb3RhdGUtMCcKICAgICAgICAgICAgICAgICAgICB9KTsKICAgICAgICAgICAgICAgIG1hcmtlcl9jNmQ3NjQxYzQyNWU0ODc4YTU3OWM1YmZjMDY2Zjg1Ny5zZXRJY29uKGljb25fYzkzMDc0NDQwYjBhNGEyMmIzMmJjMTY4ZTQzZGM2NzEpOwogICAgICAgICAgICAKICAgIAoKICAgICAgICAgICAgdmFyIG1hcmtlcl9kNDE3NTcxNmY5MDM0ZjhhODA3ZGVmODYwY2EwYThiMiA9IEwubWFya2VyKAogICAgICAgICAgICAgICAgWzQwLjg1NzAxMDI1NywtNzMuODkxNjc4OTU3XSwKICAgICAgICAgICAgICAgIHsKICAgICAgICAgICAgICAgICAgICBpY29uOiBuZXcgTC5JY29uLkRlZmF1bHQoKQogICAgICAgICAgICAgICAgICAgIH0KICAgICAgICAgICAgICAgICkKICAgICAgICAgICAgICAgIC5hZGRUbyhtYXBfYTRkMDY1NjRiYmM5NGI5ZDg1MzI2ZGRhODU5YWQxNjkpOwogICAgICAgICAgICAKICAgIAoKICAgICAgICAgICAgICAgIHZhciBpY29uXzExNTZiMjViNzZmMTQzZjBhN2ZkMTJlMTAyMjI4N2YwID0gTC5Bd2Vzb21lTWFya2Vycy5pY29uKHsKICAgICAgICAgICAgICAgICAgICBpY29uOiAnc3RhcicsCiAgICAgICAgICAgICAgICAgICAgaWNvbkNvbG9yOiAnd2hpdGUnLAogICAgICAgICAgICAgICAgICAgIG1hcmtlckNvbG9yOiAncmVkJywKICAgICAgICAgICAgICAgICAgICBwcmVmaXg6ICdnbHlwaGljb24nLAogICAgICAgICAgICAgICAgICAgIGV4dHJhQ2xhc3NlczogJ2ZhLXJvdGF0ZS0wJwogICAgICAgICAgICAgICAgICAgIH0pOwogICAgICAgICAgICAgICAgbWFya2VyX2Q0MTc1NzE2ZjkwMzRmOGE4MDdkZWY4NjBjYTBhOGIyLnNldEljb24oaWNvbl8xMTU2YjI1Yjc2ZjE0M2YwYTdmZDEyZTEwMjIyODdmMCk7CiAgICAgICAgICAgIAogICAgCgogICAgICAgICAgICB2YXIgbWFya2VyX2EwMmQ4NTJhYzA5YTQ3NDk4M2E2NzVmZmYwMGU4ZGFhID0gTC5tYXJrZXIoCiAgICAgICAgICAgICAgICBbNDAuODE0Mzc2ODI1LC03My45MDc2ODM3NTldLAogICAgICAgICAgICAgICAgewogICAgICAgICAgICAgICAgICAgIGljb246IG5ldyBMLkljb24uRGVmYXVsdCgpCiAgICAgICAgICAgICAgICAgICAgfQogICAgICAgICAgICAgICAgKQogICAgICAgICAgICAgICAgLmFkZFRvKG1hcF9hNGQwNjU2NGJiYzk0YjlkODUzMjZkZGE4NTlhZDE2OSk7CiAgICAgICAgICAgIAogICAgCgogICAgICAgICAgICAgICAgdmFyIGljb25fMzAwMzY0MTY2NDJkNDFlMmIzYWU4NWNkMjk3YWU5NDggPSBMLkF3ZXNvbWVNYXJrZXJzLmljb24oewogICAgICAgICAgICAgICAgICAgIGljb246ICdzdGFyJywKICAgICAgICAgICAgICAgICAgICBpY29uQ29sb3I6ICd3aGl0ZScsCiAgICAgICAgICAgICAgICAgICAgbWFya2VyQ29sb3I6ICdyZWQnLAogICAgICAgICAgICAgICAgICAgIHByZWZpeDogJ2dseXBoaWNvbicsCiAgICAgICAgICAgICAgICAgICAgZXh0cmFDbGFzc2VzOiAnZmEtcm90YXRlLTAnCiAgICAgICAgICAgICAgICAgICAgfSk7CiAgICAgICAgICAgICAgICBtYXJrZXJfYTAyZDg1MmFjMDlhNDc0OTgzYTY3NWZmZjAwZThkYWEuc2V0SWNvbihpY29uXzMwMDM2NDE2NjQyZDQxZTJiM2FlODVjZDI5N2FlOTQ4KTsKICAgICAgICAgICAgCiAgICAKCiAgICAgICAgICAgIHZhciBtYXJrZXJfOTk0ODJhZTZiNDkzNDAyMmE0MzhlNmIzNTllYTYzZjQgPSBMLm1hcmtlcigKICAgICAgICAgICAgICAgIFs0MC43NDkxOTM1NDksLTczLjk3NTYxNDY1M10sCiAgICAgICAgICAgICAgICB7CiAgICAgICAgICAgICAgICAgICAgaWNvbjogbmV3IEwuSWNvbi5EZWZhdWx0KCkKICAgICAgICAgICAgICAgICAgICB9CiAgICAgICAgICAgICAgICApCiAgICAgICAgICAgICAgICAuYWRkVG8obWFwX2E0ZDA2NTY0YmJjOTRiOWQ4NTMyNmRkYTg1OWFkMTY5KTsKICAgICAgICAgICAgCiAgICAKCiAgICAgICAgICAgICAgICB2YXIgaWNvbl9kNmIwNzU0ZTNlMTk0MjIzYjNjODExMjc0ZjdhNTNkNSA9IEwuQXdlc29tZU1hcmtlcnMuaWNvbih7CiAgICAgICAgICAgICAgICAgICAgaWNvbjogJ3N0YXInLAogICAgICAgICAgICAgICAgICAgIGljb25Db2xvcjogJ3doaXRlJywKICAgICAgICAgICAgICAgICAgICBtYXJrZXJDb2xvcjogJ3JlZCcsCiAgICAgICAgICAgICAgICAgICAgcHJlZml4OiAnZ2x5cGhpY29uJywKICAgICAgICAgICAgICAgICAgICBleHRyYUNsYXNzZXM6ICdmYS1yb3RhdGUtMCcKICAgICAgICAgICAgICAgICAgICB9KTsKICAgICAgICAgICAgICAgIG1hcmtlcl85OTQ4MmFlNmI0OTM0MDIyYTQzOGU2YjM1OWVhNjNmNC5zZXRJY29uKGljb25fZDZiMDc1NGUzZTE5NDIyM2IzYzgxMTI3NGY3YTUzZDUpOwogICAgICAgICAgICAKICAgIAoKICAgICAgICAgICAgdmFyIG1hcmtlcl8wMWFlMjljYmEyZWY0ZTY2YmUzYThmYzJkMWUxNDliZSA9IEwubWFya2VyKAogICAgICAgICAgICAgICAgWzQwLjc1ODIyODI1NiwtNzMuOTg2MTIyNTE3XSwKICAgICAgICAgICAgICAgIHsKICAgICAgICAgICAgICAgICAgICBpY29uOiBuZXcgTC5JY29uLkRlZmF1bHQoKQogICAgICAgICAgICAgICAgICAgIH0KICAgICAgICAgICAgICAgICkKICAgICAgICAgICAgICAgIC5hZGRUbyhtYXBfYTRkMDY1NjRiYmM5NGI5ZDg1MzI2ZGRhODU5YWQxNjkpOwogICAgICAgICAgICAKICAgIAoKICAgICAgICAgICAgICAgIHZhciBpY29uX2Y5OGVkNWE5NDgzOTQ1MGZhNGZjNjVmNzM2ODBkMDRmID0gTC5Bd2Vzb21lTWFya2Vycy5pY29uKHsKICAgICAgICAgICAgICAgICAgICBpY29uOiAnc3RhcicsCiAgICAgICAgICAgICAgICAgICAgaWNvbkNvbG9yOiAnd2hpdGUnLAogICAgICAgICAgICAgICAgICAgIG1hcmtlckNvbG9yOiAncmVkJywKICAgICAgICAgICAgICAgICAgICBwcmVmaXg6ICdnbHlwaGljb24nLAogICAgICAgICAgICAgICAgICAgIGV4dHJhQ2xhc3NlczogJ2ZhLXJvdGF0ZS0wJwogICAgICAgICAgICAgICAgICAgIH0pOwogICAgICAgICAgICAgICAgbWFya2VyXzAxYWUyOWNiYTJlZjRlNjZiZTNhOGZjMmQxZTE0OWJlLnNldEljb24oaWNvbl9mOThlZDVhOTQ4Mzk0NTBmYTRmYzY1ZjczNjgwZDA0Zik7CiAgICAgICAgICAgIAogICAgCgogICAgICAgICAgICB2YXIgbWFya2VyXzRlMTUyZjNjOGI3YzQ2NzI4NmU1ODMyYmFmMWFjMmM5ID0gTC5tYXJrZXIoCiAgICAgICAgICAgICAgICBbNDAuNjQ0NTU0NTU5LC03My45OTY1NTY1MzldLAogICAgICAgICAgICAgICAgewogICAgICAgICAgICAgICAgICAgIGljb246IG5ldyBMLkljb24uRGVmYXVsdCgpCiAgICAgICAgICAgICAgICAgICAgfQogICAgICAgICAgICAgICAgKQogICAgICAgICAgICAgICAgLmFkZFRvKG1hcF9hNGQwNjU2NGJiYzk0YjlkODUzMjZkZGE4NTlhZDE2OSk7CiAgICAgICAgICAgIAogICAgCgogICAgICAgICAgICAgICAgdmFyIGljb25fNGM0MzBjZDFlYWNmNDcyMWE3YmE4MTg5OTFlZDc3M2EgPSBMLkF3ZXNvbWVNYXJrZXJzLmljb24oewogICAgICAgICAgICAgICAgICAgIGljb246ICdzdGFyJywKICAgICAgICAgICAgICAgICAgICBpY29uQ29sb3I6ICd3aGl0ZScsCiAgICAgICAgICAgICAgICAgICAgbWFya2VyQ29sb3I6ICdyZWQnLAogICAgICAgICAgICAgICAgICAgIHByZWZpeDogJ2dseXBoaWNvbicsCiAgICAgICAgICAgICAgICAgICAgZXh0cmFDbGFzc2VzOiAnZmEtcm90YXRlLTAnCiAgICAgICAgICAgICAgICAgICAgfSk7CiAgICAgICAgICAgICAgICBtYXJrZXJfNGUxNTJmM2M4YjdjNDY3Mjg2ZTU4MzJiYWYxYWMyYzkuc2V0SWNvbihpY29uXzRjNDMwY2QxZWFjZjQ3MjFhN2JhODE4OTkxZWQ3NzNhKTsKICAgICAgICAgICAgCiAgICAKCiAgICAgICAgICAgIHZhciBtYXJrZXJfY2Y4NjUwOTg1N2JkNDZmZDllYTJiNjQ3NzkwZTM5YTEgPSBMLm1hcmtlcigKICAgICAgICAgICAgICAgIFs0MC43NjA0MzA5MjQzLC03My45NzkwODg1NTQxXSwKICAgICAgICAgICAgICAgIHsKICAgICAgICAgICAgICAgICAgICBpY29uOiBuZXcgTC5JY29uLkRlZmF1bHQoKQogICAgICAgICAgICAgICAgICAgIH0KICAgICAgICAgICAgICAgICkKICAgICAgICAgICAgICAgIC5hZGRUbyhtYXBfYTRkMDY1NjRiYmM5NGI5ZDg1MzI2ZGRhODU5YWQxNjkpOwogICAgICAgICAgICAKICAgIAoKICAgICAgICAgICAgICAgIHZhciBpY29uXzAxYzhhYmQ5MzY2NDQ4NzU4YzY4Mzg5ZDRmYzlkNTFmID0gTC5Bd2Vzb21lTWFya2Vycy5pY29uKHsKICAgICAgICAgICAgICAgICAgICBpY29uOiAnc3RhcicsCiAgICAgICAgICAgICAgICAgICAgaWNvbkNvbG9yOiAnd2hpdGUnLAogICAgICAgICAgICAgICAgICAgIG1hcmtlckNvbG9yOiAnb3JhbmdlJywKICAgICAgICAgICAgICAgICAgICBwcmVmaXg6ICdnbHlwaGljb24nLAogICAgICAgICAgICAgICAgICAgIGV4dHJhQ2xhc3NlczogJ2ZhLXJvdGF0ZS0wJwogICAgICAgICAgICAgICAgICAgIH0pOwogICAgICAgICAgICAgICAgbWFya2VyX2NmODY1MDk4NTdiZDQ2ZmQ5ZWEyYjY0Nzc5MGUzOWExLnNldEljb24oaWNvbl8wMWM4YWJkOTM2NjQ0ODc1OGM2ODM4OWQ0ZmM5ZDUxZik7CiAgICAgICAgICAgIAogICAgCgogICAgICAgICAgICB2YXIgbWFya2VyX2NjZjllOWY5OGMyNzQwOTViOGI3YjZlOTA5NDAwODcyID0gTC5tYXJrZXIoCiAgICAgICAgICAgICAgICBbNDAuNzYxOTI1NzM4NiwtNzMuOTg4MzA3NDc4Ml0sCiAgICAgICAgICAgICAgICB7CiAgICAgICAgICAgICAgICAgICAgaWNvbjogbmV3IEwuSWNvbi5EZWZhdWx0KCkKICAgICAgICAgICAgICAgICAgICB9CiAgICAgICAgICAgICAgICApCiAgICAgICAgICAgICAgICAuYWRkVG8obWFwX2E0ZDA2NTY0YmJjOTRiOWQ4NTMyNmRkYTg1OWFkMTY5KTsKICAgICAgICAgICAgCiAgICAKCiAgICAgICAgICAgICAgICB2YXIgaWNvbl9hZGUxNjM2NWIxZDQ0OTZlYjU3NjE5Zjc2NTZmNjBlMiA9IEwuQXdlc29tZU1hcmtlcnMuaWNvbih7CiAgICAgICAgICAgICAgICAgICAgaWNvbjogJ3N0YXInLAogICAgICAgICAgICAgICAgICAgIGljb25Db2xvcjogJ3doaXRlJywKICAgICAgICAgICAgICAgICAgICBtYXJrZXJDb2xvcjogJ29yYW5nZScsCiAgICAgICAgICAgICAgICAgICAgcHJlZml4OiAnZ2x5cGhpY29uJywKICAgICAgICAgICAgICAgICAgICBleHRyYUNsYXNzZXM6ICdmYS1yb3RhdGUtMCcKICAgICAgICAgICAgICAgICAgICB9KTsKICAgICAgICAgICAgICAgIG1hcmtlcl9jY2Y5ZTlmOThjMjc0MDk1YjhiN2I2ZTkwOTQwMDg3Mi5zZXRJY29uKGljb25fYWRlMTYzNjViMWQ0NDk2ZWI1NzYxOWY3NjU2ZjYwZTIpOwogICAgICAgICAgICAKICAgIAoKICAgICAgICAgICAgdmFyIG1hcmtlcl9jZDA1Mzg5ZGVhZDQ0NTE2YjU4YjEwNjY2MTBjYzdlMCA9IEwubWFya2VyKAogICAgICAgICAgICAgICAgWzQwLjg3NDczMTgzODUsLTczLjg3NzkyNDIzNTNdLAogICAgICAgICAgICAgICAgewogICAgICAgICAgICAgICAgICAgIGljb246IG5ldyBMLkljb24uRGVmYXVsdCgpCiAgICAgICAgICAgICAgICAgICAgfQogICAgICAgICAgICAgICAgKQogICAgICAgICAgICAgICAgLmFkZFRvKG1hcF9hNGQwNjU2NGJiYzk0YjlkODUzMjZkZGE4NTlhZDE2OSk7CiAgICAgICAgICAgIAogICAgCgogICAgICAgICAgICAgICAgdmFyIGljb25fMjE0N2EwZDE3Zjg0NGE2MWFkOTRkM2U2NjU2ZmFkNmIgPSBMLkF3ZXNvbWVNYXJrZXJzLmljb24oewogICAgICAgICAgICAgICAgICAgIGljb246ICdzdGFyJywKICAgICAgICAgICAgICAgICAgICBpY29uQ29sb3I6ICd3aGl0ZScsCiAgICAgICAgICAgICAgICAgICAgbWFya2VyQ29sb3I6ICdvcmFuZ2UnLAogICAgICAgICAgICAgICAgICAgIHByZWZpeDogJ2dseXBoaWNvbicsCiAgICAgICAgICAgICAgICAgICAgZXh0cmFDbGFzc2VzOiAnZmEtcm90YXRlLTAnCiAgICAgICAgICAgICAgICAgICAgfSk7CiAgICAgICAgICAgICAgICBtYXJrZXJfY2QwNTM4OWRlYWQ0NDUxNmI1OGIxMDY2NjEwY2M3ZTAuc2V0SWNvbihpY29uXzIxNDdhMGQxN2Y4NDRhNjFhZDk0ZDNlNjY1NmZhZDZiKTsKICAgICAgICAgICAgCiAgICAKCiAgICAgICAgICAgIHZhciBtYXJrZXJfZDM2MzMyNzk4OTI0NDQ0NGE1ODliMTJhZmNjMGM3YWYgPSBMLm1hcmtlcigKICAgICAgICAgICAgICAgIFs0MC42MDcyNTc5NDIyLC03My45NTk5NzM5Nzc4XSwKICAgICAgICAgICAgICAgIHsKICAgICAgICAgICAgICAgICAgICBpY29uOiBuZXcgTC5JY29uLkRlZmF1bHQoKQogICAgICAgICAgICAgICAgICAgIH0KICAgICAgICAgICAgICAgICkKICAgICAgICAgICAgICAgIC5hZGRUbyhtYXBfYTRkMDY1NjRiYmM5NGI5ZDg1MzI2ZGRhODU5YWQxNjkpOwogICAgICAgICAgICAKICAgIAoKICAgICAgICAgICAgICAgIHZhciBpY29uX2ZiYjBlMTg3YjhlZTRlZDViYmEzZmFkNzI5OGJiYjg5ID0gTC5Bd2Vzb21lTWFya2Vycy5pY29uKHsKICAgICAgICAgICAgICAgICAgICBpY29uOiAnc3RhcicsCiAgICAgICAgICAgICAgICAgICAgaWNvbkNvbG9yOiAnd2hpdGUnLAogICAgICAgICAgICAgICAgICAgIG1hcmtlckNvbG9yOiAnb3JhbmdlJywKICAgICAgICAgICAgICAgICAgICBwcmVmaXg6ICdnbHlwaGljb24nLAogICAgICAgICAgICAgICAgICAgIGV4dHJhQ2xhc3NlczogJ2ZhLXJvdGF0ZS0wJwogICAgICAgICAgICAgICAgICAgIH0pOwogICAgICAgICAgICAgICAgbWFya2VyX2QzNjMzMjc5ODkyNDQ0NDRhNTg5YjEyYWZjYzBjN2FmLnNldEljb24oaWNvbl9mYmIwZTE4N2I4ZWU0ZWQ1YmJhM2ZhZDcyOThiYmI4OSk7CiAgICAgICAgICAgIAogICAgCgogICAgICAgICAgICB2YXIgbWFya2VyXzBhNmY1M2EzOWRjZDQ4MmNhZWM1NjAwZTExZDhiN2IzID0gTC5tYXJrZXIoCiAgICAgICAgICAgICAgICBbNDAuNjY2MTIxMTg2LC03My45MjEyODQwMzY5XSwKICAgICAgICAgICAgICAgIHsKICAgICAgICAgICAgICAgICAgICBpY29uOiBuZXcgTC5JY29uLkRlZmF1bHQoKQogICAgICAgICAgICAgICAgICAgIH0KICAgICAgICAgICAgICAgICkKICAgICAgICAgICAgICAgIC5hZGRUbyhtYXBfYTRkMDY1NjRiYmM5NGI5ZDg1MzI2ZGRhODU5YWQxNjkpOwogICAgICAgICAgICAKICAgIAoKICAgICAgICAgICAgICAgIHZhciBpY29uXzBkODZlMWZkN2ZlZTQxZjNhNzA2NmZiYjgwODVhY2EzID0gTC5Bd2Vzb21lTWFya2Vycy5pY29uKHsKICAgICAgICAgICAgICAgICAgICBpY29uOiAnc3RhcicsCiAgICAgICAgICAgICAgICAgICAgaWNvbkNvbG9yOiAnd2hpdGUnLAogICAgICAgICAgICAgICAgICAgIG1hcmtlckNvbG9yOiAnb3JhbmdlJywKICAgICAgICAgICAgICAgICAgICBwcmVmaXg6ICdnbHlwaGljb24nLAogICAgICAgICAgICAgICAgICAgIGV4dHJhQ2xhc3NlczogJ2ZhLXJvdGF0ZS0wJwogICAgICAgICAgICAgICAgICAgIH0pOwogICAgICAgICAgICAgICAgbWFya2VyXzBhNmY1M2EzOWRjZDQ4MmNhZWM1NjAwZTExZDhiN2IzLnNldEljb24oaWNvbl8wZDg2ZTFmZDdmZWU0MWYzYTcwNjZmYmI4MDg1YWNhMyk7CiAgICAgICAgICAgIAogICAgCgogICAgICAgICAgICB2YXIgbWFya2VyX2JhNTgxOGRmNTM1ODRiYWViMTUzNDBmNTFjYjU1ZDVhID0gTC5tYXJrZXIoCiAgICAgICAgICAgICAgICBbNDAuODYxMDI3MjUzNiwtNzMuODk3NDQ1MTYyXSwKICAgICAgICAgICAgICAgIHsKICAgICAgICAgICAgICAgICAgICBpY29uOiBuZXcgTC5JY29uLkRlZmF1bHQoKQogICAgICAgICAgICAgICAgICAgIH0KICAgICAgICAgICAgICAgICkKICAgICAgICAgICAgICAgIC5hZGRUbyhtYXBfYTRkMDY1NjRiYmM5NGI5ZDg1MzI2ZGRhODU5YWQxNjkpOwogICAgICAgICAgICAKICAgIAoKICAgICAgICAgICAgICAgIHZhciBpY29uXzczY2MyYTFkZTUxYTQ2M2VhNzQ4OTkyYWY2OTIwMDdmID0gTC5Bd2Vzb21lTWFya2Vycy5pY29uKHsKICAgICAgICAgICAgICAgICAgICBpY29uOiAnc3RhcicsCiAgICAgICAgICAgICAgICAgICAgaWNvbkNvbG9yOiAnd2hpdGUnLAogICAgICAgICAgICAgICAgICAgIG1hcmtlckNvbG9yOiAnb3JhbmdlJywKICAgICAgICAgICAgICAgICAgICBwcmVmaXg6ICdnbHlwaGljb24nLAogICAgICAgICAgICAgICAgICAgIGV4dHJhQ2xhc3NlczogJ2ZhLXJvdGF0ZS0wJwogICAgICAgICAgICAgICAgICAgIH0pOwogICAgICAgICAgICAgICAgbWFya2VyX2JhNTgxOGRmNTM1ODRiYWViMTUzNDBmNTFjYjU1ZDVhLnNldEljb24oaWNvbl83M2NjMmExZGU1MWE0NjNlYTc0ODk5MmFmNjkyMDA3Zik7CiAgICAgICAgICAgIAogICAgCgogICAgICAgICAgICB2YXIgbWFya2VyXzM2MDgwZjhlODAxNjRkZGFhMDIzZDM4OWJjOGMwYjZlID0gTC5tYXJrZXIoCiAgICAgICAgICAgICAgICBbNDAuODM2NzkxMDE5NCwtNzMuOTE0NDUzNzg1Nl0sCiAgICAgICAgICAgICAgICB7CiAgICAgICAgICAgICAgICAgICAgaWNvbjogbmV3IEwuSWNvbi5EZWZhdWx0KCkKICAgICAgICAgICAgICAgICAgICB9CiAgICAgICAgICAgICAgICApCiAgICAgICAgICAgICAgICAuYWRkVG8obWFwX2E0ZDA2NTY0YmJjOTRiOWQ4NTMyNmRkYTg1OWFkMTY5KTsKICAgICAgICAgICAgCiAgICAKCiAgICAgICAgICAgICAgICB2YXIgaWNvbl83NGE0MmNlMzIwN2I0MTY4OTYxOTlhOGNiMzJkZDM5YSA9IEwuQXdlc29tZU1hcmtlcnMuaWNvbih7CiAgICAgICAgICAgICAgICAgICAgaWNvbjogJ3N0YXInLAogICAgICAgICAgICAgICAgICAgIGljb25Db2xvcjogJ3doaXRlJywKICAgICAgICAgICAgICAgICAgICBtYXJrZXJDb2xvcjogJ29yYW5nZScsCiAgICAgICAgICAgICAgICAgICAgcHJlZml4OiAnZ2x5cGhpY29uJywKICAgICAgICAgICAgICAgICAgICBleHRyYUNsYXNzZXM6ICdmYS1yb3RhdGUtMCcKICAgICAgICAgICAgICAgICAgICB9KTsKICAgICAgICAgICAgICAgIG1hcmtlcl8zNjA4MGY4ZTgwMTY0ZGRhYTAyM2QzODliYzhjMGI2ZS5zZXRJY29uKGljb25fNzRhNDJjZTMyMDdiNDE2ODk2MTk5YThjYjMyZGQzOWEpOwogICAgICAgICAgICAKICAgIAoKICAgICAgICAgICAgdmFyIG1hcmtlcl82NWRjOGY2MWZmMDA0MzQzYjczOTRlYmQ5MDkxMmViNiA9IEwubWFya2VyKAogICAgICAgICAgICAgICAgWzQwLjY2ODU2NjE0OTQsLTczLjk1NzEyODAyMTddLAogICAgICAgICAgICAgICAgewogICAgICAgICAgICAgICAgICAgIGljb246IG5ldyBMLkljb24uRGVmYXVsdCgpCiAgICAgICAgICAgICAgICAgICAgfQogICAgICAgICAgICAgICAgKQogICAgICAgICAgICAgICAgLmFkZFRvKG1hcF9hNGQwNjU2NGJiYzk0YjlkODUzMjZkZGE4NTlhZDE2OSk7CiAgICAgICAgICAgIAogICAgCgogICAgICAgICAgICAgICAgdmFyIGljb25fMzJlYTQwMDdhMmQxNGJhNWIyOTI0ODgzMDhiNGIyZjYgPSBMLkF3ZXNvbWVNYXJrZXJzLmljb24oewogICAgICAgICAgICAgICAgICAgIGljb246ICdzdGFyJywKICAgICAgICAgICAgICAgICAgICBpY29uQ29sb3I6ICd3aGl0ZScsCiAgICAgICAgICAgICAgICAgICAgbWFya2VyQ29sb3I6ICdvcmFuZ2UnLAogICAgICAgICAgICAgICAgICAgIHByZWZpeDogJ2dseXBoaWNvbicsCiAgICAgICAgICAgICAgICAgICAgZXh0cmFDbGFzc2VzOiAnZmEtcm90YXRlLTAnCiAgICAgICAgICAgICAgICAgICAgfSk7CiAgICAgICAgICAgICAgICBtYXJrZXJfNjVkYzhmNjFmZjAwNDM0M2I3Mzk0ZWJkOTA5MTJlYjYuc2V0SWNvbihpY29uXzMyZWE0MDA3YTJkMTRiYTViMjkyNDg4MzA4YjRiMmY2KTsKICAgICAgICAgICAgCiAgICAKCiAgICAgICAgICAgIHZhciBtYXJrZXJfYzVjZmFlYTBjMjlkNGZjZTllYjBlNmVkNmFiNWU0YTMgPSBMLm1hcmtlcigKICAgICAgICAgICAgICAgIFs0MC43MTU5MTg5Mzk4LC03NC4wMDA5ODczNjkzXSwKICAgICAgICAgICAgICAgIHsKICAgICAgICAgICAgICAgICAgICBpY29uOiBuZXcgTC5JY29uLkRlZmF1bHQoKQogICAgICAgICAgICAgICAgICAgIH0KICAgICAgICAgICAgICAgICkKICAgICAgICAgICAgICAgIC5hZGRUbyhtYXBfYTRkMDY1NjRiYmM5NGI5ZDg1MzI2ZGRhODU5YWQxNjkpOwogICAgICAgICAgICAKICAgIAoKICAgICAgICAgICAgICAgIHZhciBpY29uXzg0YmU4OWVlMjQzZTQ1ZjM4MTU0NjFhNTUxM2IwOTVjID0gTC5Bd2Vzb21lTWFya2Vycy5pY29uKHsKICAgICAgICAgICAgICAgICAgICBpY29uOiAnc3RhcicsCiAgICAgICAgICAgICAgICAgICAgaWNvbkNvbG9yOiAnd2hpdGUnLAogICAgICAgICAgICAgICAgICAgIG1hcmtlckNvbG9yOiAnb3JhbmdlJywKICAgICAgICAgICAgICAgICAgICBwcmVmaXg6ICdnbHlwaGljb24nLAogICAgICAgICAgICAgICAgICAgIGV4dHJhQ2xhc3NlczogJ2ZhLXJvdGF0ZS0wJwogICAgICAgICAgICAgICAgICAgIH0pOwogICAgICAgICAgICAgICAgbWFya2VyX2M1Y2ZhZWEwYzI5ZDRmY2U5ZWIwZTZlZDZhYjVlNGEzLnNldEljb24oaWNvbl84NGJlODllZTI0M2U0NWYzODE1NDYxYTU1MTNiMDk1Yyk7CiAgICAgICAgICAgIAogICAgCgogICAgICAgICAgICB2YXIgbWFya2VyXzg4Yzc1YjhhZDhmNzQwZDY4N2ViMDFlMGE0Y2MzOTU2ID0gTC5tYXJrZXIoCiAgICAgICAgICAgICAgICBbNDAuODQyMTMzMTIyNywtNzMuOTQwMzk1NjA2NF0sCiAgICAgICAgICAgICAgICB7CiAgICAgICAgICAgICAgICAgICAgaWNvbjogbmV3IEwuSWNvbi5EZWZhdWx0KCkKICAgICAgICAgICAgICAgICAgICB9CiAgICAgICAgICAgICAgICApCiAgICAgICAgICAgICAgICAuYWRkVG8obWFwX2E0ZDA2NTY0YmJjOTRiOWQ4NTMyNmRkYTg1OWFkMTY5KTsKICAgICAgICAgICAgCiAgICAKCiAgICAgICAgICAgICAgICB2YXIgaWNvbl83ZWUwZGQwY2UzYzg0YjViYjQ4ZTlhODlhYTc5MWY1NyA9IEwuQXdlc29tZU1hcmtlcnMuaWNvbih7CiAgICAgICAgICAgICAgICAgICAgaWNvbjogJ3N0YXInLAogICAgICAgICAgICAgICAgICAgIGljb25Db2xvcjogJ3doaXRlJywKICAgICAgICAgICAgICAgICAgICBtYXJrZXJDb2xvcjogJ29yYW5nZScsCiAgICAgICAgICAgICAgICAgICAgcHJlZml4OiAnZ2x5cGhpY29uJywKICAgICAgICAgICAgICAgICAgICBleHRyYUNsYXNzZXM6ICdmYS1yb3RhdGUtMCcKICAgICAgICAgICAgICAgICAgICB9KTsKICAgICAgICAgICAgICAgIG1hcmtlcl84OGM3NWI4YWQ4Zjc0MGQ2ODdlYjAxZTBhNGNjMzk1Ni5zZXRJY29uKGljb25fN2VlMGRkMGNlM2M4NGI1YmI0OGU5YTg5YWE3OTFmNTcpOwogICAgICAgICAgICAKICAgIAoKICAgICAgICAgICAgdmFyIG1hcmtlcl8xNWEzOGVkNzBkNzU0MDNmYjI1OWI0OWQwZWEyNTJhZSA9IEwubWFya2VyKAogICAgICAgICAgICAgICAgWzQwLjc2MjMwODcyNTQsLTczLjk2NjIzMDk5NzFdLAogICAgICAgICAgICAgICAgewogICAgICAgICAgICAgICAgICAgIGljb246IG5ldyBMLkljb24uRGVmYXVsdCgpCiAgICAgICAgICAgICAgICAgICAgfQogICAgICAgICAgICAgICAgKQogICAgICAgICAgICAgICAgLmFkZFRvKG1hcF9hNGQwNjU2NGJiYzk0YjlkODUzMjZkZGE4NTlhZDE2OSk7CiAgICAgICAgICAgIAogICAgCgogICAgICAgICAgICAgICAgdmFyIGljb25fOGFkMGNkZGI2ZDlkNDg4ZjliMmNlZTdiMzJhN2U4ZDkgPSBMLkF3ZXNvbWVNYXJrZXJzLmljb24oewogICAgICAgICAgICAgICAgICAgIGljb246ICdzdGFyJywKICAgICAgICAgICAgICAgICAgICBpY29uQ29sb3I6ICd3aGl0ZScsCiAgICAgICAgICAgICAgICAgICAgbWFya2VyQ29sb3I6ICdvcmFuZ2UnLAogICAgICAgICAgICAgICAgICAgIHByZWZpeDogJ2dseXBoaWNvbicsCiAgICAgICAgICAgICAgICAgICAgZXh0cmFDbGFzc2VzOiAnZmEtcm90YXRlLTAnCiAgICAgICAgICAgICAgICAgICAgfSk7CiAgICAgICAgICAgICAgICBtYXJrZXJfMTVhMzhlZDcwZDc1NDAzZmIyNTliNDlkMGVhMjUyYWUuc2V0SWNvbihpY29uXzhhZDBjZGRiNmQ5ZDQ4OGY5YjJjZWU3YjMyYTdlOGQ5KTsKICAgICAgICAgICAgCiAgICAKCiAgICAgICAgICAgIHZhciBtYXJrZXJfMDU4MTM0MjczNjg0NDRmYTgyMzM3MGYxMmUwNTc3YTAgPSBMLm1hcmtlcigKICAgICAgICAgICAgICAgIFs0MC42MDYzMDE1NDE5LC03My45MTM1ODUzMjkyXSwKICAgICAgICAgICAgICAgIHsKICAgICAgICAgICAgICAgICAgICBpY29uOiBuZXcgTC5JY29uLkRlZmF1bHQoKQogICAgICAgICAgICAgICAgICAgIH0KICAgICAgICAgICAgICAgICkKICAgICAgICAgICAgICAgIC5hZGRUbyhtYXBfYTRkMDY1NjRiYmM5NGI5ZDg1MzI2ZGRhODU5YWQxNjkpOwogICAgICAgICAgICAKICAgIAoKICAgICAgICAgICAgICAgIHZhciBpY29uX2JkNWQ2OWUyOTBmOTQ3ZjI4ZjU1YWYwNTYxZGI4OGNjID0gTC5Bd2Vzb21lTWFya2Vycy5pY29uKHsKICAgICAgICAgICAgICAgICAgICBpY29uOiAnc3RhcicsCiAgICAgICAgICAgICAgICAgICAgaWNvbkNvbG9yOiAnd2hpdGUnLAogICAgICAgICAgICAgICAgICAgIG1hcmtlckNvbG9yOiAnb3JhbmdlJywKICAgICAgICAgICAgICAgICAgICBwcmVmaXg6ICdnbHlwaGljb24nLAogICAgICAgICAgICAgICAgICAgIGV4dHJhQ2xhc3NlczogJ2ZhLXJvdGF0ZS0wJwogICAgICAgICAgICAgICAgICAgIH0pOwogICAgICAgICAgICAgICAgbWFya2VyXzA1ODEzNDI3MzY4NDQ0ZmE4MjMzNzBmMTJlMDU3N2EwLnNldEljb24oaWNvbl9iZDVkNjllMjkwZjk0N2YyOGY1NWFmMDU2MWRiODhjYyk7CiAgICAgICAgICAgIAogICAgCgogICAgICAgICAgICB2YXIgbWFya2VyXzA3M2NhOWFiNWZmZDRjM2U4NWU4OGM3ODI2ZmEwODdjID0gTC5tYXJrZXIoCiAgICAgICAgICAgICAgICBbNDAuNzIyOTQ5MzE4NiwtNzMuOTkzMTcwNjUzOF0sCiAgICAgICAgICAgICAgICB7CiAgICAgICAgICAgICAgICAgICAgaWNvbjogbmV3IEwuSWNvbi5EZWZhdWx0KCkKICAgICAgICAgICAgICAgICAgICB9CiAgICAgICAgICAgICAgICApCiAgICAgICAgICAgICAgICAuYWRkVG8obWFwX2E0ZDA2NTY0YmJjOTRiOWQ4NTMyNmRkYTg1OWFkMTY5KTsKICAgICAgICAgICAgCiAgICAKCiAgICAgICAgICAgICAgICB2YXIgaWNvbl83YTM2YjQzZjNiYTc0OGUwOWQ1M2EzMTE1NjhlMDRlZSA9IEwuQXdlc29tZU1hcmtlcnMuaWNvbih7CiAgICAgICAgICAgICAgICAgICAgaWNvbjogJ3N0YXInLAogICAgICAgICAgICAgICAgICAgIGljb25Db2xvcjogJ3doaXRlJywKICAgICAgICAgICAgICAgICAgICBtYXJrZXJDb2xvcjogJ29yYW5nZScsCiAgICAgICAgICAgICAgICAgICAgcHJlZml4OiAnZ2x5cGhpY29uJywKICAgICAgICAgICAgICAgICAgICBleHRyYUNsYXNzZXM6ICdmYS1yb3RhdGUtMCcKICAgICAgICAgICAgICAgICAgICB9KTsKICAgICAgICAgICAgICAgIG1hcmtlcl8wNzNjYTlhYjVmZmQ0YzNlODVlODhjNzgyNmZhMDg3Yy5zZXRJY29uKGljb25fN2EzNmI0M2YzYmE3NDhlMDlkNTNhMzExNTY4ZTA0ZWUpOwogICAgICAgICAgICAKICAgIAoKICAgICAgICAgICAgdmFyIG1hcmtlcl9iNGY4MWZmZjVhNmI0NDMyOWUzNWNmOGQ2OGE1MGI3ZCA9IEwubWFya2VyKAogICAgICAgICAgICAgICAgWzQwLjYyMTQ1MjI5MDYsLTczLjkzNzA5MjgxMjVdLAogICAgICAgICAgICAgICAgewogICAgICAgICAgICAgICAgICAgIGljb246IG5ldyBMLkljb24uRGVmYXVsdCgpCiAgICAgICAgICAgICAgICAgICAgfQogICAgICAgICAgICAgICAgKQogICAgICAgICAgICAgICAgLmFkZFRvKG1hcF9hNGQwNjU2NGJiYzk0YjlkODUzMjZkZGE4NTlhZDE2OSk7CiAgICAgICAgICAgIAogICAgCgogICAgICAgICAgICAgICAgdmFyIGljb25fYmQ5NDc0OGIyNzYwNDA4NDg5MjNkMzNhNDI5YWNjYWEgPSBMLkF3ZXNvbWVNYXJrZXJzLmljb24oewogICAgICAgICAgICAgICAgICAgIGljb246ICdzdGFyJywKICAgICAgICAgICAgICAgICAgICBpY29uQ29sb3I6ICd3aGl0ZScsCiAgICAgICAgICAgICAgICAgICAgbWFya2VyQ29sb3I6ICdvcmFuZ2UnLAogICAgICAgICAgICAgICAgICAgIHByZWZpeDogJ2dseXBoaWNvbicsCiAgICAgICAgICAgICAgICAgICAgZXh0cmFDbGFzc2VzOiAnZmEtcm90YXRlLTAnCiAgICAgICAgICAgICAgICAgICAgfSk7CiAgICAgICAgICAgICAgICBtYXJrZXJfYjRmODFmZmY1YTZiNDQzMjllMzVjZjhkNjhhNTBiN2Quc2V0SWNvbihpY29uX2JkOTQ3NDhiMjc2MDQwODQ4OTIzZDMzYTQyOWFjY2FhKTsKICAgICAgICAgICAgCiAgICAKCiAgICAgICAgICAgIHZhciBtYXJrZXJfYWNlMjU5NTY2NmU5NDc0M2JlNWQwZTYwMTYyMjVkZjkgPSBMLm1hcmtlcigKICAgICAgICAgICAgICAgIFs0MC43NzcxNjk0NDU2LC03My45NTgwMjAyMjI0XSwKICAgICAgICAgICAgICAgIHsKICAgICAgICAgICAgICAgICAgICBpY29uOiBuZXcgTC5JY29uLkRlZmF1bHQoKQogICAgICAgICAgICAgICAgICAgIH0KICAgICAgICAgICAgICAgICkKICAgICAgICAgICAgICAgIC5hZGRUbyhtYXBfYTRkMDY1NjRiYmM5NGI5ZDg1MzI2ZGRhODU5YWQxNjkpOwogICAgICAgICAgICAKICAgIAoKICAgICAgICAgICAgICAgIHZhciBpY29uX2M5NWZmNjFkMTRkYjQ3MDZhOGRmN2ZlM2QxZTgxNzM1ID0gTC5Bd2Vzb21lTWFya2Vycy5pY29uKHsKICAgICAgICAgICAgICAgICAgICBpY29uOiAnc3RhcicsCiAgICAgICAgICAgICAgICAgICAgaWNvbkNvbG9yOiAnd2hpdGUnLAogICAgICAgICAgICAgICAgICAgIG1hcmtlckNvbG9yOiAnb3JhbmdlJywKICAgICAgICAgICAgICAgICAgICBwcmVmaXg6ICdnbHlwaGljb24nLAogICAgICAgICAgICAgICAgICAgIGV4dHJhQ2xhc3NlczogJ2ZhLXJvdGF0ZS0wJwogICAgICAgICAgICAgICAgICAgIH0pOwogICAgICAgICAgICAgICAgbWFya2VyX2FjZTI1OTU2NjZlOTQ3NDNiZTVkMGU2MDE2MjI1ZGY5LnNldEljb24oaWNvbl9jOTVmZjYxZDE0ZGI0NzA2YThkZjdmZTNkMWU4MTczNSk7CiAgICAgICAgICAgIAogICAgCgogICAgICAgICAgICB2YXIgbWFya2VyX2YxMDQ3NTQzOWY3MzQ2YmU4NWJkYzAyMjM1ZWQwZjAzID0gTC5tYXJrZXIoCiAgICAgICAgICAgICAgICBbNDAuNjkyODE1MzE1NCwtNzMuODI3MDc3MzgzOV0sCiAgICAgICAgICAgICAgICB7CiAgICAgICAgICAgICAgICAgICAgaWNvbjogbmV3IEwuSWNvbi5EZWZhdWx0KCkKICAgICAgICAgICAgICAgICAgICB9CiAgICAgICAgICAgICAgICApCiAgICAgICAgICAgICAgICAuYWRkVG8obWFwX2E0ZDA2NTY0YmJjOTRiOWQ4NTMyNmRkYTg1OWFkMTY5KTsKICAgICAgICAgICAgCiAgICAKCiAgICAgICAgICAgICAgICB2YXIgaWNvbl85MGY2NmVhZWE3MmM0YjEwODBlN2ZmMjUxOTBlZDQ2NSA9IEwuQXdlc29tZU1hcmtlcnMuaWNvbih7CiAgICAgICAgICAgICAgICAgICAgaWNvbjogJ3N0YXInLAogICAgICAgICAgICAgICAgICAgIGljb25Db2xvcjogJ3doaXRlJywKICAgICAgICAgICAgICAgICAgICBtYXJrZXJDb2xvcjogJ29yYW5nZScsCiAgICAgICAgICAgICAgICAgICAgcHJlZml4OiAnZ2x5cGhpY29uJywKICAgICAgICAgICAgICAgICAgICBleHRyYUNsYXNzZXM6ICdmYS1yb3RhdGUtMCcKICAgICAgICAgICAgICAgICAgICB9KTsKICAgICAgICAgICAgICAgIG1hcmtlcl9mMTA0NzU0MzlmNzM0NmJlODViZGMwMjIzNWVkMGYwMy5zZXRJY29uKGljb25fOTBmNjZlYWVhNzJjNGIxMDgwZTdmZjI1MTkwZWQ0NjUpOwogICAgICAgICAgICAKICAgIAoKICAgICAgICAgICAgdmFyIG1hcmtlcl85YWU3Yjg1OTRiZDE0OTNhODYzZTVjZDZiMjA5NGJkOCA9IEwubWFya2VyKAogICAgICAgICAgICAgICAgWzQwLjY2NjQ0Mjc2MDIsLTczLjg4NTc3NzIxNDddLAogICAgICAgICAgICAgICAgewogICAgICAgICAgICAgICAgICAgIGljb246IG5ldyBMLkljb24uRGVmYXVsdCgpCiAgICAgICAgICAgICAgICAgICAgfQogICAgICAgICAgICAgICAgKQogICAgICAgICAgICAgICAgLmFkZFRvKG1hcF9hNGQwNjU2NGJiYzk0YjlkODUzMjZkZGE4NTlhZDE2OSk7CiAgICAgICAgICAgIAogICAgCgogICAgICAgICAgICAgICAgdmFyIGljb25fYTVhZWE5MzEyN2E5NGZkMDkwMzEyZTEyYTQ2YTBiZmIgPSBMLkF3ZXNvbWVNYXJrZXJzLmljb24oewogICAgICAgICAgICAgICAgICAgIGljb246ICdzdGFyJywKICAgICAgICAgICAgICAgICAgICBpY29uQ29sb3I6ICd3aGl0ZScsCiAgICAgICAgICAgICAgICAgICAgbWFya2VyQ29sb3I6ICdvcmFuZ2UnLAogICAgICAgICAgICAgICAgICAgIHByZWZpeDogJ2dseXBoaWNvbicsCiAgICAgICAgICAgICAgICAgICAgZXh0cmFDbGFzc2VzOiAnZmEtcm90YXRlLTAnCiAgICAgICAgICAgICAgICAgICAgfSk7CiAgICAgICAgICAgICAgICBtYXJrZXJfOWFlN2I4NTk0YmQxNDkzYTg2M2U1Y2Q2YjIwOTRiZDguc2V0SWNvbihpY29uX2E1YWVhOTMxMjdhOTRmZDA5MDMxMmUxMmE0NmEwYmZiKTsKICAgICAgICAgICAgCiAgICAKCiAgICAgICAgICAgIHZhciBtYXJrZXJfMDk2NzU1MDFlYzgyNGZlODlhOWY5MGViNGJiMjY5ODggPSBMLm1hcmtlcigKICAgICAgICAgICAgICAgIFs0MC44NTEwMjAwNjQzLC03My45MzQ5MzgzNDU0XSwKICAgICAgICAgICAgICAgIHsKICAgICAgICAgICAgICAgICAgICBpY29uOiBuZXcgTC5JY29uLkRlZmF1bHQoKQogICAgICAgICAgICAgICAgICAgIH0KICAgICAgICAgICAgICAgICkKICAgICAgICAgICAgICAgIC5hZGRUbyhtYXBfYTRkMDY1NjRiYmM5NGI5ZDg1MzI2ZGRhODU5YWQxNjkpOwogICAgICAgICAgICAKICAgIAoKICAgICAgICAgICAgICAgIHZhciBpY29uXzk2MTA0Y2MyNjE4MDQ1YjFhNzE3NjRkY2MzYTdlMTg0ID0gTC5Bd2Vzb21lTWFya2Vycy5pY29uKHsKICAgICAgICAgICAgICAgICAgICBpY29uOiAnc3RhcicsCiAgICAgICAgICAgICAgICAgICAgaWNvbkNvbG9yOiAnd2hpdGUnLAogICAgICAgICAgICAgICAgICAgIG1hcmtlckNvbG9yOiAnb3JhbmdlJywKICAgICAgICAgICAgICAgICAgICBwcmVmaXg6ICdnbHlwaGljb24nLAogICAgICAgICAgICAgICAgICAgIGV4dHJhQ2xhc3NlczogJ2ZhLXJvdGF0ZS0wJwogICAgICAgICAgICAgICAgICAgIH0pOwogICAgICAgICAgICAgICAgbWFya2VyXzA5Njc1NTAxZWM4MjRmZTg5YTlmOTBlYjRiYjI2OTg4LnNldEljb24oaWNvbl85NjEwNGNjMjYxODA0NWIxYTcxNzY0ZGNjM2E3ZTE4NCk7CiAgICAgICAgICAgIAogICAgCgogICAgICAgICAgICB2YXIgbWFya2VyXzc1Y2U5YzQ5NDdiZDRlZjZhMjA5YzNlODcyNmUxNTQwID0gTC5tYXJrZXIoCiAgICAgICAgICAgICAgICBbNDAuNzEzNjc3NTM5NiwtNzMuOTg5OTYyMjUxMV0sCiAgICAgICAgICAgICAgICB7CiAgICAgICAgICAgICAgICAgICAgaWNvbjogbmV3IEwuSWNvbi5EZWZhdWx0KCkKICAgICAgICAgICAgICAgICAgICB9CiAgICAgICAgICAgICAgICApCiAgICAgICAgICAgICAgICAuYWRkVG8obWFwX2E0ZDA2NTY0YmJjOTRiOWQ4NTMyNmRkYTg1OWFkMTY5KTsKICAgICAgICAgICAgCiAgICAKCiAgICAgICAgICAgICAgICB2YXIgaWNvbl8yZWFlYjQ1M2VmYjc0NWYxODc4NWJmZWIxYTlhNDEyZSA9IEwuQXdlc29tZU1hcmtlcnMuaWNvbih7CiAgICAgICAgICAgICAgICAgICAgaWNvbjogJ3N0YXInLAogICAgICAgICAgICAgICAgICAgIGljb25Db2xvcjogJ3doaXRlJywKICAgICAgICAgICAgICAgICAgICBtYXJrZXJDb2xvcjogJ29yYW5nZScsCiAgICAgICAgICAgICAgICAgICAgcHJlZml4OiAnZ2x5cGhpY29uJywKICAgICAgICAgICAgICAgICAgICBleHRyYUNsYXNzZXM6ICdmYS1yb3RhdGUtMCcKICAgICAgICAgICAgICAgICAgICB9KTsKICAgICAgICAgICAgICAgIG1hcmtlcl83NWNlOWM0OTQ3YmQ0ZWY2YTIwOWMzZTg3MjZlMTU0MC5zZXRJY29uKGljb25fMmVhZWI0NTNlZmI3NDVmMTg3ODViZmViMWE5YTQxMmUpOwogICAgICAgICAgICAKICAgIAoKICAgICAgICAgICAgdmFyIG1hcmtlcl8yZGM5ZDE1OWZiNTA0NGY3YmU4M2M0OGNjMGNjZjBlMSA9IEwubWFya2VyKAogICAgICAgICAgICAgICAgWzQwLjg4MDMyNjQ5MzIsLTczLjkxNzgzMjg4XSwKICAgICAgICAgICAgICAgIHsKICAgICAgICAgICAgICAgICAgICBpY29uOiBuZXcgTC5JY29uLkRlZmF1bHQoKQogICAgICAgICAgICAgICAgICAgIH0KICAgICAgICAgICAgICAgICkKICAgICAgICAgICAgICAgIC5hZGRUbyhtYXBfYTRkMDY1NjRiYmM5NGI5ZDg1MzI2ZGRhODU5YWQxNjkpOwogICAgICAgICAgICAKICAgIAoKICAgICAgICAgICAgICAgIHZhciBpY29uXzBjNmJhZmY2YjY0OTQyNjY5ODI5ZDNiNTRhNzQ1MTE1ID0gTC5Bd2Vzb21lTWFya2Vycy5pY29uKHsKICAgICAgICAgICAgICAgICAgICBpY29uOiAnc3RhcicsCiAgICAgICAgICAgICAgICAgICAgaWNvbkNvbG9yOiAnd2hpdGUnLAogICAgICAgICAgICAgICAgICAgIG1hcmtlckNvbG9yOiAnb3JhbmdlJywKICAgICAgICAgICAgICAgICAgICBwcmVmaXg6ICdnbHlwaGljb24nLAogICAgICAgICAgICAgICAgICAgIGV4dHJhQ2xhc3NlczogJ2ZhLXJvdGF0ZS0wJwogICAgICAgICAgICAgICAgICAgIH0pOwogICAgICAgICAgICAgICAgbWFya2VyXzJkYzlkMTU5ZmI1MDQ0ZjdiZTgzYzQ4Y2MwY2NmMGUxLnNldEljb24oaWNvbl8wYzZiYWZmNmI2NDk0MjY2OTgyOWQzYjU0YTc0NTExNSk7CiAgICAgICAgICAgIAogICAgCgogICAgICAgICAgICB2YXIgbWFya2VyX2ZkYTU5ZWYyNjAyMzQ2YzliYzNiZGI4YzNiY2RjZmRiID0gTC5tYXJrZXIoCiAgICAgICAgICAgICAgICBbNDAuNTE5Mzg1NjYzLC03NC4xOTgzNDgwNDkzXSwKICAgICAgICAgICAgICAgIHsKICAgICAgICAgICAgICAgICAgICBpY29uOiBuZXcgTC5JY29uLkRlZmF1bHQoKQogICAgICAgICAgICAgICAgICAgIH0KICAgICAgICAgICAgICAgICkKICAgICAgICAgICAgICAgIC5hZGRUbyhtYXBfYTRkMDY1NjRiYmM5NGI5ZDg1MzI2ZGRhODU5YWQxNjkpOwogICAgICAgICAgICAKICAgIAoKICAgICAgICAgICAgICAgIHZhciBpY29uX2MxMGM1ODc5NGZmZjQzZTA4Y2U0ZTM2MmZkZThjZDczID0gTC5Bd2Vzb21lTWFya2Vycy5pY29uKHsKICAgICAgICAgICAgICAgICAgICBpY29uOiAnc3RhcicsCiAgICAgICAgICAgICAgICAgICAgaWNvbkNvbG9yOiAnd2hpdGUnLAogICAgICAgICAgICAgICAgICAgIG1hcmtlckNvbG9yOiAnb3JhbmdlJywKICAgICAgICAgICAgICAgICAgICBwcmVmaXg6ICdnbHlwaGljb24nLAogICAgICAgICAgICAgICAgICAgIGV4dHJhQ2xhc3NlczogJ2ZhLXJvdGF0ZS0wJwogICAgICAgICAgICAgICAgICAgIH0pOwogICAgICAgICAgICAgICAgbWFya2VyX2ZkYTU5ZWYyNjAyMzQ2YzliYzNiZGI4YzNiY2RjZmRiLnNldEljb24oaWNvbl9jMTBjNTg3OTRmZmY0M2UwOGNlNGUzNjJmZGU4Y2Q3Myk7CiAgICAgICAgICAgIAogICAgCgogICAgICAgICAgICB2YXIgbWFya2VyX2Q0MTg5MTczNTRmNDRlYWU4ZmMwOWUzOTI3ZGQ4ZTg5ID0gTC5tYXJrZXIoCiAgICAgICAgICAgICAgICBbNDAuODUxMDExMTc4NywtNzMuODY4MTUyMjUzOV0sCiAgICAgICAgICAgICAgICB7CiAgICAgICAgICAgICAgICAgICAgaWNvbjogbmV3IEwuSWNvbi5EZWZhdWx0KCkKICAgICAgICAgICAgICAgICAgICB9CiAgICAgICAgICAgICAgICApCiAgICAgICAgICAgICAgICAuYWRkVG8obWFwX2E0ZDA2NTY0YmJjOTRiOWQ4NTMyNmRkYTg1OWFkMTY5KTsKICAgICAgICAgICAgCiAgICAKCiAgICAgICAgICAgICAgICB2YXIgaWNvbl9iNDZhOWJmMDZlYWY0MTE3OTI0YTZmYTU0MDIyMjkyYiA9IEwuQXdlc29tZU1hcmtlcnMuaWNvbih7CiAgICAgICAgICAgICAgICAgICAgaWNvbjogJ3N0YXInLAogICAgICAgICAgICAgICAgICAgIGljb25Db2xvcjogJ3doaXRlJywKICAgICAgICAgICAgICAgICAgICBtYXJrZXJDb2xvcjogJ29yYW5nZScsCiAgICAgICAgICAgICAgICAgICAgcHJlZml4OiAnZ2x5cGhpY29uJywKICAgICAgICAgICAgICAgICAgICBleHRyYUNsYXNzZXM6ICdmYS1yb3RhdGUtMCcKICAgICAgICAgICAgICAgICAgICB9KTsKICAgICAgICAgICAgICAgIG1hcmtlcl9kNDE4OTE3MzU0ZjQ0ZWFlOGZjMDllMzkyN2RkOGU4OS5zZXRJY29uKGljb25fYjQ2YTliZjA2ZWFmNDExNzkyNGE2ZmE1NDAyMjI5MmIpOwogICAgICAgICAgICAKICAgIAoKICAgICAgICAgICAgdmFyIG1hcmtlcl83YzE5Y2QyNzZlNmI0NDI3YjE0ZTc3NjQxNDQ5NGUxNiA9IEwubWFya2VyKAogICAgICAgICAgICAgICAgWzQwLjYwMTMyNjU1NjUsLTczLjk0Mjk0NzAwNzJdLAogICAgICAgICAgICAgICAgewogICAgICAgICAgICAgICAgICAgIGljb246IG5ldyBMLkljb24uRGVmYXVsdCgpCiAgICAgICAgICAgICAgICAgICAgfQogICAgICAgICAgICAgICAgKQogICAgICAgICAgICAgICAgLmFkZFRvKG1hcF9hNGQwNjU2NGJiYzk0YjlkODUzMjZkZGE4NTlhZDE2OSk7CiAgICAgICAgICAgIAogICAgCgogICAgICAgICAgICAgICAgdmFyIGljb25fOWIxNGYyYWYyOThlNDc5MmExYjAxMWRhNjE2YTVkOGUgPSBMLkF3ZXNvbWVNYXJrZXJzLmljb24oewogICAgICAgICAgICAgICAgICAgIGljb246ICdzdGFyJywKICAgICAgICAgICAgICAgICAgICBpY29uQ29sb3I6ICd3aGl0ZScsCiAgICAgICAgICAgICAgICAgICAgbWFya2VyQ29sb3I6ICdvcmFuZ2UnLAogICAgICAgICAgICAgICAgICAgIHByZWZpeDogJ2dseXBoaWNvbicsCiAgICAgICAgICAgICAgICAgICAgZXh0cmFDbGFzc2VzOiAnZmEtcm90YXRlLTAnCiAgICAgICAgICAgICAgICAgICAgfSk7CiAgICAgICAgICAgICAgICBtYXJrZXJfN2MxOWNkMjc2ZTZiNDQyN2IxNGU3NzY0MTQ0OTRlMTYuc2V0SWNvbihpY29uXzliMTRmMmFmMjk4ZTQ3OTJhMWIwMTFkYTYxNmE1ZDhlKTsKICAgICAgICAgICAgCiAgICAKCiAgICAgICAgICAgIHZhciBtYXJrZXJfYzYyYWY1ZjczNTNlNDkwOGE4YWM2MjMzMTUwZjBjYjUgPSBMLm1hcmtlcigKICAgICAgICAgICAgICAgIFs0MC43NjE3Mjc0NzQzLC03My45NjYyNTc3OTkxXSwKICAgICAgICAgICAgICAgIHsKICAgICAgICAgICAgICAgICAgICBpY29uOiBuZXcgTC5JY29uLkRlZmF1bHQoKQogICAgICAgICAgICAgICAgICAgIH0KICAgICAgICAgICAgICAgICkKICAgICAgICAgICAgICAgIC5hZGRUbyhtYXBfYTRkMDY1NjRiYmM5NGI5ZDg1MzI2ZGRhODU5YWQxNjkpOwogICAgICAgICAgICAKICAgIAoKICAgICAgICAgICAgICAgIHZhciBpY29uXzBiNGNkYjI4YTA1NTQxMTBhMTFmNDhlM2MwOTY2YjI0ID0gTC5Bd2Vzb21lTWFya2Vycy5pY29uKHsKICAgICAgICAgICAgICAgICAgICBpY29uOiAnc3RhcicsCiAgICAgICAgICAgICAgICAgICAgaWNvbkNvbG9yOiAnd2hpdGUnLAogICAgICAgICAgICAgICAgICAgIG1hcmtlckNvbG9yOiAnb3JhbmdlJywKICAgICAgICAgICAgICAgICAgICBwcmVmaXg6ICdnbHlwaGljb24nLAogICAgICAgICAgICAgICAgICAgIGV4dHJhQ2xhc3NlczogJ2ZhLXJvdGF0ZS0wJwogICAgICAgICAgICAgICAgICAgIH0pOwogICAgICAgICAgICAgICAgbWFya2VyX2M2MmFmNWY3MzUzZTQ5MDhhOGFjNjIzMzE1MGYwY2I1LnNldEljb24oaWNvbl8wYjRjZGIyOGEwNTU0MTEwYTExZjQ4ZTNjMDk2NmIyNCk7CiAgICAgICAgICAgIAogICAgCgogICAgICAgICAgICB2YXIgbWFya2VyXzU0MTgyNGFjYjM5NTQ0MmQ5ZjI0ZjA0ZjJmYmY0MmZmID0gTC5tYXJrZXIoCiAgICAgICAgICAgICAgICBbNDAuNzIzMjgzOTY5MywtNzMuOTgwMzU3NTgxMl0sCiAgICAgICAgICAgICAgICB7CiAgICAgICAgICAgICAgICAgICAgaWNvbjogbmV3IEwuSWNvbi5EZWZhdWx0KCkKICAgICAgICAgICAgICAgICAgICB9CiAgICAgICAgICAgICAgICApCiAgICAgICAgICAgICAgICAuYWRkVG8obWFwX2E0ZDA2NTY0YmJjOTRiOWQ4NTMyNmRkYTg1OWFkMTY5KTsKICAgICAgICAgICAgCiAgICAKCiAgICAgICAgICAgICAgICB2YXIgaWNvbl83YzRmMWRhNGFhYjA0Yjc0YWU4MTdmNTBhZjkyOWNiMCA9IEwuQXdlc29tZU1hcmtlcnMuaWNvbih7CiAgICAgICAgICAgICAgICAgICAgaWNvbjogJ3N0YXInLAogICAgICAgICAgICAgICAgICAgIGljb25Db2xvcjogJ3doaXRlJywKICAgICAgICAgICAgICAgICAgICBtYXJrZXJDb2xvcjogJ29yYW5nZScsCiAgICAgICAgICAgICAgICAgICAgcHJlZml4OiAnZ2x5cGhpY29uJywKICAgICAgICAgICAgICAgICAgICBleHRyYUNsYXNzZXM6ICdmYS1yb3RhdGUtMCcKICAgICAgICAgICAgICAgICAgICB9KTsKICAgICAgICAgICAgICAgIG1hcmtlcl81NDE4MjRhY2IzOTU0NDJkOWYyNGYwNGYyZmJmNDJmZi5zZXRJY29uKGljb25fN2M0ZjFkYTRhYWIwNGI3NGFlODE3ZjUwYWY5MjljYjApOwogICAgICAgICAgICAKICAgIAoKICAgICAgICAgICAgdmFyIG1hcmtlcl9iM2U2ODBlZjBjZDA0ODkyYTkyZGMzMjE4NGRiNTY3YyA9IEwubWFya2VyKAogICAgICAgICAgICAgICAgWzQwLjgxNDI1MDk4NjcsLTczLjg5ODEzMjgxMDVdLAogICAgICAgICAgICAgICAgewogICAgICAgICAgICAgICAgICAgIGljb246IG5ldyBMLkljb24uRGVmYXVsdCgpCiAgICAgICAgICAgICAgICAgICAgfQogICAgICAgICAgICAgICAgKQogICAgICAgICAgICAgICAgLmFkZFRvKG1hcF9hNGQwNjU2NGJiYzk0YjlkODUzMjZkZGE4NTlhZDE2OSk7CiAgICAgICAgICAgIAogICAgCgogICAgICAgICAgICAgICAgdmFyIGljb25fMjY0NDIzMjU1OGY2NGY5OGE1ZDVmZWI1MjNjN2FlZDMgPSBMLkF3ZXNvbWVNYXJrZXJzLmljb24oewogICAgICAgICAgICAgICAgICAgIGljb246ICdzdGFyJywKICAgICAgICAgICAgICAgICAgICBpY29uQ29sb3I6ICd3aGl0ZScsCiAgICAgICAgICAgICAgICAgICAgbWFya2VyQ29sb3I6ICdvcmFuZ2UnLAogICAgICAgICAgICAgICAgICAgIHByZWZpeDogJ2dseXBoaWNvbicsCiAgICAgICAgICAgICAgICAgICAgZXh0cmFDbGFzc2VzOiAnZmEtcm90YXRlLTAnCiAgICAgICAgICAgICAgICAgICAgfSk7CiAgICAgICAgICAgICAgICBtYXJrZXJfYjNlNjgwZWYwY2QwNDg5MmE5MmRjMzIxODRkYjU2N2Muc2V0SWNvbihpY29uXzI2NDQyMzI1NThmNjRmOThhNWQ1ZmViNTIzYzdhZWQzKTsKICAgICAgICAgICAgCiAgICAKCiAgICAgICAgICAgIHZhciBtYXJrZXJfYzVlZGJkNjg2YjkxNGE3Mjk4MTg1M2NhMGY4ZDVkYmQgPSBMLm1hcmtlcigKICAgICAgICAgICAgICAgIFs0MC42MzI4NTYxNzQyLC03NC4xNDM0NjU3MTM0XSwKICAgICAgICAgICAgICAgIHsKICAgICAgICAgICAgICAgICAgICBpY29uOiBuZXcgTC5JY29uLkRlZmF1bHQoKQogICAgICAgICAgICAgICAgICAgIH0KICAgICAgICAgICAgICAgICkKICAgICAgICAgICAgICAgIC5hZGRUbyhtYXBfYTRkMDY1NjRiYmM5NGI5ZDg1MzI2ZGRhODU5YWQxNjkpOwogICAgICAgICAgICAKICAgIAoKICAgICAgICAgICAgICAgIHZhciBpY29uXzdiZDA0MWM5YjBkZTQ3ZjZiOGNkYWYyZWZiNzA5ZjhhID0gTC5Bd2Vzb21lTWFya2Vycy5pY29uKHsKICAgICAgICAgICAgICAgICAgICBpY29uOiAnc3RhcicsCiAgICAgICAgICAgICAgICAgICAgaWNvbkNvbG9yOiAnd2hpdGUnLAogICAgICAgICAgICAgICAgICAgIG1hcmtlckNvbG9yOiAnb3JhbmdlJywKICAgICAgICAgICAgICAgICAgICBwcmVmaXg6ICdnbHlwaGljb24nLAogICAgICAgICAgICAgICAgICAgIGV4dHJhQ2xhc3NlczogJ2ZhLXJvdGF0ZS0wJwogICAgICAgICAgICAgICAgICAgIH0pOwogICAgICAgICAgICAgICAgbWFya2VyX2M1ZWRiZDY4NmI5MTRhNzI5ODE4NTNjYTBmOGQ1ZGJkLnNldEljb24oaWNvbl83YmQwNDFjOWIwZGU0N2Y2YjhjZGFmMmVmYjcwOWY4YSk7CiAgICAgICAgICAgIAogICAgCgogICAgICAgICAgICB2YXIgbWFya2VyXzc4ZGRmZGMzN2MxNjRkMDBiM2JhNTc3MDEzNDAyYWZhID0gTC5tYXJrZXIoCiAgICAgICAgICAgICAgICBbNDAuNjU4OTY0Mjk3OCwtNzMuOTQ4NTQzMjk5Nl0sCiAgICAgICAgICAgICAgICB7CiAgICAgICAgICAgICAgICAgICAgaWNvbjogbmV3IEwuSWNvbi5EZWZhdWx0KCkKICAgICAgICAgICAgICAgICAgICB9CiAgICAgICAgICAgICAgICApCiAgICAgICAgICAgICAgICAuYWRkVG8obWFwX2E0ZDA2NTY0YmJjOTRiOWQ4NTMyNmRkYTg1OWFkMTY5KTsKICAgICAgICAgICAgCiAgICAKCiAgICAgICAgICAgICAgICB2YXIgaWNvbl9hMmM0NTNmOTA5ZDM0ZjUxYWJlMWZhMzYyMzk1YjRlNCA9IEwuQXdlc29tZU1hcmtlcnMuaWNvbih7CiAgICAgICAgICAgICAgICAgICAgaWNvbjogJ3N0YXInLAogICAgICAgICAgICAgICAgICAgIGljb25Db2xvcjogJ3doaXRlJywKICAgICAgICAgICAgICAgICAgICBtYXJrZXJDb2xvcjogJ29yYW5nZScsCiAgICAgICAgICAgICAgICAgICAgcHJlZml4OiAnZ2x5cGhpY29uJywKICAgICAgICAgICAgICAgICAgICBleHRyYUNsYXNzZXM6ICdmYS1yb3RhdGUtMCcKICAgICAgICAgICAgICAgICAgICB9KTsKICAgICAgICAgICAgICAgIG1hcmtlcl83OGRkZmRjMzdjMTY0ZDAwYjNiYTU3NzAxMzQwMmFmYS5zZXRJY29uKGljb25fYTJjNDUzZjkwOWQzNGY1MWFiZTFmYTM2MjM5NWI0ZTQpOwogICAgICAgICAgICAKICAgIAoKICAgICAgICAgICAgdmFyIG1hcmtlcl9jZDU5Y2UxMzU0NDg0MDc4ODI1YTA1NGIzMzg0ZTZkMyA9IEwubWFya2VyKAogICAgICAgICAgICAgICAgWzQwLjcxODU3NDU4NjcsLTczLjc2ODM2NDYzMDFdLAogICAgICAgICAgICAgICAgewogICAgICAgICAgICAgICAgICAgIGljb246IG5ldyBMLkljb24uRGVmYXVsdCgpCiAgICAgICAgICAgICAgICAgICAgfQogICAgICAgICAgICAgICAgKQogICAgICAgICAgICAgICAgLmFkZFRvKG1hcF9hNGQwNjU2NGJiYzk0YjlkODUzMjZkZGE4NTlhZDE2OSk7CiAgICAgICAgICAgIAogICAgCgogICAgICAgICAgICAgICAgdmFyIGljb25fYmIyZWNmM2QxOTIwNDQ4Y2JiNGViMzhlNjYzZjA1YjkgPSBMLkF3ZXNvbWVNYXJrZXJzLmljb24oewogICAgICAgICAgICAgICAgICAgIGljb246ICdzdGFyJywKICAgICAgICAgICAgICAgICAgICBpY29uQ29sb3I6ICd3aGl0ZScsCiAgICAgICAgICAgICAgICAgICAgbWFya2VyQ29sb3I6ICdvcmFuZ2UnLAogICAgICAgICAgICAgICAgICAgIHByZWZpeDogJ2dseXBoaWNvbicsCiAgICAgICAgICAgICAgICAgICAgZXh0cmFDbGFzc2VzOiAnZmEtcm90YXRlLTAnCiAgICAgICAgICAgICAgICAgICAgfSk7CiAgICAgICAgICAgICAgICBtYXJrZXJfY2Q1OWNlMTM1NDQ4NDA3ODgyNWEwNTRiMzM4NGU2ZDMuc2V0SWNvbihpY29uX2JiMmVjZjNkMTkyMDQ0OGNiYjRlYjM4ZTY2M2YwNWI5KTsKICAgICAgICAgICAgCiAgICAKCiAgICAgICAgICAgIHZhciBtYXJrZXJfYzY0YzNkYmMxOTNhNDQwYzhhMTY3YWYyOTUyNzMxYjYgPSBMLm1hcmtlcigKICAgICAgICAgICAgICAgIFs0MC44MTYyMTQwMTcxLC03My45MTc4MDgyODMyXSwKICAgICAgICAgICAgICAgIHsKICAgICAgICAgICAgICAgICAgICBpY29uOiBuZXcgTC5JY29uLkRlZmF1bHQoKQogICAgICAgICAgICAgICAgICAgIH0KICAgICAgICAgICAgICAgICkKICAgICAgICAgICAgICAgIC5hZGRUbyhtYXBfYTRkMDY1NjRiYmM5NGI5ZDg1MzI2ZGRhODU5YWQxNjkpOwogICAgICAgICAgICAKICAgIAoKICAgICAgICAgICAgICAgIHZhciBpY29uXzEyM2RjMzJhZmI0YzQyMzI4NWNlYmRhNjFlMjliN2QzID0gTC5Bd2Vzb21lTWFya2Vycy5pY29uKHsKICAgICAgICAgICAgICAgICAgICBpY29uOiAnc3RhcicsCiAgICAgICAgICAgICAgICAgICAgaWNvbkNvbG9yOiAnd2hpdGUnLAogICAgICAgICAgICAgICAgICAgIG1hcmtlckNvbG9yOiAnb3JhbmdlJywKICAgICAgICAgICAgICAgICAgICBwcmVmaXg6ICdnbHlwaGljb24nLAogICAgICAgICAgICAgICAgICAgIGV4dHJhQ2xhc3NlczogJ2ZhLXJvdGF0ZS0wJwogICAgICAgICAgICAgICAgICAgIH0pOwogICAgICAgICAgICAgICAgbWFya2VyX2M2NGMzZGJjMTkzYTQ0MGM4YTE2N2FmMjk1MjczMWI2LnNldEljb24oaWNvbl8xMjNkYzMyYWZiNGM0MjMyODVjZWJkYTYxZTI5YjdkMyk7CiAgICAgICAgICAgIAogICAgCgogICAgICAgICAgICB2YXIgbWFya2VyX2E1NzMwYzdkN2I5ZDRmNGI5MGNiZDUxMDRmZjU0ZTcyID0gTC5tYXJrZXIoCiAgICAgICAgICAgICAgICBbNDAuNjcwOTE1Nzk1OSwtNzMuODAwNzY4MzA2XSwKICAgICAgICAgICAgICAgIHsKICAgICAgICAgICAgICAgICAgICBpY29uOiBuZXcgTC5JY29uLkRlZmF1bHQoKQogICAgICAgICAgICAgICAgICAgIH0KICAgICAgICAgICAgICAgICkKICAgICAgICAgICAgICAgIC5hZGRUbyhtYXBfYTRkMDY1NjRiYmM5NGI5ZDg1MzI2ZGRhODU5YWQxNjkpOwogICAgICAgICAgICAKICAgIAoKICAgICAgICAgICAgICAgIHZhciBpY29uXzNlMTllYzY3YjUwYjRiZDU5NWM3NjlhZmI3MGM0Y2Y1ID0gTC5Bd2Vzb21lTWFya2Vycy5pY29uKHsKICAgICAgICAgICAgICAgICAgICBpY29uOiAnc3RhcicsCiAgICAgICAgICAgICAgICAgICAgaWNvbkNvbG9yOiAnd2hpdGUnLAogICAgICAgICAgICAgICAgICAgIG1hcmtlckNvbG9yOiAnb3JhbmdlJywKICAgICAgICAgICAgICAgICAgICBwcmVmaXg6ICdnbHlwaGljb24nLAogICAgICAgICAgICAgICAgICAgIGV4dHJhQ2xhc3NlczogJ2ZhLXJvdGF0ZS0wJwogICAgICAgICAgICAgICAgICAgIH0pOwogICAgICAgICAgICAgICAgbWFya2VyX2E1NzMwYzdkN2I5ZDRmNGI5MGNiZDUxMDRmZjU0ZTcyLnNldEljb24oaWNvbl8zZTE5ZWM2N2I1MGI0YmQ1OTVjNzY5YWZiNzBjNGNmNSk7CiAgICAgICAgICAgIAogICAgCgogICAgICAgICAgICB2YXIgbWFya2VyX2RjN2FiOTgxOGI3ZjRjODdhM2VjMmMwNWM0Mzk0NzI1ID0gTC5tYXJrZXIoCiAgICAgICAgICAgICAgICBbNDAuNjY2ODAyMzc2MywtNzMuOTc5NTgwNzA4MV0sCiAgICAgICAgICAgICAgICB7CiAgICAgICAgICAgICAgICAgICAgaWNvbjogbmV3IEwuSWNvbi5EZWZhdWx0KCkKICAgICAgICAgICAgICAgICAgICB9CiAgICAgICAgICAgICAgICApCiAgICAgICAgICAgICAgICAuYWRkVG8obWFwX2E0ZDA2NTY0YmJjOTRiOWQ4NTMyNmRkYTg1OWFkMTY5KTsKICAgICAgICAgICAgCiAgICAKCiAgICAgICAgICAgICAgICB2YXIgaWNvbl82NGNhN2U0OTRjMzY0YmJmOGYyM2Y0ZWI2MjlkZTAwMyA9IEwuQXdlc29tZU1hcmtlcnMuaWNvbih7CiAgICAgICAgICAgICAgICAgICAgaWNvbjogJ3N0YXInLAogICAgICAgICAgICAgICAgICAgIGljb25Db2xvcjogJ3doaXRlJywKICAgICAgICAgICAgICAgICAgICBtYXJrZXJDb2xvcjogJ29yYW5nZScsCiAgICAgICAgICAgICAgICAgICAgcHJlZml4OiAnZ2x5cGhpY29uJywKICAgICAgICAgICAgICAgICAgICBleHRyYUNsYXNzZXM6ICdmYS1yb3RhdGUtMCcKICAgICAgICAgICAgICAgICAgICB9KTsKICAgICAgICAgICAgICAgIG1hcmtlcl9kYzdhYjk4MThiN2Y0Yzg3YTNlYzJjMDVjNDM5NDcyNS5zZXRJY29uKGljb25fNjRjYTdlNDk0YzM2NGJiZjhmMjNmNGViNjI5ZGUwMDMpOwogICAgICAgICAgICAKICAgIAoKICAgICAgICAgICAgdmFyIG1hcmtlcl9jMWQ5N2M3NTA3ZmE0ZGU5YmM1NmZjYjNmMTkxYTQwMSA9IEwubWFya2VyKAogICAgICAgICAgICAgICAgWzQwLjY1NzM4OTYxMjksLTczLjkxOTMzODEzNThdLAogICAgICAgICAgICAgICAgewogICAgICAgICAgICAgICAgICAgIGljb246IG5ldyBMLkljb24uRGVmYXVsdCgpCiAgICAgICAgICAgICAgICAgICAgfQogICAgICAgICAgICAgICAgKQogICAgICAgICAgICAgICAgLmFkZFRvKG1hcF9hNGQwNjU2NGJiYzk0YjlkODUzMjZkZGE4NTlhZDE2OSk7CiAgICAgICAgICAgIAogICAgCgogICAgICAgICAgICAgICAgdmFyIGljb25fYzA2MTBkMmE3ZGU5NDQ1MGEwYzZlMTc1NTk2YWFjZmQgPSBMLkF3ZXNvbWVNYXJrZXJzLmljb24oewogICAgICAgICAgICAgICAgICAgIGljb246ICdzdGFyJywKICAgICAgICAgICAgICAgICAgICBpY29uQ29sb3I6ICd3aGl0ZScsCiAgICAgICAgICAgICAgICAgICAgbWFya2VyQ29sb3I6ICdvcmFuZ2UnLAogICAgICAgICAgICAgICAgICAgIHByZWZpeDogJ2dseXBoaWNvbicsCiAgICAgICAgICAgICAgICAgICAgZXh0cmFDbGFzc2VzOiAnZmEtcm90YXRlLTAnCiAgICAgICAgICAgICAgICAgICAgfSk7CiAgICAgICAgICAgICAgICBtYXJrZXJfYzFkOTdjNzUwN2ZhNGRlOWJjNTZmY2IzZjE5MWE0MDEuc2V0SWNvbihpY29uX2MwNjEwZDJhN2RlOTQ0NTBhMGM2ZTE3NTU5NmFhY2ZkKTsKICAgICAgICAgICAgCiAgICAKCiAgICAgICAgICAgIHZhciBtYXJrZXJfMWI1NDYxOGViMWY4NDliNTlmNjdhMTE1ZTVkMmVkMDYgPSBMLm1hcmtlcigKICAgICAgICAgICAgICAgIFs0MC44Mjg5MDY5NDA2LC03My44NzU2MzYxNDc4XSwKICAgICAgICAgICAgICAgIHsKICAgICAgICAgICAgICAgICAgICBpY29uOiBuZXcgTC5JY29uLkRlZmF1bHQoKQogICAgICAgICAgICAgICAgICAgIH0KICAgICAgICAgICAgICAgICkKICAgICAgICAgICAgICAgIC5hZGRUbyhtYXBfYTRkMDY1NjRiYmM5NGI5ZDg1MzI2ZGRhODU5YWQxNjkpOwogICAgICAgICAgICAKICAgIAoKICAgICAgICAgICAgICAgIHZhciBpY29uXzIzNWViOTU3NjczMTQwNzNhYTUwNjRiOWZjOWFhYTRlID0gTC5Bd2Vzb21lTWFya2Vycy5pY29uKHsKICAgICAgICAgICAgICAgICAgICBpY29uOiAnc3RhcicsCiAgICAgICAgICAgICAgICAgICAgaWNvbkNvbG9yOiAnd2hpdGUnLAogICAgICAgICAgICAgICAgICAgIG1hcmtlckNvbG9yOiAnb3JhbmdlJywKICAgICAgICAgICAgICAgICAgICBwcmVmaXg6ICdnbHlwaGljb24nLAogICAgICAgICAgICAgICAgICAgIGV4dHJhQ2xhc3NlczogJ2ZhLXJvdGF0ZS0wJwogICAgICAgICAgICAgICAgICAgIH0pOwogICAgICAgICAgICAgICAgbWFya2VyXzFiNTQ2MThlYjFmODQ5YjU5ZjY3YTExNWU1ZDJlZDA2LnNldEljb24oaWNvbl8yMzVlYjk1NzY3MzE0MDczYWE1MDY0YjlmYzlhYWE0ZSk7CiAgICAgICAgICAgIAogICAgCgogICAgICAgICAgICB2YXIgbWFya2VyXzk2ZjI2YzlmZGRhNjQ4MDg5OThjNjRjZGQ4MDgyNTc3ID0gTC5tYXJrZXIoCiAgICAgICAgICAgICAgICBbNDAuNjU4MTczMjE0MiwtNzMuOTExNjE2MzcxNl0sCiAgICAgICAgICAgICAgICB7CiAgICAgICAgICAgICAgICAgICAgaWNvbjogbmV3IEwuSWNvbi5EZWZhdWx0KCkKICAgICAgICAgICAgICAgICAgICB9CiAgICAgICAgICAgICAgICApCiAgICAgICAgICAgICAgICAuYWRkVG8obWFwX2E0ZDA2NTY0YmJjOTRiOWQ4NTMyNmRkYTg1OWFkMTY5KTsKICAgICAgICAgICAgCiAgICAKCiAgICAgICAgICAgICAgICB2YXIgaWNvbl85YjE0Zjg4MmEzODU0MGE5YWIzMWNkOTdlZTgwYjExZSA9IEwuQXdlc29tZU1hcmtlcnMuaWNvbih7CiAgICAgICAgICAgICAgICAgICAgaWNvbjogJ3N0YXInLAogICAgICAgICAgICAgICAgICAgIGljb25Db2xvcjogJ3doaXRlJywKICAgICAgICAgICAgICAgICAgICBtYXJrZXJDb2xvcjogJ29yYW5nZScsCiAgICAgICAgICAgICAgICAgICAgcHJlZml4OiAnZ2x5cGhpY29uJywKICAgICAgICAgICAgICAgICAgICBleHRyYUNsYXNzZXM6ICdmYS1yb3RhdGUtMCcKICAgICAgICAgICAgICAgICAgICB9KTsKICAgICAgICAgICAgICAgIG1hcmtlcl85NmYyNmM5ZmRkYTY0ODA4OTk4YzY0Y2RkODA4MjU3Ny5zZXRJY29uKGljb25fOWIxNGY4ODJhMzg1NDBhOWFiMzFjZDk3ZWU4MGIxMWUpOwogICAgICAgICAgICAKICAgIAoKICAgICAgICAgICAgdmFyIG1hcmtlcl84OGE3NjkxMjVlMjQ0NmFkOGRkYjE5MjZjN2E1NzFiYyA9IEwubWFya2VyKAogICAgICAgICAgICAgICAgWzQwLjY2MTMyMzM0OTgsLTczLjkxOTMzNjkyNDNdLAogICAgICAgICAgICAgICAgewogICAgICAgICAgICAgICAgICAgIGljb246IG5ldyBMLkljb24uRGVmYXVsdCgpCiAgICAgICAgICAgICAgICAgICAgfQogICAgICAgICAgICAgICAgKQogICAgICAgICAgICAgICAgLmFkZFRvKG1hcF9hNGQwNjU2NGJiYzk0YjlkODUzMjZkZGE4NTlhZDE2OSk7CiAgICAgICAgICAgIAogICAgCgogICAgICAgICAgICAgICAgdmFyIGljb25fODYxYmYyNWQzNjU5NDc2ZjhhOWI5NWM5NTNkZGM4YTYgPSBMLkF3ZXNvbWVNYXJrZXJzLmljb24oewogICAgICAgICAgICAgICAgICAgIGljb246ICdzdGFyJywKICAgICAgICAgICAgICAgICAgICBpY29uQ29sb3I6ICd3aGl0ZScsCiAgICAgICAgICAgICAgICAgICAgbWFya2VyQ29sb3I6ICdvcmFuZ2UnLAogICAgICAgICAgICAgICAgICAgIHByZWZpeDogJ2dseXBoaWNvbicsCiAgICAgICAgICAgICAgICAgICAgZXh0cmFDbGFzc2VzOiAnZmEtcm90YXRlLTAnCiAgICAgICAgICAgICAgICAgICAgfSk7CiAgICAgICAgICAgICAgICBtYXJrZXJfODhhNzY5MTI1ZTI0NDZhZDhkZGIxOTI2YzdhNTcxYmMuc2V0SWNvbihpY29uXzg2MWJmMjVkMzY1OTQ3NmY4YTliOTVjOTUzZGRjOGE2KTsKICAgICAgICAgICAgCiAgICAKCiAgICAgICAgICAgIHZhciBtYXJrZXJfN2U2MjZiZmVjZGU2NDZiY2JkZmE5MTU3Y2Y5N2U3YmMgPSBMLm1hcmtlcigKICAgICAgICAgICAgICAgIFs0MC42MzkwNzE5MDE1LC03My45NDk0MDk3MjUyXSwKICAgICAgICAgICAgICAgIHsKICAgICAgICAgICAgICAgICAgICBpY29uOiBuZXcgTC5JY29uLkRlZmF1bHQoKQogICAgICAgICAgICAgICAgICAgIH0KICAgICAgICAgICAgICAgICkKICAgICAgICAgICAgICAgIC5hZGRUbyhtYXBfYTRkMDY1NjRiYmM5NGI5ZDg1MzI2ZGRhODU5YWQxNjkpOwogICAgICAgICAgICAKICAgIAoKICAgICAgICAgICAgICAgIHZhciBpY29uXzBmNmI1MjQ0M2U1NTQyZGRiNTE2NWY1OTA5ZTAxZTA0ID0gTC5Bd2Vzb21lTWFya2Vycy5pY29uKHsKICAgICAgICAgICAgICAgICAgICBpY29uOiAnc3RhcicsCiAgICAgICAgICAgICAgICAgICAgaWNvbkNvbG9yOiAnd2hpdGUnLAogICAgICAgICAgICAgICAgICAgIG1hcmtlckNvbG9yOiAnb3JhbmdlJywKICAgICAgICAgICAgICAgICAgICBwcmVmaXg6ICdnbHlwaGljb24nLAogICAgICAgICAgICAgICAgICAgIGV4dHJhQ2xhc3NlczogJ2ZhLXJvdGF0ZS0wJwogICAgICAgICAgICAgICAgICAgIH0pOwogICAgICAgICAgICAgICAgbWFya2VyXzdlNjI2YmZlY2RlNjQ2YmNiZGZhOTE1N2NmOTdlN2JjLnNldEljb24oaWNvbl8wZjZiNTI0NDNlNTU0MmRkYjUxNjVmNTkwOWUwMWUwNCk7CiAgICAgICAgICAgIAogICAgCgogICAgICAgICAgICB2YXIgbWFya2VyX2IwZjhjOTZjZWFkNTQyYjRhZDZjZDFiNmJhNmY1YjE3ID0gTC5tYXJrZXIoCiAgICAgICAgICAgICAgICBbNDAuNzExMjkwODkyNSwtNzMuOTQzMjczNzI3XSwKICAgICAgICAgICAgICAgIHsKICAgICAgICAgICAgICAgICAgICBpY29uOiBuZXcgTC5JY29uLkRlZmF1bHQoKQogICAgICAgICAgICAgICAgICAgIH0KICAgICAgICAgICAgICAgICkKICAgICAgICAgICAgICAgIC5hZGRUbyhtYXBfYTRkMDY1NjRiYmM5NGI5ZDg1MzI2ZGRhODU5YWQxNjkpOwogICAgICAgICAgICAKICAgIAoKICAgICAgICAgICAgICAgIHZhciBpY29uXzBhY2JiMDY3NTRkZjRhMTk4MjBmYmMyYzdjYTdmMjBkID0gTC5Bd2Vzb21lTWFya2Vycy5pY29uKHsKICAgICAgICAgICAgICAgICAgICBpY29uOiAnc3RhcicsCiAgICAgICAgICAgICAgICAgICAgaWNvbkNvbG9yOiAnd2hpdGUnLAogICAgICAgICAgICAgICAgICAgIG1hcmtlckNvbG9yOiAnb3JhbmdlJywKICAgICAgICAgICAgICAgICAgICBwcmVmaXg6ICdnbHlwaGljb24nLAogICAgICAgICAgICAgICAgICAgIGV4dHJhQ2xhc3NlczogJ2ZhLXJvdGF0ZS0wJwogICAgICAgICAgICAgICAgICAgIH0pOwogICAgICAgICAgICAgICAgbWFya2VyX2IwZjhjOTZjZWFkNTQyYjRhZDZjZDFiNmJhNmY1YjE3LnNldEljb24oaWNvbl8wYWNiYjA2NzU0ZGY0YTE5ODIwZmJjMmM3Y2E3ZjIwZCk7CiAgICAgICAgICAgIAogICAgCgogICAgICAgICAgICB2YXIgbWFya2VyX2M3MDNhMWZiOTNjYzRkNTc5YWMzZGY1NTZkZWI1ZDkyID0gTC5tYXJrZXIoCiAgICAgICAgICAgICAgICBbNDAuNzcxMTg0Mjc3OCwtNzMuOTg5MDQ3NzA1MV0sCiAgICAgICAgICAgICAgICB7CiAgICAgICAgICAgICAgICAgICAgaWNvbjogbmV3IEwuSWNvbi5EZWZhdWx0KCkKICAgICAgICAgICAgICAgICAgICB9CiAgICAgICAgICAgICAgICApCiAgICAgICAgICAgICAgICAuYWRkVG8obWFwX2E0ZDA2NTY0YmJjOTRiOWQ4NTMyNmRkYTg1OWFkMTY5KTsKICAgICAgICAgICAgCiAgICAKCiAgICAgICAgICAgICAgICB2YXIgaWNvbl80YmZmYmU2MTA5N2Q0YjIxYjYxNGI3Nzk5NjI5M2U3OSA9IEwuQXdlc29tZU1hcmtlcnMuaWNvbih7CiAgICAgICAgICAgICAgICAgICAgaWNvbjogJ3N0YXInLAogICAgICAgICAgICAgICAgICAgIGljb25Db2xvcjogJ3doaXRlJywKICAgICAgICAgICAgICAgICAgICBtYXJrZXJDb2xvcjogJ29yYW5nZScsCiAgICAgICAgICAgICAgICAgICAgcHJlZml4OiAnZ2x5cGhpY29uJywKICAgICAgICAgICAgICAgICAgICBleHRyYUNsYXNzZXM6ICdmYS1yb3RhdGUtMCcKICAgICAgICAgICAgICAgICAgICB9KTsKICAgICAgICAgICAgICAgIG1hcmtlcl9jNzAzYTFmYjkzY2M0ZDU3OWFjM2RmNTU2ZGViNWQ5Mi5zZXRJY29uKGljb25fNGJmZmJlNjEwOTdkNGIyMWI2MTRiNzc5OTYyOTNlNzkpOwogICAgICAgICAgICAKICAgIAoKICAgICAgICAgICAgdmFyIG1hcmtlcl84ODRmN2Q0NzgzZGY0YWZmOGNkYTg3ZWM2YjJmMGJhOSA9IEwubWFya2VyKAogICAgICAgICAgICAgICAgWzQwLjg1Njc0Nzk0NzEsLTczLjg5MTc4Njk4NjFdLAogICAgICAgICAgICAgICAgewogICAgICAgICAgICAgICAgICAgIGljb246IG5ldyBMLkljb24uRGVmYXVsdCgpCiAgICAgICAgICAgICAgICAgICAgfQogICAgICAgICAgICAgICAgKQogICAgICAgICAgICAgICAgLmFkZFRvKG1hcF9hNGQwNjU2NGJiYzk0YjlkODUzMjZkZGE4NTlhZDE2OSk7CiAgICAgICAgICAgIAogICAgCgogICAgICAgICAgICAgICAgdmFyIGljb25fMmM3ZTFlMDZlNmExNDc0YWI2ZjdlZDlkZTI3MmMwZDcgPSBMLkF3ZXNvbWVNYXJrZXJzLmljb24oewogICAgICAgICAgICAgICAgICAgIGljb246ICdzdGFyJywKICAgICAgICAgICAgICAgICAgICBpY29uQ29sb3I6ICd3aGl0ZScsCiAgICAgICAgICAgICAgICAgICAgbWFya2VyQ29sb3I6ICdvcmFuZ2UnLAogICAgICAgICAgICAgICAgICAgIHByZWZpeDogJ2dseXBoaWNvbicsCiAgICAgICAgICAgICAgICAgICAgZXh0cmFDbGFzc2VzOiAnZmEtcm90YXRlLTAnCiAgICAgICAgICAgICAgICAgICAgfSk7CiAgICAgICAgICAgICAgICBtYXJrZXJfODg0ZjdkNDc4M2RmNGFmZjhjZGE4N2VjNmIyZjBiYTkuc2V0SWNvbihpY29uXzJjN2UxZTA2ZTZhMTQ3NGFiNmY3ZWQ5ZGUyNzJjMGQ3KTsKICAgICAgICAgICAgCiAgICAKCiAgICAgICAgICAgIHZhciBtYXJrZXJfZjMxN2EwOGU5ZGFiNGJiMGIyN2I2NTAwOWYwODA1NzQgPSBMLm1hcmtlcigKICAgICAgICAgICAgICAgIFs0MC44MTQzNjY4MzIxLC03My45MDc4OTI4MzQ1XSwKICAgICAgICAgICAgICAgIHsKICAgICAgICAgICAgICAgICAgICBpY29uOiBuZXcgTC5JY29uLkRlZmF1bHQoKQogICAgICAgICAgICAgICAgICAgIH0KICAgICAgICAgICAgICAgICkKICAgICAgICAgICAgICAgIC5hZGRUbyhtYXBfYTRkMDY1NjRiYmM5NGI5ZDg1MzI2ZGRhODU5YWQxNjkpOwogICAgICAgICAgICAKICAgIAoKICAgICAgICAgICAgICAgIHZhciBpY29uXzE1NzU1OGY5MDNiOTQ2ZTk5ZDBhNDE5ODUwYWVmODY2ID0gTC5Bd2Vzb21lTWFya2Vycy5pY29uKHsKICAgICAgICAgICAgICAgICAgICBpY29uOiAnc3RhcicsCiAgICAgICAgICAgICAgICAgICAgaWNvbkNvbG9yOiAnd2hpdGUnLAogICAgICAgICAgICAgICAgICAgIG1hcmtlckNvbG9yOiAnb3JhbmdlJywKICAgICAgICAgICAgICAgICAgICBwcmVmaXg6ICdnbHlwaGljb24nLAogICAgICAgICAgICAgICAgICAgIGV4dHJhQ2xhc3NlczogJ2ZhLXJvdGF0ZS0wJwogICAgICAgICAgICAgICAgICAgIH0pOwogICAgICAgICAgICAgICAgbWFya2VyX2YzMTdhMDhlOWRhYjRiYjBiMjdiNjUwMDlmMDgwNTc0LnNldEljb24oaWNvbl8xNTc1NThmOTAzYjk0NmU5OWQwYTQxOTg1MGFlZjg2Nik7CiAgICAgICAgICAgIAogICAgCgogICAgICAgICAgICB2YXIgbWFya2VyXzY0ZDU1NWEzODVhMDQwYzM5OTkxYmE1MzcxMTg0NDg5ID0gTC5tYXJrZXIoCiAgICAgICAgICAgICAgICBbNDAuNzQ5NDk3MTI3NCwtNzMuOTc1NjE5NTEyNF0sCiAgICAgICAgICAgICAgICB7CiAgICAgICAgICAgICAgICAgICAgaWNvbjogbmV3IEwuSWNvbi5EZWZhdWx0KCkKICAgICAgICAgICAgICAgICAgICB9CiAgICAgICAgICAgICAgICApCiAgICAgICAgICAgICAgICAuYWRkVG8obWFwX2E0ZDA2NTY0YmJjOTRiOWQ4NTMyNmRkYTg1OWFkMTY5KTsKICAgICAgICAgICAgCiAgICAKCiAgICAgICAgICAgICAgICB2YXIgaWNvbl85MzdjZmFmYzU0ZTE0MGU2OGVmZjE2Y2Y2ODgzMDcxMCA9IEwuQXdlc29tZU1hcmtlcnMuaWNvbih7CiAgICAgICAgICAgICAgICAgICAgaWNvbjogJ3N0YXInLAogICAgICAgICAgICAgICAgICAgIGljb25Db2xvcjogJ3doaXRlJywKICAgICAgICAgICAgICAgICAgICBtYXJrZXJDb2xvcjogJ29yYW5nZScsCiAgICAgICAgICAgICAgICAgICAgcHJlZml4OiAnZ2x5cGhpY29uJywKICAgICAgICAgICAgICAgICAgICBleHRyYUNsYXNzZXM6ICdmYS1yb3RhdGUtMCcKICAgICAgICAgICAgICAgICAgICB9KTsKICAgICAgICAgICAgICAgIG1hcmtlcl82NGQ1NTVhMzg1YTA0MGMzOTk5MWJhNTM3MTE4NDQ4OS5zZXRJY29uKGljb25fOTM3Y2ZhZmM1NGUxNDBlNjhlZmYxNmNmNjg4MzA3MTApOwogICAgICAgICAgICAKICAgIAoKICAgICAgICAgICAgdmFyIG1hcmtlcl9jNmIzZDk5ZDM4YjA0YmFlYTg0YmEzM2JhOGQwMzlhYyA9IEwubWFya2VyKAogICAgICAgICAgICAgICAgWzQwLjc1ODQ3NjY1NDYsLTczLjk4NTk4NTc1OTNdLAogICAgICAgICAgICAgICAgewogICAgICAgICAgICAgICAgICAgIGljb246IG5ldyBMLkljb24uRGVmYXVsdCgpCiAgICAgICAgICAgICAgICAgICAgfQogICAgICAgICAgICAgICAgKQogICAgICAgICAgICAgICAgLmFkZFRvKG1hcF9hNGQwNjU2NGJiYzk0YjlkODUzMjZkZGE4NTlhZDE2OSk7CiAgICAgICAgICAgIAogICAgCgogICAgICAgICAgICAgICAgdmFyIGljb25fOGU0YjRiYTIxNzkzNGRiOWFlMDRhNmMxYzdiYzg0YzggPSBMLkF3ZXNvbWVNYXJrZXJzLmljb24oewogICAgICAgICAgICAgICAgICAgIGljb246ICdzdGFyJywKICAgICAgICAgICAgICAgICAgICBpY29uQ29sb3I6ICd3aGl0ZScsCiAgICAgICAgICAgICAgICAgICAgbWFya2VyQ29sb3I6ICdvcmFuZ2UnLAogICAgICAgICAgICAgICAgICAgIHByZWZpeDogJ2dseXBoaWNvbicsCiAgICAgICAgICAgICAgICAgICAgZXh0cmFDbGFzc2VzOiAnZmEtcm90YXRlLTAnCiAgICAgICAgICAgICAgICAgICAgfSk7CiAgICAgICAgICAgICAgICBtYXJrZXJfYzZiM2Q5OWQzOGIwNGJhZWE4NGJhMzNiYThkMDM5YWMuc2V0SWNvbihpY29uXzhlNGI0YmEyMTc5MzRkYjlhZTA0YTZjMWM3YmM4NGM4KTsKICAgICAgICAgICAgCiAgICAKCiAgICAgICAgICAgIHZhciBtYXJrZXJfYTIxZDI5YTcwMGNiNDcxZWEwODMzMjgxODI2NjM3NmEgPSBMLm1hcmtlcigKICAgICAgICAgICAgICAgIFs0MC42NDQ1Nzc2ODQ4LC03My45OTYyNTQ3NzQ3XSwKICAgICAgICAgICAgICAgIHsKICAgICAgICAgICAgICAgICAgICBpY29uOiBuZXcgTC5JY29uLkRlZmF1bHQoKQogICAgICAgICAgICAgICAgICAgIH0KICAgICAgICAgICAgICAgICkKICAgICAgICAgICAgICAgIC5hZGRUbyhtYXBfYTRkMDY1NjRiYmM5NGI5ZDg1MzI2ZGRhODU5YWQxNjkpOwogICAgICAgICAgICAKICAgIAoKICAgICAgICAgICAgICAgIHZhciBpY29uXzA4YzExOTUxMTNiNDQ1ZWM5ZGE2MzI4N2JjMDUxNTk4ID0gTC5Bd2Vzb21lTWFya2Vycy5pY29uKHsKICAgICAgICAgICAgICAgICAgICBpY29uOiAnc3RhcicsCiAgICAgICAgICAgICAgICAgICAgaWNvbkNvbG9yOiAnd2hpdGUnLAogICAgICAgICAgICAgICAgICAgIG1hcmtlckNvbG9yOiAnb3JhbmdlJywKICAgICAgICAgICAgICAgICAgICBwcmVmaXg6ICdnbHlwaGljb24nLAogICAgICAgICAgICAgICAgICAgIGV4dHJhQ2xhc3NlczogJ2ZhLXJvdGF0ZS0wJwogICAgICAgICAgICAgICAgICAgIH0pOwogICAgICAgICAgICAgICAgbWFya2VyX2EyMWQyOWE3MDBjYjQ3MWVhMDgzMzI4MTgyNjYzNzZhLnNldEljb24oaWNvbl8wOGMxMTk1MTEzYjQ0NWVjOWRhNjMyODdiYzA1MTU5OCk7CiAgICAgICAgICAgIAogICAgCgogICAgICAgICAgICB2YXIgbWFya2VyXzg4Yjg2MTRlODNkZTRhZWQ4ZDA4NTE3NDYwNmRhMjRmID0gTC5tYXJrZXIoCiAgICAgICAgICAgICAgICBbNDAuODQxMjk4MTQ1NiwtNzMuOTE1MzI4NjYyM10sCiAgICAgICAgICAgICAgICB7CiAgICAgICAgICAgICAgICAgICAgaWNvbjogbmV3IEwuSWNvbi5EZWZhdWx0KCkKICAgICAgICAgICAgICAgICAgICB9CiAgICAgICAgICAgICAgICApCiAgICAgICAgICAgICAgICAuYWRkVG8obWFwX2E0ZDA2NTY0YmJjOTRiOWQ4NTMyNmRkYTg1OWFkMTY5KTsKICAgICAgICAgICAgCiAgICAKCiAgICAgICAgICAgICAgICB2YXIgaWNvbl84YTNjMzIzOGZlMjY0MGI4OGQ1NjM2OTU4MGQxY2U2YyA9IEwuQXdlc29tZU1hcmtlcnMuaWNvbih7CiAgICAgICAgICAgICAgICAgICAgaWNvbjogJ3N0YXInLAogICAgICAgICAgICAgICAgICAgIGljb25Db2xvcjogJ3doaXRlJywKICAgICAgICAgICAgICAgICAgICBtYXJrZXJDb2xvcjogJ29yYW5nZScsCiAgICAgICAgICAgICAgICAgICAgcHJlZml4OiAnZ2x5cGhpY29uJywKICAgICAgICAgICAgICAgICAgICBleHRyYUNsYXNzZXM6ICdmYS1yb3RhdGUtMCcKICAgICAgICAgICAgICAgICAgICB9KTsKICAgICAgICAgICAgICAgIG1hcmtlcl84OGI4NjE0ZTgzZGU0YWVkOGQwODUxNzQ2MDZkYTI0Zi5zZXRJY29uKGljb25fOGEzYzMyMzhmZTI2NDBiODhkNTYzNjk1ODBkMWNlNmMpOwogICAgICAgICAgICAKICAgIAoKICAgICAgICAgICAgdmFyIG1hcmtlcl8xMTNkNDQwZjE1NDM0MDRmYTNmZDUwMTVmNmJiOTk1YSA9IEwubWFya2VyKAogICAgICAgICAgICAgICAgWzQwLjg2MTA2NTE3NjQsLTczLjkyOTAxNTY4MDVdLAogICAgICAgICAgICAgICAgewogICAgICAgICAgICAgICAgICAgIGljb246IG5ldyBMLkljb24uRGVmYXVsdCgpCiAgICAgICAgICAgICAgICAgICAgfQogICAgICAgICAgICAgICAgKQogICAgICAgICAgICAgICAgLmFkZFRvKG1hcF9hNGQwNjU2NGJiYzk0YjlkODUzMjZkZGE4NTlhZDE2OSk7CiAgICAgICAgICAgIAogICAgCgogICAgICAgICAgICAgICAgdmFyIGljb25fYWEzM2Q2MjUzYzQ3NDZiYmJkZTBkZWFjODUyNzhiODUgPSBMLkF3ZXNvbWVNYXJrZXJzLmljb24oewogICAgICAgICAgICAgICAgICAgIGljb246ICdzdGFyJywKICAgICAgICAgICAgICAgICAgICBpY29uQ29sb3I6ICd3aGl0ZScsCiAgICAgICAgICAgICAgICAgICAgbWFya2VyQ29sb3I6ICdvcmFuZ2UnLAogICAgICAgICAgICAgICAgICAgIHByZWZpeDogJ2dseXBoaWNvbicsCiAgICAgICAgICAgICAgICAgICAgZXh0cmFDbGFzc2VzOiAnZmEtcm90YXRlLTAnCiAgICAgICAgICAgICAgICAgICAgfSk7CiAgICAgICAgICAgICAgICBtYXJrZXJfMTEzZDQ0MGYxNTQzNDA0ZmEzZmQ1MDE1ZjZiYjk5NWEuc2V0SWNvbihpY29uX2FhMzNkNjI1M2M0NzQ2YmJiZGUwZGVhYzg1Mjc4Yjg1KTsKICAgICAgICAgICAgCiAgICAKCiAgICAgICAgICAgIHZhciBtYXJrZXJfYmY5ZDEyMGM0YTU3NDM5MjlkNzk5OWRhMzM0ZGIwYWYgPSBMLm1hcmtlcigKICAgICAgICAgICAgICAgIFs0MC42ODk1Mjk4Mjk1LC03My44MTkxNjQ4Njk0XSwKICAgICAgICAgICAgICAgIHsKICAgICAgICAgICAgICAgICAgICBpY29uOiBuZXcgTC5JY29uLkRlZmF1bHQoKQogICAgICAgICAgICAgICAgICAgIH0KICAgICAgICAgICAgICAgICkKICAgICAgICAgICAgICAgIC5hZGRUbyhtYXBfYTRkMDY1NjRiYmM5NGI5ZDg1MzI2ZGRhODU5YWQxNjkpOwogICAgICAgICAgICAKICAgIAoKICAgICAgICAgICAgICAgIHZhciBpY29uXzI4ZjlkNmI4MWY1YzQ2NmNiZWI4M2MwOWU3NDA0OTMyID0gTC5Bd2Vzb21lTWFya2Vycy5pY29uKHsKICAgICAgICAgICAgICAgICAgICBpY29uOiAnc3RhcicsCiAgICAgICAgICAgICAgICAgICAgaWNvbkNvbG9yOiAnd2hpdGUnLAogICAgICAgICAgICAgICAgICAgIG1hcmtlckNvbG9yOiAnb3JhbmdlJywKICAgICAgICAgICAgICAgICAgICBwcmVmaXg6ICdnbHlwaGljb24nLAogICAgICAgICAgICAgICAgICAgIGV4dHJhQ2xhc3NlczogJ2ZhLXJvdGF0ZS0wJwogICAgICAgICAgICAgICAgICAgIH0pOwogICAgICAgICAgICAgICAgbWFya2VyX2JmOWQxMjBjNGE1NzQzOTI5ZDc5OTlkYTMzNGRiMGFmLnNldEljb24oaWNvbl8yOGY5ZDZiODFmNWM0NjZjYmViODNjMDllNzQwNDkzMik7CiAgICAgICAgICAgIAogICAgCgogICAgICAgICAgICB2YXIgbWFya2VyXzM0NWQ5MjI4Zjg4YTQwYTZiNzEyZTA5OWMxMjAzNGIyID0gTC5tYXJrZXIoCiAgICAgICAgICAgICAgICBbNDAuNjU3MTcwODQwOSwtNzMuNzUxMjU5NzM4XSwKICAgICAgICAgICAgICAgIHsKICAgICAgICAgICAgICAgICAgICBpY29uOiBuZXcgTC5JY29uLkRlZmF1bHQoKQogICAgICAgICAgICAgICAgICAgIH0KICAgICAgICAgICAgICAgICkKICAgICAgICAgICAgICAgIC5hZGRUbyhtYXBfYTRkMDY1NjRiYmM5NGI5ZDg1MzI2ZGRhODU5YWQxNjkpOwogICAgICAgICAgICAKICAgIAoKICAgICAgICAgICAgICAgIHZhciBpY29uXzcxNGQwMTkyNDA4ZjQ5Njc4NjdlZTA3NjhmNDRkZGI5ID0gTC5Bd2Vzb21lTWFya2Vycy5pY29uKHsKICAgICAgICAgICAgICAgICAgICBpY29uOiAnc3RhcicsCiAgICAgICAgICAgICAgICAgICAgaWNvbkNvbG9yOiAnd2hpdGUnLAogICAgICAgICAgICAgICAgICAgIG1hcmtlckNvbG9yOiAnb3JhbmdlJywKICAgICAgICAgICAgICAgICAgICBwcmVmaXg6ICdnbHlwaGljb24nLAogICAgICAgICAgICAgICAgICAgIGV4dHJhQ2xhc3NlczogJ2ZhLXJvdGF0ZS0wJwogICAgICAgICAgICAgICAgICAgIH0pOwogICAgICAgICAgICAgICAgbWFya2VyXzM0NWQ5MjI4Zjg4YTQwYTZiNzEyZTA5OWMxMjAzNGIyLnNldEljb24oaWNvbl83MTRkMDE5MjQwOGY0OTY3ODY3ZWUwNzY4ZjQ0ZGRiOSk7CiAgICAgICAgICAgIAogICAgCgogICAgICAgICAgICB2YXIgbWFya2VyXzA3ZTMyOGM2NjZjMDQ0ZDlhNGNiODVlNTU2MWZmOWJkID0gTC5tYXJrZXIoCiAgICAgICAgICAgICAgICBbNDAuNjE4ODEzNjgwMiwtNzQuMDc3OTA3MDI5Ml0sCiAgICAgICAgICAgICAgICB7CiAgICAgICAgICAgICAgICAgICAgaWNvbjogbmV3IEwuSWNvbi5EZWZhdWx0KCkKICAgICAgICAgICAgICAgICAgICB9CiAgICAgICAgICAgICAgICApCiAgICAgICAgICAgICAgICAuYWRkVG8obWFwX2E0ZDA2NTY0YmJjOTRiOWQ4NTMyNmRkYTg1OWFkMTY5KTsKICAgICAgICAgICAgCiAgICAKCiAgICAgICAgICAgICAgICB2YXIgaWNvbl8wZDViNjAwMmIwMTg0ZDVhODUzZDc4YzI1MjQ0MmFiMyA9IEwuQXdlc29tZU1hcmtlcnMuaWNvbih7CiAgICAgICAgICAgICAgICAgICAgaWNvbjogJ3N0YXInLAogICAgICAgICAgICAgICAgICAgIGljb25Db2xvcjogJ3doaXRlJywKICAgICAgICAgICAgICAgICAgICBtYXJrZXJDb2xvcjogJ29yYW5nZScsCiAgICAgICAgICAgICAgICAgICAgcHJlZml4OiAnZ2x5cGhpY29uJywKICAgICAgICAgICAgICAgICAgICBleHRyYUNsYXNzZXM6ICdmYS1yb3RhdGUtMCcKICAgICAgICAgICAgICAgICAgICB9KTsKICAgICAgICAgICAgICAgIG1hcmtlcl8wN2UzMjhjNjY2YzA0NGQ5YTRjYjg1ZTU1NjFmZjliZC5zZXRJY29uKGljb25fMGQ1YjYwMDJiMDE4NGQ1YTg1M2Q3OGMyNTI0NDJhYjMpOwogICAgICAgICAgICAKICAgIAoKICAgICAgICAgICAgdmFyIG1hcmtlcl85NmRiMDIwZDI1ZjE0ODA5YjQzMzIwYzgyMDU4Mzg2MCA9IEwubWFya2VyKAogICAgICAgICAgICAgICAgWzQwLjY5NDg2MDg5MiwtNzMuNzI5NjQwMjAyOF0sCiAgICAgICAgICAgICAgICB7CiAgICAgICAgICAgICAgICAgICAgaWNvbjogbmV3IEwuSWNvbi5EZWZhdWx0KCkKICAgICAgICAgICAgICAgICAgICB9CiAgICAgICAgICAgICAgICApCiAgICAgICAgICAgICAgICAuYWRkVG8obWFwX2E0ZDA2NTY0YmJjOTRiOWQ4NTMyNmRkYTg1OWFkMTY5KTsKICAgICAgICAgICAgCiAgICAKCiAgICAgICAgICAgICAgICB2YXIgaWNvbl8yOWFlNDM4OGY4NDk0NmU3YWM5MDA2OTRkMWRmNTAyMyA9IEwuQXdlc29tZU1hcmtlcnMuaWNvbih7CiAgICAgICAgICAgICAgICAgICAgaWNvbjogJ3N0YXInLAogICAgICAgICAgICAgICAgICAgIGljb25Db2xvcjogJ3doaXRlJywKICAgICAgICAgICAgICAgICAgICBtYXJrZXJDb2xvcjogJ29yYW5nZScsCiAgICAgICAgICAgICAgICAgICAgcHJlZml4OiAnZ2x5cGhpY29uJywKICAgICAgICAgICAgICAgICAgICBleHRyYUNsYXNzZXM6ICdmYS1yb3RhdGUtMCcKICAgICAgICAgICAgICAgICAgICB9KTsKICAgICAgICAgICAgICAgIG1hcmtlcl85NmRiMDIwZDI1ZjE0ODA5YjQzMzIwYzgyMDU4Mzg2MC5zZXRJY29uKGljb25fMjlhZTQzODhmODQ5NDZlN2FjOTAwNjk0ZDFkZjUwMjMpOwogICAgICAgICAgICAKICAgIAoKICAgICAgICAgICAgdmFyIG1hcmtlcl81NjNlMThiNjkzYzg0ZDUyOTAxMzFjNjFiMDc0OGU3ZCA9IEwubWFya2VyKAogICAgICAgICAgICAgICAgWzQwLjg1Mzc4Mjg3ODUsLTczLjg3NzQ2NzEyOV0sCiAgICAgICAgICAgICAgICB7CiAgICAgICAgICAgICAgICAgICAgaWNvbjogbmV3IEwuSWNvbi5EZWZhdWx0KCkKICAgICAgICAgICAgICAgICAgICB9CiAgICAgICAgICAgICAgICApCiAgICAgICAgICAgICAgICAuYWRkVG8obWFwX2E0ZDA2NTY0YmJjOTRiOWQ4NTMyNmRkYTg1OWFkMTY5KTsKICAgICAgICAgICAgCiAgICAKCiAgICAgICAgICAgICAgICB2YXIgaWNvbl8wODQ5NDkxZGNjOTM0YWNiYjQ4MzQ3OWQ4MmFkMzFhMSA9IEwuQXdlc29tZU1hcmtlcnMuaWNvbih7CiAgICAgICAgICAgICAgICAgICAgaWNvbjogJ3N0YXInLAogICAgICAgICAgICAgICAgICAgIGljb25Db2xvcjogJ3doaXRlJywKICAgICAgICAgICAgICAgICAgICBtYXJrZXJDb2xvcjogJ2dyZWVuJywKICAgICAgICAgICAgICAgICAgICBwcmVmaXg6ICdnbHlwaGljb24nLAogICAgICAgICAgICAgICAgICAgIGV4dHJhQ2xhc3NlczogJ2ZhLXJvdGF0ZS0wJwogICAgICAgICAgICAgICAgICAgIH0pOwogICAgICAgICAgICAgICAgbWFya2VyXzU2M2UxOGI2OTNjODRkNTI5MDEzMWM2MWIwNzQ4ZTdkLnNldEljb24oaWNvbl8wODQ5NDkxZGNjOTM0YWNiYjQ4MzQ3OWQ4MmFkMzFhMSk7CiAgICAgICAgICAgIAogICAgCgogICAgICAgICAgICB2YXIgbWFya2VyX2ZiY2E2YzFhNGI4YjQ4YTQ4OTk2ZmRmNTM4OGZjM2VjID0gTC5tYXJrZXIoCiAgICAgICAgICAgICAgICBbNDAuODUzNDE1OTQyMiwtNzMuODc3NDk5NTUyM10sCiAgICAgICAgICAgICAgICB7CiAgICAgICAgICAgICAgICAgICAgaWNvbjogbmV3IEwuSWNvbi5EZWZhdWx0KCkKICAgICAgICAgICAgICAgICAgICB9CiAgICAgICAgICAgICAgICApCiAgICAgICAgICAgICAgICAuYWRkVG8obWFwX2E0ZDA2NTY0YmJjOTRiOWQ4NTMyNmRkYTg1OWFkMTY5KTsKICAgICAgICAgICAgCiAgICAKCiAgICAgICAgICAgICAgICB2YXIgaWNvbl8xMjhiZjY3NDI2MDg0MTE0YWZiNTQ1Y2NlMWIwMDg3YSA9IEwuQXdlc29tZU1hcmtlcnMuaWNvbih7CiAgICAgICAgICAgICAgICAgICAgaWNvbjogJ3N0YXInLAogICAgICAgICAgICAgICAgICAgIGljb25Db2xvcjogJ3doaXRlJywKICAgICAgICAgICAgICAgICAgICBtYXJrZXJDb2xvcjogJ2dyZWVuJywKICAgICAgICAgICAgICAgICAgICBwcmVmaXg6ICdnbHlwaGljb24nLAogICAgICAgICAgICAgICAgICAgIGV4dHJhQ2xhc3NlczogJ2ZhLXJvdGF0ZS0wJwogICAgICAgICAgICAgICAgICAgIH0pOwogICAgICAgICAgICAgICAgbWFya2VyX2ZiY2E2YzFhNGI4YjQ4YTQ4OTk2ZmRmNTM4OGZjM2VjLnNldEljb24oaWNvbl8xMjhiZjY3NDI2MDg0MTE0YWZiNTQ1Y2NlMWIwMDg3YSk7CiAgICAgICAgICAgIAogICAgCgogICAgICAgICAgICB2YXIgbWFya2VyX2JlNmYxZTE3NjdiMjQ1ZTFiYWNiNDNiMjk5ZTY0NzU0ID0gTC5tYXJrZXIoCiAgICAgICAgICAgICAgICBbNDAuODU0MjE3MTc3OCwtNzMuODc3NzkyODgxMV0sCiAgICAgICAgICAgICAgICB7CiAgICAgICAgICAgICAgICAgICAgaWNvbjogbmV3IEwuSWNvbi5EZWZhdWx0KCkKICAgICAgICAgICAgICAgICAgICB9CiAgICAgICAgICAgICAgICApCiAgICAgICAgICAgICAgICAuYWRkVG8obWFwX2E0ZDA2NTY0YmJjOTRiOWQ4NTMyNmRkYTg1OWFkMTY5KTsKICAgICAgICAgICAgCiAgICAKCiAgICAgICAgICAgICAgICB2YXIgaWNvbl82NTkxN2I0MzBhMzY0NTVkOTNjMWNhZmY5NjBiNmE2NiA9IEwuQXdlc29tZU1hcmtlcnMuaWNvbih7CiAgICAgICAgICAgICAgICAgICAgaWNvbjogJ3N0YXInLAogICAgICAgICAgICAgICAgICAgIGljb25Db2xvcjogJ3doaXRlJywKICAgICAgICAgICAgICAgICAgICBtYXJrZXJDb2xvcjogJ2dyZWVuJywKICAgICAgICAgICAgICAgICAgICBwcmVmaXg6ICdnbHlwaGljb24nLAogICAgICAgICAgICAgICAgICAgIGV4dHJhQ2xhc3NlczogJ2ZhLXJvdGF0ZS0wJwogICAgICAgICAgICAgICAgICAgIH0pOwogICAgICAgICAgICAgICAgbWFya2VyX2JlNmYxZTE3NjdiMjQ1ZTFiYWNiNDNiMjk5ZTY0NzU0LnNldEljb24oaWNvbl82NTkxN2I0MzBhMzY0NTVkOTNjMWNhZmY5NjBiNmE2Nik7CiAgICAgICAgICAgIAogICAgCgogICAgICAgICAgICB2YXIgbWFya2VyX2RjYjYxOTQ3OTZhNzRkNmE4OTBhNTRjNzBjNDI3NDIxID0gTC5tYXJrZXIoCiAgICAgICAgICAgICAgICBbNDAuODUzOTkzNzYyLC03My44Nzc4NjMwMTkzXSwKICAgICAgICAgICAgICAgIHsKICAgICAgICAgICAgICAgICAgICBpY29uOiBuZXcgTC5JY29uLkRlZmF1bHQoKQogICAgICAgICAgICAgICAgICAgIH0KICAgICAgICAgICAgICAgICkKICAgICAgICAgICAgICAgIC5hZGRUbyhtYXBfYTRkMDY1NjRiYmM5NGI5ZDg1MzI2ZGRhODU5YWQxNjkpOwogICAgICAgICAgICAKICAgIAoKICAgICAgICAgICAgICAgIHZhciBpY29uXzQ1ZjQ0ZTczYmVhODQ3MzhiMTU1ZmExZjBmNzVkZjBiID0gTC5Bd2Vzb21lTWFya2Vycy5pY29uKHsKICAgICAgICAgICAgICAgICAgICBpY29uOiAnc3RhcicsCiAgICAgICAgICAgICAgICAgICAgaWNvbkNvbG9yOiAnd2hpdGUnLAogICAgICAgICAgICAgICAgICAgIG1hcmtlckNvbG9yOiAnZ3JlZW4nLAogICAgICAgICAgICAgICAgICAgIHByZWZpeDogJ2dseXBoaWNvbicsCiAgICAgICAgICAgICAgICAgICAgZXh0cmFDbGFzc2VzOiAnZmEtcm90YXRlLTAnCiAgICAgICAgICAgICAgICAgICAgfSk7CiAgICAgICAgICAgICAgICBtYXJrZXJfZGNiNjE5NDc5NmE3NGQ2YTg5MGE1NGM3MGM0Mjc0MjEuc2V0SWNvbihpY29uXzQ1ZjQ0ZTczYmVhODQ3MzhiMTU1ZmExZjBmNzVkZjBiKTsKICAgICAgICAgICAgCiAgICAKCiAgICAgICAgICAgIHZhciBtYXJrZXJfNTI3MTY3NmE0ZDcyNDg0OTg3ZDEzZDg3Njg3OTFhNDcgPSBMLm1hcmtlcigKICAgICAgICAgICAgICAgIFs0MC44NTQwMjkxNjMzLC03My44Nzc4MzkxNDA0XSwKICAgICAgICAgICAgICAgIHsKICAgICAgICAgICAgICAgICAgICBpY29uOiBuZXcgTC5JY29uLkRlZmF1bHQoKQogICAgICAgICAgICAgICAgICAgIH0KICAgICAgICAgICAgICAgICkKICAgICAgICAgICAgICAgIC5hZGRUbyhtYXBfYTRkMDY1NjRiYmM5NGI5ZDg1MzI2ZGRhODU5YWQxNjkpOwogICAgICAgICAgICAKICAgIAoKICAgICAgICAgICAgICAgIHZhciBpY29uXzM4OGI5NTUzZGMyMDQ4YmNiOWRjMDE5OGY2Y2QwYWUzID0gTC5Bd2Vzb21lTWFya2Vycy5pY29uKHsKICAgICAgICAgICAgICAgICAgICBpY29uOiAnc3RhcicsCiAgICAgICAgICAgICAgICAgICAgaWNvbkNvbG9yOiAnd2hpdGUnLAogICAgICAgICAgICAgICAgICAgIG1hcmtlckNvbG9yOiAnZ3JlZW4nLAogICAgICAgICAgICAgICAgICAgIHByZWZpeDogJ2dseXBoaWNvbicsCiAgICAgICAgICAgICAgICAgICAgZXh0cmFDbGFzc2VzOiAnZmEtcm90YXRlLTAnCiAgICAgICAgICAgICAgICAgICAgfSk7CiAgICAgICAgICAgICAgICBtYXJrZXJfNTI3MTY3NmE0ZDcyNDg0OTg3ZDEzZDg3Njg3OTFhNDcuc2V0SWNvbihpY29uXzM4OGI5NTUzZGMyMDQ4YmNiOWRjMDE5OGY2Y2QwYWUzKTsKICAgICAgICAgICAgCiAgICAKCiAgICAgICAgICAgIHZhciBtYXJrZXJfOGQ1NDRlODBkZmUyNGE4Zjg5ODU2Njc2NWVjYTJjODEgPSBMLm1hcmtlcigKICAgICAgICAgICAgICAgIFs0MC44NTM4MTQwMzA2LC03My44Nzc3MjE4MTUyXSwKICAgICAgICAgICAgICAgIHsKICAgICAgICAgICAgICAgICAgICBpY29uOiBuZXcgTC5JY29uLkRlZmF1bHQoKQogICAgICAgICAgICAgICAgICAgIH0KICAgICAgICAgICAgICAgICkKICAgICAgICAgICAgICAgIC5hZGRUbyhtYXBfYTRkMDY1NjRiYmM5NGI5ZDg1MzI2ZGRhODU5YWQxNjkpOwogICAgICAgICAgICAKICAgIAoKICAgICAgICAgICAgICAgIHZhciBpY29uXzc1OWE5ZmM5ZDA4MzQ5ODVhZjU3ZDFkYmEyNjM5NTQzID0gTC5Bd2Vzb21lTWFya2Vycy5pY29uKHsKICAgICAgICAgICAgICAgICAgICBpY29uOiAnc3RhcicsCiAgICAgICAgICAgICAgICAgICAgaWNvbkNvbG9yOiAnd2hpdGUnLAogICAgICAgICAgICAgICAgICAgIG1hcmtlckNvbG9yOiAnZ3JlZW4nLAogICAgICAgICAgICAgICAgICAgIHByZWZpeDogJ2dseXBoaWNvbicsCiAgICAgICAgICAgICAgICAgICAgZXh0cmFDbGFzc2VzOiAnZmEtcm90YXRlLTAnCiAgICAgICAgICAgICAgICAgICAgfSk7CiAgICAgICAgICAgICAgICBtYXJrZXJfOGQ1NDRlODBkZmUyNGE4Zjg5ODU2Njc2NWVjYTJjODEuc2V0SWNvbihpY29uXzc1OWE5ZmM5ZDA4MzQ5ODVhZjU3ZDFkYmEyNjM5NTQzKTsKICAgICAgICAgICAgCiAgICAKCiAgICAgICAgICAgIHZhciBtYXJrZXJfM2U1MDU5ZGY1NDU3NDEwZmFkZDFiNWMxNDhhZGNmYjEgPSBMLm1hcmtlcigKICAgICAgICAgICAgICAgIFs0MC44NTQyMDg1NzE0LC03My44Nzc3ODkyODM0XSwKICAgICAgICAgICAgICAgIHsKICAgICAgICAgICAgICAgICAgICBpY29uOiBuZXcgTC5JY29uLkRlZmF1bHQoKQogICAgICAgICAgICAgICAgICAgIH0KICAgICAgICAgICAgICAgICkKICAgICAgICAgICAgICAgIC5hZGRUbyhtYXBfYTRkMDY1NjRiYmM5NGI5ZDg1MzI2ZGRhODU5YWQxNjkpOwogICAgICAgICAgICAKICAgIAoKICAgICAgICAgICAgICAgIHZhciBpY29uX2Q3ODk3MGEwZTUyZjRmZjdhZGY0OWNlYjQyYTY3MzBhID0gTC5Bd2Vzb21lTWFya2Vycy5pY29uKHsKICAgICAgICAgICAgICAgICAgICBpY29uOiAnc3RhcicsCiAgICAgICAgICAgICAgICAgICAgaWNvbkNvbG9yOiAnd2hpdGUnLAogICAgICAgICAgICAgICAgICAgIG1hcmtlckNvbG9yOiAnZ3JlZW4nLAogICAgICAgICAgICAgICAgICAgIHByZWZpeDogJ2dseXBoaWNvbicsCiAgICAgICAgICAgICAgICAgICAgZXh0cmFDbGFzc2VzOiAnZmEtcm90YXRlLTAnCiAgICAgICAgICAgICAgICAgICAgfSk7CiAgICAgICAgICAgICAgICBtYXJrZXJfM2U1MDU5ZGY1NDU3NDEwZmFkZDFiNWMxNDhhZGNmYjEuc2V0SWNvbihpY29uX2Q3ODk3MGEwZTUyZjRmZjdhZGY0OWNlYjQyYTY3MzBhKTsKICAgICAgICAgICAgCiAgICAKCiAgICAgICAgICAgIHZhciBtYXJrZXJfMWI3YjAxNTFlMTY3NGFhMmE5MDYzY2E2ODdmMGZmZTUgPSBMLm1hcmtlcigKICAgICAgICAgICAgICAgIFs0MC44NTM2OTU2NjE0LC03My44Nzc4MTM2NTU3XSwKICAgICAgICAgICAgICAgIHsKICAgICAgICAgICAgICAgICAgICBpY29uOiBuZXcgTC5JY29uLkRlZmF1bHQoKQogICAgICAgICAgICAgICAgICAgIH0KICAgICAgICAgICAgICAgICkKICAgICAgICAgICAgICAgIC5hZGRUbyhtYXBfYTRkMDY1NjRiYmM5NGI5ZDg1MzI2ZGRhODU5YWQxNjkpOwogICAgICAgICAgICAKICAgIAoKICAgICAgICAgICAgICAgIHZhciBpY29uXzg2NmI3YWIzN2U4ZjRkYTViNGE2Yjk1MjdiODQwOGY1ID0gTC5Bd2Vzb21lTWFya2Vycy5pY29uKHsKICAgICAgICAgICAgICAgICAgICBpY29uOiAnc3RhcicsCiAgICAgICAgICAgICAgICAgICAgaWNvbkNvbG9yOiAnd2hpdGUnLAogICAgICAgICAgICAgICAgICAgIG1hcmtlckNvbG9yOiAnZ3JlZW4nLAogICAgICAgICAgICAgICAgICAgIHByZWZpeDogJ2dseXBoaWNvbicsCiAgICAgICAgICAgICAgICAgICAgZXh0cmFDbGFzc2VzOiAnZmEtcm90YXRlLTAnCiAgICAgICAgICAgICAgICAgICAgfSk7CiAgICAgICAgICAgICAgICBtYXJrZXJfMWI3YjAxNTFlMTY3NGFhMmE5MDYzY2E2ODdmMGZmZTUuc2V0SWNvbihpY29uXzg2NmI3YWIzN2U4ZjRkYTViNGE2Yjk1MjdiODQwOGY1KTsKICAgICAgICAgICAgCiAgICAKCiAgICAgICAgICAgIHZhciBtYXJrZXJfZTA4YjZhZGVmNGRhNGU4YTk2OGZjM2NiNTA4OTM1OTMgPSBMLm1hcmtlcigKICAgICAgICAgICAgICAgIFs0MC44NTM0MjY5NzEyLC03My44Nzc0NzA3MDI4XSwKICAgICAgICAgICAgICAgIHsKICAgICAgICAgICAgICAgICAgICBpY29uOiBuZXcgTC5JY29uLkRlZmF1bHQoKQogICAgICAgICAgICAgICAgICAgIH0KICAgICAgICAgICAgICAgICkKICAgICAgICAgICAgICAgIC5hZGRUbyhtYXBfYTRkMDY1NjRiYmM5NGI5ZDg1MzI2ZGRhODU5YWQxNjkpOwogICAgICAgICAgICAKICAgIAoKICAgICAgICAgICAgICAgIHZhciBpY29uX2UxYTBkMTQ2NzMwMjQ3M2FiOWUwMTYzY2M4NTNlNWQ1ID0gTC5Bd2Vzb21lTWFya2Vycy5pY29uKHsKICAgICAgICAgICAgICAgICAgICBpY29uOiAnc3RhcicsCiAgICAgICAgICAgICAgICAgICAgaWNvbkNvbG9yOiAnd2hpdGUnLAogICAgICAgICAgICAgICAgICAgIG1hcmtlckNvbG9yOiAnZ3JlZW4nLAogICAgICAgICAgICAgICAgICAgIHByZWZpeDogJ2dseXBoaWNvbicsCiAgICAgICAgICAgICAgICAgICAgZXh0cmFDbGFzc2VzOiAnZmEtcm90YXRlLTAnCiAgICAgICAgICAgICAgICAgICAgfSk7CiAgICAgICAgICAgICAgICBtYXJrZXJfZTA4YjZhZGVmNGRhNGU4YTk2OGZjM2NiNTA4OTM1OTMuc2V0SWNvbihpY29uX2UxYTBkMTQ2NzMwMjQ3M2FiOWUwMTYzY2M4NTNlNWQ1KTsKICAgICAgICAgICAgCiAgICAKCiAgICAgICAgICAgIHZhciBtYXJrZXJfNTMxZjFhY2UxNDMzNGZmMjlkOTkyMDgwMTRjN2E0NDEgPSBMLm1hcmtlcigKICAgICAgICAgICAgICAgIFs0MC44NTM5MTcwNDA1LC03My44Nzc1MzE0MTAxXSwKICAgICAgICAgICAgICAgIHsKICAgICAgICAgICAgICAgICAgICBpY29uOiBuZXcgTC5JY29uLkRlZmF1bHQoKQogICAgICAgICAgICAgICAgICAgIH0KICAgICAgICAgICAgICAgICkKICAgICAgICAgICAgICAgIC5hZGRUbyhtYXBfYTRkMDY1NjRiYmM5NGI5ZDg1MzI2ZGRhODU5YWQxNjkpOwogICAgICAgICAgICAKICAgIAoKICAgICAgICAgICAgICAgIHZhciBpY29uX2ZiNDU4MzRhZDQyNDQ2MThiMjA0YWQzYTllNTc3OWZiID0gTC5Bd2Vzb21lTWFya2Vycy5pY29uKHsKICAgICAgICAgICAgICAgICAgICBpY29uOiAnc3RhcicsCiAgICAgICAgICAgICAgICAgICAgaWNvbkNvbG9yOiAnd2hpdGUnLAogICAgICAgICAgICAgICAgICAgIG1hcmtlckNvbG9yOiAnZ3JlZW4nLAogICAgICAgICAgICAgICAgICAgIHByZWZpeDogJ2dseXBoaWNvbicsCiAgICAgICAgICAgICAgICAgICAgZXh0cmFDbGFzc2VzOiAnZmEtcm90YXRlLTAnCiAgICAgICAgICAgICAgICAgICAgfSk7CiAgICAgICAgICAgICAgICBtYXJrZXJfNTMxZjFhY2UxNDMzNGZmMjlkOTkyMDgwMTRjN2E0NDEuc2V0SWNvbihpY29uX2ZiNDU4MzRhZDQyNDQ2MThiMjA0YWQzYTllNTc3OWZiKTsKICAgICAgICAgICAgCiAgICAKCiAgICAgICAgICAgIHZhciBtYXJrZXJfMGI4ZjczMGE4NWQ4NDA4MDlkZTQ3ZThlMzZkNmNmMWYgPSBMLm1hcmtlcigKICAgICAgICAgICAgICAgIFs0MC44NTM5Mzg1MDEsLTczLjg3Nzc0MzM4NzZdLAogICAgICAgICAgICAgICAgewogICAgICAgICAgICAgICAgICAgIGljb246IG5ldyBMLkljb24uRGVmYXVsdCgpCiAgICAgICAgICAgICAgICAgICAgfQogICAgICAgICAgICAgICAgKQogICAgICAgICAgICAgICAgLmFkZFRvKG1hcF9hNGQwNjU2NGJiYzk0YjlkODUzMjZkZGE4NTlhZDE2OSk7CiAgICAgICAgICAgIAogICAgCgogICAgICAgICAgICAgICAgdmFyIGljb25fZjMzZjdmZWUyZTAwNDBlZmE5ZGI5ZGNjZTA0MzE2YTUgPSBMLkF3ZXNvbWVNYXJrZXJzLmljb24oewogICAgICAgICAgICAgICAgICAgIGljb246ICdzdGFyJywKICAgICAgICAgICAgICAgICAgICBpY29uQ29sb3I6ICd3aGl0ZScsCiAgICAgICAgICAgICAgICAgICAgbWFya2VyQ29sb3I6ICdncmVlbicsCiAgICAgICAgICAgICAgICAgICAgcHJlZml4OiAnZ2x5cGhpY29uJywKICAgICAgICAgICAgICAgICAgICBleHRyYUNsYXNzZXM6ICdmYS1yb3RhdGUtMCcKICAgICAgICAgICAgICAgICAgICB9KTsKICAgICAgICAgICAgICAgIG1hcmtlcl8wYjhmNzMwYTg1ZDg0MDgwOWRlNDdlOGUzNmQ2Y2YxZi5zZXRJY29uKGljb25fZjMzZjdmZWUyZTAwNDBlZmE5ZGI5ZGNjZTA0MzE2YTUpOwogICAgICAgICAgICAKICAgIAoKICAgICAgICAgICAgdmFyIG1hcmtlcl81MTM1MTdkNGQyOTE0NzA2YTE0NWIxMGIwMzQ3YTFjMyA9IEwubWFya2VyKAogICAgICAgICAgICAgICAgWzQwLjg1Mzg5ODA0MzksLTczLjg3NzQ1NDgwMzddLAogICAgICAgICAgICAgICAgewogICAgICAgICAgICAgICAgICAgIGljb246IG5ldyBMLkljb24uRGVmYXVsdCgpCiAgICAgICAgICAgICAgICAgICAgfQogICAgICAgICAgICAgICAgKQogICAgICAgICAgICAgICAgLmFkZFRvKG1hcF9hNGQwNjU2NGJiYzk0YjlkODUzMjZkZGE4NTlhZDE2OSk7CiAgICAgICAgICAgIAogICAgCgogICAgICAgICAgICAgICAgdmFyIGljb25fZTYyZDYwNWVjZmYzNGI5OGExZjllNDFkYTEzMDU2ZjggPSBMLkF3ZXNvbWVNYXJrZXJzLmljb24oewogICAgICAgICAgICAgICAgICAgIGljb246ICdzdGFyJywKICAgICAgICAgICAgICAgICAgICBpY29uQ29sb3I6ICd3aGl0ZScsCiAgICAgICAgICAgICAgICAgICAgbWFya2VyQ29sb3I6ICdncmVlbicsCiAgICAgICAgICAgICAgICAgICAgcHJlZml4OiAnZ2x5cGhpY29uJywKICAgICAgICAgICAgICAgICAgICBleHRyYUNsYXNzZXM6ICdmYS1yb3RhdGUtMCcKICAgICAgICAgICAgICAgICAgICB9KTsKICAgICAgICAgICAgICAgIG1hcmtlcl81MTM1MTdkNGQyOTE0NzA2YTE0NWIxMGIwMzQ3YTFjMy5zZXRJY29uKGljb25fZTYyZDYwNWVjZmYzNGI5OGExZjllNDFkYTEzMDU2ZjgpOwogICAgICAgICAgICAKICAgIAoKICAgICAgICAgICAgdmFyIG1hcmtlcl80MTQ1NTI2ZGQ2NTI0MjZhOWU2ZTkwZWMyOGE1OGFmMyA9IEwubWFya2VyKAogICAgICAgICAgICAgICAgWzQwLjg1NDAwMjUwODUsLTczLjg3Nzk5MzEyNzRdLAogICAgICAgICAgICAgICAgewogICAgICAgICAgICAgICAgICAgIGljb246IG5ldyBMLkljb24uRGVmYXVsdCgpCiAgICAgICAgICAgICAgICAgICAgfQogICAgICAgICAgICAgICAgKQogICAgICAgICAgICAgICAgLmFkZFRvKG1hcF9hNGQwNjU2NGJiYzk0YjlkODUzMjZkZGE4NTlhZDE2OSk7CiAgICAgICAgICAgIAogICAgCgogICAgICAgICAgICAgICAgdmFyIGljb25fMzNhMzVlNzgzZmJmNDgxZDhhNGU0M2ZiOWMzN2I0ODEgPSBMLkF3ZXNvbWVNYXJrZXJzLmljb24oewogICAgICAgICAgICAgICAgICAgIGljb246ICdzdGFyJywKICAgICAgICAgICAgICAgICAgICBpY29uQ29sb3I6ICd3aGl0ZScsCiAgICAgICAgICAgICAgICAgICAgbWFya2VyQ29sb3I6ICdncmVlbicsCiAgICAgICAgICAgICAgICAgICAgcHJlZml4OiAnZ2x5cGhpY29uJywKICAgICAgICAgICAgICAgICAgICBleHRyYUNsYXNzZXM6ICdmYS1yb3RhdGUtMCcKICAgICAgICAgICAgICAgICAgICB9KTsKICAgICAgICAgICAgICAgIG1hcmtlcl80MTQ1NTI2ZGQ2NTI0MjZhOWU2ZTkwZWMyOGE1OGFmMy5zZXRJY29uKGljb25fMzNhMzVlNzgzZmJmNDgxZDhhNGU0M2ZiOWMzN2I0ODEpOwogICAgICAgICAgICAKICAgIAoKICAgICAgICAgICAgdmFyIG1hcmtlcl8wYmM3Nzg2ZDNhM2U0MGNmOTgyZDllNmU4YWFiY2I2MiA9IEwubWFya2VyKAogICAgICAgICAgICAgICAgWzQwLjg1MzkwNjc5NzIsLTczLjg3Nzk2NTcyMTddLAogICAgICAgICAgICAgICAgewogICAgICAgICAgICAgICAgICAgIGljb246IG5ldyBMLkljb24uRGVmYXVsdCgpCiAgICAgICAgICAgICAgICAgICAgfQogICAgICAgICAgICAgICAgKQogICAgICAgICAgICAgICAgLmFkZFRvKG1hcF9hNGQwNjU2NGJiYzk0YjlkODUzMjZkZGE4NTlhZDE2OSk7CiAgICAgICAgICAgIAogICAgCgogICAgICAgICAgICAgICAgdmFyIGljb25fYmNmMWQ4ODU0NzY3NDRmNGI3Y2U1YzQzNTQxMjljNjAgPSBMLkF3ZXNvbWVNYXJrZXJzLmljb24oewogICAgICAgICAgICAgICAgICAgIGljb246ICdzdGFyJywKICAgICAgICAgICAgICAgICAgICBpY29uQ29sb3I6ICd3aGl0ZScsCiAgICAgICAgICAgICAgICAgICAgbWFya2VyQ29sb3I6ICdncmVlbicsCiAgICAgICAgICAgICAgICAgICAgcHJlZml4OiAnZ2x5cGhpY29uJywKICAgICAgICAgICAgICAgICAgICBleHRyYUNsYXNzZXM6ICdmYS1yb3RhdGUtMCcKICAgICAgICAgICAgICAgICAgICB9KTsKICAgICAgICAgICAgICAgIG1hcmtlcl8wYmM3Nzg2ZDNhM2U0MGNmOTgyZDllNmU4YWFiY2I2Mi5zZXRJY29uKGljb25fYmNmMWQ4ODU0NzY3NDRmNGI3Y2U1YzQzNTQxMjljNjApOwogICAgICAgICAgICAKICAgIAoKICAgICAgICAgICAgdmFyIG1hcmtlcl9hMmU1YzI5YjUwZWQ0NGE3YjYwZWJmNTg2MGFjMTI1MSA9IEwubWFya2VyKAogICAgICAgICAgICAgICAgWzQwLjg1Mzk4NzE2NjgsLTczLjg3NzQ2ODQyM10sCiAgICAgICAgICAgICAgICB7CiAgICAgICAgICAgICAgICAgICAgaWNvbjogbmV3IEwuSWNvbi5EZWZhdWx0KCkKICAgICAgICAgICAgICAgICAgICB9CiAgICAgICAgICAgICAgICApCiAgICAgICAgICAgICAgICAuYWRkVG8obWFwX2E0ZDA2NTY0YmJjOTRiOWQ4NTMyNmRkYTg1OWFkMTY5KTsKICAgICAgICAgICAgCiAgICAKCiAgICAgICAgICAgICAgICB2YXIgaWNvbl9jNDk0MTAxOWFiNWU0YWVlOWI1NzEyOTE1Nzg3NjIyMyA9IEwuQXdlc29tZU1hcmtlcnMuaWNvbih7CiAgICAgICAgICAgICAgICAgICAgaWNvbjogJ3N0YXInLAogICAgICAgICAgICAgICAgICAgIGljb25Db2xvcjogJ3doaXRlJywKICAgICAgICAgICAgICAgICAgICBtYXJrZXJDb2xvcjogJ2dyZWVuJywKICAgICAgICAgICAgICAgICAgICBwcmVmaXg6ICdnbHlwaGljb24nLAogICAgICAgICAgICAgICAgICAgIGV4dHJhQ2xhc3NlczogJ2ZhLXJvdGF0ZS0wJwogICAgICAgICAgICAgICAgICAgIH0pOwogICAgICAgICAgICAgICAgbWFya2VyX2EyZTVjMjliNTBlZDQ0YTdiNjBlYmY1ODYwYWMxMjUxLnNldEljb24oaWNvbl9jNDk0MTAxOWFiNWU0YWVlOWI1NzEyOTE1Nzg3NjIyMyk7CiAgICAgICAgICAgIAogICAgCgogICAgICAgICAgICB2YXIgbWFya2VyXzY5Zjc0MTNmNTY5NjQzODM4NjYxNmMxOTc4ODIyYzVkID0gTC5tYXJrZXIoCiAgICAgICAgICAgICAgICBbNDAuODUzOTY4MjE1LC03My44NzcyNzU3ODQxXSwKICAgICAgICAgICAgICAgIHsKICAgICAgICAgICAgICAgICAgICBpY29uOiBuZXcgTC5JY29uLkRlZmF1bHQoKQogICAgICAgICAgICAgICAgICAgIH0KICAgICAgICAgICAgICAgICkKICAgICAgICAgICAgICAgIC5hZGRUbyhtYXBfYTRkMDY1NjRiYmM5NGI5ZDg1MzI2ZGRhODU5YWQxNjkpOwogICAgICAgICAgICAKICAgIAoKICAgICAgICAgICAgICAgIHZhciBpY29uXzQyMzc4Nzk4ZTI0YjQzMjU5MjY2NmQyZTJjZmZiMjg4ID0gTC5Bd2Vzb21lTWFya2Vycy5pY29uKHsKICAgICAgICAgICAgICAgICAgICBpY29uOiAnc3RhcicsCiAgICAgICAgICAgICAgICAgICAgaWNvbkNvbG9yOiAnd2hpdGUnLAogICAgICAgICAgICAgICAgICAgIG1hcmtlckNvbG9yOiAnZ3JlZW4nLAogICAgICAgICAgICAgICAgICAgIHByZWZpeDogJ2dseXBoaWNvbicsCiAgICAgICAgICAgICAgICAgICAgZXh0cmFDbGFzc2VzOiAnZmEtcm90YXRlLTAnCiAgICAgICAgICAgICAgICAgICAgfSk7CiAgICAgICAgICAgICAgICBtYXJrZXJfNjlmNzQxM2Y1Njk2NDM4Mzg2NjE2YzE5Nzg4MjJjNWQuc2V0SWNvbihpY29uXzQyMzc4Nzk4ZTI0YjQzMjU5MjY2NmQyZTJjZmZiMjg4KTsKICAgICAgICAgICAgCiAgICAKCiAgICAgICAgICAgIHZhciBtYXJrZXJfNWNjODE2MWRlOWM5NDhiMWI4ZGViZDc2OWNiOTM5NDkgPSBMLm1hcmtlcigKICAgICAgICAgICAgICAgIFs0MC44NTM5ODgzNTc0LC03My44Nzc1Mjk1ODg5XSwKICAgICAgICAgICAgICAgIHsKICAgICAgICAgICAgICAgICAgICBpY29uOiBuZXcgTC5JY29uLkRlZmF1bHQoKQogICAgICAgICAgICAgICAgICAgIH0KICAgICAgICAgICAgICAgICkKICAgICAgICAgICAgICAgIC5hZGRUbyhtYXBfYTRkMDY1NjRiYmM5NGI5ZDg1MzI2ZGRhODU5YWQxNjkpOwogICAgICAgICAgICAKICAgIAoKICAgICAgICAgICAgICAgIHZhciBpY29uX2I3MjViYmU5ODM4YzQ0ZDlhNjgyMzc0ZWQ5Y2M3N2M0ID0gTC5Bd2Vzb21lTWFya2Vycy5pY29uKHsKICAgICAgICAgICAgICAgICAgICBpY29uOiAnc3RhcicsCiAgICAgICAgICAgICAgICAgICAgaWNvbkNvbG9yOiAnd2hpdGUnLAogICAgICAgICAgICAgICAgICAgIG1hcmtlckNvbG9yOiAnZ3JlZW4nLAogICAgICAgICAgICAgICAgICAgIHByZWZpeDogJ2dseXBoaWNvbicsCiAgICAgICAgICAgICAgICAgICAgZXh0cmFDbGFzc2VzOiAnZmEtcm90YXRlLTAnCiAgICAgICAgICAgICAgICAgICAgfSk7CiAgICAgICAgICAgICAgICBtYXJrZXJfNWNjODE2MWRlOWM5NDhiMWI4ZGViZDc2OWNiOTM5NDkuc2V0SWNvbihpY29uX2I3MjViYmU5ODM4YzQ0ZDlhNjgyMzc0ZWQ5Y2M3N2M0KTsKICAgICAgICAgICAgCiAgICAKCiAgICAgICAgICAgIHZhciBtYXJrZXJfZTdlZjBlZGUwY2E3NDRiNzk2ZTg3YzUyNjQ4YzhmZDcgPSBMLm1hcmtlcigKICAgICAgICAgICAgICAgIFs0MC44NTQwNTUyMzIxLC03My44Nzc0NDU4MjEyXSwKICAgICAgICAgICAgICAgIHsKICAgICAgICAgICAgICAgICAgICBpY29uOiBuZXcgTC5JY29uLkRlZmF1bHQoKQogICAgICAgICAgICAgICAgICAgIH0KICAgICAgICAgICAgICAgICkKICAgICAgICAgICAgICAgIC5hZGRUbyhtYXBfYTRkMDY1NjRiYmM5NGI5ZDg1MzI2ZGRhODU5YWQxNjkpOwogICAgICAgICAgICAKICAgIAoKICAgICAgICAgICAgICAgIHZhciBpY29uXzk2MjVmYjYwMDdkZjQ0NmQ5OTEyNmZlMWE0ODMyMWQwID0gTC5Bd2Vzb21lTWFya2Vycy5pY29uKHsKICAgICAgICAgICAgICAgICAgICBpY29uOiAnc3RhcicsCiAgICAgICAgICAgICAgICAgICAgaWNvbkNvbG9yOiAnd2hpdGUnLAogICAgICAgICAgICAgICAgICAgIG1hcmtlckNvbG9yOiAnZ3JlZW4nLAogICAgICAgICAgICAgICAgICAgIHByZWZpeDogJ2dseXBoaWNvbicsCiAgICAgICAgICAgICAgICAgICAgZXh0cmFDbGFzc2VzOiAnZmEtcm90YXRlLTAnCiAgICAgICAgICAgICAgICAgICAgfSk7CiAgICAgICAgICAgICAgICBtYXJrZXJfZTdlZjBlZGUwY2E3NDRiNzk2ZTg3YzUyNjQ4YzhmZDcuc2V0SWNvbihpY29uXzk2MjVmYjYwMDdkZjQ0NmQ5OTEyNmZlMWE0ODMyMWQwKTsKICAgICAgICAgICAgCiAgICAKCiAgICAgICAgICAgIHZhciBtYXJrZXJfZDg1M2FhNjMyMmYxNGM4Mjg0NzMyNWY2YWIzN2ViZWIgPSBMLm1hcmtlcigKICAgICAgICAgICAgICAgIFs0MC44NTM5NzEyNzIyLC03My44NzgwMTkzMzAyXSwKICAgICAgICAgICAgICAgIHsKICAgICAgICAgICAgICAgICAgICBpY29uOiBuZXcgTC5JY29uLkRlZmF1bHQoKQogICAgICAgICAgICAgICAgICAgIH0KICAgICAgICAgICAgICAgICkKICAgICAgICAgICAgICAgIC5hZGRUbyhtYXBfYTRkMDY1NjRiYmM5NGI5ZDg1MzI2ZGRhODU5YWQxNjkpOwogICAgICAgICAgICAKICAgIAoKICAgICAgICAgICAgICAgIHZhciBpY29uXzVlYTg4OTA3OGJlNTRhMDJiZjFjMTY3ZTMwMjA1YTVhID0gTC5Bd2Vzb21lTWFya2Vycy5pY29uKHsKICAgICAgICAgICAgICAgICAgICBpY29uOiAnc3RhcicsCiAgICAgICAgICAgICAgICAgICAgaWNvbkNvbG9yOiAnd2hpdGUnLAogICAgICAgICAgICAgICAgICAgIG1hcmtlckNvbG9yOiAnZ3JlZW4nLAogICAgICAgICAgICAgICAgICAgIHByZWZpeDogJ2dseXBoaWNvbicsCiAgICAgICAgICAgICAgICAgICAgZXh0cmFDbGFzc2VzOiAnZmEtcm90YXRlLTAnCiAgICAgICAgICAgICAgICAgICAgfSk7CiAgICAgICAgICAgICAgICBtYXJrZXJfZDg1M2FhNjMyMmYxNGM4Mjg0NzMyNWY2YWIzN2ViZWIuc2V0SWNvbihpY29uXzVlYTg4OTA3OGJlNTRhMDJiZjFjMTY3ZTMwMjA1YTVhKTsKICAgICAgICAgICAgCiAgICAKCiAgICAgICAgICAgIHZhciBtYXJrZXJfMDg0MTc2MDI0MjU2NDFjNjkxOWRhZDdmM2MxYzBlZmIgPSBMLm1hcmtlcigKICAgICAgICAgICAgICAgIFs0MC44NTM0MzEyODQ1LC03My44Nzc1MjQxNjFdLAogICAgICAgICAgICAgICAgewogICAgICAgICAgICAgICAgICAgIGljb246IG5ldyBMLkljb24uRGVmYXVsdCgpCiAgICAgICAgICAgICAgICAgICAgfQogICAgICAgICAgICAgICAgKQogICAgICAgICAgICAgICAgLmFkZFRvKG1hcF9hNGQwNjU2NGJiYzk0YjlkODUzMjZkZGE4NTlhZDE2OSk7CiAgICAgICAgICAgIAogICAgCgogICAgICAgICAgICAgICAgdmFyIGljb25fNzRkNWY2ZWU3ZTZiNGIyMjk1YTY4ZTc4NWYxNGQ5M2QgPSBMLkF3ZXNvbWVNYXJrZXJzLmljb24oewogICAgICAgICAgICAgICAgICAgIGljb246ICdzdGFyJywKICAgICAgICAgICAgICAgICAgICBpY29uQ29sb3I6ICd3aGl0ZScsCiAgICAgICAgICAgICAgICAgICAgbWFya2VyQ29sb3I6ICdncmVlbicsCiAgICAgICAgICAgICAgICAgICAgcHJlZml4OiAnZ2x5cGhpY29uJywKICAgICAgICAgICAgICAgICAgICBleHRyYUNsYXNzZXM6ICdmYS1yb3RhdGUtMCcKICAgICAgICAgICAgICAgICAgICB9KTsKICAgICAgICAgICAgICAgIG1hcmtlcl8wODQxNzYwMjQyNTY0MWM2OTE5ZGFkN2YzYzFjMGVmYi5zZXRJY29uKGljb25fNzRkNWY2ZWU3ZTZiNGIyMjk1YTY4ZTc4NWYxNGQ5M2QpOwogICAgICAgICAgICAKICAgIAoKICAgICAgICAgICAgdmFyIG1hcmtlcl81OTc5YjhlZDU2ZmE0MGEyYTBiNGQyMzZiOGZmMjJmMCA9IEwubWFya2VyKAogICAgICAgICAgICAgICAgWzQwLjg1MzUzOTEyNjIsLTczLjg3Nzk2NTAzMl0sCiAgICAgICAgICAgICAgICB7CiAgICAgICAgICAgICAgICAgICAgaWNvbjogbmV3IEwuSWNvbi5EZWZhdWx0KCkKICAgICAgICAgICAgICAgICAgICB9CiAgICAgICAgICAgICAgICApCiAgICAgICAgICAgICAgICAuYWRkVG8obWFwX2E0ZDA2NTY0YmJjOTRiOWQ4NTMyNmRkYTg1OWFkMTY5KTsKICAgICAgICAgICAgCiAgICAKCiAgICAgICAgICAgICAgICB2YXIgaWNvbl9iMDM2ZTE5MzFkNzY0MTBhODcxYTdiMjFiMjg0N2MyYiA9IEwuQXdlc29tZU1hcmtlcnMuaWNvbih7CiAgICAgICAgICAgICAgICAgICAgaWNvbjogJ3N0YXInLAogICAgICAgICAgICAgICAgICAgIGljb25Db2xvcjogJ3doaXRlJywKICAgICAgICAgICAgICAgICAgICBtYXJrZXJDb2xvcjogJ2dyZWVuJywKICAgICAgICAgICAgICAgICAgICBwcmVmaXg6ICdnbHlwaGljb24nLAogICAgICAgICAgICAgICAgICAgIGV4dHJhQ2xhc3NlczogJ2ZhLXJvdGF0ZS0wJwogICAgICAgICAgICAgICAgICAgIH0pOwogICAgICAgICAgICAgICAgbWFya2VyXzU5NzliOGVkNTZmYTQwYTJhMGI0ZDIzNmI4ZmYyMmYwLnNldEljb24oaWNvbl9iMDM2ZTE5MzFkNzY0MTBhODcxYTdiMjFiMjg0N2MyYik7CiAgICAgICAgICAgIAogICAgCgogICAgICAgICAgICB2YXIgbWFya2VyXzQ3MzIxODhmNGEwNjQ0ZWZiZTdiYmZiMDlmZWJkNGY0ID0gTC5tYXJrZXIoCiAgICAgICAgICAgICAgICBbNDAuODUzNTMwMTkzNCwtNzMuODc3NzQ4OTYzN10sCiAgICAgICAgICAgICAgICB7CiAgICAgICAgICAgICAgICAgICAgaWNvbjogbmV3IEwuSWNvbi5EZWZhdWx0KCkKICAgICAgICAgICAgICAgICAgICB9CiAgICAgICAgICAgICAgICApCiAgICAgICAgICAgICAgICAuYWRkVG8obWFwX2E0ZDA2NTY0YmJjOTRiOWQ4NTMyNmRkYTg1OWFkMTY5KTsKICAgICAgICAgICAgCiAgICAKCiAgICAgICAgICAgICAgICB2YXIgaWNvbl8yNTQwOGNiYzk3YmI0NTExOTEyMzMzOGEzZTcyODFhZCA9IEwuQXdlc29tZU1hcmtlcnMuaWNvbih7CiAgICAgICAgICAgICAgICAgICAgaWNvbjogJ3N0YXInLAogICAgICAgICAgICAgICAgICAgIGljb25Db2xvcjogJ3doaXRlJywKICAgICAgICAgICAgICAgICAgICBtYXJrZXJDb2xvcjogJ2dyZWVuJywKICAgICAgICAgICAgICAgICAgICBwcmVmaXg6ICdnbHlwaGljb24nLAogICAgICAgICAgICAgICAgICAgIGV4dHJhQ2xhc3NlczogJ2ZhLXJvdGF0ZS0wJwogICAgICAgICAgICAgICAgICAgIH0pOwogICAgICAgICAgICAgICAgbWFya2VyXzQ3MzIxODhmNGEwNjQ0ZWZiZTdiYmZiMDlmZWJkNGY0LnNldEljb24oaWNvbl8yNTQwOGNiYzk3YmI0NTExOTEyMzMzOGEzZTcyODFhZCk7CiAgICAgICAgICAgIAogICAgCgogICAgICAgICAgICB2YXIgbWFya2VyXzgzZmY0MDk2ZmQzNzQ0YjdiZDJlZmZiYjk2N2NjNmUyID0gTC5tYXJrZXIoCiAgICAgICAgICAgICAgICBbNDAuODUzODMwOTM3NiwtNzMuODc3NjQ0NDA0XSwKICAgICAgICAgICAgICAgIHsKICAgICAgICAgICAgICAgICAgICBpY29uOiBuZXcgTC5JY29uLkRlZmF1bHQoKQogICAgICAgICAgICAgICAgICAgIH0KICAgICAgICAgICAgICAgICkKICAgICAgICAgICAgICAgIC5hZGRUbyhtYXBfYTRkMDY1NjRiYmM5NGI5ZDg1MzI2ZGRhODU5YWQxNjkpOwogICAgICAgICAgICAKICAgIAoKICAgICAgICAgICAgICAgIHZhciBpY29uX2Y0OTY3ZjQ3M2U4YzRiNmNiMWEwYjk1MTNhYWQwNzMyID0gTC5Bd2Vzb21lTWFya2Vycy5pY29uKHsKICAgICAgICAgICAgICAgICAgICBpY29uOiAnc3RhcicsCiAgICAgICAgICAgICAgICAgICAgaWNvbkNvbG9yOiAnd2hpdGUnLAogICAgICAgICAgICAgICAgICAgIG1hcmtlckNvbG9yOiAnZ3JlZW4nLAogICAgICAgICAgICAgICAgICAgIHByZWZpeDogJ2dseXBoaWNvbicsCiAgICAgICAgICAgICAgICAgICAgZXh0cmFDbGFzc2VzOiAnZmEtcm90YXRlLTAnCiAgICAgICAgICAgICAgICAgICAgfSk7CiAgICAgICAgICAgICAgICBtYXJrZXJfODNmZjQwOTZmZDM3NDRiN2JkMmVmZmJiOTY3Y2M2ZTIuc2V0SWNvbihpY29uX2Y0OTY3ZjQ3M2U4YzRiNmNiMWEwYjk1MTNhYWQwNzMyKTsKICAgICAgICAgICAgCiAgICAKCiAgICAgICAgICAgIHZhciBtYXJrZXJfNGM3N2YxYzMyNjZhNDk0YmJkNzlmMTgzYjQ5OGYxNzggPSBMLm1hcmtlcigKICAgICAgICAgICAgICAgIFs0MC44NTMzOTI2MDAyLC03My44Nzc0NzUwMTIxXSwKICAgICAgICAgICAgICAgIHsKICAgICAgICAgICAgICAgICAgICBpY29uOiBuZXcgTC5JY29uLkRlZmF1bHQoKQogICAgICAgICAgICAgICAgICAgIH0KICAgICAgICAgICAgICAgICkKICAgICAgICAgICAgICAgIC5hZGRUbyhtYXBfYTRkMDY1NjRiYmM5NGI5ZDg1MzI2ZGRhODU5YWQxNjkpOwogICAgICAgICAgICAKICAgIAoKICAgICAgICAgICAgICAgIHZhciBpY29uXzc0MmY2N2JkZWY5YTQ2Njc5YzBmNmJiZmI0YmY1MjBlID0gTC5Bd2Vzb21lTWFya2Vycy5pY29uKHsKICAgICAgICAgICAgICAgICAgICBpY29uOiAnc3RhcicsCiAgICAgICAgICAgICAgICAgICAgaWNvbkNvbG9yOiAnd2hpdGUnLAogICAgICAgICAgICAgICAgICAgIG1hcmtlckNvbG9yOiAnZ3JlZW4nLAogICAgICAgICAgICAgICAgICAgIHByZWZpeDogJ2dseXBoaWNvbicsCiAgICAgICAgICAgICAgICAgICAgZXh0cmFDbGFzc2VzOiAnZmEtcm90YXRlLTAnCiAgICAgICAgICAgICAgICAgICAgfSk7CiAgICAgICAgICAgICAgICBtYXJrZXJfNGM3N2YxYzMyNjZhNDk0YmJkNzlmMTgzYjQ5OGYxNzguc2V0SWNvbihpY29uXzc0MmY2N2JkZWY5YTQ2Njc5YzBmNmJiZmI0YmY1MjBlKTsKICAgICAgICAgICAgCiAgICAKCiAgICAgICAgICAgIHZhciBtYXJrZXJfN2RiZDc0NDU2ZmRhNGJkNjlhMWE5MjVhYjI2NzA4MzMgPSBMLm1hcmtlcigKICAgICAgICAgICAgICAgIFs0MC44NTM4Njg4MTMzLC03My44NzczOTU2MDk4XSwKICAgICAgICAgICAgICAgIHsKICAgICAgICAgICAgICAgICAgICBpY29uOiBuZXcgTC5JY29uLkRlZmF1bHQoKQogICAgICAgICAgICAgICAgICAgIH0KICAgICAgICAgICAgICAgICkKICAgICAgICAgICAgICAgIC5hZGRUbyhtYXBfYTRkMDY1NjRiYmM5NGI5ZDg1MzI2ZGRhODU5YWQxNjkpOwogICAgICAgICAgICAKICAgIAoKICAgICAgICAgICAgICAgIHZhciBpY29uXzA2Y2UzYjgwYzBlZDQ1MmRhNGU1Zjc5ZDRjMTdjZWU1ID0gTC5Bd2Vzb21lTWFya2Vycy5pY29uKHsKICAgICAgICAgICAgICAgICAgICBpY29uOiAnc3RhcicsCiAgICAgICAgICAgICAgICAgICAgaWNvbkNvbG9yOiAnd2hpdGUnLAogICAgICAgICAgICAgICAgICAgIG1hcmtlckNvbG9yOiAnZ3JlZW4nLAogICAgICAgICAgICAgICAgICAgIHByZWZpeDogJ2dseXBoaWNvbicsCiAgICAgICAgICAgICAgICAgICAgZXh0cmFDbGFzc2VzOiAnZmEtcm90YXRlLTAnCiAgICAgICAgICAgICAgICAgICAgfSk7CiAgICAgICAgICAgICAgICBtYXJrZXJfN2RiZDc0NDU2ZmRhNGJkNjlhMWE5MjVhYjI2NzA4MzMuc2V0SWNvbihpY29uXzA2Y2UzYjgwYzBlZDQ1MmRhNGU1Zjc5ZDRjMTdjZWU1KTsKICAgICAgICAgICAgCiAgICAKCiAgICAgICAgICAgIHZhciBtYXJrZXJfMThiMDhlZjJlNzgyNGNiMTljOGZiY2UwNWRjMWZhNjUgPSBMLm1hcmtlcigKICAgICAgICAgICAgICAgIFs0MC44NTMzNjM5MDQxLC03My44NzgwNTY3OTgyXSwKICAgICAgICAgICAgICAgIHsKICAgICAgICAgICAgICAgICAgICBpY29uOiBuZXcgTC5JY29uLkRlZmF1bHQoKQogICAgICAgICAgICAgICAgICAgIH0KICAgICAgICAgICAgICAgICkKICAgICAgICAgICAgICAgIC5hZGRUbyhtYXBfYTRkMDY1NjRiYmM5NGI5ZDg1MzI2ZGRhODU5YWQxNjkpOwogICAgICAgICAgICAKICAgIAoKICAgICAgICAgICAgICAgIHZhciBpY29uXzc1ZDg0YTYwNTI0MTQwMzliMjVkY2E1MTNjY2M1ZTYwID0gTC5Bd2Vzb21lTWFya2Vycy5pY29uKHsKICAgICAgICAgICAgICAgICAgICBpY29uOiAnc3RhcicsCiAgICAgICAgICAgICAgICAgICAgaWNvbkNvbG9yOiAnd2hpdGUnLAogICAgICAgICAgICAgICAgICAgIG1hcmtlckNvbG9yOiAnZ3JlZW4nLAogICAgICAgICAgICAgICAgICAgIHByZWZpeDogJ2dseXBoaWNvbicsCiAgICAgICAgICAgICAgICAgICAgZXh0cmFDbGFzc2VzOiAnZmEtcm90YXRlLTAnCiAgICAgICAgICAgICAgICAgICAgfSk7CiAgICAgICAgICAgICAgICBtYXJrZXJfMThiMDhlZjJlNzgyNGNiMTljOGZiY2UwNWRjMWZhNjUuc2V0SWNvbihpY29uXzc1ZDg0YTYwNTI0MTQwMzliMjVkY2E1MTNjY2M1ZTYwKTsKICAgICAgICAgICAgCiAgICAKCiAgICAgICAgICAgIHZhciBtYXJrZXJfMWJkOTk3OGJhYTVlNGE5MDlkNTFlNGM5MjA5MDQ3YTMgPSBMLm1hcmtlcigKICAgICAgICAgICAgICAgIFs0MC44NTQyMDgzODE5LC03My44Nzc1NDkyMjM5XSwKICAgICAgICAgICAgICAgIHsKICAgICAgICAgICAgICAgICAgICBpY29uOiBuZXcgTC5JY29uLkRlZmF1bHQoKQogICAgICAgICAgICAgICAgICAgIH0KICAgICAgICAgICAgICAgICkKICAgICAgICAgICAgICAgIC5hZGRUbyhtYXBfYTRkMDY1NjRiYmM5NGI5ZDg1MzI2ZGRhODU5YWQxNjkpOwogICAgICAgICAgICAKICAgIAoKICAgICAgICAgICAgICAgIHZhciBpY29uX2E2YTc5YzYxY2QxNzRlMzg4NmU1OWFjMGE3ZmY3ZmE0ID0gTC5Bd2Vzb21lTWFya2Vycy5pY29uKHsKICAgICAgICAgICAgICAgICAgICBpY29uOiAnc3RhcicsCiAgICAgICAgICAgICAgICAgICAgaWNvbkNvbG9yOiAnd2hpdGUnLAogICAgICAgICAgICAgICAgICAgIG1hcmtlckNvbG9yOiAnZ3JlZW4nLAogICAgICAgICAgICAgICAgICAgIHByZWZpeDogJ2dseXBoaWNvbicsCiAgICAgICAgICAgICAgICAgICAgZXh0cmFDbGFzc2VzOiAnZmEtcm90YXRlLTAnCiAgICAgICAgICAgICAgICAgICAgfSk7CiAgICAgICAgICAgICAgICBtYXJrZXJfMWJkOTk3OGJhYTVlNGE5MDlkNTFlNGM5MjA5MDQ3YTMuc2V0SWNvbihpY29uX2E2YTc5YzYxY2QxNzRlMzg4NmU1OWFjMGE3ZmY3ZmE0KTsKICAgICAgICAgICAgCiAgICAKCiAgICAgICAgICAgIHZhciBtYXJrZXJfOTg3MjRmYmRmZDE3NGNmNmE2ZGUwNTIxMDNlODcxNTAgPSBMLm1hcmtlcigKICAgICAgICAgICAgICAgIFs0MC44NTM4OTY4NDQ3LC03My44Nzc0MTE1MzU3XSwKICAgICAgICAgICAgICAgIHsKICAgICAgICAgICAgICAgICAgICBpY29uOiBuZXcgTC5JY29uLkRlZmF1bHQoKQogICAgICAgICAgICAgICAgICAgIH0KICAgICAgICAgICAgICAgICkKICAgICAgICAgICAgICAgIC5hZGRUbyhtYXBfYTRkMDY1NjRiYmM5NGI5ZDg1MzI2ZGRhODU5YWQxNjkpOwogICAgICAgICAgICAKICAgIAoKICAgICAgICAgICAgICAgIHZhciBpY29uXzZlZTIxYTIyODczNjQyOGJiODZjZGUwZTkwMTg2Njg5ID0gTC5Bd2Vzb21lTWFya2Vycy5pY29uKHsKICAgICAgICAgICAgICAgICAgICBpY29uOiAnc3RhcicsCiAgICAgICAgICAgICAgICAgICAgaWNvbkNvbG9yOiAnd2hpdGUnLAogICAgICAgICAgICAgICAgICAgIG1hcmtlckNvbG9yOiAnZ3JlZW4nLAogICAgICAgICAgICAgICAgICAgIHByZWZpeDogJ2dseXBoaWNvbicsCiAgICAgICAgICAgICAgICAgICAgZXh0cmFDbGFzc2VzOiAnZmEtcm90YXRlLTAnCiAgICAgICAgICAgICAgICAgICAgfSk7CiAgICAgICAgICAgICAgICBtYXJrZXJfOTg3MjRmYmRmZDE3NGNmNmE2ZGUwNTIxMDNlODcxNTAuc2V0SWNvbihpY29uXzZlZTIxYTIyODczNjQyOGJiODZjZGUwZTkwMTg2Njg5KTsKICAgICAgICAgICAgCiAgICAKCiAgICAgICAgICAgIHZhciBtYXJrZXJfN2RlYjU0OWNmMDAzNDMwY2IxZGI2MmE3OWZhNjVjZjQgPSBMLm1hcmtlcigKICAgICAgICAgICAgICAgIFs0MC44NTM4MjUzMTYxLC03My44NzczOTc5MDE4XSwKICAgICAgICAgICAgICAgIHsKICAgICAgICAgICAgICAgICAgICBpY29uOiBuZXcgTC5JY29uLkRlZmF1bHQoKQogICAgICAgICAgICAgICAgICAgIH0KICAgICAgICAgICAgICAgICkKICAgICAgICAgICAgICAgIC5hZGRUbyhtYXBfYTRkMDY1NjRiYmM5NGI5ZDg1MzI2ZGRhODU5YWQxNjkpOwogICAgICAgICAgICAKICAgIAoKICAgICAgICAgICAgICAgIHZhciBpY29uXzVhOWZkMDBmNmY4NzRmNTBiODRlYzg4YzJhYTNmMGE4ID0gTC5Bd2Vzb21lTWFya2Vycy5pY29uKHsKICAgICAgICAgICAgICAgICAgICBpY29uOiAnc3RhcicsCiAgICAgICAgICAgICAgICAgICAgaWNvbkNvbG9yOiAnd2hpdGUnLAogICAgICAgICAgICAgICAgICAgIG1hcmtlckNvbG9yOiAnZ3JlZW4nLAogICAgICAgICAgICAgICAgICAgIHByZWZpeDogJ2dseXBoaWNvbicsCiAgICAgICAgICAgICAgICAgICAgZXh0cmFDbGFzc2VzOiAnZmEtcm90YXRlLTAnCiAgICAgICAgICAgICAgICAgICAgfSk7CiAgICAgICAgICAgICAgICBtYXJrZXJfN2RlYjU0OWNmMDAzNDMwY2IxZGI2MmE3OWZhNjVjZjQuc2V0SWNvbihpY29uXzVhOWZkMDBmNmY4NzRmNTBiODRlYzg4YzJhYTNmMGE4KTsKICAgICAgICAgICAgCiAgICAKCiAgICAgICAgICAgIHZhciBtYXJrZXJfOTE4NTMxYTljNGI5NGY4Mjg4YjgxYjc3MmQxMWMzODUgPSBMLm1hcmtlcigKICAgICAgICAgICAgICAgIFs0MC44NTM4Nzc5NTIxLC03My44NzcyNzQwODAxXSwKICAgICAgICAgICAgICAgIHsKICAgICAgICAgICAgICAgICAgICBpY29uOiBuZXcgTC5JY29uLkRlZmF1bHQoKQogICAgICAgICAgICAgICAgICAgIH0KICAgICAgICAgICAgICAgICkKICAgICAgICAgICAgICAgIC5hZGRUbyhtYXBfYTRkMDY1NjRiYmM5NGI5ZDg1MzI2ZGRhODU5YWQxNjkpOwogICAgICAgICAgICAKICAgIAoKICAgICAgICAgICAgICAgIHZhciBpY29uXzUzYmJhNDUxNDIxMjRlNDA5NmU5ZDA0M2I4ZjA4NGFlID0gTC5Bd2Vzb21lTWFya2Vycy5pY29uKHsKICAgICAgICAgICAgICAgICAgICBpY29uOiAnc3RhcicsCiAgICAgICAgICAgICAgICAgICAgaWNvbkNvbG9yOiAnd2hpdGUnLAogICAgICAgICAgICAgICAgICAgIG1hcmtlckNvbG9yOiAnZ3JlZW4nLAogICAgICAgICAgICAgICAgICAgIHByZWZpeDogJ2dseXBoaWNvbicsCiAgICAgICAgICAgICAgICAgICAgZXh0cmFDbGFzc2VzOiAnZmEtcm90YXRlLTAnCiAgICAgICAgICAgICAgICAgICAgfSk7CiAgICAgICAgICAgICAgICBtYXJrZXJfOTE4NTMxYTljNGI5NGY4Mjg4YjgxYjc3MmQxMWMzODUuc2V0SWNvbihpY29uXzUzYmJhNDUxNDIxMjRlNDA5NmU5ZDA0M2I4ZjA4NGFlKTsKICAgICAgICAgICAgCiAgICAKCiAgICAgICAgICAgIHZhciBtYXJrZXJfMThlYmM1NjBkNmRhNDc5OWJkOTlhY2MxNWRkZTQyZDAgPSBMLm1hcmtlcigKICAgICAgICAgICAgICAgIFs0MC44NTQxMzkyOTA4LC03My44Nzc1NTI0Njk1XSwKICAgICAgICAgICAgICAgIHsKICAgICAgICAgICAgICAgICAgICBpY29uOiBuZXcgTC5JY29uLkRlZmF1bHQoKQogICAgICAgICAgICAgICAgICAgIH0KICAgICAgICAgICAgICAgICkKICAgICAgICAgICAgICAgIC5hZGRUbyhtYXBfYTRkMDY1NjRiYmM5NGI5ZDg1MzI2ZGRhODU5YWQxNjkpOwogICAgICAgICAgICAKICAgIAoKICAgICAgICAgICAgICAgIHZhciBpY29uXzIzYTBlMGY5YjQ0ZDRiNjdhNGU0NDFjYjg1ZDkyMGUxID0gTC5Bd2Vzb21lTWFya2Vycy5pY29uKHsKICAgICAgICAgICAgICAgICAgICBpY29uOiAnc3RhcicsCiAgICAgICAgICAgICAgICAgICAgaWNvbkNvbG9yOiAnd2hpdGUnLAogICAgICAgICAgICAgICAgICAgIG1hcmtlckNvbG9yOiAnZ3JlZW4nLAogICAgICAgICAgICAgICAgICAgIHByZWZpeDogJ2dseXBoaWNvbicsCiAgICAgICAgICAgICAgICAgICAgZXh0cmFDbGFzc2VzOiAnZmEtcm90YXRlLTAnCiAgICAgICAgICAgICAgICAgICAgfSk7CiAgICAgICAgICAgICAgICBtYXJrZXJfMThlYmM1NjBkNmRhNDc5OWJkOTlhY2MxNWRkZTQyZDAuc2V0SWNvbihpY29uXzIzYTBlMGY5YjQ0ZDRiNjdhNGU0NDFjYjg1ZDkyMGUxKTsKICAgICAgICAgICAgCiAgICAKCiAgICAgICAgICAgIHZhciBtYXJrZXJfNDlhOWVlZDdkMWU2NDZlNWI1Yjg0MjVhYTljZGVmZmUgPSBMLm1hcmtlcigKICAgICAgICAgICAgICAgIFs0MC44NTMzNTQwOTU4LC03My44Nzc4NjUxMDcxXSwKICAgICAgICAgICAgICAgIHsKICAgICAgICAgICAgICAgICAgICBpY29uOiBuZXcgTC5JY29uLkRlZmF1bHQoKQogICAgICAgICAgICAgICAgICAgIH0KICAgICAgICAgICAgICAgICkKICAgICAgICAgICAgICAgIC5hZGRUbyhtYXBfYTRkMDY1NjRiYmM5NGI5ZDg1MzI2ZGRhODU5YWQxNjkpOwogICAgICAgICAgICAKICAgIAoKICAgICAgICAgICAgICAgIHZhciBpY29uX2ExOGQ4NGUzMDEyYTQ3NWE5ZjE5NzFkZTc2OTE1YmI0ID0gTC5Bd2Vzb21lTWFya2Vycy5pY29uKHsKICAgICAgICAgICAgICAgICAgICBpY29uOiAnc3RhcicsCiAgICAgICAgICAgICAgICAgICAgaWNvbkNvbG9yOiAnd2hpdGUnLAogICAgICAgICAgICAgICAgICAgIG1hcmtlckNvbG9yOiAnZ3JlZW4nLAogICAgICAgICAgICAgICAgICAgIHByZWZpeDogJ2dseXBoaWNvbicsCiAgICAgICAgICAgICAgICAgICAgZXh0cmFDbGFzc2VzOiAnZmEtcm90YXRlLTAnCiAgICAgICAgICAgICAgICAgICAgfSk7CiAgICAgICAgICAgICAgICBtYXJrZXJfNDlhOWVlZDdkMWU2NDZlNWI1Yjg0MjVhYTljZGVmZmUuc2V0SWNvbihpY29uX2ExOGQ4NGUzMDEyYTQ3NWE5ZjE5NzFkZTc2OTE1YmI0KTsKICAgICAgICAgICAgCiAgICAKCiAgICAgICAgICAgIHZhciBtYXJrZXJfNTliZDM5NTdiYzA0NDhhY2I5YTI5ZDZiMjRlMTM5YWIgPSBMLm1hcmtlcigKICAgICAgICAgICAgICAgIFs0MC44NTQxNTU5NzgsLTczLjg3NzYyNjk1NjNdLAogICAgICAgICAgICAgICAgewogICAgICAgICAgICAgICAgICAgIGljb246IG5ldyBMLkljb24uRGVmYXVsdCgpCiAgICAgICAgICAgICAgICAgICAgfQogICAgICAgICAgICAgICAgKQogICAgICAgICAgICAgICAgLmFkZFRvKG1hcF9hNGQwNjU2NGJiYzk0YjlkODUzMjZkZGE4NTlhZDE2OSk7CiAgICAgICAgICAgIAogICAgCgogICAgICAgICAgICAgICAgdmFyIGljb25fOTlmZDdjYWQ2ZjY0NDQ3MTliZTNkOTlkYTFjYTM1NDcgPSBMLkF3ZXNvbWVNYXJrZXJzLmljb24oewogICAgICAgICAgICAgICAgICAgIGljb246ICdzdGFyJywKICAgICAgICAgICAgICAgICAgICBpY29uQ29sb3I6ICd3aGl0ZScsCiAgICAgICAgICAgICAgICAgICAgbWFya2VyQ29sb3I6ICdncmVlbicsCiAgICAgICAgICAgICAgICAgICAgcHJlZml4OiAnZ2x5cGhpY29uJywKICAgICAgICAgICAgICAgICAgICBleHRyYUNsYXNzZXM6ICdmYS1yb3RhdGUtMCcKICAgICAgICAgICAgICAgICAgICB9KTsKICAgICAgICAgICAgICAgIG1hcmtlcl81OWJkMzk1N2JjMDQ0OGFjYjlhMjlkNmIyNGUxMzlhYi5zZXRJY29uKGljb25fOTlmZDdjYWQ2ZjY0NDQ3MTliZTNkOTlkYTFjYTM1NDcpOwogICAgICAgICAgICAKICAgIAoKICAgICAgICAgICAgdmFyIG1hcmtlcl9hZjVkNmFmNGEyMjU0NjJkYjFlYWFmM2Q5YjkzOTZkMCA9IEwubWFya2VyKAogICAgICAgICAgICAgICAgWzQwLjg1NDAxMjk5NTksLTczLjg3Nzk3NjYyNV0sCiAgICAgICAgICAgICAgICB7CiAgICAgICAgICAgICAgICAgICAgaWNvbjogbmV3IEwuSWNvbi5EZWZhdWx0KCkKICAgICAgICAgICAgICAgICAgICB9CiAgICAgICAgICAgICAgICApCiAgICAgICAgICAgICAgICAuYWRkVG8obWFwX2E0ZDA2NTY0YmJjOTRiOWQ4NTMyNmRkYTg1OWFkMTY5KTsKICAgICAgICAgICAgCiAgICAKCiAgICAgICAgICAgICAgICB2YXIgaWNvbl80YWVlYzdhNDNjNmM0ODIxYmM5MWZlMjBkYThiN2Q5ZiA9IEwuQXdlc29tZU1hcmtlcnMuaWNvbih7CiAgICAgICAgICAgICAgICAgICAgaWNvbjogJ3N0YXInLAogICAgICAgICAgICAgICAgICAgIGljb25Db2xvcjogJ3doaXRlJywKICAgICAgICAgICAgICAgICAgICBtYXJrZXJDb2xvcjogJ2dyZWVuJywKICAgICAgICAgICAgICAgICAgICBwcmVmaXg6ICdnbHlwaGljb24nLAogICAgICAgICAgICAgICAgICAgIGV4dHJhQ2xhc3NlczogJ2ZhLXJvdGF0ZS0wJwogICAgICAgICAgICAgICAgICAgIH0pOwogICAgICAgICAgICAgICAgbWFya2VyX2FmNWQ2YWY0YTIyNTQ2MmRiMWVhYWYzZDliOTM5NmQwLnNldEljb24oaWNvbl80YWVlYzdhNDNjNmM0ODIxYmM5MWZlMjBkYThiN2Q5Zik7CiAgICAgICAgICAgIAogICAgCgogICAgICAgICAgICB2YXIgbWFya2VyXzBiNTg1MGU0NjQwZDRjMzhiNTAzNTEwYjhiZTk3YzM5ID0gTC5tYXJrZXIoCiAgICAgICAgICAgICAgICBbNDAuODU0MDQ1MTYwNSwtNzMuODc4MTA4NTM1MV0sCiAgICAgICAgICAgICAgICB7CiAgICAgICAgICAgICAgICAgICAgaWNvbjogbmV3IEwuSWNvbi5EZWZhdWx0KCkKICAgICAgICAgICAgICAgICAgICB9CiAgICAgICAgICAgICAgICApCiAgICAgICAgICAgICAgICAuYWRkVG8obWFwX2E0ZDA2NTY0YmJjOTRiOWQ4NTMyNmRkYTg1OWFkMTY5KTsKICAgICAgICAgICAgCiAgICAKCiAgICAgICAgICAgICAgICB2YXIgaWNvbl9hNWNiNTRmMDllMWY0MzhhYjIwOGRkODk0MGU4Yzg3NSA9IEwuQXdlc29tZU1hcmtlcnMuaWNvbih7CiAgICAgICAgICAgICAgICAgICAgaWNvbjogJ3N0YXInLAogICAgICAgICAgICAgICAgICAgIGljb25Db2xvcjogJ3doaXRlJywKICAgICAgICAgICAgICAgICAgICBtYXJrZXJDb2xvcjogJ2dyZWVuJywKICAgICAgICAgICAgICAgICAgICBwcmVmaXg6ICdnbHlwaGljb24nLAogICAgICAgICAgICAgICAgICAgIGV4dHJhQ2xhc3NlczogJ2ZhLXJvdGF0ZS0wJwogICAgICAgICAgICAgICAgICAgIH0pOwogICAgICAgICAgICAgICAgbWFya2VyXzBiNTg1MGU0NjQwZDRjMzhiNTAzNTEwYjhiZTk3YzM5LnNldEljb24oaWNvbl9hNWNiNTRmMDllMWY0MzhhYjIwOGRkODk0MGU4Yzg3NSk7CiAgICAgICAgICAgIAogICAgCgogICAgICAgICAgICB2YXIgbWFya2VyX2E3YTU3ZmE5Nzg2OTQ0ZDFiMGU5YjQxMTYyZDkyZmNlID0gTC5tYXJrZXIoCiAgICAgICAgICAgICAgICBbNDAuODU0MTI0ODIzNywtNzMuODc3NzcyMzI0N10sCiAgICAgICAgICAgICAgICB7CiAgICAgICAgICAgICAgICAgICAgaWNvbjogbmV3IEwuSWNvbi5EZWZhdWx0KCkKICAgICAgICAgICAgICAgICAgICB9CiAgICAgICAgICAgICAgICApCiAgICAgICAgICAgICAgICAuYWRkVG8obWFwX2E0ZDA2NTY0YmJjOTRiOWQ4NTMyNmRkYTg1OWFkMTY5KTsKICAgICAgICAgICAgCiAgICAKCiAgICAgICAgICAgICAgICB2YXIgaWNvbl8zNzZiNDAwMGM2ZWQ0NzNhYmYxMmNhMjc4OTFiYjc4YyA9IEwuQXdlc29tZU1hcmtlcnMuaWNvbih7CiAgICAgICAgICAgICAgICAgICAgaWNvbjogJ3N0YXInLAogICAgICAgICAgICAgICAgICAgIGljb25Db2xvcjogJ3doaXRlJywKICAgICAgICAgICAgICAgICAgICBtYXJrZXJDb2xvcjogJ2dyZWVuJywKICAgICAgICAgICAgICAgICAgICBwcmVmaXg6ICdnbHlwaGljb24nLAogICAgICAgICAgICAgICAgICAgIGV4dHJhQ2xhc3NlczogJ2ZhLXJvdGF0ZS0wJwogICAgICAgICAgICAgICAgICAgIH0pOwogICAgICAgICAgICAgICAgbWFya2VyX2E3YTU3ZmE5Nzg2OTQ0ZDFiMGU5YjQxMTYyZDkyZmNlLnNldEljb24oaWNvbl8zNzZiNDAwMGM2ZWQ0NzNhYmYxMmNhMjc4OTFiYjc4Yyk7CiAgICAgICAgICAgIAogICAgCgogICAgICAgICAgICB2YXIgbWFya2VyX2I2NTVjYjc5NDMxMjQxMmNiNDhhMzg1ODAyZDUzY2NmID0gTC5tYXJrZXIoCiAgICAgICAgICAgICAgICBbNDAuODUzNzYyOTk4NCwtNzMuODc3NjY3Njk5OV0sCiAgICAgICAgICAgICAgICB7CiAgICAgICAgICAgICAgICAgICAgaWNvbjogbmV3IEwuSWNvbi5EZWZhdWx0KCkKICAgICAgICAgICAgICAgICAgICB9CiAgICAgICAgICAgICAgICApCiAgICAgICAgICAgICAgICAuYWRkVG8obWFwX2E0ZDA2NTY0YmJjOTRiOWQ4NTMyNmRkYTg1OWFkMTY5KTsKICAgICAgICAgICAgCiAgICAKCiAgICAgICAgICAgICAgICB2YXIgaWNvbl9jNGI0ZDc0ZjQ2ZmU0MjE2YjE4MDFlODY4YTNlMmRhYSA9IEwuQXdlc29tZU1hcmtlcnMuaWNvbih7CiAgICAgICAgICAgICAgICAgICAgaWNvbjogJ3N0YXInLAogICAgICAgICAgICAgICAgICAgIGljb25Db2xvcjogJ3doaXRlJywKICAgICAgICAgICAgICAgICAgICBtYXJrZXJDb2xvcjogJ2dyZWVuJywKICAgICAgICAgICAgICAgICAgICBwcmVmaXg6ICdnbHlwaGljb24nLAogICAgICAgICAgICAgICAgICAgIGV4dHJhQ2xhc3NlczogJ2ZhLXJvdGF0ZS0wJwogICAgICAgICAgICAgICAgICAgIH0pOwogICAgICAgICAgICAgICAgbWFya2VyX2I2NTVjYjc5NDMxMjQxMmNiNDhhMzg1ODAyZDUzY2NmLnNldEljb24oaWNvbl9jNGI0ZDc0ZjQ2ZmU0MjE2YjE4MDFlODY4YTNlMmRhYSk7CiAgICAgICAgICAgIAogICAgCgogICAgICAgICAgICB2YXIgbWFya2VyX2FlNmZlZmZmZTE4MjRkOGFhYWFlOGExYTkxYTIxYWQ1ID0gTC5tYXJrZXIoCiAgICAgICAgICAgICAgICBbNDAuODUzOTE0Mjg1OSwtNzMuODc4MDY3NTI0MV0sCiAgICAgICAgICAgICAgICB7CiAgICAgICAgICAgICAgICAgICAgaWNvbjogbmV3IEwuSWNvbi5EZWZhdWx0KCkKICAgICAgICAgICAgICAgICAgICB9CiAgICAgICAgICAgICAgICApCiAgICAgICAgICAgICAgICAuYWRkVG8obWFwX2E0ZDA2NTY0YmJjOTRiOWQ4NTMyNmRkYTg1OWFkMTY5KTsKICAgICAgICAgICAgCiAgICAKCiAgICAgICAgICAgICAgICB2YXIgaWNvbl9lYjY4ZTJiODhiMTI0NTI4YTM4MmQ1ZjQwMmVmMWRhMSA9IEwuQXdlc29tZU1hcmtlcnMuaWNvbih7CiAgICAgICAgICAgICAgICAgICAgaWNvbjogJ3N0YXInLAogICAgICAgICAgICAgICAgICAgIGljb25Db2xvcjogJ3doaXRlJywKICAgICAgICAgICAgICAgICAgICBtYXJrZXJDb2xvcjogJ2dyZWVuJywKICAgICAgICAgICAgICAgICAgICBwcmVmaXg6ICdnbHlwaGljb24nLAogICAgICAgICAgICAgICAgICAgIGV4dHJhQ2xhc3NlczogJ2ZhLXJvdGF0ZS0wJwogICAgICAgICAgICAgICAgICAgIH0pOwogICAgICAgICAgICAgICAgbWFya2VyX2FlNmZlZmZmZTE4MjRkOGFhYWFlOGExYTkxYTIxYWQ1LnNldEljb24oaWNvbl9lYjY4ZTJiODhiMTI0NTI4YTM4MmQ1ZjQwMmVmMWRhMSk7CiAgICAgICAgICAgIAogICAgCgogICAgICAgICAgICB2YXIgbWFya2VyXzYwMjJkNjc1ZmYyZjQyNjI4ZWUwY2M0NTg4NDA1ODJkID0gTC5tYXJrZXIoCiAgICAgICAgICAgICAgICBbNDAuODUzNDQwNTg2MywtNzMuODc3ODQ4NzIyOF0sCiAgICAgICAgICAgICAgICB7CiAgICAgICAgICAgICAgICAgICAgaWNvbjogbmV3IEwuSWNvbi5EZWZhdWx0KCkKICAgICAgICAgICAgICAgICAgICB9CiAgICAgICAgICAgICAgICApCiAgICAgICAgICAgICAgICAuYWRkVG8obWFwX2E0ZDA2NTY0YmJjOTRiOWQ4NTMyNmRkYTg1OWFkMTY5KTsKICAgICAgICAgICAgCiAgICAKCiAgICAgICAgICAgICAgICB2YXIgaWNvbl81NWVlMWRmMzliZTg0Y2E2ODI3YzIzNDlhMDRjMzU0ZCA9IEwuQXdlc29tZU1hcmtlcnMuaWNvbih7CiAgICAgICAgICAgICAgICAgICAgaWNvbjogJ3N0YXInLAogICAgICAgICAgICAgICAgICAgIGljb25Db2xvcjogJ3doaXRlJywKICAgICAgICAgICAgICAgICAgICBtYXJrZXJDb2xvcjogJ2dyZWVuJywKICAgICAgICAgICAgICAgICAgICBwcmVmaXg6ICdnbHlwaGljb24nLAogICAgICAgICAgICAgICAgICAgIGV4dHJhQ2xhc3NlczogJ2ZhLXJvdGF0ZS0wJwogICAgICAgICAgICAgICAgICAgIH0pOwogICAgICAgICAgICAgICAgbWFya2VyXzYwMjJkNjc1ZmYyZjQyNjI4ZWUwY2M0NTg4NDA1ODJkLnNldEljb24oaWNvbl81NWVlMWRmMzliZTg0Y2E2ODI3YzIzNDlhMDRjMzU0ZCk7CiAgICAgICAgICAgIAogICAgCgogICAgICAgICAgICB2YXIgbWFya2VyXzk2MDlmMzI0ZmEyZTQ4MWJhNGZiMWFlYTJjMThiM2I4ID0gTC5tYXJrZXIoCiAgICAgICAgICAgICAgICBbNDAuODUzNjQ2OTAzMiwtNzMuODc3MzY5MTUzNl0sCiAgICAgICAgICAgICAgICB7CiAgICAgICAgICAgICAgICAgICAgaWNvbjogbmV3IEwuSWNvbi5EZWZhdWx0KCkKICAgICAgICAgICAgICAgICAgICB9CiAgICAgICAgICAgICAgICApCiAgICAgICAgICAgICAgICAuYWRkVG8obWFwX2E0ZDA2NTY0YmJjOTRiOWQ4NTMyNmRkYTg1OWFkMTY5KTsKICAgICAgICAgICAgCiAgICAKCiAgICAgICAgICAgICAgICB2YXIgaWNvbl8xMTM2ZTFlNDNlOGM0MjhjOWU5MzliNDE2ODYwZTZkZCA9IEwuQXdlc29tZU1hcmtlcnMuaWNvbih7CiAgICAgICAgICAgICAgICAgICAgaWNvbjogJ3N0YXInLAogICAgICAgICAgICAgICAgICAgIGljb25Db2xvcjogJ3doaXRlJywKICAgICAgICAgICAgICAgICAgICBtYXJrZXJDb2xvcjogJ2dyZWVuJywKICAgICAgICAgICAgICAgICAgICBwcmVmaXg6ICdnbHlwaGljb24nLAogICAgICAgICAgICAgICAgICAgIGV4dHJhQ2xhc3NlczogJ2ZhLXJvdGF0ZS0wJwogICAgICAgICAgICAgICAgICAgIH0pOwogICAgICAgICAgICAgICAgbWFya2VyXzk2MDlmMzI0ZmEyZTQ4MWJhNGZiMWFlYTJjMThiM2I4LnNldEljb24oaWNvbl8xMTM2ZTFlNDNlOGM0MjhjOWU5MzliNDE2ODYwZTZkZCk7CiAgICAgICAgICAgIAogICAgCgogICAgICAgICAgICB2YXIgbWFya2VyX2YzODg4OGZhNzI3NTQzOTk4NzNjMDc2MzdhZWMyYzk3ID0gTC5tYXJrZXIoCiAgICAgICAgICAgICAgICBbNDAuODUzNzQ2MTUxLC03My44NzczMzk2NDVdLAogICAgICAgICAgICAgICAgewogICAgICAgICAgICAgICAgICAgIGljb246IG5ldyBMLkljb24uRGVmYXVsdCgpCiAgICAgICAgICAgICAgICAgICAgfQogICAgICAgICAgICAgICAgKQogICAgICAgICAgICAgICAgLmFkZFRvKG1hcF9hNGQwNjU2NGJiYzk0YjlkODUzMjZkZGE4NTlhZDE2OSk7CiAgICAgICAgICAgIAogICAgCgogICAgICAgICAgICAgICAgdmFyIGljb25fNWQyOTJmNzRjMTg1NDI5YWFjNmFjN2M1ZmRjMjliMmIgPSBMLkF3ZXNvbWVNYXJrZXJzLmljb24oewogICAgICAgICAgICAgICAgICAgIGljb246ICdzdGFyJywKICAgICAgICAgICAgICAgICAgICBpY29uQ29sb3I6ICd3aGl0ZScsCiAgICAgICAgICAgICAgICAgICAgbWFya2VyQ29sb3I6ICdncmVlbicsCiAgICAgICAgICAgICAgICAgICAgcHJlZml4OiAnZ2x5cGhpY29uJywKICAgICAgICAgICAgICAgICAgICBleHRyYUNsYXNzZXM6ICdmYS1yb3RhdGUtMCcKICAgICAgICAgICAgICAgICAgICB9KTsKICAgICAgICAgICAgICAgIG1hcmtlcl9mMzg4ODhmYTcyNzU0Mzk5ODczYzA3NjM3YWVjMmM5Ny5zZXRJY29uKGljb25fNWQyOTJmNzRjMTg1NDI5YWFjNmFjN2M1ZmRjMjliMmIpOwogICAgICAgICAgICAKICAgIAoKICAgICAgICAgICAgdmFyIG1hcmtlcl9hOTllYTU3MzJlYzc0YjYwYWQ5YzYzMzVlMDczNWI1NyA9IEwubWFya2VyKAogICAgICAgICAgICAgICAgWzQwLjg1MzM2MTczNzgsLTczLjg3NzQ5MDIzXSwKICAgICAgICAgICAgICAgIHsKICAgICAgICAgICAgICAgICAgICBpY29uOiBuZXcgTC5JY29uLkRlZmF1bHQoKQogICAgICAgICAgICAgICAgICAgIH0KICAgICAgICAgICAgICAgICkKICAgICAgICAgICAgICAgIC5hZGRUbyhtYXBfYTRkMDY1NjRiYmM5NGI5ZDg1MzI2ZGRhODU5YWQxNjkpOwogICAgICAgICAgICAKICAgIAoKICAgICAgICAgICAgICAgIHZhciBpY29uX2Y1YzU1MWQxMjkxNDRlODBiMmZlY2U5YWI1MDM0OTNiID0gTC5Bd2Vzb21lTWFya2Vycy5pY29uKHsKICAgICAgICAgICAgICAgICAgICBpY29uOiAnc3RhcicsCiAgICAgICAgICAgICAgICAgICAgaWNvbkNvbG9yOiAnd2hpdGUnLAogICAgICAgICAgICAgICAgICAgIG1hcmtlckNvbG9yOiAnZ3JlZW4nLAogICAgICAgICAgICAgICAgICAgIHByZWZpeDogJ2dseXBoaWNvbicsCiAgICAgICAgICAgICAgICAgICAgZXh0cmFDbGFzc2VzOiAnZmEtcm90YXRlLTAnCiAgICAgICAgICAgICAgICAgICAgfSk7CiAgICAgICAgICAgICAgICBtYXJrZXJfYTk5ZWE1NzMyZWM3NGI2MGFkOWM2MzM1ZTA3MzViNTcuc2V0SWNvbihpY29uX2Y1YzU1MWQxMjkxNDRlODBiMmZlY2U5YWI1MDM0OTNiKTsKICAgICAgICAgICAgCiAgICAKCiAgICAgICAgICAgIHZhciBtYXJrZXJfYzFjMGQ5Yzg2NWNiNDYxNzg4ZTk0ZWQ2NDFiNjY2MzEgPSBMLm1hcmtlcigKICAgICAgICAgICAgICAgIFs0MC44NTM4NzY2NTA0LC03My44NzgwNTQ4NjYyXSwKICAgICAgICAgICAgICAgIHsKICAgICAgICAgICAgICAgICAgICBpY29uOiBuZXcgTC5JY29uLkRlZmF1bHQoKQogICAgICAgICAgICAgICAgICAgIH0KICAgICAgICAgICAgICAgICkKICAgICAgICAgICAgICAgIC5hZGRUbyhtYXBfYTRkMDY1NjRiYmM5NGI5ZDg1MzI2ZGRhODU5YWQxNjkpOwogICAgICAgICAgICAKICAgIAoKICAgICAgICAgICAgICAgIHZhciBpY29uX2IwZjViYTlkMDNiODQzMTViMWFmNjExNWFiMGY3NThlID0gTC5Bd2Vzb21lTWFya2Vycy5pY29uKHsKICAgICAgICAgICAgICAgICAgICBpY29uOiAnc3RhcicsCiAgICAgICAgICAgICAgICAgICAgaWNvbkNvbG9yOiAnd2hpdGUnLAogICAgICAgICAgICAgICAgICAgIG1hcmtlckNvbG9yOiAnZ3JlZW4nLAogICAgICAgICAgICAgICAgICAgIHByZWZpeDogJ2dseXBoaWNvbicsCiAgICAgICAgICAgICAgICAgICAgZXh0cmFDbGFzc2VzOiAnZmEtcm90YXRlLTAnCiAgICAgICAgICAgICAgICAgICAgfSk7CiAgICAgICAgICAgICAgICBtYXJrZXJfYzFjMGQ5Yzg2NWNiNDYxNzg4ZTk0ZWQ2NDFiNjY2MzEuc2V0SWNvbihpY29uX2IwZjViYTlkMDNiODQzMTViMWFmNjExNWFiMGY3NThlKTsKICAgICAgICAgICAgCiAgICAKCiAgICAgICAgICAgIHZhciBtYXJrZXJfZTdkMTMxMjUwNmI4NDJmYjhlOTYwZmZmZTY4MmMxYmMgPSBMLm1hcmtlcigKICAgICAgICAgICAgICAgIFs0MC44NTM3NTk1Nzk0LC03My44Nzc0MDUzODU5XSwKICAgICAgICAgICAgICAgIHsKICAgICAgICAgICAgICAgICAgICBpY29uOiBuZXcgTC5JY29uLkRlZmF1bHQoKQogICAgICAgICAgICAgICAgICAgIH0KICAgICAgICAgICAgICAgICkKICAgICAgICAgICAgICAgIC5hZGRUbyhtYXBfYTRkMDY1NjRiYmM5NGI5ZDg1MzI2ZGRhODU5YWQxNjkpOwogICAgICAgICAgICAKICAgIAoKICAgICAgICAgICAgICAgIHZhciBpY29uXzczNTVlZTAxOTQ4MTRmNjA5ZTMyYzAzMWEwNDU3Y2E3ID0gTC5Bd2Vzb21lTWFya2Vycy5pY29uKHsKICAgICAgICAgICAgICAgICAgICBpY29uOiAnc3RhcicsCiAgICAgICAgICAgICAgICAgICAgaWNvbkNvbG9yOiAnd2hpdGUnLAogICAgICAgICAgICAgICAgICAgIG1hcmtlckNvbG9yOiAnZ3JlZW4nLAogICAgICAgICAgICAgICAgICAgIHByZWZpeDogJ2dseXBoaWNvbicsCiAgICAgICAgICAgICAgICAgICAgZXh0cmFDbGFzc2VzOiAnZmEtcm90YXRlLTAnCiAgICAgICAgICAgICAgICAgICAgfSk7CiAgICAgICAgICAgICAgICBtYXJrZXJfZTdkMTMxMjUwNmI4NDJmYjhlOTYwZmZmZTY4MmMxYmMuc2V0SWNvbihpY29uXzczNTVlZTAxOTQ4MTRmNjA5ZTMyYzAzMWEwNDU3Y2E3KTsKICAgICAgICAgICAgCiAgICAKCiAgICAgICAgICAgIHZhciBtYXJrZXJfNWJhYTI0ZTQxN2JiNDA4YmFjNzZjN2IwODQzMzQ2NGIgPSBMLm1hcmtlcigKICAgICAgICAgICAgICAgIFs0MC44NTM4NzM1MDY5LC03My44Nzc3MDAxODg3XSwKICAgICAgICAgICAgICAgIHsKICAgICAgICAgICAgICAgICAgICBpY29uOiBuZXcgTC5JY29uLkRlZmF1bHQoKQogICAgICAgICAgICAgICAgICAgIH0KICAgICAgICAgICAgICAgICkKICAgICAgICAgICAgICAgIC5hZGRUbyhtYXBfYTRkMDY1NjRiYmM5NGI5ZDg1MzI2ZGRhODU5YWQxNjkpOwogICAgICAgICAgICAKICAgIAoKICAgICAgICAgICAgICAgIHZhciBpY29uXzQwOGQ5ZTBkNjNkNTRmYTI4NzNiNjg1NGU5OTc3YzQ4ID0gTC5Bd2Vzb21lTWFya2Vycy5pY29uKHsKICAgICAgICAgICAgICAgICAgICBpY29uOiAnc3RhcicsCiAgICAgICAgICAgICAgICAgICAgaWNvbkNvbG9yOiAnd2hpdGUnLAogICAgICAgICAgICAgICAgICAgIG1hcmtlckNvbG9yOiAnZ3JlZW4nLAogICAgICAgICAgICAgICAgICAgIHByZWZpeDogJ2dseXBoaWNvbicsCiAgICAgICAgICAgICAgICAgICAgZXh0cmFDbGFzc2VzOiAnZmEtcm90YXRlLTAnCiAgICAgICAgICAgICAgICAgICAgfSk7CiAgICAgICAgICAgICAgICBtYXJrZXJfNWJhYTI0ZTQxN2JiNDA4YmFjNzZjN2IwODQzMzQ2NGIuc2V0SWNvbihpY29uXzQwOGQ5ZTBkNjNkNTRmYTI4NzNiNjg1NGU5OTc3YzQ4KTsKICAgICAgICAgICAgCiAgICAKCiAgICAgICAgICAgIHZhciBtYXJrZXJfNzYyMTUxMmRjMzZjNGNkMWJlMzU4ZDgwMGU3MTcxMDEgPSBMLm1hcmtlcigKICAgICAgICAgICAgICAgIFs0MC44NTM2ODYxMzk1LC03My44Nzc2MTE4NzAzXSwKICAgICAgICAgICAgICAgIHsKICAgICAgICAgICAgICAgICAgICBpY29uOiBuZXcgTC5JY29uLkRlZmF1bHQoKQogICAgICAgICAgICAgICAgICAgIH0KICAgICAgICAgICAgICAgICkKICAgICAgICAgICAgICAgIC5hZGRUbyhtYXBfYTRkMDY1NjRiYmM5NGI5ZDg1MzI2ZGRhODU5YWQxNjkpOwogICAgICAgICAgICAKICAgIAoKICAgICAgICAgICAgICAgIHZhciBpY29uXzdjYTNlNzgyNDU4NzQ1NzM5ZTM5ZmIwM2MzNzViNjUyID0gTC5Bd2Vzb21lTWFya2Vycy5pY29uKHsKICAgICAgICAgICAgICAgICAgICBpY29uOiAnc3RhcicsCiAgICAgICAgICAgICAgICAgICAgaWNvbkNvbG9yOiAnd2hpdGUnLAogICAgICAgICAgICAgICAgICAgIG1hcmtlckNvbG9yOiAnZ3JlZW4nLAogICAgICAgICAgICAgICAgICAgIHByZWZpeDogJ2dseXBoaWNvbicsCiAgICAgICAgICAgICAgICAgICAgZXh0cmFDbGFzc2VzOiAnZmEtcm90YXRlLTAnCiAgICAgICAgICAgICAgICAgICAgfSk7CiAgICAgICAgICAgICAgICBtYXJrZXJfNzYyMTUxMmRjMzZjNGNkMWJlMzU4ZDgwMGU3MTcxMDEuc2V0SWNvbihpY29uXzdjYTNlNzgyNDU4NzQ1NzM5ZTM5ZmIwM2MzNzViNjUyKTsKICAgICAgICAgICAgCiAgICAKCiAgICAgICAgICAgIHZhciBtYXJrZXJfNjZmMTQ5YjY4ZmJlNGZhM2FkODA5NzA3YjUxNTcyZjYgPSBMLm1hcmtlcigKICAgICAgICAgICAgICAgIFs0MC44NTM2MzE1MjQ5LC03My44NzcyNzg1NDc3XSwKICAgICAgICAgICAgICAgIHsKICAgICAgICAgICAgICAgICAgICBpY29uOiBuZXcgTC5JY29uLkRlZmF1bHQoKQogICAgICAgICAgICAgICAgICAgIH0KICAgICAgICAgICAgICAgICkKICAgICAgICAgICAgICAgIC5hZGRUbyhtYXBfYTRkMDY1NjRiYmM5NGI5ZDg1MzI2ZGRhODU5YWQxNjkpOwogICAgICAgICAgICAKICAgIAoKICAgICAgICAgICAgICAgIHZhciBpY29uXzVlNzVjZTNmZDg1ZjQyNGRhYWZiOWIyMjExMGE0OTkyID0gTC5Bd2Vzb21lTWFya2Vycy5pY29uKHsKICAgICAgICAgICAgICAgICAgICBpY29uOiAnc3RhcicsCiAgICAgICAgICAgICAgICAgICAgaWNvbkNvbG9yOiAnd2hpdGUnLAogICAgICAgICAgICAgICAgICAgIG1hcmtlckNvbG9yOiAnZ3JlZW4nLAogICAgICAgICAgICAgICAgICAgIHByZWZpeDogJ2dseXBoaWNvbicsCiAgICAgICAgICAgICAgICAgICAgZXh0cmFDbGFzc2VzOiAnZmEtcm90YXRlLTAnCiAgICAgICAgICAgICAgICAgICAgfSk7CiAgICAgICAgICAgICAgICBtYXJrZXJfNjZmMTQ5YjY4ZmJlNGZhM2FkODA5NzA3YjUxNTcyZjYuc2V0SWNvbihpY29uXzVlNzVjZTNmZDg1ZjQyNGRhYWZiOWIyMjExMGE0OTkyKTsKICAgICAgICAgICAgCiAgICAKCiAgICAgICAgICAgIHZhciBtYXJrZXJfMzUwOTg2MmVmNWI3NDZiOGI1MDU2NzU2NGQ1YTNjMWMgPSBMLm1hcmtlcigKICAgICAgICAgICAgICAgIFs0MC44NTM4NTY5NzksLTczLjg3NzQ1NDk1NTldLAogICAgICAgICAgICAgICAgewogICAgICAgICAgICAgICAgICAgIGljb246IG5ldyBMLkljb24uRGVmYXVsdCgpCiAgICAgICAgICAgICAgICAgICAgfQogICAgICAgICAgICAgICAgKQogICAgICAgICAgICAgICAgLmFkZFRvKG1hcF9hNGQwNjU2NGJiYzk0YjlkODUzMjZkZGE4NTlhZDE2OSk7CiAgICAgICAgICAgIAogICAgCgogICAgICAgICAgICAgICAgdmFyIGljb25fNWM0NGUyN2ZlMzA3NGE2ZDhiMGFmZmYwZWJhNzIyZWIgPSBMLkF3ZXNvbWVNYXJrZXJzLmljb24oewogICAgICAgICAgICAgICAgICAgIGljb246ICdzdGFyJywKICAgICAgICAgICAgICAgICAgICBpY29uQ29sb3I6ICd3aGl0ZScsCiAgICAgICAgICAgICAgICAgICAgbWFya2VyQ29sb3I6ICdncmVlbicsCiAgICAgICAgICAgICAgICAgICAgcHJlZml4OiAnZ2x5cGhpY29uJywKICAgICAgICAgICAgICAgICAgICBleHRyYUNsYXNzZXM6ICdmYS1yb3RhdGUtMCcKICAgICAgICAgICAgICAgICAgICB9KTsKICAgICAgICAgICAgICAgIG1hcmtlcl8zNTA5ODYyZWY1Yjc0NmI4YjUwNTY3NTY0ZDVhM2MxYy5zZXRJY29uKGljb25fNWM0NGUyN2ZlMzA3NGE2ZDhiMGFmZmYwZWJhNzIyZWIpOwogICAgICAgICAgICAKICAgIAoKICAgICAgICAgICAgdmFyIG1hcmtlcl80OTkwNTViNDRmMDY0YmJhYmMwOGU2YzEwYjQ0NDMwZCA9IEwubWFya2VyKAogICAgICAgICAgICAgICAgWzQwLjg1MzY4MjU4ODMsLTczLjg3NzQxMjEyMTNdLAogICAgICAgICAgICAgICAgewogICAgICAgICAgICAgICAgICAgIGljb246IG5ldyBMLkljb24uRGVmYXVsdCgpCiAgICAgICAgICAgICAgICAgICAgfQogICAgICAgICAgICAgICAgKQogICAgICAgICAgICAgICAgLmFkZFRvKG1hcF9hNGQwNjU2NGJiYzk0YjlkODUzMjZkZGE4NTlhZDE2OSk7CiAgICAgICAgICAgIAogICAgCgogICAgICAgICAgICAgICAgdmFyIGljb25fNWQzZGIyOGY2ZDdhNGE1NmIzMGM0MTNkOGUzYmYwODggPSBMLkF3ZXNvbWVNYXJrZXJzLmljb24oewogICAgICAgICAgICAgICAgICAgIGljb246ICdzdGFyJywKICAgICAgICAgICAgICAgICAgICBpY29uQ29sb3I6ICd3aGl0ZScsCiAgICAgICAgICAgICAgICAgICAgbWFya2VyQ29sb3I6ICdncmVlbicsCiAgICAgICAgICAgICAgICAgICAgcHJlZml4OiAnZ2x5cGhpY29uJywKICAgICAgICAgICAgICAgICAgICBleHRyYUNsYXNzZXM6ICdmYS1yb3RhdGUtMCcKICAgICAgICAgICAgICAgICAgICB9KTsKICAgICAgICAgICAgICAgIG1hcmtlcl80OTkwNTViNDRmMDY0YmJhYmMwOGU2YzEwYjQ0NDMwZC5zZXRJY29uKGljb25fNWQzZGIyOGY2ZDdhNGE1NmIzMGM0MTNkOGUzYmYwODgpOwogICAgICAgICAgICAKICAgIAoKICAgICAgICAgICAgdmFyIG1hcmtlcl9lMzUxOTk2ZjM4MjI0N2FmOGQzODhhYTFjNzI0MzlhYSA9IEwubWFya2VyKAogICAgICAgICAgICAgICAgWzQwLjg1MzU2NTg2MDEsLTczLjg3NzMzNTYxMzJdLAogICAgICAgICAgICAgICAgewogICAgICAgICAgICAgICAgICAgIGljb246IG5ldyBMLkljb24uRGVmYXVsdCgpCiAgICAgICAgICAgICAgICAgICAgfQogICAgICAgICAgICAgICAgKQogICAgICAgICAgICAgICAgLmFkZFRvKG1hcF9hNGQwNjU2NGJiYzk0YjlkODUzMjZkZGE4NTlhZDE2OSk7CiAgICAgICAgICAgIAogICAgCgogICAgICAgICAgICAgICAgdmFyIGljb25fODM0YmIzMGY0YzkxNDhlZGI2ZDA5MDgxNjIxMDc2NzAgPSBMLkF3ZXNvbWVNYXJrZXJzLmljb24oewogICAgICAgICAgICAgICAgICAgIGljb246ICdzdGFyJywKICAgICAgICAgICAgICAgICAgICBpY29uQ29sb3I6ICd3aGl0ZScsCiAgICAgICAgICAgICAgICAgICAgbWFya2VyQ29sb3I6ICdncmVlbicsCiAgICAgICAgICAgICAgICAgICAgcHJlZml4OiAnZ2x5cGhpY29uJywKICAgICAgICAgICAgICAgICAgICBleHRyYUNsYXNzZXM6ICdmYS1yb3RhdGUtMCcKICAgICAgICAgICAgICAgICAgICB9KTsKICAgICAgICAgICAgICAgIG1hcmtlcl9lMzUxOTk2ZjM4MjI0N2FmOGQzODhhYTFjNzI0MzlhYS5zZXRJY29uKGljb25fODM0YmIzMGY0YzkxNDhlZGI2ZDA5MDgxNjIxMDc2NzApOwogICAgICAgICAgICAKPC9zY3JpcHQ+\" style=\"position:absolute;width:100%;height:100%;left:0;top:0;border:none !important;\" allowfullscreen webkitallowfullscreen mozallowfullscreen></iframe></div></div>"
      ],
      "text/plain": [
       "<folium.folium.Map at 0x11ba69588>"
      ]
     },
     "execution_count": 109,
     "metadata": {},
     "output_type": "execute_result"
    }
   ],
   "source": [
    "map_test_synth"
   ]
  },
  {
   "cell_type": "code",
   "execution_count": null,
   "metadata": {
    "collapsed": true
   },
   "outputs": [],
   "source": [
    "#TODO: implement a better time creation function based on distance\n",
    "# also have a linear regression thing to calculate all data\n",
    "# maybe have multiple superheroes (less batman more defenders)\n",
    "# move all functions to a .py file\n",
    "# implement clicking on pins in folium maps to pop up table/row number\n",
    "# Why am I using Stamen Tower map color is there a cooler one?\n",
    "\n",
    "#create lab and sample data so as not to have >800 mb preferably\n",
    "# to be able to run on datahub servers"
   ]
  },
  {
   "cell_type": "code",
   "execution_count": 113,
   "metadata": {},
   "outputs": [
    {
     "data": {
      "text/html": [
       "<table border=\"1\" class=\"dataframe\">\n",
       "    <thead>\n",
       "        <tr>\n",
       "            <th>Pickup_latitude</th> <th>Pickup_longitude</th> <th>Dropoff_latitude</th> <th>Dropoff_longitude</th> <th>Passenger_count</th> <th>pickup_dt</th> <th>dropoff_dt</th>\n",
       "        </tr>\n",
       "    </thead>\n",
       "    <tbody>\n",
       "        <tr>\n",
       "            <td>40.8343        </td> <td>-73.8523        </td> <td>40.8342         </td> <td>-73.8745         </td> <td>1              </td> <td>2016-01-15 17:58:18</td> <td>2016-01-15 18:04:28</td>\n",
       "        </tr>\n",
       "    </tbody>\n",
       "</table>\n",
       "<p>... (4999 rows omitted)</p"
      ],
      "text/plain": [
       "<IPython.core.display.HTML object>"
      ]
     },
     "metadata": {},
     "output_type": "display_data"
    }
   ],
   "source": [
    "df_dt = df_dt.select([1,0,3,2,4,5,6])\n",
    "df_dt.show(1)"
   ]
  },
  {
   "cell_type": "code",
   "execution_count": 112,
   "metadata": {},
   "outputs": [
    {
     "data": {
      "text/html": [
       "<table border=\"1\" class=\"dataframe\">\n",
       "    <thead>\n",
       "        <tr>\n",
       "            <th>Pickup_latitude</th> <th>Pickup_longitude</th> <th>Dropoff_latitude</th> <th>Dropoff_longitude</th> <th>Passenger_count</th> <th>Pickup_dt</th> <th>Dropoff_dt</th> <th>Crime Num</th>\n",
       "        </tr>\n",
       "    </thead>\n",
       "    <tbody>\n",
       "        <tr>\n",
       "            <td>40.8538        </td> <td>-73.8775        </td> <td>40.7604         </td> <td>-73.9791         </td> <td>1              </td> <td>2016-01-07 16:16:00</td> <td>2016-01-07 16:37:00</td> <td>0        </td>\n",
       "        </tr>\n",
       "    </tbody>\n",
       "</table>\n",
       "<p>... (49 rows omitted)</p"
      ],
      "text/plain": [
       "<IPython.core.display.HTML object>"
      ]
     },
     "metadata": {},
     "output_type": "display_data"
    }
   ],
   "source": [
    "synth_table_all.show(1)"
   ]
  },
  {
   "cell_type": "code",
   "execution_count": 116,
   "metadata": {
    "collapsed": true
   },
   "outputs": [],
   "source": [
    "df_dt.with_rows(synth_table_all.drop(7)).to_csv('taxi_data_draft.csv')"
   ]
  },
  {
   "cell_type": "code",
   "execution_count": null,
   "metadata": {
    "collapsed": true
   },
   "outputs": [],
   "source": []
  },
  {
   "cell_type": "code",
   "execution_count": null,
   "metadata": {
    "collapsed": true
   },
   "outputs": [],
   "source": []
  },
  {
   "cell_type": "code",
   "execution_count": 3,
   "metadata": {
    "collapsed": true
   },
   "outputs": [],
   "source": [
    "df = Table.read_table(\"january_complaints.csv\")"
   ]
  },
  {
   "cell_type": "code",
   "execution_count": 11,
   "metadata": {},
   "outputs": [
    {
     "name": "stderr",
     "output_type": "stream",
     "text": [
      "/anaconda/lib/python3.6/site-packages/datascience/tables.py:234: FutureWarning: column_labels is deprecated; use labels\n",
      "  warnings.warn(\"column_labels is deprecated; use labels\", FutureWarning)\n"
     ]
    },
    {
     "data": {
      "text/plain": [
       "('OFNS_DESC',\n",
       " 'PD_DESC',\n",
       " 'LAW_CAT_CD',\n",
       " 'BORO_NM',\n",
       " 'Longitude',\n",
       " 'Latitude',\n",
       " 'TIME')"
      ]
     },
     "execution_count": 11,
     "metadata": {},
     "output_type": "execute_result"
    }
   ],
   "source": [
    "df.column_labels"
   ]
  },
  {
   "cell_type": "code",
   "execution_count": null,
   "metadata": {
    "collapsed": true
   },
   "outputs": [],
   "source": []
  }
 ],
 "metadata": {
  "anaconda-cloud": {},
  "kernelspec": {
   "display_name": "Python 3",
   "language": "python",
   "name": "python3"
  },
  "language_info": {
   "codemirror_mode": {
    "name": "ipython",
    "version": 3
   },
   "file_extension": ".py",
   "mimetype": "text/x-python",
   "name": "python",
   "nbconvert_exporter": "python",
   "pygments_lexer": "ipython3",
   "version": "3.6.1"
  }
 },
 "nbformat": 4,
 "nbformat_minor": 1
}
