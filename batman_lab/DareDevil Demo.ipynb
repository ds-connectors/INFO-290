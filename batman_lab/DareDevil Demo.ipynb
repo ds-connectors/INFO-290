{
 "cells": [
  {
   "cell_type": "markdown",
   "metadata": {},
   "source": [
    "# Daredevil Demo\n",
    "---\n",
    "\n",
    "In this lab, we will explore the potential privacy concerns regarding location data that is supposedly anonymous. We will use a modified version of NYC Taxi data (which is made public and can be found [here](http://www.nyc.gov/html/tlc/html/about/trip_record_data.shtml)) and modified NYC complaints data (found [here](https://data.cityofnewyork.us/Public-Safety/NYPD-Complaint-Map-Year-to-Date-/2fra-mtpn)).\n",
    "\n",
    "Based on the fictional Marvel superhero Daredevil, we will use these two datasets to find the identity/location of Daredevil (if you do not know the background of the superhero, do not worry).\n",
    "\n",
    "While this is a seemingly trivial example, it turns out that knowing just a little bit of information can be combined with a dataset to discover much more than [intended](https://research.neustar.biz/2014/09/15/riding-with-the-stars-passenger-privacy-in-the-nyc-taxicab-dataset/).\n",
    "\n",
    "**We will look at past crime data, and knowing that Daredevil is blind and thus cannot drive himself (assume Uber does not yet exist), must use a taxi to reach crimes far from his home**\n",
    "\n",
    "*Estimated Time: 60 minutes*\n",
    "\n",
    "---\n",
    "\n",
    "**Topics Covered:**\n",
    "- Loading/Processing Data\n",
    "- Data Visualization\n",
    "- Combining, Exploring, and Using Data\n",
    "\n",
    "**Dependencies:**\n",
    "*if you are running this through JupyterHub, you do not need to worry about installing these*\n",
    "- numpy\n",
    "- datascience\n",
    "- folium\n",
    "- datetime\n"
   ]
  },
  {
   "cell_type": "code",
   "execution_count": 1,
   "metadata": {
    "collapsed": true
   },
   "outputs": [],
   "source": [
    "# Just run this cell. It imports all of the packages we will use\n",
    "import numpy as np\n",
    "from datascience import *\n",
    "import folium\n",
    "import datetime as dt\n",
    "\n",
    "import warnings\n",
    "warnings.filterwarnings('ignore')"
   ]
  },
  {
   "cell_type": "markdown",
   "metadata": {},
   "source": [
    "*Quick note, if you ever want to know more about a certain function, you can add a **?** after a function name to pull up the docstring for the function*"
   ]
  },
  {
   "cell_type": "code",
   "execution_count": 2,
   "metadata": {
    "collapsed": true
   },
   "outputs": [],
   "source": [
    "Table.read_table?"
   ]
  },
  {
   "cell_type": "markdown",
   "metadata": {},
   "source": [
    "## Loading and processing data"
   ]
  },
  {
   "cell_type": "markdown",
   "metadata": {},
   "source": [
    "To start, we will load in the raw csv data (remember we are using 2 datasets) and view each one individually. Observe the column names and try to make note of what each name means. For some datasets, these names can be obscure and you will need to look directly at the source of the data to have more information about each column. However, in our case, most of the columns have column names we can easily interpret. There are a few columns that are not very clear about what they mean, but none of these columns will affect our search for the Daredevil in any significant way so we will ignore them (at least, in our demo)"
   ]
  },
  {
   "cell_type": "code",
   "execution_count": 3,
   "metadata": {
    "scrolled": false
   },
   "outputs": [
    {
     "name": "stdout",
     "output_type": "stream",
     "text": [
      "Taxi Data:\n"
     ]
    },
    {
     "data": {
      "text/html": [
       "<table border=\"1\" class=\"dataframe\">\n",
       "    <thead>\n",
       "        <tr>\n",
       "            <th>VendorID</th> <th>lpep_pickup_datetime</th> <th>Lpep_dropoff_datetime</th> <th>Store_and_fwd_flag</th> <th>RateCodeID</th> <th>Pickup_longitude</th> <th>Pickup_latitude</th> <th>Dropoff_longitude</th> <th>Dropoff_latitude</th> <th>Passenger_count</th> <th>Trip_distance</th> <th>Fare_amount</th> <th>Extra</th> <th>MTA_tax</th> <th>Tip_amount</th> <th>Tolls_amount</th> <th>Ehail_fee</th> <th>improvement_surcharge</th> <th>Total_amount</th> <th>Payment_type</th> <th>Trip_type </th>\n",
       "        </tr>\n",
       "    </thead>\n",
       "    <tbody>\n",
       "        <tr>\n",
       "            <td>2       </td> <td>2016-01-06 12:04:53 </td> <td>2016-01-06 12:14:21  </td> <td>N                 </td> <td>1         </td> <td>-73.8396        </td> <td>40.7222        </td> <td>-73.8637         </td> <td>40.7326         </td> <td>1              </td> <td>1.58         </td> <td>8.5        </td> <td>0    </td> <td>0.5    </td> <td>0.46      </td> <td>0           </td> <td>nan      </td> <td>0.3                  </td> <td>9.76        </td> <td>1           </td> <td>1         </td>\n",
       "        </tr>\n",
       "    </tbody>\n",
       "        <tr>\n",
       "            <td>2       </td> <td>2016-01-30 22:45:09 </td> <td>2016-01-30 23:04:45  </td> <td>N                 </td> <td>1         </td> <td>-73.9437        </td> <td>40.7117        </td> <td>-73.9634         </td> <td>40.6759         </td> <td>1              </td> <td>3.36         </td> <td>15         </td> <td>0.5  </td> <td>0.5    </td> <td>3.5       </td> <td>0           </td> <td>nan      </td> <td>0.3                  </td> <td>19.8        </td> <td>1           </td> <td>1         </td>\n",
       "        </tr>\n",
       "    </tbody>\n",
       "        <tr>\n",
       "            <td>1       </td> <td>2016-01-05 19:36:41 </td> <td>2016-01-05 19:44:39  </td> <td>N                 </td> <td>1         </td> <td>-73.94          </td> <td>40.6928        </td> <td>-73.9809         </td> <td>40.6899         </td> <td>1              </td> <td>2            </td> <td>8          </td> <td>1    </td> <td>0.5    </td> <td>0         </td> <td>0           </td> <td>nan      </td> <td>0.3                  </td> <td>9.8         </td> <td>2           </td> <td>1         </td>\n",
       "        </tr>\n",
       "    </tbody>\n",
       "        <tr>\n",
       "            <td>2       </td> <td>2016-01-31 22:56:29 </td> <td>2016-01-31 23:06:23  </td> <td>N                 </td> <td>1         </td> <td>-73.9349        </td> <td>40.8476        </td> <td>-73.9425         </td> <td>40.8277         </td> <td>1              </td> <td>1.72         </td> <td>9          </td> <td>0.5  </td> <td>0.5    </td> <td>0         </td> <td>0           </td> <td>nan      </td> <td>0.3                  </td> <td>10.3        </td> <td>2           </td> <td>1         </td>\n",
       "        </tr>\n",
       "    </tbody>\n",
       "        <tr>\n",
       "            <td>2       </td> <td>2016-01-09 13:35:55 </td> <td>2016-01-09 13:52:11  </td> <td>N                 </td> <td>1         </td> <td>-73.9924        </td> <td>40.6894        </td> <td>-73.9501         </td> <td>40.6939         </td> <td>1              </td> <td>2.87         </td> <td>12.5       </td> <td>0    </td> <td>0.5    </td> <td>2         </td> <td>0           </td> <td>nan      </td> <td>0.3                  </td> <td>15.3        </td> <td>1           </td> <td>1         </td>\n",
       "        </tr>\n",
       "    </tbody>\n",
       "</table>\n",
       "<p>... (4995 rows omitted)</p"
      ],
      "text/plain": [
       "<IPython.core.display.HTML object>"
      ]
     },
     "metadata": {},
     "output_type": "display_data"
    },
    {
     "name": "stdout",
     "output_type": "stream",
     "text": [
      "Complaints Data:\n"
     ]
    },
    {
     "data": {
      "text/html": [
       "<table border=\"1\" class=\"dataframe\">\n",
       "    <thead>\n",
       "        <tr>\n",
       "            <th>CMPLNT_NUM</th> <th>CMPLNT_FR_DT</th> <th>CMPLNT_FR_TM</th> <th>CMPLNT_TO_DT</th> <th>CMPLNT_TO_TM</th> <th>RPT_DT</th> <th>KY_CD</th> <th>OFNS_DESC</th> <th>PD_CD</th> <th>PD_DESC</th> <th>CRM_ATPT_CPTD_CD</th> <th>LAW_CAT_CD</th> <th>JURIS_DESC</th> <th>BORO_NM</th> <th>ADDR_PCT_CD</th> <th>LOC_OF_OCCUR_DESC</th> <th>PREM_TYP_DESC</th> <th>PARKS_NM</th> <th>HADEVELOPT</th> <th>X_COORD_CD</th> <th>Y_COORD_CD</th> <th>Latitude</th> <th>Longitude</th> <th>Lat_Lon</th>\n",
       "        </tr>\n",
       "    </thead>\n",
       "    <tbody>\n",
       "        <tr>\n",
       "            <td>845348933 </td> <td>03/31/2017  </td> <td>23:30:00    </td> <td>nan         </td> <td>nan         </td> <td>03/31/2017</td> <td>578  </td> <td>HARRASSMENT 2                 </td> <td>638  </td> <td>HARASSMENT,SUBD 3,4,5            </td> <td>COMPLETED       </td> <td>VIOLATION  </td> <td>N.Y. POLICE DEPT</td> <td>BROOKLYN </td> <td>69         </td> <td>INSIDE           </td> <td>RESIDENCE - APT. HOUSE</td> <td>nan     </td> <td>nan       </td> <td>1.01242e+06</td> <td>171737    </td> <td>40.638  </td> <td>-73.8985 </td> <td>(40.638018389, -73.898491201)</td>\n",
       "        </tr>\n",
       "    </tbody>\n",
       "        <tr>\n",
       "            <td>886921338 </td> <td>03/31/2017  </td> <td>23:25:00    </td> <td>03/31/2017  </td> <td>23:30:00    </td> <td>03/31/2017</td> <td>344  </td> <td>ASSAULT 3 & RELATED OFFENSES  </td> <td>101  </td> <td>ASSAULT 3                        </td> <td>COMPLETED       </td> <td>MISDEMEANOR</td> <td>N.Y. POLICE DEPT</td> <td>MANHATTAN</td> <td>14         </td> <td>nan              </td> <td>STREET                </td> <td>nan     </td> <td>nan       </td> <td>987466     </td> <td>215861    </td> <td>40.7592 </td> <td>-73.9884 </td> <td>(40.759172699, -73.988392793)</td>\n",
       "        </tr>\n",
       "    </tbody>\n",
       "        <tr>\n",
       "            <td>893265998 </td> <td>03/31/2017  </td> <td>23:15:00    </td> <td>03/31/2017  </td> <td>23:25:00    </td> <td>03/31/2017</td> <td>105  </td> <td>ROBBERY                       </td> <td>394  </td> <td>ROBBERY,LICENSED FOR HIRE VEHICLE</td> <td>COMPLETED       </td> <td>FELONY     </td> <td>N.Y. POLICE DEPT</td> <td>BRONX    </td> <td>42         </td> <td>FRONT OF         </td> <td>TAXI (LIVERY LICENSED)</td> <td>nan     </td> <td>nan       </td> <td>1.0105e+06 </td> <td>245411    </td> <td>40.8402 </td> <td>-73.9051 </td> <td>(40.84024096, -73.905125257) </td>\n",
       "        </tr>\n",
       "    </tbody>\n",
       "        <tr>\n",
       "            <td>518511851 </td> <td>03/31/2017  </td> <td>23:00:00    </td> <td>03/31/2017  </td> <td>23:10:00    </td> <td>03/31/2017</td> <td>364  </td> <td>OTHER STATE LAWS (NON PENAL LA</td> <td>809  </td> <td>TAX LAW                          </td> <td>COMPLETED       </td> <td>MISDEMEANOR</td> <td>N.Y. POLICE DEPT</td> <td>BRONX    </td> <td>49         </td> <td>INSIDE           </td> <td>GROCERY/BODEGA        </td> <td>nan     </td> <td>nan       </td> <td>1.02362e+06</td> <td>253318    </td> <td>40.8619 </td> <td>-73.8577 </td> <td>(40.861894559, -73.85766248) </td>\n",
       "        </tr>\n",
       "    </tbody>\n",
       "        <tr>\n",
       "            <td>541009476 </td> <td>03/31/2017  </td> <td>22:55:00    </td> <td>03/31/2017  </td> <td>22:59:00    </td> <td>03/31/2017</td> <td>235  </td> <td>DANGEROUS DRUGS               </td> <td>511  </td> <td>CONTROLLED SUBSTANCE, POSSESSI   </td> <td>COMPLETED       </td> <td>MISDEMEANOR</td> <td>N.Y. POLICE DEPT</td> <td>BROOKLYN </td> <td>68         </td> <td>FRONT OF         </td> <td>STREET                </td> <td>nan     </td> <td>nan       </td> <td>977956     </td> <td>167273    </td> <td>40.6258 </td> <td>-74.0227 </td> <td>(40.625808217, -74.022675222)</td>\n",
       "        </tr>\n",
       "    </tbody>\n",
       "</table>\n",
       "<p>... (108296 rows omitted)</p"
      ],
      "text/plain": [
       "<IPython.core.display.HTML object>"
      ]
     },
     "metadata": {},
     "output_type": "display_data"
    }
   ],
   "source": [
    "# The lines below will load the data\n",
    "taxis_raw = Table.read_table(\"taxi_data_draft.csv\")\n",
    "complaints_raw = Table.read_table(\"DATA/NY_complaints.csv\")\n",
    "\n",
    "# Use .show(x) function to show the first x lines of a table\n",
    "print(\"Taxi Data:\")\n",
    "taxis_raw.show(5)\n",
    "print(\"Complaints Data:\")\n",
    "complaints_raw.show(5)"
   ]
  },
  {
   "cell_type": "markdown",
   "metadata": {},
   "source": [
    "We see that the data we have gives a lot of information! In particular, there seems to be a wealth of information in the form of times and locations. This sets up our general approach to finding our target. We will assume that for some number of the crimes committed (there would be no way for Daredevil to get to all crimes), Daredevil must have taken a taxi and was dropped off near the location of the crime. Thus, we can try to determine the taxis/ubers Daredevil took and then look at the original pickup location. However, this is complicated by the fact that we have much more data than we want and that we cannot expect Daredevil to have gotten a ride exactly to the same location and at the same exact time.\n",
    "\n",
    "---\n",
    "Before we move on to actually analyzing the data, we must process the data to be in a more usable form. Raw data is often very messy and can be a pain to work with. Things such as missing values or nans are often scattered throughout the dataset, and values can often be in a difficult form to use. Thus, by processing the data now, we will make our lives much easier later.\n",
    "\n",
    "To start, lets make the tables we are working with smaller so they only include columns of interest. While this helps to focus our analysis, note that this also discards potentially useful information. If you finish the demo early and want to try some of your own analysis, feel free to use more columns than we do here (in creating the mock data, we use many more columns).\n",
    "\n",
    "For our taxi dataset, we will only select the columns for pickup/dropoff times, pickup/dropoff locations and the passenger count. For our complaints data, we will only select the level of offense (LAW_CAT_CD)."
   ]
  },
  {
   "cell_type": "code",
   "execution_count": 4,
   "metadata": {
    "scrolled": false
   },
   "outputs": [
    {
     "name": "stdout",
     "output_type": "stream",
     "text": [
      "Taxi Data:\n"
     ]
    },
    {
     "data": {
      "text/html": [
       "<table border=\"1\" class=\"dataframe\">\n",
       "    <thead>\n",
       "        <tr>\n",
       "            <th>Pickup_dt</th> <th>Dropoff_dt</th> <th>Pickup_longitude</th> <th>Pickup_latitude</th> <th>Dropoff_longitude</th> <th>Dropoff_latitude</th> <th>Passenger_count</th>\n",
       "        </tr>\n",
       "    </thead>\n",
       "    <tbody>\n",
       "        <tr>\n",
       "            <td>2016-01-06 12:04:53</td> <td>2016-01-06 12:14:21</td> <td>-73.8396        </td> <td>40.7222        </td> <td>-73.8637         </td> <td>40.7326         </td> <td>1              </td>\n",
       "        </tr>\n",
       "    </tbody>\n",
       "        <tr>\n",
       "            <td>2016-01-30 22:45:09</td> <td>2016-01-30 23:04:45</td> <td>-73.9437        </td> <td>40.7117        </td> <td>-73.9634         </td> <td>40.6759         </td> <td>1              </td>\n",
       "        </tr>\n",
       "    </tbody>\n",
       "        <tr>\n",
       "            <td>2016-01-05 19:36:41</td> <td>2016-01-05 19:44:39</td> <td>-73.94          </td> <td>40.6928        </td> <td>-73.9809         </td> <td>40.6899         </td> <td>1              </td>\n",
       "        </tr>\n",
       "    </tbody>\n",
       "        <tr>\n",
       "            <td>2016-01-31 22:56:29</td> <td>2016-01-31 23:06:23</td> <td>-73.9349        </td> <td>40.8476        </td> <td>-73.9425         </td> <td>40.8277         </td> <td>1              </td>\n",
       "        </tr>\n",
       "    </tbody>\n",
       "        <tr>\n",
       "            <td>2016-01-09 13:35:55</td> <td>2016-01-09 13:52:11</td> <td>-73.9924        </td> <td>40.6894        </td> <td>-73.9501         </td> <td>40.6939         </td> <td>1              </td>\n",
       "        </tr>\n",
       "    </tbody>\n",
       "</table>\n",
       "<p>... (4995 rows omitted)</p"
      ],
      "text/plain": [
       "<IPython.core.display.HTML object>"
      ]
     },
     "metadata": {},
     "output_type": "display_data"
    },
    {
     "name": "stdout",
     "output_type": "stream",
     "text": [
      "Complaints Data:\n"
     ]
    },
    {
     "data": {
      "text/html": [
       "<table border=\"1\" class=\"dataframe\">\n",
       "    <thead>\n",
       "        <tr>\n",
       "            <th>CMPLNT_FR_DT</th> <th>CMPLNT_FR_TM</th> <th>OFNS_DESC</th> <th>PD_DESC</th> <th>LAW_CAT_CD</th> <th>Latitude</th> <th>Longitude</th>\n",
       "        </tr>\n",
       "    </thead>\n",
       "    <tbody>\n",
       "        <tr>\n",
       "            <td>03/31/2017  </td> <td>23:30:00    </td> <td>HARRASSMENT 2                 </td> <td>HARASSMENT,SUBD 3,4,5            </td> <td>VIOLATION  </td> <td>40.638  </td> <td>-73.8985 </td>\n",
       "        </tr>\n",
       "    </tbody>\n",
       "        <tr>\n",
       "            <td>03/31/2017  </td> <td>23:25:00    </td> <td>ASSAULT 3 & RELATED OFFENSES  </td> <td>ASSAULT 3                        </td> <td>MISDEMEANOR</td> <td>40.7592 </td> <td>-73.9884 </td>\n",
       "        </tr>\n",
       "    </tbody>\n",
       "        <tr>\n",
       "            <td>03/31/2017  </td> <td>23:15:00    </td> <td>ROBBERY                       </td> <td>ROBBERY,LICENSED FOR HIRE VEHICLE</td> <td>FELONY     </td> <td>40.8402 </td> <td>-73.9051 </td>\n",
       "        </tr>\n",
       "    </tbody>\n",
       "        <tr>\n",
       "            <td>03/31/2017  </td> <td>23:00:00    </td> <td>OTHER STATE LAWS (NON PENAL LA</td> <td>TAX LAW                          </td> <td>MISDEMEANOR</td> <td>40.8619 </td> <td>-73.8577 </td>\n",
       "        </tr>\n",
       "    </tbody>\n",
       "        <tr>\n",
       "            <td>03/31/2017  </td> <td>22:55:00    </td> <td>DANGEROUS DRUGS               </td> <td>CONTROLLED SUBSTANCE, POSSESSI   </td> <td>MISDEMEANOR</td> <td>40.6258 </td> <td>-74.0227 </td>\n",
       "        </tr>\n",
       "    </tbody>\n",
       "</table>\n",
       "<p>... (108296 rows omitted)</p"
      ],
      "text/plain": [
       "<IPython.core.display.HTML object>"
      ]
     },
     "metadata": {},
     "output_type": "display_data"
    }
   ],
   "source": [
    "# Selecting the columns of Taxi Data according to column index\n",
    "taxis = taxis_raw.select([1,2,5,6,7,8,9])\n",
    "taxis.relabel(['lpep_pickup_datetime','Lpep_dropoff_datetime'], ['Pickup_dt','Dropoff_dt']) # renames column\n",
    "print(\"Taxi Data:\")\n",
    "taxis.show(5)\n",
    "\n",
    "# Selecting the columns of Complaints Data according to column index\n",
    "complaints = complaints_raw.select([1,2,7,9,11,21,22])\n",
    "print(\"Complaints Data:\")\n",
    "complaints.show(5)"
   ]
  },
  {
   "cell_type": "markdown",
   "metadata": {},
   "source": [
    "Now we have selected our columns, let's remove all of the rows that have a missing or null value. We will also remove zero values because some of the taxi locations have 0,0 as their coordinates (which is [clearly](https://www.google.com/maps/place/0%C2%B000'00.0%22N+0%C2%B000'00.0%22E/) not correct)"
   ]
  },
  {
   "cell_type": "code",
   "execution_count": 5,
   "metadata": {},
   "outputs": [
    {
     "data": {
      "text/html": [
       "<table border=\"1\" class=\"dataframe\">\n",
       "    <thead>\n",
       "        <tr>\n",
       "            <th>Pickup_dt</th> <th>Dropoff_dt</th> <th>Pickup_longitude</th> <th>Pickup_latitude</th> <th>Dropoff_longitude</th> <th>Dropoff_latitude</th> <th>Passenger_count</th>\n",
       "        </tr>\n",
       "    </thead>\n",
       "    <tbody>\n",
       "        <tr>\n",
       "            <td>2016-01-06 12:04:53</td> <td>2016-01-06 12:14:21</td> <td>-73.8396        </td> <td>40.7222        </td> <td>-73.8637         </td> <td>40.7326         </td> <td>1              </td>\n",
       "        </tr>\n",
       "    </tbody>\n",
       "        <tr>\n",
       "            <td>2016-01-30 22:45:09</td> <td>2016-01-30 23:04:45</td> <td>-73.9437        </td> <td>40.7117        </td> <td>-73.9634         </td> <td>40.6759         </td> <td>1              </td>\n",
       "        </tr>\n",
       "    </tbody>\n",
       "        <tr>\n",
       "            <td>2016-01-05 19:36:41</td> <td>2016-01-05 19:44:39</td> <td>-73.94          </td> <td>40.6928        </td> <td>-73.9809         </td> <td>40.6899         </td> <td>1              </td>\n",
       "        </tr>\n",
       "    </tbody>\n",
       "        <tr>\n",
       "            <td>2016-01-31 22:56:29</td> <td>2016-01-31 23:06:23</td> <td>-73.9349        </td> <td>40.8476        </td> <td>-73.9425         </td> <td>40.8277         </td> <td>1              </td>\n",
       "        </tr>\n",
       "    </tbody>\n",
       "        <tr>\n",
       "            <td>2016-01-09 13:35:55</td> <td>2016-01-09 13:52:11</td> <td>-73.9924        </td> <td>40.6894        </td> <td>-73.9501         </td> <td>40.6939         </td> <td>1              </td>\n",
       "        </tr>\n",
       "    </tbody>\n",
       "</table>\n",
       "<p>... (4978 rows omitted)</p"
      ],
      "text/plain": [
       "<IPython.core.display.HTML object>"
      ]
     },
     "metadata": {},
     "output_type": "display_data"
    },
    {
     "data": {
      "text/html": [
       "<table border=\"1\" class=\"dataframe\">\n",
       "    <thead>\n",
       "        <tr>\n",
       "            <th>CMPLNT_FR_DT</th> <th>CMPLNT_FR_TM</th> <th>OFNS_DESC</th> <th>PD_DESC</th> <th>LAW_CAT_CD</th> <th>Latitude</th> <th>Longitude</th>\n",
       "        </tr>\n",
       "    </thead>\n",
       "    <tbody>\n",
       "        <tr>\n",
       "            <td>03/31/2017  </td> <td>23:30:00    </td> <td>HARRASSMENT 2                 </td> <td>HARASSMENT,SUBD 3,4,5            </td> <td>VIOLATION  </td> <td>40.638  </td> <td>-73.8985 </td>\n",
       "        </tr>\n",
       "    </tbody>\n",
       "        <tr>\n",
       "            <td>03/31/2017  </td> <td>23:25:00    </td> <td>ASSAULT 3 & RELATED OFFENSES  </td> <td>ASSAULT 3                        </td> <td>MISDEMEANOR</td> <td>40.7592 </td> <td>-73.9884 </td>\n",
       "        </tr>\n",
       "    </tbody>\n",
       "        <tr>\n",
       "            <td>03/31/2017  </td> <td>23:15:00    </td> <td>ROBBERY                       </td> <td>ROBBERY,LICENSED FOR HIRE VEHICLE</td> <td>FELONY     </td> <td>40.8402 </td> <td>-73.9051 </td>\n",
       "        </tr>\n",
       "    </tbody>\n",
       "        <tr>\n",
       "            <td>03/31/2017  </td> <td>23:00:00    </td> <td>OTHER STATE LAWS (NON PENAL LA</td> <td>TAX LAW                          </td> <td>MISDEMEANOR</td> <td>40.8619 </td> <td>-73.8577 </td>\n",
       "        </tr>\n",
       "    </tbody>\n",
       "        <tr>\n",
       "            <td>03/31/2017  </td> <td>22:55:00    </td> <td>DANGEROUS DRUGS               </td> <td>CONTROLLED SUBSTANCE, POSSESSI   </td> <td>MISDEMEANOR</td> <td>40.6258 </td> <td>-74.0227 </td>\n",
       "        </tr>\n",
       "    </tbody>\n",
       "</table>\n",
       "<p>... (106388 rows omitted)</p"
      ],
      "text/plain": [
       "<IPython.core.display.HTML object>"
      ]
     },
     "metadata": {},
     "output_type": "display_data"
    }
   ],
   "source": [
    "def remove_nan(t):\n",
    "    \"\"\"\n",
    "    Removes all rows with nan values checking each column\n",
    "    Note you should use this AFTER stripping the table of columns you do not need\n",
    "    so you do not remove rows when given a column without much information\n",
    "\n",
    "    Will remove most nan values but may not work with some other default missing values\n",
    "    (specifically, will not remove -999, etc. values)\n",
    "\n",
    "    Parameters:\n",
    "    t: a table whose rows with nan values you want to remove\n",
    "\n",
    "    returns a table identical to t but without rows containing nan values\n",
    "    \"\"\"\n",
    "    def checkNotnan(val):\n",
    "        if (val!=val)|(val=='nan')|(val=='NAN')|(val=='NaN')|(val==0):\n",
    "            return False\n",
    "        return True\n",
    "    for i in range(t.num_columns):\n",
    "        t = t.where(i, checkNotnan)\n",
    "    return t\n",
    "\n",
    "taxis = remove_nan(taxis)\n",
    "complaints = remove_nan(complaints)\n",
    "taxis.show(5)\n",
    "complaints.show(5)"
   ]
  },
  {
   "cell_type": "markdown",
   "metadata": {},
   "source": [
    "We will now convert the formats to a more usable format. Currently the taxi dates are in a string format and we would like to change it to a datetime object. If you do not fully know what this means, do not worry too much about. Basically, we have the times in the format of words, but we would like to convert the times to a format that has some built in functionality.\n",
    "\n",
    "To do this we will use the *apply* a function to each row in the datetime columns of the taxi data."
   ]
  },
  {
   "cell_type": "code",
   "execution_count": 6,
   "metadata": {},
   "outputs": [
    {
     "name": "stdout",
     "output_type": "stream",
     "text": [
      "Before: ['2016-01-06 12:04:53' '2016-01-30 22:45:09' '2016-01-05 19:36:41' ...,\n",
      " '2016-01-14 05:51:22' '2016-01-17 23:10:31' '2016-01-05 20:50:35']\n",
      "\n",
      "After: [datetime.datetime(2016, 1, 6, 12, 4, 53)\n",
      " datetime.datetime(2016, 1, 30, 22, 45, 9)\n",
      " datetime.datetime(2016, 1, 5, 19, 36, 41) ...,\n",
      " datetime.datetime(2016, 1, 14, 5, 51, 22)\n",
      " datetime.datetime(2016, 1, 17, 23, 10, 31)\n",
      " datetime.datetime(2016, 1, 5, 20, 50, 35)]\n"
     ]
    }
   ],
   "source": [
    "# This function will conveniently convert a specific format of string to a datetime\n",
    "def to_datetime(string_date):\n",
    "    '''will strip a date in a string format and return a datetime format'''\n",
    "    if type(string_date)==dt.datetime:\n",
    "        return string_date\n",
    "    return dt.datetime.strptime(string_date, '%Y-%m-%d %H:%M:%S')\n",
    "\n",
    "print(\"Before:\", taxis.column(0))\n",
    "print()\n",
    "\n",
    "converted_pickup_col = taxis.apply(to_datetime, 'Pickup_dt')\n",
    "converted_dropoff_col = taxis.apply(to_datetime, 'Dropoff_dt')\n",
    "taxis = taxis.with_column('Pickup_dt',converted_pickup_col)\n",
    "taxis = taxis.with_column('Dropoff_dt',converted_dropoff_col)\n",
    "print(\"After:\", taxis.column(0))"
   ]
  },
  {
   "cell_type": "markdown",
   "metadata": {},
   "source": [
    "Now we will combine the dates and times of the complaints data once again by applying a function but now to two columns! The format of the complaints are also strings."
   ]
  },
  {
   "cell_type": "code",
   "execution_count": 7,
   "metadata": {},
   "outputs": [
    {
     "data": {
      "text/html": [
       "<table border=\"1\" class=\"dataframe\">\n",
       "    <thead>\n",
       "        <tr>\n",
       "            <th>Complaint_dt</th> <th>Latitude</th> <th>Longitude</th> <th>OFNS_DESC</th> <th>PD_DESC</th> <th>LAW_CAT_CD</th>\n",
       "        </tr>\n",
       "    </thead>\n",
       "    <tbody>\n",
       "        <tr>\n",
       "            <td>2017-03-31 23:30:00</td> <td>40.638  </td> <td>-73.8985 </td> <td>HARRASSMENT 2                 </td> <td>HARASSMENT,SUBD 3,4,5            </td> <td>VIOLATION  </td>\n",
       "        </tr>\n",
       "    </tbody>\n",
       "        <tr>\n",
       "            <td>2017-03-31 23:25:00</td> <td>40.7592 </td> <td>-73.9884 </td> <td>ASSAULT 3 & RELATED OFFENSES  </td> <td>ASSAULT 3                        </td> <td>MISDEMEANOR</td>\n",
       "        </tr>\n",
       "    </tbody>\n",
       "        <tr>\n",
       "            <td>2017-03-31 23:15:00</td> <td>40.8402 </td> <td>-73.9051 </td> <td>ROBBERY                       </td> <td>ROBBERY,LICENSED FOR HIRE VEHICLE</td> <td>FELONY     </td>\n",
       "        </tr>\n",
       "    </tbody>\n",
       "        <tr>\n",
       "            <td>2017-03-31 23:00:00</td> <td>40.8619 </td> <td>-73.8577 </td> <td>OTHER STATE LAWS (NON PENAL LA</td> <td>TAX LAW                          </td> <td>MISDEMEANOR</td>\n",
       "        </tr>\n",
       "    </tbody>\n",
       "        <tr>\n",
       "            <td>2017-03-31 22:55:00</td> <td>40.6258 </td> <td>-74.0227 </td> <td>DANGEROUS DRUGS               </td> <td>CONTROLLED SUBSTANCE, POSSESSI   </td> <td>MISDEMEANOR</td>\n",
       "        </tr>\n",
       "    </tbody>\n",
       "</table>\n",
       "<p>... (106388 rows omitted)</p"
      ],
      "text/plain": [
       "<IPython.core.display.HTML object>"
      ]
     },
     "metadata": {},
     "output_type": "display_data"
    }
   ],
   "source": [
    "# The function we will apply to the table. Do not worry too much about the details of it\n",
    "def combine_date_time(date_string, time_string):\n",
    "    '''function that takes a date in the format of a string and a \n",
    "    time in the format of a string and then combines the two into a new datetime format'''\n",
    "    if type(date_string)==dt.date:\n",
    "        date = date_string\n",
    "    elif type(date_string)==dt.datetime:\n",
    "        date = date_string.date()\n",
    "    else:\n",
    "        date = dt.datetime.strptime(date_string, '%m/%d/%Y').date()\n",
    "        \n",
    "    if type(time_string)==dt.time:\n",
    "        time = time_string\n",
    "    elif type(date_string)==dt.datetime:\n",
    "        time = time_string.time()\n",
    "    else:\n",
    "        time = dt.datetime.strptime(time_string, '%H:%M:%S').time()\n",
    "    return dt.datetime.combine(date, time)\n",
    "\n",
    "# applies the function above\n",
    "combined_times = complaints.apply(combine_date_time, [\"CMPLNT_FR_DT\",\"CMPLNT_FR_TM\"])\n",
    "complaints = complaints.with_column(\"Complaint_dt\", combined_times)\n",
    "# drops the first two columns and reorders the table\n",
    "complaints = complaints.drop([0,1]).select([5,3,4,0,1,2])\n",
    "complaints.show(5)"
   ]
  },
  {
   "cell_type": "markdown",
   "metadata": {},
   "source": [
    "We will also combine the latitude/longitude data into one column so we can more easily apply functions using the datascience package."
   ]
  },
  {
   "cell_type": "code",
   "execution_count": 8,
   "metadata": {},
   "outputs": [
    {
     "data": {
      "text/html": [
       "<table border=\"1\" class=\"dataframe\">\n",
       "    <thead>\n",
       "        <tr>\n",
       "            <th>Pickup_dt</th> <th>Dropoff_dt</th> <th>Passenger_count</th> <th>Pickup_location</th> <th>Dropoff_location</th>\n",
       "        </tr>\n",
       "    </thead>\n",
       "    <tbody>\n",
       "        <tr>\n",
       "            <td>2016-01-06 12:04:53</td> <td>2016-01-06 12:14:21</td> <td>1              </td> <td>[ 40.72217941 -73.83955383]</td> <td>[ 40.73259735 -73.86370087]</td>\n",
       "        </tr>\n",
       "    </tbody>\n",
       "        <tr>\n",
       "            <td>2016-01-30 22:45:09</td> <td>2016-01-30 23:04:45</td> <td>1              </td> <td>[ 40.7117157  -73.94367218]</td> <td>[ 40.67586517 -73.96343231]</td>\n",
       "        </tr>\n",
       "    </tbody>\n",
       "</table>\n",
       "<p>... (4981 rows omitted)</p"
      ],
      "text/plain": [
       "<IPython.core.display.HTML object>"
      ]
     },
     "metadata": {},
     "output_type": "display_data"
    },
    {
     "data": {
      "text/html": [
       "<table border=\"1\" class=\"dataframe\">\n",
       "    <thead>\n",
       "        <tr>\n",
       "            <th>Complaint_dt</th> <th>OFNS_DESC</th> <th>PD_DESC</th> <th>LAW_CAT_CD</th> <th>Location</th>\n",
       "        </tr>\n",
       "    </thead>\n",
       "    <tbody>\n",
       "        <tr>\n",
       "            <td>2017-03-31 23:30:00</td> <td>HARRASSMENT 2               </td> <td>HARASSMENT,SUBD 3,4,5</td> <td>VIOLATION  </td> <td>[ 40.63801839 -73.8984912 ]</td>\n",
       "        </tr>\n",
       "    </tbody>\n",
       "        <tr>\n",
       "            <td>2017-03-31 23:25:00</td> <td>ASSAULT 3 & RELATED OFFENSES</td> <td>ASSAULT 3            </td> <td>MISDEMEANOR</td> <td>[ 40.7591727  -73.98839279]</td>\n",
       "        </tr>\n",
       "    </tbody>\n",
       "</table>\n",
       "<p>... (106391 rows omitted)</p"
      ],
      "text/plain": [
       "<IPython.core.display.HTML object>"
      ]
     },
     "metadata": {},
     "output_type": "display_data"
    }
   ],
   "source": [
    "def combine_coordinates(latitude, longitude):\n",
    "    \"\"\"\n",
    "    returns a tuple of the given latitude and longitude\n",
    "    \"\"\"\n",
    "    return (latitude, longitude)\n",
    "\n",
    "# Apply the function above\n",
    "taxis_combined_pickup_loc = taxis.apply(combine_coordinates, ['Pickup_latitude','Pickup_longitude'])\n",
    "taxis_combined_dropoff_loc = taxis.apply(combine_coordinates, ['Dropoff_latitude','Dropoff_longitude'])\n",
    "complaints_combined_loc = complaints.apply(combine_coordinates, ['Latitude','Longitude'])\n",
    "\n",
    "# combine with tables and drop previous columns\n",
    "taxis = taxis.with_column(\"Pickup_location\", taxis_combined_pickup_loc)\n",
    "taxis = taxis.with_column(\"Dropoff_location\", taxis_combined_dropoff_loc)\n",
    "taxis = taxis.drop([2,3,4,5])\n",
    "\n",
    "complaints = complaints.with_column(\"Location\", complaints_combined_loc)\n",
    "complaints = complaints.drop([1,2])\n",
    "\n",
    "taxis.show(2)\n",
    "complaints.show(2)"
   ]
  },
  {
   "cell_type": "markdown",
   "metadata": {},
   "source": [
    "Now let's move on from the boring (yet important) preprocessing of data!"
   ]
  },
  {
   "cell_type": "markdown",
   "metadata": {},
   "source": [
    "## Visualization"
   ]
  },
  {
   "cell_type": "markdown",
   "metadata": {},
   "source": [
    "Before we begin trying to find our DareDevil, we will explore some of the visualization tools that we can use to easily see the data. We will be using folium for this purpose as opposed to the built in mapping function in the datascience package for technical reasons. You can look through the folium [quickstart guide](https://folium.readthedocs.io/en/latest/) or use some of the built in helper functions we provide"
   ]
  },
  {
   "cell_type": "code",
   "execution_count": 38,
   "metadata": {
    "scrolled": false
   },
   "outputs": [
    {
     "data": {
      "text/html": [
       "<div style=\"width:100%;\"><div style=\"position:relative;width:100%;height:0;padding-bottom:60%;\"><iframe src=\"data:text/html;charset=utf-8;base64,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\" style=\"position:absolute;width:100%;height:100%;left:0;top:0;border:none !important;\" allowfullscreen webkitallowfullscreen mozallowfullscreen></iframe></div></div>"
      ],
      "text/plain": [
       "<folium.folium.Map at 0x1195901d0>"
      ]
     },
     "execution_count": 38,
     "metadata": {},
     "output_type": "execute_result"
    }
   ],
   "source": [
    "# This is the syntax to create an empty map centered at coordinates 40.7127,-74.0059\n",
    "# This is also the coordinates of NYC so you can simply use these coordinates in any other maps for this lab\n",
    "map_example = folium.Map(width=700,height=500,location=[40.7128,-74.0059], zoom_start=10)\n",
    "\n",
    "# to display the map simply type the name\n",
    "map_example"
   ]
  },
  {
   "cell_type": "markdown",
   "metadata": {},
   "source": [
    "In order to start plotting points for the lab, folium uses a class called Markers. You can read more documentation [here](https://folium.readthedocs.io/en/latest/quickstart.html#markers). The basics of folium are displayed below."
   ]
  },
  {
   "cell_type": "code",
   "execution_count": 46,
   "metadata": {},
   "outputs": [
    {
     "data": {
      "text/html": [
       "<div style=\"width:100%;\"><div style=\"position:relative;width:100%;height:0;padding-bottom:60%;\"><iframe src=\"data:text/html;charset=utf-8;base64,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\" style=\"position:absolute;width:100%;height:100%;left:0;top:0;border:none !important;\" allowfullscreen webkitallowfullscreen mozallowfullscreen></iframe></div></div>"
      ],
      "text/plain": [
       "<folium.folium.Map at 0x1195901d0>"
      ]
     },
     "execution_count": 46,
     "metadata": {},
     "output_type": "execute_result"
    }
   ],
   "source": [
    "# Creating a new marker at coordinates (40.8436, -73.5633)\n",
    "marker_example = folium.Marker([40.72, -73.9633])\n",
    "# adds the marker to the map\n",
    "marker_example.add_to(map_example)\n",
    "# Note that there is no easy way to remove a marker once you add it to the map\n",
    "# If you want reset a map, simply run map_example = folium.Map(location=[40.7128,-74.0059])\n",
    "# in order to create a new one instead\n",
    "\n",
    "# display the map\n",
    "map_example"
   ]
  },
  {
   "cell_type": "markdown",
   "metadata": {},
   "source": [
    "We define a function addMarkers below. This function will automatically add markers to a map from a given table assuming the table has a column called \"Location\". "
   ]
  },
  {
   "cell_type": "code",
   "execution_count": 58,
   "metadata": {},
   "outputs": [],
   "source": [
    "def addMarkers(fol_map, mark, location_col, color=\"blue\",icon='star',max_num=25, popup_cols=[]):\n",
    "    \"\"\"\n",
    "    adds markers to folium fol_map based on a table mark\n",
    "    Parameters:\n",
    "    fol_map: a folium.Map class that you want to add markers to\n",
    "    mark: a table containing two columns 'Latitude' and 'Longitude'\n",
    "        if these columns do not exits, defaults to using first column as latitude and 2nd as longitude\n",
    "    color: color of the marker added (default: blue)\n",
    "    icon: icon of marker added (default: star)\n",
    "    max_num: the maximum number of markers added. Use to not overload folium map (default: 25)\n",
    "    popup: the columns of the table to be included\n",
    "    returns nothing. Will modify fol_map directly\n",
    "    \"\"\"\n",
    "    if type(location_col)==str:\n",
    "        location_col = mark.column_index(location_col)\n",
    "    for i in range(mark.num_rows):\n",
    "        row = mark.row(i)\n",
    "        popup = None\n",
    "        if len(popup_cols)>0:\n",
    "            popup = \"\"\n",
    "            for col in popup_cols:\n",
    "                popup += mark.column_labels[col] + \": \" + str(row[col]) + '  '\n",
    "        folium.Marker(row[location_col],icon=folium.Icon(color=color, icon=icon),popup=popup).add_to(fol_map)\n",
    "        if (i>max_num):\n",
    "             return"
   ]
  },
  {
   "cell_type": "code",
   "execution_count": 59,
   "metadata": {},
   "outputs": [
    {
     "data": {
      "text/html": [
       "<div style=\"width:100%;\"><div style=\"position:relative;width:100%;height:0;padding-bottom:60%;\"><iframe src=\"data:text/html;charset=utf-8;base64,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\" style=\"position:absolute;width:100%;height:100%;left:0;top:0;border:none !important;\" allowfullscreen webkitallowfullscreen mozallowfullscreen></iframe></div></div>"
      ],
      "text/plain": [
       "<folium.folium.Map at 0x118c28208>"
      ]
     },
     "execution_count": 59,
     "metadata": {},
     "output_type": "execute_result"
    }
   ],
   "source": [
    "# reset the map_example variable\n",
    "map_example = folium.Map(width=700,height=500,location=[40.7128,-74.0059], zoom_start=10)\n",
    "\n",
    "# You can also change the color and icon of the markers\n",
    "addMarkers(map_example, taxis, 'Dropoff_location', color='red', icon='cloud', popup_cols=[0,1])\n",
    "# type help(folium.Icon) to get some details of what you can put in color and icon\n",
    "\n",
    "map_example"
   ]
  },
  {
   "cell_type": "markdown",
   "metadata": {},
   "source": [
    "## Analyzing Data"
   ]
  },
  {
   "cell_type": "markdown",
   "metadata": {},
   "source": [
    "We start to actually look into how we are going to analyze the data. We will be looking at the latitude and longitude data from complaints and taxi as well as the times of each table (so if you dropped these columns earlier, go back and change your selection so these columns are included).\n",
    "\n",
    "Our rationale of the data is that DareDevil uses complaints sent to the NYPD to then go to the location of a crime. Thus, if we look at a crime that Daredevil was present, we expect to find a corresponding taxi that goes to the general area. Then, if we look at where this taxi originated from, we should be (in theory) able to find where Daredevil originates from and thus get closer to identify him.\n",
    "\n",
    "In the real world, you can imagine that we would use a variety of ideas to begin looking for specific people or narrow our search (e.g. photos of taxis celebrities emerged out of, knowledge of where someone lives, etc.)"
   ]
  },
  {
   "cell_type": "code",
   "execution_count": 60,
   "metadata": {},
   "outputs": [
    {
     "data": {
      "text/html": [
       "<table border=\"1\" class=\"dataframe\">\n",
       "    <thead>\n",
       "        <tr>\n",
       "            <th>Pickup_dt</th> <th>Dropoff_dt</th> <th>Passenger_count</th> <th>Pickup_location</th> <th>Dropoff_location</th>\n",
       "        </tr>\n",
       "    </thead>\n",
       "    <tbody>\n",
       "        <tr>\n",
       "            <td>2016-01-06 12:04:53</td> <td>2016-01-06 12:14:21</td> <td>1              </td> <td>[ 40.72217941 -73.83955383]</td> <td>[ 40.73259735 -73.86370087]</td>\n",
       "        </tr>\n",
       "    </tbody>\n",
       "</table>\n",
       "<p>... (4982 rows omitted)</p"
      ],
      "text/plain": [
       "<IPython.core.display.HTML object>"
      ]
     },
     "metadata": {},
     "output_type": "display_data"
    },
    {
     "data": {
      "text/html": [
       "<table border=\"1\" class=\"dataframe\">\n",
       "    <thead>\n",
       "        <tr>\n",
       "            <th>Complaint_dt</th> <th>OFNS_DESC</th> <th>PD_DESC</th> <th>LAW_CAT_CD</th> <th>Location</th>\n",
       "        </tr>\n",
       "    </thead>\n",
       "    <tbody>\n",
       "        <tr>\n",
       "            <td>2017-03-31 23:30:00</td> <td>HARRASSMENT 2</td> <td>HARASSMENT,SUBD 3,4,5</td> <td>VIOLATION </td> <td>[ 40.63801839 -73.8984912 ]</td>\n",
       "        </tr>\n",
       "    </tbody>\n",
       "</table>\n",
       "<p>... (106392 rows omitted)</p"
      ],
      "text/plain": [
       "<IPython.core.display.HTML object>"
      ]
     },
     "metadata": {},
     "output_type": "display_data"
    }
   ],
   "source": [
    "# Run this cell to display the tables\n",
    "taxis.show(1)\n",
    "complaints.show(1)"
   ]
  },
  {
   "cell_type": "markdown",
   "metadata": {},
   "source": [
    "Lets look at the times first. Perhaps we know that DareDevil took some taxi sometime near 11:00 pm (23:00) on January 4th. We can try to find the destination by looking at all taxi rides around that time using the taxi dataset. We can then easily write a function that checks if an event occurs within x minutes from a certain time. Then, we can use this function to select only rows from the tables that correspond to these times.\n",
    "\n",
    "We will use the Table.where function. This function takes in a column name and a function that returns a boolean value (True or False) and returns a table with only the rows where the function returned true when applied to that column."
   ]
  },
  {
   "cell_type": "code",
   "execution_count": 61,
   "metadata": {},
   "outputs": [
    {
     "data": {
      "text/html": [
       "<table border=\"1\" class=\"dataframe\">\n",
       "    <thead>\n",
       "        <tr>\n",
       "            <th>Pickup_dt</th> <th>Dropoff_dt</th> <th>Passenger_count</th> <th>Pickup_location</th> <th>Dropoff_location</th>\n",
       "        </tr>\n",
       "    </thead>\n",
       "    <tbody>\n",
       "        <tr>\n",
       "            <td>2016-01-04 23:00:22</td> <td>2016-01-05 01:20:31</td> <td>1              </td> <td>[ 40.67131042 -73.88010406]</td> <td>[ 40.71093369 -73.96182251]</td>\n",
       "        </tr>\n",
       "    </tbody>\n",
       "        <tr>\n",
       "            <td>2016-01-04 23:04:10</td> <td>2016-01-04 23:14:42</td> <td>2              </td> <td>[ 40.6439209  -73.98931885]</td> <td>[ 40.6598587  -73.95677185]</td>\n",
       "        </tr>\n",
       "    </tbody>\n",
       "        <tr>\n",
       "            <td>2016-01-04 22:56:05</td> <td>2016-01-04 22:58:27</td> <td>5              </td> <td>[ 40.7487793 -73.8728714]  </td> <td>[ 40.74436569 -73.87328339]</td>\n",
       "        </tr>\n",
       "    </tbody>\n",
       "</table>"
      ],
      "text/plain": [
       "<IPython.core.display.HTML object>"
      ]
     },
     "metadata": {},
     "output_type": "display_data"
    }
   ],
   "source": [
    "def near_11pm_jan_4(time):\n",
    "    '''\n",
    "    Returns a boolean (true or false) whether a time is 5 minutes away from January 4, 2016 at 11pm.\n",
    "    '''\n",
    "    jan_4_11_pm = dt.datetime(2016,1,4,23)\n",
    "    return abs(time - jan_4_11_pm) <= dt.timedelta(minutes=5)\n",
    "\n",
    "# Now we use the .where function to select rows from taxi where the pickup time was within 5 minutes of 11pm\n",
    "# on January 4th!\n",
    "near_11_taxis = taxis.where('Pickup_dt', near_11pm_jan_4)\n",
    "near_11_taxis.show()"
   ]
  },
  {
   "cell_type": "markdown",
   "metadata": {},
   "source": [
    "You may have noticed that this function is pretty restrictive. It only allows us to check a table for one specific time! Below we will define a new function that is more general and will allow us to compare 2 times with each other. This will prove very useful to us later."
   ]
  },
  {
   "cell_type": "code",
   "execution_count": 62,
   "metadata": {},
   "outputs": [
    {
     "data": {
      "text/html": [
       "<table border=\"1\" class=\"dataframe\">\n",
       "    <thead>\n",
       "        <tr>\n",
       "            <th>Pickup_dt</th> <th>Dropoff_dt</th> <th>Passenger_count</th> <th>Pickup_location</th> <th>Dropoff_location</th>\n",
       "        </tr>\n",
       "    </thead>\n",
       "    <tbody>\n",
       "        <tr>\n",
       "            <td>2016-01-04 23:00:22</td> <td>2016-01-05 01:20:31</td> <td>1              </td> <td>[ 40.67131042 -73.88010406]</td> <td>[ 40.71093369 -73.96182251]</td>\n",
       "        </tr>\n",
       "    </tbody>\n",
       "        <tr>\n",
       "            <td>2016-01-04 23:04:10</td> <td>2016-01-04 23:14:42</td> <td>2              </td> <td>[ 40.6439209  -73.98931885]</td> <td>[ 40.6598587  -73.95677185]</td>\n",
       "        </tr>\n",
       "    </tbody>\n",
       "        <tr>\n",
       "            <td>2016-01-04 22:56:05</td> <td>2016-01-04 22:58:27</td> <td>5              </td> <td>[ 40.7487793 -73.8728714]  </td> <td>[ 40.74436569 -73.87328339]</td>\n",
       "        </tr>\n",
       "    </tbody>\n",
       "</table>"
      ],
      "text/plain": [
       "<IPython.core.display.HTML object>"
      ]
     },
     "metadata": {},
     "output_type": "display_data"
    }
   ],
   "source": [
    "def time_near(time1, time2, error=5):\n",
    "    '''\n",
    "    Returns a boolean (true or false) whether 2 times are within error time of each other\n",
    "    error time is a number representing the minutes in between the two times (default 5 minutes)\n",
    "    '''\n",
    "    return abs(time1-time2) <= dt.timedelta(minutes=error)\n",
    "\n",
    "# Do not worry exactly what this line below does. It essentially creates the same \n",
    "# function we had before (and of the same name) using the more general function\n",
    "near_11pm_jan_4 = lambda x: time_near(x, dt.datetime(2016,1,4,23))\n",
    "near_11_taxis = taxis.where('Pickup_dt', near_11pm_jan_4)\n",
    "near_11_taxis.show()"
   ]
  },
  {
   "cell_type": "markdown",
   "metadata": {},
   "source": [
    "Using this method, we can look at the time of a crime we believe Daredevil to have gone to and look at dropoff or pickup times for taxis around the same time. Below, we will create a list of tables that correspond to the first 5 rows of crimes/complaints. These tables will be all the taxis that have dropoffs within 10 minutes of the crime being reported."
   ]
  },
  {
   "cell_type": "code",
   "execution_count": 63,
   "metadata": {},
   "outputs": [
    {
     "data": {
      "text/html": [
       "<table border=\"1\" class=\"dataframe\">\n",
       "    <thead>\n",
       "        <tr>\n",
       "            <th>Pickup_dt</th> <th>Dropoff_dt</th> <th>Passenger_count</th> <th>Pickup_location</th> <th>Dropoff_location</th>\n",
       "        </tr>\n",
       "    </thead>\n",
       "    <tbody>\n",
       "</table>"
      ],
      "text/plain": [
       "<IPython.core.display.HTML object>"
      ]
     },
     "metadata": {},
     "output_type": "display_data"
    }
   ],
   "source": [
    "table_list = []\n",
    "for i in range(5):\n",
    "    time = complaints.column('Complaint_dt')[i] #gets the ith datetime of the complaint\n",
    "    temp_function = lambda x: time_near(x, time, 10)\n",
    "    table_list.append(taxis.where('Dropoff_dt', temp_function))\n",
    "table_list[4].show()"
   ]
  },
  {
   "cell_type": "markdown",
   "metadata": {},
   "source": [
    "Now lets look at location data. As with time, we can create a function to let us get all of the rows of a table with a location that is close to some certain coordinate. \n",
    "\n",
    "Before we do, we write a function that converts (roughly) the distance in km of two coordinates to make our lives easier."
   ]
  },
  {
   "cell_type": "code",
   "execution_count": 64,
   "metadata": {
    "collapsed": true
   },
   "outputs": [],
   "source": [
    "def dist_coord(loc1,loc2):\n",
    "    \"\"\"\n",
    "    returns distance in km between 2 coordinates\n",
    "    loc1 and loc2 should be a tuple of coordinates corresponding to the latitude and longitudes\n",
    "    of 2 locations\n",
    "    Not entirely accurate (assumes perfectly spherical earth) but works for our purposes\n",
    "    \"\"\"\n",
    "    R = 6373.0\n",
    "    lat1, lon1 = loc1\n",
    "    lat2, lon2 = loc2\n",
    "    lat1 = np.radians(lat1)\n",
    "    lon1 = np.radians(lon1)\n",
    "    lat2 = np.radians(lat2)\n",
    "    lon2 = np.radians(lon2)\n",
    "    dlon = lon2 - lon1\n",
    "    dlat = lat2 - lat1\n",
    "    a = (np.sin(dlat/2))**2 + np.cos(lat1) * np.cos(lat2) * (np.sin(dlon/2))**2\n",
    "    c = 2 * np.arctan2(np.sqrt(a), np.sqrt(1-a))\n",
    "    distance = R * c\n",
    "    return distance"
   ]
  },
  {
   "cell_type": "markdown",
   "metadata": {},
   "source": [
    "And now we write a general function (like we did for time) to be used in `.where` call of a table. That is, we will write a function that returns true if the coordinates are within x km of another set coordinate. We use the function to then generate a table of taxis that dropped off a passenger within 1 km of the first complaint location (40.638, -73.8985)"
   ]
  },
  {
   "cell_type": "code",
   "execution_count": 65,
   "metadata": {},
   "outputs": [
    {
     "data": {
      "text/html": [
       "<table border=\"1\" class=\"dataframe\">\n",
       "    <thead>\n",
       "        <tr>\n",
       "            <th>Pickup_dt</th> <th>Dropoff_dt</th> <th>Passenger_count</th> <th>Pickup_location</th> <th>Dropoff_location</th>\n",
       "        </tr>\n",
       "    </thead>\n",
       "    <tbody>\n",
       "        <tr>\n",
       "            <td>2016-01-16 03:07:23</td> <td>2016-01-16 03:11:14</td> <td>2              </td> <td>[ 40.64406586 -73.89997101]</td> <td>[ 40.63340378 -73.88950348]</td>\n",
       "        </tr>\n",
       "    </tbody>\n",
       "        <tr>\n",
       "            <td>2016-01-30 22:29:44</td> <td>2016-01-30 22:29:54</td> <td>4              </td> <td>[ 40.64283752 -73.89810944]</td> <td>[ 40.64283371 -73.89808655]</td>\n",
       "        </tr>\n",
       "    </tbody>\n",
       "        <tr>\n",
       "            <td>2016-01-18 21:29:14</td> <td>2016-01-18 21:56:28</td> <td>1              </td> <td>[ 40.68370438 -73.96775055]</td> <td>[ 40.63659668 -73.88986969]</td>\n",
       "        </tr>\n",
       "    </tbody>\n",
       "        <tr>\n",
       "            <td>2016-01-26 22:29:47</td> <td>2016-01-26 22:53:29</td> <td>1              </td> <td>[ 40.67927551 -73.93848419]</td> <td>[ 40.63418579 -73.8886261 ]</td>\n",
       "        </tr>\n",
       "    </tbody>\n",
       "        <tr>\n",
       "            <td>2016-01-16 17:32:49</td> <td>2016-01-16 17:53:10</td> <td>2              </td> <td>[ 40.66906357 -73.93128204]</td> <td>[ 40.6318512  -73.89125061]</td>\n",
       "        </tr>\n",
       "    </tbody>\n",
       "</table>"
      ],
      "text/plain": [
       "<IPython.core.display.HTML object>"
      ]
     },
     "metadata": {},
     "output_type": "display_data"
    }
   ],
   "source": [
    "def dist_near(loc1, loc2, error=1):\n",
    "    \"\"\"\n",
    "    returns a boolean (True or False) of whether the coordinates (lat1,lon1) and (lat2,lon2) are\n",
    "    within error km (default 1 km) of each other\n",
    "    \"\"\"\n",
    "    return dist_coord(loc1, loc2) <= error\n",
    "\n",
    "complaint_loc = complaints.column('Location')[0]\n",
    "near_first_complaint_func = lambda x: dist_near(x, complaint_loc)\n",
    "near_first_complaint_table = taxis.where('Dropoff_location', near_first_complaint_func)\n",
    "near_first_complaint_table.show()"
   ]
  },
  {
   "cell_type": "markdown",
   "metadata": {},
   "source": [
    "Let's visualize this! We plot the location of the complaint in red, and the locations of the taxi dropoffs in green. In addition, we plot the pickup location for each of these taxis in blue so you can see where the taxis picked up passengers who were dropped near the location."
   ]
  },
  {
   "cell_type": "code",
   "execution_count": 79,
   "metadata": {
    "scrolled": false
   },
   "outputs": [
    {
     "data": {
      "text/html": [
       "<div style=\"width:100%;\"><div style=\"position:relative;width:100%;height:0;padding-bottom:60%;\"><iframe src=\"data:text/html;charset=utf-8;base64,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\" style=\"position:absolute;width:100%;height:100%;left:0;top:0;border:none !important;\" allowfullscreen webkitallowfullscreen mozallowfullscreen></iframe></div></div>"
      ],
      "text/plain": [
       "<folium.folium.Map at 0x12d2d8860>"
      ]
     },
     "execution_count": 79,
     "metadata": {},
     "output_type": "execute_result"
    }
   ],
   "source": [
    "distance_example_map = folium.Map(width=700,height=500,location=complaint_loc.tolist(), zoom_start=12)\n",
    "\n",
    "addMarkers(distance_example_map, near_first_complaint_table, 'Dropoff_location', color='green',popup_cols=[3,4])\n",
    "addMarkers(distance_example_map, near_first_complaint_table, 'Pickup_location', color='blue',popup_cols=[3,4])\n",
    "folium.Marker(complaint_loc, icon=folium.Icon(color='red'),popup='Complaint_location: '+str(complaint_loc)).add_to(distance_example_map)\n",
    "\n",
    "distance_example_map"
   ]
  },
  {
   "cell_type": "markdown",
   "metadata": {
    "collapsed": true
   },
   "source": [
    "Now let's try to find DareDevil! We will try to go through the complaints data and find the complaints we believe (or know) that Daredevil has gone to. Then using this, we will match the crime with a taxi that is near in time and dropoff location. Finally, we will look for common pickup locations and suspect that this is the origin location of Daredevil.\n",
    "\n",
    "For the sake of speed, we will require that the passenger count in taxis be 1 and use only January's data. We also will set the location to 1 km away and the dropoff time to be within 15 minutes of the complaint time. You are free to change any of these parameters as you see fit. In addition, if you are comfortable, try to experiment by including some of the columns we removed earlier in the pre-processing stage! \n",
    "\n",
    "*Note that some of the visualizations can be time-consuming, so we encourage you to try to find a faster way that does not need visualizations (hint: try to use the distance function on the pickup locations you get).*"
   ]
  },
  {
   "cell_type": "code",
   "execution_count": 119,
   "metadata": {},
   "outputs": [
    {
     "data": {
      "text/html": [
       "<table border=\"1\" class=\"dataframe\">\n",
       "    <thead>\n",
       "        <tr>\n",
       "            <th>Complaint_dt</th> <th>OFNS_DESC</th> <th>PD_DESC</th> <th>LAW_CAT_CD</th> <th>Location</th>\n",
       "        </tr>\n",
       "    </thead>\n",
       "    <tbody>\n",
       "        <tr>\n",
       "            <td>2016-01-20 08:00:00</td> <td>FRAUDS       </td> <td>FRAUD,UNCLASSIFIED-MISDEMEANOR</td> <td>MISDEMEANOR</td> <td>[ 40.65363867 -73.74077279]</td>\n",
       "        </tr>\n",
       "    </tbody>\n",
       "        <tr>\n",
       "            <td>2016-01-19 06:00:00</td> <td>PETIT LARCENY</td> <td>LARCENY,PETIT FROM BUILDING,UN</td> <td>MISDEMEANOR</td> <td>[ 40.88806094 -73.8586372 ]</td>\n",
       "        </tr>\n",
       "    </tbody>\n",
       "        <tr>\n",
       "            <td>2016-01-07 16:27:00</td> <td>FORGERY      </td> <td>FORGERY,ETC.,UNCLASSIFIED-FELO</td> <td>FELONY     </td> <td>[ 40.76011556 -73.97898212]</td>\n",
       "        </tr>\n",
       "    </tbody>\n",
       "        <tr>\n",
       "            <td>2016-01-07 16:27:00</td> <td>FRAUDS       </td> <td>FRAUD,UNCLASSIFIED-MISDEMEANOR</td> <td>MISDEMEANOR</td> <td>[ 40.76011556 -73.97898212]</td>\n",
       "        </tr>\n",
       "    </tbody>\n",
       "        <tr>\n",
       "            <td>2016-01-04 09:00:00</td> <td>GRAND LARCENY</td> <td>LARCENY,GRAND BY DISHONEST EMP</td> <td>FELONY     </td> <td>[ 40.76226873 -73.98798435]</td>\n",
       "        </tr>\n",
       "    </tbody>\n",
       "</table>\n",
       "<p>... (201 rows omitted)</p"
      ],
      "text/plain": [
       "<IPython.core.display.HTML object>"
      ]
     },
     "metadata": {},
     "output_type": "display_data"
    },
    {
     "data": {
      "text/html": [
       "<div style=\"width:100%;\"><div style=\"position:relative;width:100%;height:0;padding-bottom:60%;\"><iframe src=\"data:text/html;charset=utf-8;base64,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\" style=\"position:absolute;width:100%;height:100%;left:0;top:0;border:none !important;\" allowfullscreen webkitallowfullscreen mozallowfullscreen></iframe></div></div>"
      ],
      "text/plain": [
       "<folium.folium.Map at 0x11928fac8>"
      ]
     },
     "execution_count": 119,
     "metadata": {},
     "output_type": "execute_result"
    }
   ],
   "source": [
    "distance_err = 1\n",
    "time_err = 15\n",
    "\n",
    "#felonies = complaints.where(\"LAW_CAT_CD\", \"FELONY\")\n",
    "# This version is for the january/reduced size data\n",
    "# We create a new table with only felonies\n",
    "felonies = complaints.where(\"Complaint_dt\", \n",
    "        are.between_or_equal_to(dt.datetime(2016,1,1), dt.datetime(2016,1,31)))\n",
    "felonies.show(5)\n",
    "\n",
    "# taxi_tables will be an array of tables corresponding to the table of taxis that\n",
    "# are suspected to be related to the associated felony\n",
    "taxi_tables = []\n",
    "for row_num in range(felonies.num_rows):\n",
    "    # This should all look familiar\n",
    "    complaint_loc = felonies.column('Location')[row_num]\n",
    "    complaint_desc = felonies.column('OFNS_DESC')[row_num]\n",
    "    complaint_dt = felonies.column('Complaint_dt')[row_num]\n",
    "    \n",
    "    near_complaint_loc_func = lambda x: dist_near(x, complaint_loc, distance_err)\n",
    "    near_complaint_time_func = lambda x: time_near(x, complaint_dt, time_err)\n",
    "    \n",
    "    temp_table = taxis.where('Dropoff_location', near_complaint_loc_func)\n",
    "    temp_table = temp_table.where('Dropoff_dt', near_complaint_time_func)\n",
    "    \n",
    "    taxi_tables.append(temp_table)\n",
    "    \n",
    "\n",
    "# For visualization. Note that this can take awhile to run\n",
    "NY_map = folium.Map(width=700,height=500,location=[40.7128,-74.0059], zoom_start=10)\n",
    "\n",
    "for i in range(len(taxi_tables)):\n",
    "    table = taxi_tables[i]\n",
    "    if (table.num_rows>0):\n",
    "        complaint_loc = felonies.column('Location')[i]\n",
    "        complaint_desc = felonies.column('OFNS_DESC')[i]\n",
    "        complaint_dt = felonies.column('Complaint_dt')[i]\n",
    "        \n",
    "        felony_marker = folium.Marker(complaint_loc, icon=folium.Icon(color='red'), popup=complaint_desc)\n",
    "        felony_marker.add_to(NY_map)\n",
    "        addMarkers(NY_map, table, 'Dropoff_location',color='green',popup_cols=[3,4])\n",
    "        addMarkers(NY_map, table, 'Pickup_location',color='blue',popup_cols=[3,4])\n",
    "        \n",
    "NY_map"
   ]
  },
  {
   "cell_type": "markdown",
   "metadata": {},
   "source": [
    "Remember that in the visualization, red indicates the crime, green indicates the dropoff location, and blue indicates the pickup location. Do you see anywhere that seems to be the origin of many of the blue clusters? In particular you should find that there is a small cluster of blue near the coordinates (40.76, -74.00).\n",
    "\n",
    "However, how can we be sure that this did not occur by random coincidence? There could be a variety of factors that impact the data (i.e. population, time, tourist-destination, etc). We recommend trying to explore the data yourself to find out more! You might even find more than just the location of Daredevil."
   ]
  },
  {
   "cell_type": "markdown",
   "metadata": {},
   "source": [
    "---\n",
    "\n",
    "## Credits\n",
    "This module was created as part of the DSEP Modules team for the Spring 2018 offering of INFO 290."
   ]
  },
  {
   "cell_type": "markdown",
   "metadata": {},
   "source": [
    "---"
   ]
  }
 ],
 "metadata": {
  "anaconda-cloud": {},
  "kernelspec": {
   "display_name": "Python 3",
   "language": "python",
   "name": "python3"
  },
  "language_info": {
   "codemirror_mode": {
    "name": "ipython",
    "version": 3
   },
   "file_extension": ".py",
   "mimetype": "text/x-python",
   "name": "python",
   "nbconvert_exporter": "python",
   "pygments_lexer": "ipython3",
   "version": "3.6.1"
  }
 },
 "nbformat": 4,
 "nbformat_minor": 1
}
