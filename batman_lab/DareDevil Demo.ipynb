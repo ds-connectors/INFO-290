{
 "cells": [
  {
   "cell_type": "markdown",
   "metadata": {},
   "source": [
    "# Daredevil Demo - Info 290: Privacy and Security Lab\n",
    "---\n",
    "\n",
    "In this lab, we will explore the potential privacy concerns regarding location data that is supposedly anonymous. We will use a modified version of NYC Taxi data (which is made public and can be found [here](http://www.nyc.gov/html/tlc/html/about/trip_record_data.shtml)) and modified NYC complaints data (found [here](https://data.cityofnewyork.us/Public-Safety/NYPD-Complaint-Map-Year-to-Date-/2fra-mtpn)).\n",
    "\n",
    "Based on the fictional Marvel superhero Daredevil, we will use these two datasets to find the identity/location of Daredevil (if you do not know the background of the superhero, do not worry).\n",
    "\n",
    "While this is a seemingly trivial example, it turns out that knowing just a little bit of information can be combined with a dataset to discover much more than [intended](https://research.neustar.biz/2014/09/15/riding-with-the-stars-passenger-privacy-in-the-nyc-taxicab-dataset/).\n",
    "\n",
    "**We will look at past crime data, and knowing that Daredevil is blind and thus cannot drive himself (assume Uber does not yet exist), must use a taxi to reach crimes far from his home**\n",
    "\n",
    "**This demo assumes a basic knowledge of Python (up to functions and for-loops)**\n",
    "\n",
    "*Estimated Time: 60 minutes*\n",
    "\n",
    "---\n",
    "\n",
    "**Topics Covered:**\n",
    "- Loading/Processing Data\n",
    "- Data Visualization\n",
    "- Combining, Exploring, and Using Data\n",
    "\n",
    "**Dependencies:**\n",
    "*if you are running this through JupyterHub, you do not need to worry about installing these*\n",
    "- numpy\n",
    "- datascience\n",
    "- folium\n",
    "- datetime\n"
   ]
  },
  {
   "cell_type": "code",
   "execution_count": 83,
   "metadata": {
    "collapsed": true
   },
   "outputs": [],
   "source": [
    "# Just run this cell. It imports all of the packages we will use\n",
    "import numpy as np\n",
    "from datascience import *\n",
    "import folium\n",
    "import datetime as dt\n",
    "import warnings\n",
    "warnings.filterwarnings('ignore')"
   ]
  },
  {
   "cell_type": "markdown",
   "metadata": {},
   "source": [
    "*Quick note, if you ever want to know more about a certain function, you can add a **?** after a function name to pull up the docstring for the function*"
   ]
  },
  {
   "cell_type": "code",
   "execution_count": 84,
   "metadata": {
    "collapsed": true
   },
   "outputs": [],
   "source": [
    "Table.read_table?"
   ]
  },
  {
   "cell_type": "markdown",
   "metadata": {},
   "source": [
    "## Loading and processing data"
   ]
  },
  {
   "cell_type": "markdown",
   "metadata": {},
   "source": [
    "To start, we will load in the raw csv data (remember we are using 2 datasets) and view each one individually. Observe the column names and try to make note of what each name means. For some datasets, these names can be obscure and you will need to look directly at the source of the data to have more information about each column. However, in our case, most of the columns have column names we can easily interpret. There are a few columns that are not very clear about what they mean, but none of these columns will affect our search for the Daredevil in any significant way so we will ignore them (at least, in our demo)"
   ]
  },
  {
   "cell_type": "code",
   "execution_count": 85,
   "metadata": {
    "scrolled": false
   },
   "outputs": [
    {
     "name": "stdout",
     "output_type": "stream",
     "text": [
      "Taxi Data:\n"
     ]
    },
    {
     "data": {
      "text/html": [
       "<table border=\"1\" class=\"dataframe\">\n",
       "    <thead>\n",
       "        <tr>\n",
       "            <th>VendorID</th> <th>lpep_pickup_datetime</th> <th>Lpep_dropoff_datetime</th> <th>Store_and_fwd_flag</th> <th>RateCodeID</th> <th>Pickup_longitude</th> <th>Pickup_latitude</th> <th>Dropoff_longitude</th> <th>Dropoff_latitude</th> <th>Passenger_count</th> <th>Trip_distance</th> <th>Fare_amount</th> <th>Extra</th> <th>MTA_tax</th> <th>Tip_amount</th> <th>Tolls_amount</th> <th>Ehail_fee</th> <th>improvement_surcharge</th> <th>Total_amount</th> <th>Payment_type</th> <th>Trip_type </th>\n",
       "        </tr>\n",
       "    </thead>\n",
       "    <tbody>\n",
       "        <tr>\n",
       "            <td>2       </td> <td>2016-01-16 10:24:29 </td> <td>2016-01-16 10:32:46  </td> <td>N                 </td> <td>1         </td> <td>-73.951         </td> <td>40.6753        </td> <td>-73.938          </td> <td>40.6826         </td> <td>1              </td> <td>1.38         </td> <td>7.5        </td> <td>0    </td> <td>0.5    </td> <td>1.66      </td> <td>0           </td> <td>nan      </td> <td>0.3                  </td> <td>9.96        </td> <td>1           </td> <td>1         </td>\n",
       "        </tr>\n",
       "    </tbody>\n",
       "        <tr>\n",
       "            <td>2       </td> <td>2016-02-22 09:23:39 </td> <td>2016-02-22 09:26:08  </td> <td>N                 </td> <td>1         </td> <td>-73.9571        </td> <td>40.7458        </td> <td>-73.954          </td> <td>40.7427         </td> <td>1              </td> <td>0.47         </td> <td>3.5        </td> <td>0    </td> <td>0.5    </td> <td>1         </td> <td>0           </td> <td>nan      </td> <td>0.3                  </td> <td>5.3         </td> <td>1           </td> <td>1         </td>\n",
       "        </tr>\n",
       "    </tbody>\n",
       "        <tr>\n",
       "            <td>2       </td> <td>2015-12-01 21:05:00 </td> <td>2015-12-01 21:08:28  </td> <td>N                 </td> <td>1         </td> <td>-73.9033        </td> <td>40.7458        </td> <td>-73.9129         </td> <td>40.7485         </td> <td>1              </td> <td>0.63         </td> <td>4.5        </td> <td>0.5  </td> <td>0.5    </td> <td>0         </td> <td>0           </td> <td>nan      </td> <td>0.3                  </td> <td>5.8         </td> <td>2           </td> <td>1         </td>\n",
       "        </tr>\n",
       "    </tbody>\n",
       "        <tr>\n",
       "            <td>2       </td> <td>2016-03-03 10:43:47 </td> <td>2016-03-03 11:14:04  </td> <td>N                 </td> <td>1         </td> <td>-73.952         </td> <td>40.6823        </td> <td>-74.0057         </td> <td>40.7405         </td> <td>1              </td> <td>6.12         </td> <td>23         </td> <td>0    </td> <td>0.5    </td> <td>4.76      </td> <td>0           </td> <td>nan      </td> <td>0.3                  </td> <td>28.56       </td> <td>1           </td> <td>1         </td>\n",
       "        </tr>\n",
       "    </tbody>\n",
       "        <tr>\n",
       "            <td>2       </td> <td>2016-03-21 17:44:57 </td> <td>2016-03-21 18:04:18  </td> <td>N                 </td> <td>1         </td> <td>-73.977         </td> <td>40.6768        </td> <td>-73.9423         </td> <td>40.6842         </td> <td>1              </td> <td>2.61         </td> <td>13.5       </td> <td>1    </td> <td>0.5    </td> <td>3         </td> <td>0           </td> <td>nan      </td> <td>0.3                  </td> <td>18.3        </td> <td>1           </td> <td>1         </td>\n",
       "        </tr>\n",
       "    </tbody>\n",
       "</table>\n",
       "<p>... (20194 rows omitted)</p"
      ],
      "text/plain": [
       "<IPython.core.display.HTML object>"
      ]
     },
     "metadata": {},
     "output_type": "display_data"
    },
    {
     "name": "stdout",
     "output_type": "stream",
     "text": [
      "Complaints Data:\n"
     ]
    },
    {
     "data": {
      "text/html": [
       "<table border=\"1\" class=\"dataframe\">\n",
       "    <thead>\n",
       "        <tr>\n",
       "            <th>CMPLNT_NUM</th> <th>CMPLNT_FR_DT</th> <th>CMPLNT_FR_TM</th> <th>CMPLNT_TO_DT</th> <th>CMPLNT_TO_TM</th> <th>RPT_DT</th> <th>KY_CD</th> <th>OFNS_DESC</th> <th>PD_CD</th> <th>PD_DESC</th> <th>CRM_ATPT_CPTD_CD</th> <th>LAW_CAT_CD</th> <th>JURIS_DESC</th> <th>BORO_NM</th> <th>ADDR_PCT_CD</th> <th>LOC_OF_OCCUR_DESC</th> <th>PREM_TYP_DESC</th> <th>PARKS_NM</th> <th>HADEVELOPT</th> <th>X_COORD_CD</th> <th>Y_COORD_CD</th> <th>Latitude</th> <th>Longitude</th> <th>Lat_Lon</th>\n",
       "        </tr>\n",
       "    </thead>\n",
       "    <tbody>\n",
       "        <tr>\n",
       "            <td>614672714 </td> <td>03/24/2016  </td> <td>16:45:00    </td> <td>03/24/2016  </td> <td>17:00:00    </td> <td>03/26/2016</td> <td>578  </td> <td>HARRASSMENT 2                 </td> <td>638  </td> <td>HARASSMENT,SUBD 3,4,5         </td> <td>COMPLETED       </td> <td>VIOLATION  </td> <td>N.Y. POLICE DEPT</td> <td>BROOKLYN     </td> <td>67         </td> <td>FRONT OF         </td> <td>RESIDENCE-HOUSE       </td> <td>nan     </td> <td>nan       </td> <td>1.00256e+06</td> <td>172696    </td> <td>40.6407 </td> <td>-73.934  </td> <td>(40.640676528, -73.93404401) </td>\n",
       "        </tr>\n",
       "    </tbody>\n",
       "        <tr>\n",
       "            <td>864796982 </td> <td>02/22/2016  </td> <td>13:50:00    </td> <td>02/22/2016  </td> <td>14:10:00    </td> <td>02/22/2016</td> <td>110  </td> <td>GRAND LARCENY OF MOTOR VEHICLE</td> <td>441  </td> <td>LARCENY,GRAND OF AUTO         </td> <td>COMPLETED       </td> <td>FELONY     </td> <td>N.Y. POLICE DEPT</td> <td>BRONX        </td> <td>46         </td> <td>FRONT OF         </td> <td>STREET                </td> <td>nan     </td> <td>nan       </td> <td>1.00933e+06</td> <td>250025    </td> <td>40.8529 </td> <td>-73.9093 </td> <td>(40.852908431, -73.909340056)</td>\n",
       "        </tr>\n",
       "    </tbody>\n",
       "        <tr>\n",
       "            <td>105856897 </td> <td>03/21/2016  </td> <td>14:50:00    </td> <td>03/21/2016  </td> <td>14:55:00    </td> <td>03/21/2016</td> <td>344  </td> <td>ASSAULT 3 & RELATED OFFENSES  </td> <td>101  </td> <td>ASSAULT 3                     </td> <td>COMPLETED       </td> <td>MISDEMEANOR</td> <td>N.Y. POLICE DEPT</td> <td>STATEN ISLAND</td> <td>121        </td> <td>INSIDE           </td> <td>RESIDENCE-HOUSE       </td> <td>nan     </td> <td>nan       </td> <td>944075     </td> <td>166443    </td> <td>40.6234 </td> <td>-74.1447 </td> <td>(40.623441179, -74.144724551)</td>\n",
       "        </tr>\n",
       "    </tbody>\n",
       "        <tr>\n",
       "            <td>948233328 </td> <td>03/28/2016  </td> <td>18:15:00    </td> <td>03/28/2016  </td> <td>18:20:00    </td> <td>03/28/2016</td> <td>341  </td> <td>PETIT LARCENY                 </td> <td>333  </td> <td>LARCENY,PETIT FROM STORE-SHOPL</td> <td>COMPLETED       </td> <td>MISDEMEANOR</td> <td>N.Y. POLICE DEPT</td> <td>BRONX        </td> <td>45         </td> <td>INSIDE           </td> <td>JEWELRY               </td> <td>nan     </td> <td>nan       </td> <td>1.0336e+06 </td> <td>255731    </td> <td>40.8685 </td> <td>-73.8216 </td> <td>(40.868467378, -73.821582846)</td>\n",
       "        </tr>\n",
       "    </tbody>\n",
       "        <tr>\n",
       "            <td>765467317 </td> <td>02/02/2016  </td> <td>02:00:00    </td> <td>02/02/2016  </td> <td>02:01:00    </td> <td>02/02/2016</td> <td>344  </td> <td>ASSAULT 3 & RELATED OFFENSES  </td> <td>101  </td> <td>ASSAULT 3                     </td> <td>COMPLETED       </td> <td>MISDEMEANOR</td> <td>N.Y. POLICE DEPT</td> <td>QUEENS       </td> <td>114        </td> <td>INSIDE           </td> <td>RESIDENCE - APT. HOUSE</td> <td>nan     </td> <td>nan       </td> <td>1.00678e+06</td> <td>220990    </td> <td>40.7732 </td> <td>-73.9187 </td> <td>(40.773222365, -73.91867316) </td>\n",
       "        </tr>\n",
       "    </tbody>\n",
       "</table>\n",
       "<p>... (9995 rows omitted)</p"
      ],
      "text/plain": [
       "<IPython.core.display.HTML object>"
      ]
     },
     "metadata": {},
     "output_type": "display_data"
    }
   ],
   "source": [
    "# The lines below will load the data\n",
    "taxis_raw = Table.read_table(\"Taxi_data.csv\")\n",
    "complaints_raw = Table.read_table(\"NY_complaints.csv\")\n",
    "\n",
    "# Use .show(x) function to show the first x lines of a table\n",
    "print(\"Taxi Data:\")\n",
    "taxis_raw.show(5)\n",
    "print(\"Complaints Data:\")\n",
    "complaints_raw.show(5)"
   ]
  },
  {
   "cell_type": "markdown",
   "metadata": {},
   "source": [
    "We see that the data we have gives a lot of information! In particular, there seems to be a wealth of information in the form of times and locations. This sets up our general approach to finding our target. We will assume that for some number of the crimes committed (there would be no way for Daredevil to get to all crimes), Daredevil must have taken a taxi and was dropped off near the location of the crime. Thus, we can try to determine the taxis/ubers Daredevil took and then look at the original pickup location. However, this is complicated by the fact that we have much more data than we want and that we cannot expect Daredevil to have gotten a ride exactly to the same location and at the same exact time.\n",
    "\n",
    "---\n",
    "Before we move on to actually analyzing the data, we must process the data to be in a more usable form. Raw data is often very messy and can be a pain to work with. Things such as missing values or nans are often scattered throughout the dataset, and values can often be in a difficult form to use. Thus, by processing the data now, we will make our lives much easier later.\n",
    "\n",
    "To start, lets make the tables we are working with smaller so they only include columns of interest. While this helps to focus our analysis, note that this also discards potentially useful information. If you finish the demo early and want to try some of your own analysis, feel free to use more columns than we do here (in creating the mock data, we use many more columns).\n",
    "\n",
    "For our taxi dataset, we will only select the columns for pickup/dropoff times, pickup/dropoff locations and the passenger count. For our complaints data, we will only select the level of offense (LAW_CAT_CD)."
   ]
  },
  {
   "cell_type": "code",
   "execution_count": 86,
   "metadata": {
    "scrolled": false
   },
   "outputs": [
    {
     "name": "stdout",
     "output_type": "stream",
     "text": [
      "Taxi Data:\n"
     ]
    },
    {
     "data": {
      "text/html": [
       "<table border=\"1\" class=\"dataframe\">\n",
       "    <thead>\n",
       "        <tr>\n",
       "            <th>Pickup_dt</th> <th>Dropoff_dt</th> <th>Pickup_longitude</th> <th>Pickup_latitude</th> <th>Dropoff_longitude</th> <th>Dropoff_latitude</th> <th>Passenger_count</th>\n",
       "        </tr>\n",
       "    </thead>\n",
       "    <tbody>\n",
       "        <tr>\n",
       "            <td>2016-01-16 10:24:29</td> <td>2016-01-16 10:32:46</td> <td>-73.951         </td> <td>40.6753        </td> <td>-73.938          </td> <td>40.6826         </td> <td>1              </td>\n",
       "        </tr>\n",
       "    </tbody>\n",
       "        <tr>\n",
       "            <td>2016-02-22 09:23:39</td> <td>2016-02-22 09:26:08</td> <td>-73.9571        </td> <td>40.7458        </td> <td>-73.954          </td> <td>40.7427         </td> <td>1              </td>\n",
       "        </tr>\n",
       "    </tbody>\n",
       "        <tr>\n",
       "            <td>2015-12-01 21:05:00</td> <td>2015-12-01 21:08:28</td> <td>-73.9033        </td> <td>40.7458        </td> <td>-73.9129         </td> <td>40.7485         </td> <td>1              </td>\n",
       "        </tr>\n",
       "    </tbody>\n",
       "        <tr>\n",
       "            <td>2016-03-03 10:43:47</td> <td>2016-03-03 11:14:04</td> <td>-73.952         </td> <td>40.6823        </td> <td>-74.0057         </td> <td>40.7405         </td> <td>1              </td>\n",
       "        </tr>\n",
       "    </tbody>\n",
       "        <tr>\n",
       "            <td>2016-03-21 17:44:57</td> <td>2016-03-21 18:04:18</td> <td>-73.977         </td> <td>40.6768        </td> <td>-73.9423         </td> <td>40.6842         </td> <td>1              </td>\n",
       "        </tr>\n",
       "    </tbody>\n",
       "</table>\n",
       "<p>... (20194 rows omitted)</p"
      ],
      "text/plain": [
       "<IPython.core.display.HTML object>"
      ]
     },
     "metadata": {},
     "output_type": "display_data"
    },
    {
     "name": "stdout",
     "output_type": "stream",
     "text": [
      "Complaints Data:\n"
     ]
    },
    {
     "data": {
      "text/html": [
       "<table border=\"1\" class=\"dataframe\">\n",
       "    <thead>\n",
       "        <tr>\n",
       "            <th>CMPLNT_FR_DT</th> <th>CMPLNT_FR_TM</th> <th>OFNS_DESC</th> <th>PD_DESC</th> <th>LAW_CAT_CD</th> <th>Latitude</th> <th>Longitude</th>\n",
       "        </tr>\n",
       "    </thead>\n",
       "    <tbody>\n",
       "        <tr>\n",
       "            <td>03/24/2016  </td> <td>16:45:00    </td> <td>HARRASSMENT 2                 </td> <td>HARASSMENT,SUBD 3,4,5         </td> <td>VIOLATION  </td> <td>40.6407 </td> <td>-73.934  </td>\n",
       "        </tr>\n",
       "    </tbody>\n",
       "        <tr>\n",
       "            <td>02/22/2016  </td> <td>13:50:00    </td> <td>GRAND LARCENY OF MOTOR VEHICLE</td> <td>LARCENY,GRAND OF AUTO         </td> <td>FELONY     </td> <td>40.8529 </td> <td>-73.9093 </td>\n",
       "        </tr>\n",
       "    </tbody>\n",
       "        <tr>\n",
       "            <td>03/21/2016  </td> <td>14:50:00    </td> <td>ASSAULT 3 & RELATED OFFENSES  </td> <td>ASSAULT 3                     </td> <td>MISDEMEANOR</td> <td>40.6234 </td> <td>-74.1447 </td>\n",
       "        </tr>\n",
       "    </tbody>\n",
       "        <tr>\n",
       "            <td>03/28/2016  </td> <td>18:15:00    </td> <td>PETIT LARCENY                 </td> <td>LARCENY,PETIT FROM STORE-SHOPL</td> <td>MISDEMEANOR</td> <td>40.8685 </td> <td>-73.8216 </td>\n",
       "        </tr>\n",
       "    </tbody>\n",
       "        <tr>\n",
       "            <td>02/02/2016  </td> <td>02:00:00    </td> <td>ASSAULT 3 & RELATED OFFENSES  </td> <td>ASSAULT 3                     </td> <td>MISDEMEANOR</td> <td>40.7732 </td> <td>-73.9187 </td>\n",
       "        </tr>\n",
       "    </tbody>\n",
       "</table>\n",
       "<p>... (9995 rows omitted)</p"
      ],
      "text/plain": [
       "<IPython.core.display.HTML object>"
      ]
     },
     "metadata": {},
     "output_type": "display_data"
    }
   ],
   "source": [
    "# Selecting the columns of Taxi Data according to column index\n",
    "taxis = taxis_raw.select([1,2,5,6,7,8,9])\n",
    "taxis.relabel(['lpep_pickup_datetime','Lpep_dropoff_datetime'], ['Pickup_dt','Dropoff_dt']) # renames column\n",
    "print(\"Taxi Data:\")\n",
    "taxis.show(5)\n",
    "\n",
    "# Selecting the columns of Complaints Data according to column index\n",
    "complaints = complaints_raw.select([1,2,7,9,11,21,22])\n",
    "print(\"Complaints Data:\")\n",
    "complaints.show(5)"
   ]
  },
  {
   "cell_type": "markdown",
   "metadata": {},
   "source": [
    "Now we have selected our columns, let's remove all of the rows that have a missing or null value. We will also remove zero values because some of the taxi locations have 0,0 as their coordinates (which is [clearly](https://www.google.com/maps/place/0%C2%B000'00.0%22N+0%C2%B000'00.0%22E/) not correct)"
   ]
  },
  {
   "cell_type": "code",
   "execution_count": 87,
   "metadata": {},
   "outputs": [
    {
     "data": {
      "text/html": [
       "<table border=\"1\" class=\"dataframe\">\n",
       "    <thead>\n",
       "        <tr>\n",
       "            <th>Pickup_dt</th> <th>Dropoff_dt</th> <th>Pickup_longitude</th> <th>Pickup_latitude</th> <th>Dropoff_longitude</th> <th>Dropoff_latitude</th> <th>Passenger_count</th>\n",
       "        </tr>\n",
       "    </thead>\n",
       "    <tbody>\n",
       "        <tr>\n",
       "            <td>2016-01-16 10:24:29</td> <td>2016-01-16 10:32:46</td> <td>-73.951         </td> <td>40.6753        </td> <td>-73.938          </td> <td>40.6826         </td> <td>1              </td>\n",
       "        </tr>\n",
       "    </tbody>\n",
       "        <tr>\n",
       "            <td>2016-02-22 09:23:39</td> <td>2016-02-22 09:26:08</td> <td>-73.9571        </td> <td>40.7458        </td> <td>-73.954          </td> <td>40.7427         </td> <td>1              </td>\n",
       "        </tr>\n",
       "    </tbody>\n",
       "        <tr>\n",
       "            <td>2015-12-01 21:05:00</td> <td>2015-12-01 21:08:28</td> <td>-73.9033        </td> <td>40.7458        </td> <td>-73.9129         </td> <td>40.7485         </td> <td>1              </td>\n",
       "        </tr>\n",
       "    </tbody>\n",
       "        <tr>\n",
       "            <td>2016-03-03 10:43:47</td> <td>2016-03-03 11:14:04</td> <td>-73.952         </td> <td>40.6823        </td> <td>-74.0057         </td> <td>40.7405         </td> <td>1              </td>\n",
       "        </tr>\n",
       "    </tbody>\n",
       "        <tr>\n",
       "            <td>2016-03-21 17:44:57</td> <td>2016-03-21 18:04:18</td> <td>-73.977         </td> <td>40.6768        </td> <td>-73.9423         </td> <td>40.6842         </td> <td>1              </td>\n",
       "        </tr>\n",
       "    </tbody>\n",
       "</table>\n",
       "<p>... (20128 rows omitted)</p"
      ],
      "text/plain": [
       "<IPython.core.display.HTML object>"
      ]
     },
     "metadata": {},
     "output_type": "display_data"
    },
    {
     "data": {
      "text/html": [
       "<table border=\"1\" class=\"dataframe\">\n",
       "    <thead>\n",
       "        <tr>\n",
       "            <th>CMPLNT_FR_DT</th> <th>CMPLNT_FR_TM</th> <th>OFNS_DESC</th> <th>PD_DESC</th> <th>LAW_CAT_CD</th> <th>Latitude</th> <th>Longitude</th>\n",
       "        </tr>\n",
       "    </thead>\n",
       "    <tbody>\n",
       "        <tr>\n",
       "            <td>03/24/2016  </td> <td>16:45:00    </td> <td>HARRASSMENT 2                 </td> <td>HARASSMENT,SUBD 3,4,5         </td> <td>VIOLATION  </td> <td>40.6407 </td> <td>-73.934  </td>\n",
       "        </tr>\n",
       "    </tbody>\n",
       "        <tr>\n",
       "            <td>02/22/2016  </td> <td>13:50:00    </td> <td>GRAND LARCENY OF MOTOR VEHICLE</td> <td>LARCENY,GRAND OF AUTO         </td> <td>FELONY     </td> <td>40.8529 </td> <td>-73.9093 </td>\n",
       "        </tr>\n",
       "    </tbody>\n",
       "        <tr>\n",
       "            <td>03/21/2016  </td> <td>14:50:00    </td> <td>ASSAULT 3 & RELATED OFFENSES  </td> <td>ASSAULT 3                     </td> <td>MISDEMEANOR</td> <td>40.6234 </td> <td>-74.1447 </td>\n",
       "        </tr>\n",
       "    </tbody>\n",
       "        <tr>\n",
       "            <td>03/28/2016  </td> <td>18:15:00    </td> <td>PETIT LARCENY                 </td> <td>LARCENY,PETIT FROM STORE-SHOPL</td> <td>MISDEMEANOR</td> <td>40.8685 </td> <td>-73.8216 </td>\n",
       "        </tr>\n",
       "    </tbody>\n",
       "        <tr>\n",
       "            <td>02/02/2016  </td> <td>02:00:00    </td> <td>ASSAULT 3 & RELATED OFFENSES  </td> <td>ASSAULT 3                     </td> <td>MISDEMEANOR</td> <td>40.7732 </td> <td>-73.9187 </td>\n",
       "        </tr>\n",
       "    </tbody>\n",
       "</table>\n",
       "<p>... (9817 rows omitted)</p"
      ],
      "text/plain": [
       "<IPython.core.display.HTML object>"
      ]
     },
     "metadata": {},
     "output_type": "display_data"
    }
   ],
   "source": [
    "def remove_nan(t):\n",
    "    \"\"\"\n",
    "    Removes all rows with nan values checking each column\n",
    "    Note you should use this AFTER stripping the table of columns you do not need\n",
    "    so you do not remove rows when given a column without much information\n",
    "\n",
    "    Will remove most nan values but may not work with some other default missing values\n",
    "    (specifically, will not remove -999, etc. values)\n",
    "\n",
    "    Parameters:\n",
    "    t: a table whose rows with nan values you want to remove\n",
    "\n",
    "    returns a table identical to t but without rows containing nan values\n",
    "    \"\"\"\n",
    "    def checkNotnan(val):\n",
    "        if (val!=val)|(val=='nan')|(val=='NAN')|(val=='NaN')|(val==0):\n",
    "            return False\n",
    "        return True\n",
    "    for i in range(t.num_columns):\n",
    "        t = t.where(i, checkNotnan)\n",
    "    return t\n",
    "\n",
    "taxis = remove_nan(taxis)\n",
    "complaints = remove_nan(complaints)\n",
    "taxis.show(5)\n",
    "complaints.show(5)"
   ]
  },
  {
   "cell_type": "markdown",
   "metadata": {},
   "source": [
    "We will now convert the formats to a more usable format. Currently the taxi dates are in a string format and we would like to change it to a datetime object. If you do not fully know what this means, do not worry too much about. Basically, we have the times in the format of words, but we would like to convert the times to a format that has some built in functionality.\n",
    "\n",
    "To do this we will use the *apply* a function to each row in the datetime columns of the taxi data."
   ]
  },
  {
   "cell_type": "code",
   "execution_count": 88,
   "metadata": {},
   "outputs": [
    {
     "name": "stdout",
     "output_type": "stream",
     "text": [
      "Before: ['2016-01-16 10:24:29' '2016-02-22 09:23:39' '2015-12-01 21:05:00' ...,\n",
      " '2016-02-21 00:11:00' '2015-12-06 18:11:47' '2015-12-26 11:59:12']\n",
      "\n",
      "After: [datetime.datetime(2016, 1, 16, 10, 24, 29)\n",
      " datetime.datetime(2016, 2, 22, 9, 23, 39)\n",
      " datetime.datetime(2015, 12, 1, 21, 5) ...,\n",
      " datetime.datetime(2016, 2, 21, 0, 11)\n",
      " datetime.datetime(2015, 12, 6, 18, 11, 47)\n",
      " datetime.datetime(2015, 12, 26, 11, 59, 12)]\n"
     ]
    }
   ],
   "source": [
    "# This function will conveniently convert a specific format of string to a datetime\n",
    "def to_datetime(string_date):\n",
    "    '''will strip a date in a string format and return a datetime format'''\n",
    "    if type(string_date)==dt.datetime:\n",
    "        return string_date\n",
    "    return dt.datetime.strptime(string_date, '%Y-%m-%d %H:%M:%S')\n",
    "\n",
    "print(\"Before:\", taxis.column(0))\n",
    "print()\n",
    "\n",
    "converted_pickup_col = taxis.apply(to_datetime, 'Pickup_dt')\n",
    "converted_dropoff_col = taxis.apply(to_datetime, 'Dropoff_dt')\n",
    "taxis = taxis.with_column('Pickup_dt',converted_pickup_col)\n",
    "taxis = taxis.with_column('Dropoff_dt',converted_dropoff_col)\n",
    "print(\"After:\", taxis.column(0))"
   ]
  },
  {
   "cell_type": "markdown",
   "metadata": {},
   "source": [
    "Now we will combine the dates and times of the complaints data once again by applying a function but now to two columns! The format of the complaints are also strings."
   ]
  },
  {
   "cell_type": "code",
   "execution_count": 89,
   "metadata": {},
   "outputs": [
    {
     "data": {
      "text/html": [
       "<table border=\"1\" class=\"dataframe\">\n",
       "    <thead>\n",
       "        <tr>\n",
       "            <th>Complaint_dt</th> <th>Latitude</th> <th>Longitude</th> <th>OFNS_DESC</th> <th>PD_DESC</th> <th>LAW_CAT_CD</th>\n",
       "        </tr>\n",
       "    </thead>\n",
       "    <tbody>\n",
       "        <tr>\n",
       "            <td>2016-03-24 16:45:00</td> <td>40.6407 </td> <td>-73.934  </td> <td>HARRASSMENT 2                 </td> <td>HARASSMENT,SUBD 3,4,5         </td> <td>VIOLATION  </td>\n",
       "        </tr>\n",
       "    </tbody>\n",
       "        <tr>\n",
       "            <td>2016-02-22 13:50:00</td> <td>40.8529 </td> <td>-73.9093 </td> <td>GRAND LARCENY OF MOTOR VEHICLE</td> <td>LARCENY,GRAND OF AUTO         </td> <td>FELONY     </td>\n",
       "        </tr>\n",
       "    </tbody>\n",
       "        <tr>\n",
       "            <td>2016-03-21 14:50:00</td> <td>40.6234 </td> <td>-74.1447 </td> <td>ASSAULT 3 & RELATED OFFENSES  </td> <td>ASSAULT 3                     </td> <td>MISDEMEANOR</td>\n",
       "        </tr>\n",
       "    </tbody>\n",
       "        <tr>\n",
       "            <td>2016-03-28 18:15:00</td> <td>40.8685 </td> <td>-73.8216 </td> <td>PETIT LARCENY                 </td> <td>LARCENY,PETIT FROM STORE-SHOPL</td> <td>MISDEMEANOR</td>\n",
       "        </tr>\n",
       "    </tbody>\n",
       "        <tr>\n",
       "            <td>2016-02-02 02:00:00</td> <td>40.7732 </td> <td>-73.9187 </td> <td>ASSAULT 3 & RELATED OFFENSES  </td> <td>ASSAULT 3                     </td> <td>MISDEMEANOR</td>\n",
       "        </tr>\n",
       "    </tbody>\n",
       "</table>\n",
       "<p>... (9817 rows omitted)</p"
      ],
      "text/plain": [
       "<IPython.core.display.HTML object>"
      ]
     },
     "metadata": {},
     "output_type": "display_data"
    }
   ],
   "source": [
    "# The function we will apply to the table. Do not worry too much about the details of it\n",
    "def combine_date_time(date_string, time_string):\n",
    "    '''function that takes a date in the format of a string and a \n",
    "    time in the format of a string and then combines the two into a new datetime format'''\n",
    "    if type(date_string)==dt.date:\n",
    "        date = date_string\n",
    "    elif type(date_string)==dt.datetime:\n",
    "        date = date_string.date()\n",
    "    else:\n",
    "        date = dt.datetime.strptime(date_string, '%m/%d/%Y').date()\n",
    "        \n",
    "    if type(time_string)==dt.time:\n",
    "        time = time_string\n",
    "    elif type(date_string)==dt.datetime:\n",
    "        time = time_string.time()\n",
    "    else:\n",
    "        time = dt.datetime.strptime(time_string, '%H:%M:%S').time()\n",
    "    return dt.datetime.combine(date, time)\n",
    "\n",
    "# applies the function above\n",
    "combined_times = complaints.apply(combine_date_time, [\"CMPLNT_FR_DT\",\"CMPLNT_FR_TM\"])\n",
    "complaints = complaints.with_column(\"Complaint_dt\", combined_times)\n",
    "# drops the first two columns and reorders the table\n",
    "complaints = complaints.drop([0,1]).select([5,3,4,0,1,2])\n",
    "complaints.show(5)"
   ]
  },
  {
   "cell_type": "markdown",
   "metadata": {},
   "source": [
    "We will also combine the latitude/longitude data into one column so we can more easily apply functions using the datascience package."
   ]
  },
  {
   "cell_type": "code",
   "execution_count": 90,
   "metadata": {},
   "outputs": [
    {
     "data": {
      "text/html": [
       "<table border=\"1\" class=\"dataframe\">\n",
       "    <thead>\n",
       "        <tr>\n",
       "            <th>Pickup_dt</th> <th>Dropoff_dt</th> <th>Passenger_count</th> <th>Pickup_location</th> <th>Dropoff_location</th>\n",
       "        </tr>\n",
       "    </thead>\n",
       "    <tbody>\n",
       "        <tr>\n",
       "            <td>2016-01-16 10:24:29</td> <td>2016-01-16 10:32:46</td> <td>1              </td> <td>[ 40.67527008 -73.95104218]</td> <td>[ 40.68263626 -73.93795776]</td>\n",
       "        </tr>\n",
       "    </tbody>\n",
       "        <tr>\n",
       "            <td>2016-02-22 09:23:39</td> <td>2016-02-22 09:26:08</td> <td>1              </td> <td>[ 40.74575424 -73.95707703]</td> <td>[ 40.742733   -73.95397186]</td>\n",
       "        </tr>\n",
       "    </tbody>\n",
       "</table>\n",
       "<p>... (20131 rows omitted)</p"
      ],
      "text/plain": [
       "<IPython.core.display.HTML object>"
      ]
     },
     "metadata": {},
     "output_type": "display_data"
    },
    {
     "data": {
      "text/html": [
       "<table border=\"1\" class=\"dataframe\">\n",
       "    <thead>\n",
       "        <tr>\n",
       "            <th>Complaint_dt</th> <th>OFNS_DESC</th> <th>PD_DESC</th> <th>LAW_CAT_CD</th> <th>Location</th>\n",
       "        </tr>\n",
       "    </thead>\n",
       "    <tbody>\n",
       "        <tr>\n",
       "            <td>2016-03-24 16:45:00</td> <td>HARRASSMENT 2                 </td> <td>HARASSMENT,SUBD 3,4,5</td> <td>VIOLATION </td> <td>[ 40.64067653 -73.93404401]</td>\n",
       "        </tr>\n",
       "    </tbody>\n",
       "        <tr>\n",
       "            <td>2016-02-22 13:50:00</td> <td>GRAND LARCENY OF MOTOR VEHICLE</td> <td>LARCENY,GRAND OF AUTO</td> <td>FELONY    </td> <td>[ 40.85290843 -73.90934006]</td>\n",
       "        </tr>\n",
       "    </tbody>\n",
       "</table>\n",
       "<p>... (9820 rows omitted)</p"
      ],
      "text/plain": [
       "<IPython.core.display.HTML object>"
      ]
     },
     "metadata": {},
     "output_type": "display_data"
    }
   ],
   "source": [
    "def combine_coordinates(latitude, longitude):\n",
    "    \"\"\"\n",
    "    returns a tuple of the given latitude and longitude\n",
    "    \"\"\"\n",
    "    return (latitude, longitude)\n",
    "\n",
    "# Apply the function above\n",
    "taxis_combined_pickup_loc = taxis.apply(combine_coordinates, ['Pickup_latitude','Pickup_longitude'])\n",
    "taxis_combined_dropoff_loc = taxis.apply(combine_coordinates, ['Dropoff_latitude','Dropoff_longitude'])\n",
    "complaints_combined_loc = complaints.apply(combine_coordinates, ['Latitude','Longitude'])\n",
    "\n",
    "# combine with tables and drop previous columns\n",
    "taxis = taxis.with_column(\"Pickup_location\", taxis_combined_pickup_loc)\n",
    "taxis = taxis.with_column(\"Dropoff_location\", taxis_combined_dropoff_loc)\n",
    "taxis = taxis.drop([2,3,4,5])\n",
    "\n",
    "complaints = complaints.with_column(\"Location\", complaints_combined_loc)\n",
    "complaints = complaints.drop([1,2])\n",
    "\n",
    "taxis.show(2)\n",
    "complaints.show(2)"
   ]
  },
  {
   "cell_type": "markdown",
   "metadata": {},
   "source": [
    "Now let's move on from the boring (yet important) preprocessing of data!"
   ]
  },
  {
   "cell_type": "markdown",
   "metadata": {},
   "source": [
    "## Visualization"
   ]
  },
  {
   "cell_type": "markdown",
   "metadata": {},
   "source": [
    "Before we begin trying to find our DareDevil, we will explore some of the visualization tools that we can use to easily see the data. We will be using folium for this purpose as opposed to the built in mapping function in the datascience package for technical reasons. You can look through the folium [quickstart guide](https://folium.readthedocs.io/en/latest/) or use some of the built in helper functions we provide"
   ]
  },
  {
   "cell_type": "code",
   "execution_count": 91,
   "metadata": {
    "scrolled": false
   },
   "outputs": [
    {
     "data": {
      "text/html": [
       "<div style=\"width:100%;\"><div style=\"position:relative;width:100%;height:0;padding-bottom:60%;\"><iframe src=\"data:text/html;charset=utf-8;base64,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\" style=\"position:absolute;width:100%;height:100%;left:0;top:0;border:none !important;\" allowfullscreen webkitallowfullscreen mozallowfullscreen></iframe></div></div>"
      ],
      "text/plain": [
       "<folium.folium.Map at 0x145cba160>"
      ]
     },
     "execution_count": 91,
     "metadata": {},
     "output_type": "execute_result"
    }
   ],
   "source": [
    "# This is the syntax to create an empty map centered at coordinates 40.7127,-74.0059\n",
    "# This is also the coordinates of NYC so you can simply use these coordinates in any other maps for this lab\n",
    "map_example = folium.Map(width=700,height=500,location=[40.7128,-74.0059], zoom_start=10)\n",
    "\n",
    "# to display the map simply type the name\n",
    "map_example"
   ]
  },
  {
   "cell_type": "markdown",
   "metadata": {},
   "source": [
    "In order to start plotting points for the lab, folium uses a class called Markers. You can read more documentation [here](https://folium.readthedocs.io/en/latest/quickstart.html#markers). The basics of folium are displayed below."
   ]
  },
  {
   "cell_type": "code",
   "execution_count": 92,
   "metadata": {},
   "outputs": [
    {
     "data": {
      "text/html": [
       "<div style=\"width:100%;\"><div style=\"position:relative;width:100%;height:0;padding-bottom:60%;\"><iframe src=\"data:text/html;charset=utf-8;base64,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\" style=\"position:absolute;width:100%;height:100%;left:0;top:0;border:none !important;\" allowfullscreen webkitallowfullscreen mozallowfullscreen></iframe></div></div>"
      ],
      "text/plain": [
       "<folium.folium.Map at 0x145cba160>"
      ]
     },
     "execution_count": 92,
     "metadata": {},
     "output_type": "execute_result"
    }
   ],
   "source": [
    "# Creating a new marker at coordinates (40.8436, -73.5633)\n",
    "marker_example = folium.Marker([40.72, -73.9633])\n",
    "# adds the marker to the map\n",
    "marker_example.add_to(map_example)\n",
    "# Note that there is no easy way to remove a marker once you add it to the map\n",
    "# If you want reset a map, simply run map_example = folium.Map(location=[40.7128,-74.0059])\n",
    "# in order to create a new one instead\n",
    "\n",
    "# display the map\n",
    "map_example"
   ]
  },
  {
   "cell_type": "markdown",
   "metadata": {},
   "source": [
    "We define a function addMarkers below. This function will automatically add markers to a map from a given table assuming the table has a column called \"Location\". "
   ]
  },
  {
   "cell_type": "code",
   "execution_count": 93,
   "metadata": {
    "collapsed": true
   },
   "outputs": [],
   "source": [
    "def addMarkers(fol_map, mark, location_col, color=\"blue\",icon='star',max_num=25, popup_cols=[]):\n",
    "    \"\"\"\n",
    "    adds markers to folium fol_map based on a table mark\n",
    "    Parameters:\n",
    "    fol_map: a folium.Map class that you want to add markers to\n",
    "    mark: a table containing two columns 'Latitude' and 'Longitude'\n",
    "        if these columns do not exits, defaults to using first column as latitude and 2nd as longitude\n",
    "    color: color of the marker added (default: blue)\n",
    "    icon: icon of marker added (default: star)\n",
    "    max_num: the maximum number of markers added. Use to not overload folium map (default: 25)\n",
    "    popup: the columns of the table to be included\n",
    "    returns nothing. Will modify fol_map directly\n",
    "    \"\"\"\n",
    "    if type(location_col)==str:\n",
    "        location_col = mark.column_index(location_col)\n",
    "    for i in range(mark.num_rows):\n",
    "        row = mark.row(i)\n",
    "        popup = None\n",
    "        if len(popup_cols)>0:\n",
    "            popup = \"\"\n",
    "            for col in popup_cols:\n",
    "                popup += mark.column_labels[col] + \": \" + str(row[col]) + '  '\n",
    "        folium.Marker(row[location_col],icon=folium.Icon(color=color, icon=icon),popup=popup).add_to(fol_map)\n",
    "        if (i>max_num):\n",
    "             return"
   ]
  },
  {
   "cell_type": "code",
   "execution_count": 94,
   "metadata": {},
   "outputs": [
    {
     "data": {
      "text/html": [
       "<div style=\"width:100%;\"><div style=\"position:relative;width:100%;height:0;padding-bottom:60%;\"><iframe src=\"data:text/html;charset=utf-8;base64,PCFET0NUWVBFIGh0bWw+CjxoZWFkPiAgICAKICAgIDxtZXRhIGh0dHAtZXF1aXY9ImNvbnRlbnQtdHlwZSIgY29udGVudD0idGV4dC9odG1sOyBjaGFyc2V0PVVURi04IiAvPgogICAgPHNjcmlwdD5MX1BSRUZFUl9DQU5WQVMgPSBmYWxzZTsgTF9OT19UT1VDSCA9IGZhbHNlOyBMX0RJU0FCTEVfM0QgPSBmYWxzZTs8L3NjcmlwdD4KICAgIDxzY3JpcHQgc3JjPSJodHRwczovL3VucGtnLmNvbS9sZWFmbGV0QDEuMC4xL2Rpc3QvbGVhZmxldC5qcyI+PC9zY3JpcHQ+CiAgICA8c2NyaXB0IHNyYz0iaHR0cHM6Ly9hamF4Lmdvb2dsZWFwaXMuY29tL2FqYXgvbGlicy9qcXVlcnkvMS4xMS4xL2pxdWVyeS5taW4uanMiPjwvc2NyaXB0PgogICAgPHNjcmlwdCBzcmM9Imh0dHBzOi8vbWF4Y2RuLmJvb3RzdHJhcGNkbi5jb20vYm9vdHN0cmFwLzMuMi4wL2pzL2Jvb3RzdHJhcC5taW4uanMiPjwvc2NyaXB0PgogICAgPHNjcmlwdCBzcmM9Imh0dHBzOi8vY2RuanMuY2xvdWRmbGFyZS5jb20vYWpheC9saWJzL0xlYWZsZXQuYXdlc29tZS1tYXJrZXJzLzIuMC4yL2xlYWZsZXQuYXdlc29tZS1tYXJrZXJzLmpzIj48L3NjcmlwdD4KICAgIDxzY3JpcHQgc3JjPSJodHRwczovL2NkbmpzLmNsb3VkZmxhcmUuY29tL2FqYXgvbGlicy9sZWFmbGV0Lm1hcmtlcmNsdXN0ZXIvMS4wLjAvbGVhZmxldC5tYXJrZXJjbHVzdGVyLXNyYy5qcyI+PC9zY3JpcHQ+CiAgICA8c2NyaXB0IHNyYz0iaHR0cHM6Ly9jZG5qcy5jbG91ZGZsYXJlLmNvbS9hamF4L2xpYnMvbGVhZmxldC5tYXJrZXJjbHVzdGVyLzEuMC4wL2xlYWZsZXQubWFya2VyY2x1c3Rlci5qcyI+PC9zY3JpcHQ+CiAgICA8bGluayByZWw9InN0eWxlc2hlZXQiIGhyZWY9Imh0dHBzOi8vdW5wa2cuY29tL2xlYWZsZXRAMS4wLjEvZGlzdC9sZWFmbGV0LmNzcyIgLz4KICAgIDxsaW5rIHJlbD0ic3R5bGVzaGVldCIgaHJlZj0iaHR0cHM6Ly9tYXhjZG4uYm9vdHN0cmFwY2RuLmNvbS9ib290c3RyYXAvMy4yLjAvY3NzL2Jvb3RzdHJhcC5taW4uY3NzIiAvPgogICAgPGxpbmsgcmVsPSJzdHlsZXNoZWV0IiBocmVmPSJodHRwczovL21heGNkbi5ib290c3RyYXBjZG4uY29tL2Jvb3RzdHJhcC8zLjIuMC9jc3MvYm9vdHN0cmFwLXRoZW1lLm1pbi5jc3MiIC8+CiAgICA8bGluayByZWw9InN0eWxlc2hlZXQiIGhyZWY9Imh0dHBzOi8vbWF4Y2RuLmJvb3RzdHJhcGNkbi5jb20vZm9udC1hd2Vzb21lLzQuNi4zL2Nzcy9mb250LWF3ZXNvbWUubWluLmNzcyIgLz4KICAgIDxsaW5rIHJlbD0ic3R5bGVzaGVldCIgaHJlZj0iaHR0cHM6Ly9jZG5qcy5jbG91ZGZsYXJlLmNvbS9hamF4L2xpYnMvTGVhZmxldC5hd2Vzb21lLW1hcmtlcnMvMi4wLjIvbGVhZmxldC5hd2Vzb21lLW1hcmtlcnMuY3NzIiAvPgogICAgPGxpbmsgcmVsPSJzdHlsZXNoZWV0IiBocmVmPSJodHRwczovL2NkbmpzLmNsb3VkZmxhcmUuY29tL2FqYXgvbGlicy9sZWFmbGV0Lm1hcmtlcmNsdXN0ZXIvMS4wLjAvTWFya2VyQ2x1c3Rlci5EZWZhdWx0LmNzcyIgLz4KICAgIDxsaW5rIHJlbD0ic3R5bGVzaGVldCIgaHJlZj0iaHR0cHM6Ly9jZG5qcy5jbG91ZGZsYXJlLmNvbS9hamF4L2xpYnMvbGVhZmxldC5tYXJrZXJjbHVzdGVyLzEuMC4wL01hcmtlckNsdXN0ZXIuY3NzIiAvPgogICAgPGxpbmsgcmVsPSJzdHlsZXNoZWV0IiBocmVmPSJodHRwczovL3Jhd2dpdC5jb20vcHl0aG9uLXZpc3VhbGl6YXRpb24vZm9saXVtL21hc3Rlci9mb2xpdW0vdGVtcGxhdGVzL2xlYWZsZXQuYXdlc29tZS5yb3RhdGUuY3NzIiAvPgogICAgPHN0eWxlPmh0bWwsIGJvZHkge3dpZHRoOiAxMDAlO2hlaWdodDogMTAwJTttYXJnaW46IDA7cGFkZGluZzogMDt9PC9zdHlsZT4KICAgIDxzdHlsZT4jbWFwIHtwb3NpdGlvbjphYnNvbHV0ZTt0b3A6MDtib3R0b206MDtyaWdodDowO2xlZnQ6MDt9PC9zdHlsZT4KICAgIAogICAgICAgICAgICA8c3R5bGU+ICNtYXBfYzUxMTM4ZmFmZGJjNDI0MmE1NWU0MzJkMGRlNjhmZmUgewogICAgICAgICAgICAgICAgcG9zaXRpb24gOiByZWxhdGl2ZTsKICAgICAgICAgICAgICAgIHdpZHRoIDogNzAwLjBweDsKICAgICAgICAgICAgICAgIGhlaWdodDogNTAwLjBweDsKICAgICAgICAgICAgICAgIGxlZnQ6IDAuMCU7CiAgICAgICAgICAgICAgICB0b3A6IDAuMCU7CiAgICAgICAgICAgICAgICB9CiAgICAgICAgICAgIDwvc3R5bGU+CiAgICAgICAgCjwvaGVhZD4KPGJvZHk+ICAgIAogICAgCiAgICAgICAgICAgIDxkaXYgY2xhc3M9ImZvbGl1bS1tYXAiIGlkPSJtYXBfYzUxMTM4ZmFmZGJjNDI0MmE1NWU0MzJkMGRlNjhmZmUiID48L2Rpdj4KICAgICAgICAKPC9ib2R5Pgo8c2NyaXB0PiAgICAKICAgIAoKICAgICAgICAgICAgCiAgICAgICAgICAgICAgICB2YXIgc291dGhXZXN0ID0gTC5sYXRMbmcoLTkwLCAtMTgwKTsKICAgICAgICAgICAgICAgIHZhciBub3J0aEVhc3QgPSBMLmxhdExuZyg5MCwgMTgwKTsKICAgICAgICAgICAgICAgIHZhciBib3VuZHMgPSBMLmxhdExuZ0JvdW5kcyhzb3V0aFdlc3QsIG5vcnRoRWFzdCk7CiAgICAgICAgICAgIAoKICAgICAgICAgICAgdmFyIG1hcF9jNTExMzhmYWZkYmM0MjQyYTU1ZTQzMmQwZGU2OGZmZSA9IEwubWFwKAogICAgICAgICAgICAgICAgICAgICAgICAgICAgICAgICAgJ21hcF9jNTExMzhmYWZkYmM0MjQyYTU1ZTQzMmQwZGU2OGZmZScsCiAgICAgICAgICAgICAgICAgICAgICAgICAgICAgICAgICB7Y2VudGVyOiBbNDAuNzEyOCwtNzQuMDA1OV0sCiAgICAgICAgICAgICAgICAgICAgICAgICAgICAgICAgICB6b29tOiAxMCwKICAgICAgICAgICAgICAgICAgICAgICAgICAgICAgICAgIG1heEJvdW5kczogYm91bmRzLAogICAgICAgICAgICAgICAgICAgICAgICAgICAgICAgICAgbGF5ZXJzOiBbXSwKICAgICAgICAgICAgICAgICAgICAgICAgICAgICAgICAgIHdvcmxkQ29weUp1bXA6IGZhbHNlLAogICAgICAgICAgICAgICAgICAgICAgICAgICAgICAgICAgY3JzOiBMLkNSUy5FUFNHMzg1NwogICAgICAgICAgICAgICAgICAgICAgICAgICAgICAgICB9KTsKICAgICAgICAgICAgCiAgICAgICAgCiAgICAKICAgICAgICAgICAgdmFyIHRpbGVfbGF5ZXJfMGZhNWQzMTA2MDA1NDgyMDllYTA5NDdkZTdkOWNjMDEgPSBMLnRpbGVMYXllcigKICAgICAgICAgICAgICAgICdodHRwczovL3tzfS50aWxlLm9wZW5zdHJlZXRtYXAub3JnL3t6fS97eH0ve3l9LnBuZycsCiAgICAgICAgICAgICAgICB7CiAgICAgICAgICAgICAgICAgICAgbWF4Wm9vbTogMTgsCiAgICAgICAgICAgICAgICAgICAgbWluWm9vbTogMSwKICAgICAgICAgICAgICAgICAgICBjb250aW51b3VzV29ybGQ6IGZhbHNlLAogICAgICAgICAgICAgICAgICAgIG5vV3JhcDogZmFsc2UsCiAgICAgICAgICAgICAgICAgICAgYXR0cmlidXRpb246ICdEYXRhIGJ5IDxhIGhyZWY9Imh0dHA6Ly9vcGVuc3RyZWV0bWFwLm9yZyI+T3BlblN0cmVldE1hcDwvYT4sIHVuZGVyIDxhIGhyZWY9Imh0dHA6Ly93d3cub3BlbnN0cmVldG1hcC5vcmcvY29weXJpZ2h0Ij5PRGJMPC9hPi4nLAogICAgICAgICAgICAgICAgICAgIGRldGVjdFJldGluYTogZmFsc2UKICAgICAgICAgICAgICAgICAgICB9CiAgICAgICAgICAgICAgICApLmFkZFRvKG1hcF9jNTExMzhmYWZkYmM0MjQyYTU1ZTQzMmQwZGU2OGZmZSk7CgogICAgICAgIAogICAgCgogICAgICAgICAgICB2YXIgbWFya2VyXzc2MWM0M2YxYjE0ODQwZTliMzQ1N2QwZjM1MmZjNmNiID0gTC5tYXJrZXIoCiAgICAgICAgICAgICAgICBbNDAuNjgyNjM2MjYxLC03My45Mzc5NTc3NjM3XSwKICAgICAgICAgICAgICAgIHsKICAgICAgICAgICAgICAgICAgICBpY29uOiBuZXcgTC5JY29uLkRlZmF1bHQoKQogICAgICAgICAgICAgICAgICAgIH0KICAgICAgICAgICAgICAgICkKICAgICAgICAgICAgICAgIC5hZGRUbyhtYXBfYzUxMTM4ZmFmZGJjNDI0MmE1NWU0MzJkMGRlNjhmZmUpOwogICAgICAgICAgICAKICAgIAoKICAgICAgICAgICAgICAgIHZhciBpY29uX2E5ZDAwZTcwYmJkNzQxNWQ4ODcxYzlhOTI4YTM1N2FiID0gTC5Bd2Vzb21lTWFya2Vycy5pY29uKHsKICAgICAgICAgICAgICAgICAgICBpY29uOiAnY2xvdWQnLAogICAgICAgICAgICAgICAgICAgIGljb25Db2xvcjogJ3doaXRlJywKICAgICAgICAgICAgICAgICAgICBtYXJrZXJDb2xvcjogJ3JlZCcsCiAgICAgICAgICAgICAgICAgICAgcHJlZml4OiAnZ2x5cGhpY29uJywKICAgICAgICAgICAgICAgICAgICBleHRyYUNsYXNzZXM6ICdmYS1yb3RhdGUtMCcKICAgICAgICAgICAgICAgICAgICB9KTsKICAgICAgICAgICAgICAgIG1hcmtlcl83NjFjNDNmMWIxNDg0MGU5YjM0NTdkMGYzNTJmYzZjYi5zZXRJY29uKGljb25fYTlkMDBlNzBiYmQ3NDE1ZDg4NzFjOWE5MjhhMzU3YWIpOwogICAgICAgICAgICAKICAgIAogICAgICAgICAgICB2YXIgcG9wdXBfMTM1ZTdkNDhjOWU1NDNlYjk0OWRmNWQxMjViMDg2NmUgPSBMLnBvcHVwKHttYXhXaWR0aDogJzMwMCd9KTsKCiAgICAgICAgICAgIAogICAgICAgICAgICAgICAgdmFyIGh0bWxfMzIyOWFmYmY5MjY4NDYwZWI5OGRlNDdhZjc1ZWM3M2YgPSAkKCc8ZGl2IGlkPSJodG1sXzMyMjlhZmJmOTI2ODQ2MGViOThkZTQ3YWY3NWVjNzNmIiBzdHlsZT0id2lkdGg6IDEwMC4wJTsgaGVpZ2h0OiAxMDAuMCU7Ij5QaWNrdXBfZHQ6IDIwMTYtMDEtMTYgMTA6MjQ6MjkgIERyb3BvZmZfZHQ6IDIwMTYtMDEtMTYgMTA6MzI6NDYgIDwvZGl2PicpWzBdOwogICAgICAgICAgICAgICAgcG9wdXBfMTM1ZTdkNDhjOWU1NDNlYjk0OWRmNWQxMjViMDg2NmUuc2V0Q29udGVudChodG1sXzMyMjlhZmJmOTI2ODQ2MGViOThkZTQ3YWY3NWVjNzNmKTsKICAgICAgICAgICAgCgogICAgICAgICAgICBtYXJrZXJfNzYxYzQzZjFiMTQ4NDBlOWIzNDU3ZDBmMzUyZmM2Y2IuYmluZFBvcHVwKHBvcHVwXzEzNWU3ZDQ4YzllNTQzZWI5NDlkZjVkMTI1YjA4NjZlKTsKCiAgICAgICAgICAgIAogICAgICAgIAogICAgCgogICAgICAgICAgICB2YXIgbWFya2VyX2Y1NGNjNjRkNjkyMjQ3NzFiZGNlNmRiMDVhZTY3OTQ4ID0gTC5tYXJrZXIoCiAgICAgICAgICAgICAgICBbNDAuNzQyNzMzMDAxNywtNzMuOTUzOTcxODYyOF0sCiAgICAgICAgICAgICAgICB7CiAgICAgICAgICAgICAgICAgICAgaWNvbjogbmV3IEwuSWNvbi5EZWZhdWx0KCkKICAgICAgICAgICAgICAgICAgICB9CiAgICAgICAgICAgICAgICApCiAgICAgICAgICAgICAgICAuYWRkVG8obWFwX2M1MTEzOGZhZmRiYzQyNDJhNTVlNDMyZDBkZTY4ZmZlKTsKICAgICAgICAgICAgCiAgICAKCiAgICAgICAgICAgICAgICB2YXIgaWNvbl9jODVmYzQ4MTFmOTc0YzU2YTM3NDdhMTE5M2ExYzA1OCA9IEwuQXdlc29tZU1hcmtlcnMuaWNvbih7CiAgICAgICAgICAgICAgICAgICAgaWNvbjogJ2Nsb3VkJywKICAgICAgICAgICAgICAgICAgICBpY29uQ29sb3I6ICd3aGl0ZScsCiAgICAgICAgICAgICAgICAgICAgbWFya2VyQ29sb3I6ICdyZWQnLAogICAgICAgICAgICAgICAgICAgIHByZWZpeDogJ2dseXBoaWNvbicsCiAgICAgICAgICAgICAgICAgICAgZXh0cmFDbGFzc2VzOiAnZmEtcm90YXRlLTAnCiAgICAgICAgICAgICAgICAgICAgfSk7CiAgICAgICAgICAgICAgICBtYXJrZXJfZjU0Y2M2NGQ2OTIyNDc3MWJkY2U2ZGIwNWFlNjc5NDguc2V0SWNvbihpY29uX2M4NWZjNDgxMWY5NzRjNTZhMzc0N2ExMTkzYTFjMDU4KTsKICAgICAgICAgICAgCiAgICAKICAgICAgICAgICAgdmFyIHBvcHVwXzY1NDNkMjcyYmM4ZjRkYjVhNTVkNjQzZTc5NWMyMjQ5ID0gTC5wb3B1cCh7bWF4V2lkdGg6ICczMDAnfSk7CgogICAgICAgICAgICAKICAgICAgICAgICAgICAgIHZhciBodG1sX2I1NDU2OGUzMTkyMTRlNWZhZTA3YTNkMDJmZDk5YWZlID0gJCgnPGRpdiBpZD0iaHRtbF9iNTQ1NjhlMzE5MjE0ZTVmYWUwN2EzZDAyZmQ5OWFmZSIgc3R5bGU9IndpZHRoOiAxMDAuMCU7IGhlaWdodDogMTAwLjAlOyI+UGlja3VwX2R0OiAyMDE2LTAyLTIyIDA5OjIzOjM5ICBEcm9wb2ZmX2R0OiAyMDE2LTAyLTIyIDA5OjI2OjA4ICA8L2Rpdj4nKVswXTsKICAgICAgICAgICAgICAgIHBvcHVwXzY1NDNkMjcyYmM4ZjRkYjVhNTVkNjQzZTc5NWMyMjQ5LnNldENvbnRlbnQoaHRtbF9iNTQ1NjhlMzE5MjE0ZTVmYWUwN2EzZDAyZmQ5OWFmZSk7CiAgICAgICAgICAgIAoKICAgICAgICAgICAgbWFya2VyX2Y1NGNjNjRkNjkyMjQ3NzFiZGNlNmRiMDVhZTY3OTQ4LmJpbmRQb3B1cChwb3B1cF82NTQzZDI3MmJjOGY0ZGI1YTU1ZDY0M2U3OTVjMjI0OSk7CgogICAgICAgICAgICAKICAgICAgICAKICAgIAoKICAgICAgICAgICAgdmFyIG1hcmtlcl9iM2EyNGFmNmNkZWE0MWYwYTQ0YjJiN2E4NmU1NGFjYiA9IEwubWFya2VyKAogICAgICAgICAgICAgICAgWzQwLjc0ODQ4NTU2NTIsLTczLjkxMjkwMjgzMl0sCiAgICAgICAgICAgICAgICB7CiAgICAgICAgICAgICAgICAgICAgaWNvbjogbmV3IEwuSWNvbi5EZWZhdWx0KCkKICAgICAgICAgICAgICAgICAgICB9CiAgICAgICAgICAgICAgICApCiAgICAgICAgICAgICAgICAuYWRkVG8obWFwX2M1MTEzOGZhZmRiYzQyNDJhNTVlNDMyZDBkZTY4ZmZlKTsKICAgICAgICAgICAgCiAgICAKCiAgICAgICAgICAgICAgICB2YXIgaWNvbl83MWM3MTM4MWQ1N2Y0NTcyYWQ3Njg0Nzg3M2IxMDJiYyA9IEwuQXdlc29tZU1hcmtlcnMuaWNvbih7CiAgICAgICAgICAgICAgICAgICAgaWNvbjogJ2Nsb3VkJywKICAgICAgICAgICAgICAgICAgICBpY29uQ29sb3I6ICd3aGl0ZScsCiAgICAgICAgICAgICAgICAgICAgbWFya2VyQ29sb3I6ICdyZWQnLAogICAgICAgICAgICAgICAgICAgIHByZWZpeDogJ2dseXBoaWNvbicsCiAgICAgICAgICAgICAgICAgICAgZXh0cmFDbGFzc2VzOiAnZmEtcm90YXRlLTAnCiAgICAgICAgICAgICAgICAgICAgfSk7CiAgICAgICAgICAgICAgICBtYXJrZXJfYjNhMjRhZjZjZGVhNDFmMGE0NGIyYjdhODZlNTRhY2Iuc2V0SWNvbihpY29uXzcxYzcxMzgxZDU3ZjQ1NzJhZDc2ODQ3ODczYjEwMmJjKTsKICAgICAgICAgICAgCiAgICAKICAgICAgICAgICAgdmFyIHBvcHVwXzc2OGNmNjhkNTlmNTQ0ZmM5YzY5YTI5MDg3MTZmYjk0ID0gTC5wb3B1cCh7bWF4V2lkdGg6ICczMDAnfSk7CgogICAgICAgICAgICAKICAgICAgICAgICAgICAgIHZhciBodG1sX2I2MjQ3YmE3N2MyMjQ3MzNiN2MzMGY3Y2U5NjMyNGI2ID0gJCgnPGRpdiBpZD0iaHRtbF9iNjI0N2JhNzdjMjI0NzMzYjdjMzBmN2NlOTYzMjRiNiIgc3R5bGU9IndpZHRoOiAxMDAuMCU7IGhlaWdodDogMTAwLjAlOyI+UGlja3VwX2R0OiAyMDE1LTEyLTAxIDIxOjA1OjAwICBEcm9wb2ZmX2R0OiAyMDE1LTEyLTAxIDIxOjA4OjI4ICA8L2Rpdj4nKVswXTsKICAgICAgICAgICAgICAgIHBvcHVwXzc2OGNmNjhkNTlmNTQ0ZmM5YzY5YTI5MDg3MTZmYjk0LnNldENvbnRlbnQoaHRtbF9iNjI0N2JhNzdjMjI0NzMzYjdjMzBmN2NlOTYzMjRiNik7CiAgICAgICAgICAgIAoKICAgICAgICAgICAgbWFya2VyX2IzYTI0YWY2Y2RlYTQxZjBhNDRiMmI3YTg2ZTU0YWNiLmJpbmRQb3B1cChwb3B1cF83NjhjZjY4ZDU5ZjU0NGZjOWM2OWEyOTA4NzE2ZmI5NCk7CgogICAgICAgICAgICAKICAgICAgICAKICAgIAoKICAgICAgICAgICAgdmFyIG1hcmtlcl83MzI0MDk3YWJlZjc0YjhlOGUwMmFlOTcwYjFjNGYxOSA9IEwubWFya2VyKAogICAgICAgICAgICAgICAgWzQwLjc0MDQ5Mzc3NDQsLTc0LjAwNTY5OTE1NzddLAogICAgICAgICAgICAgICAgewogICAgICAgICAgICAgICAgICAgIGljb246IG5ldyBMLkljb24uRGVmYXVsdCgpCiAgICAgICAgICAgICAgICAgICAgfQogICAgICAgICAgICAgICAgKQogICAgICAgICAgICAgICAgLmFkZFRvKG1hcF9jNTExMzhmYWZkYmM0MjQyYTU1ZTQzMmQwZGU2OGZmZSk7CiAgICAgICAgICAgIAogICAgCgogICAgICAgICAgICAgICAgdmFyIGljb25fNTI1ZmQwYWI5MTg0NDI3ZGE4NDM5M2YxMDQ2ZjE5MDQgPSBMLkF3ZXNvbWVNYXJrZXJzLmljb24oewogICAgICAgICAgICAgICAgICAgIGljb246ICdjbG91ZCcsCiAgICAgICAgICAgICAgICAgICAgaWNvbkNvbG9yOiAnd2hpdGUnLAogICAgICAgICAgICAgICAgICAgIG1hcmtlckNvbG9yOiAncmVkJywKICAgICAgICAgICAgICAgICAgICBwcmVmaXg6ICdnbHlwaGljb24nLAogICAgICAgICAgICAgICAgICAgIGV4dHJhQ2xhc3NlczogJ2ZhLXJvdGF0ZS0wJwogICAgICAgICAgICAgICAgICAgIH0pOwogICAgICAgICAgICAgICAgbWFya2VyXzczMjQwOTdhYmVmNzRiOGU4ZTAyYWU5NzBiMWM0ZjE5LnNldEljb24oaWNvbl81MjVmZDBhYjkxODQ0MjdkYTg0MzkzZjEwNDZmMTkwNCk7CiAgICAgICAgICAgIAogICAgCiAgICAgICAgICAgIHZhciBwb3B1cF8xZjY0MzkyMjg0MDM0OGJhOTQ2MDJkZWU1YjQ1ODRkMiA9IEwucG9wdXAoe21heFdpZHRoOiAnMzAwJ30pOwoKICAgICAgICAgICAgCiAgICAgICAgICAgICAgICB2YXIgaHRtbF85MjUzNWMyZjI5MzI0OTNhOTA4NDg3YzEwMDNjNzNjZiA9ICQoJzxkaXYgaWQ9Imh0bWxfOTI1MzVjMmYyOTMyNDkzYTkwODQ4N2MxMDAzYzczY2YiIHN0eWxlPSJ3aWR0aDogMTAwLjAlOyBoZWlnaHQ6IDEwMC4wJTsiPlBpY2t1cF9kdDogMjAxNi0wMy0wMyAxMDo0Mzo0NyAgRHJvcG9mZl9kdDogMjAxNi0wMy0wMyAxMToxNDowNCAgPC9kaXY+JylbMF07CiAgICAgICAgICAgICAgICBwb3B1cF8xZjY0MzkyMjg0MDM0OGJhOTQ2MDJkZWU1YjQ1ODRkMi5zZXRDb250ZW50KGh0bWxfOTI1MzVjMmYyOTMyNDkzYTkwODQ4N2MxMDAzYzczY2YpOwogICAgICAgICAgICAKCiAgICAgICAgICAgIG1hcmtlcl83MzI0MDk3YWJlZjc0YjhlOGUwMmFlOTcwYjFjNGYxOS5iaW5kUG9wdXAocG9wdXBfMWY2NDM5MjI4NDAzNDhiYTk0NjAyZGVlNWI0NTg0ZDIpOwoKICAgICAgICAgICAgCiAgICAgICAgCiAgICAKCiAgICAgICAgICAgIHZhciBtYXJrZXJfYjQ4YzY5ODk5ZDQ2NDUzYTk2ZmFmZjRlODYwOWFmNjcgPSBMLm1hcmtlcigKICAgICAgICAgICAgICAgIFs0MC42ODQxOTY0NzIyLC03My45NDIyOTEyNTk4XSwKICAgICAgICAgICAgICAgIHsKICAgICAgICAgICAgICAgICAgICBpY29uOiBuZXcgTC5JY29uLkRlZmF1bHQoKQogICAgICAgICAgICAgICAgICAgIH0KICAgICAgICAgICAgICAgICkKICAgICAgICAgICAgICAgIC5hZGRUbyhtYXBfYzUxMTM4ZmFmZGJjNDI0MmE1NWU0MzJkMGRlNjhmZmUpOwogICAgICAgICAgICAKICAgIAoKICAgICAgICAgICAgICAgIHZhciBpY29uXzk0ZDlmNTQ3YjljYjQwYjFiMTQxNTI3MDMwODZlM2Y1ID0gTC5Bd2Vzb21lTWFya2Vycy5pY29uKHsKICAgICAgICAgICAgICAgICAgICBpY29uOiAnY2xvdWQnLAogICAgICAgICAgICAgICAgICAgIGljb25Db2xvcjogJ3doaXRlJywKICAgICAgICAgICAgICAgICAgICBtYXJrZXJDb2xvcjogJ3JlZCcsCiAgICAgICAgICAgICAgICAgICAgcHJlZml4OiAnZ2x5cGhpY29uJywKICAgICAgICAgICAgICAgICAgICBleHRyYUNsYXNzZXM6ICdmYS1yb3RhdGUtMCcKICAgICAgICAgICAgICAgICAgICB9KTsKICAgICAgICAgICAgICAgIG1hcmtlcl9iNDhjNjk4OTlkNDY0NTNhOTZmYWZmNGU4NjA5YWY2Ny5zZXRJY29uKGljb25fOTRkOWY1NDdiOWNiNDBiMWIxNDE1MjcwMzA4NmUzZjUpOwogICAgICAgICAgICAKICAgIAogICAgICAgICAgICB2YXIgcG9wdXBfMDU0ZjhhOTAwZTY5NGVmYWJlYTkwOTNiMjhhNzkzYmMgPSBMLnBvcHVwKHttYXhXaWR0aDogJzMwMCd9KTsKCiAgICAgICAgICAgIAogICAgICAgICAgICAgICAgdmFyIGh0bWxfZDE2ZDEyMzFkNzQwNDFiODljZjAyZDQwMDIyMzIzMjggPSAkKCc8ZGl2IGlkPSJodG1sX2QxNmQxMjMxZDc0MDQxYjg5Y2YwMmQ0MDAyMjMyMzI4IiBzdHlsZT0id2lkdGg6IDEwMC4wJTsgaGVpZ2h0OiAxMDAuMCU7Ij5QaWNrdXBfZHQ6IDIwMTYtMDMtMjEgMTc6NDQ6NTcgIERyb3BvZmZfZHQ6IDIwMTYtMDMtMjEgMTg6MDQ6MTggIDwvZGl2PicpWzBdOwogICAgICAgICAgICAgICAgcG9wdXBfMDU0ZjhhOTAwZTY5NGVmYWJlYTkwOTNiMjhhNzkzYmMuc2V0Q29udGVudChodG1sX2QxNmQxMjMxZDc0MDQxYjg5Y2YwMmQ0MDAyMjMyMzI4KTsKICAgICAgICAgICAgCgogICAgICAgICAgICBtYXJrZXJfYjQ4YzY5ODk5ZDQ2NDUzYTk2ZmFmZjRlODYwOWFmNjcuYmluZFBvcHVwKHBvcHVwXzA1NGY4YTkwMGU2OTRlZmFiZWE5MDkzYjI4YTc5M2JjKTsKCiAgICAgICAgICAgIAogICAgICAgIAogICAgCgogICAgICAgICAgICB2YXIgbWFya2VyXzI1YzlhNTc4OGQwODQ0NTU4MTRhZDNkMWE5NmUyY2FiID0gTC5tYXJrZXIoCiAgICAgICAgICAgICAgICBbNDAuNzk5MTAyNzgzMiwtNzMuOTM5MTA5ODAyMl0sCiAgICAgICAgICAgICAgICB7CiAgICAgICAgICAgICAgICAgICAgaWNvbjogbmV3IEwuSWNvbi5EZWZhdWx0KCkKICAgICAgICAgICAgICAgICAgICB9CiAgICAgICAgICAgICAgICApCiAgICAgICAgICAgICAgICAuYWRkVG8obWFwX2M1MTEzOGZhZmRiYzQyNDJhNTVlNDMyZDBkZTY4ZmZlKTsKICAgICAgICAgICAgCiAgICAKCiAgICAgICAgICAgICAgICB2YXIgaWNvbl9iMmQ1OGE3ODhhMmM0NmUwOTZjMjFkODU2NTJjOWJmMyA9IEwuQXdlc29tZU1hcmtlcnMuaWNvbih7CiAgICAgICAgICAgICAgICAgICAgaWNvbjogJ2Nsb3VkJywKICAgICAgICAgICAgICAgICAgICBpY29uQ29sb3I6ICd3aGl0ZScsCiAgICAgICAgICAgICAgICAgICAgbWFya2VyQ29sb3I6ICdyZWQnLAogICAgICAgICAgICAgICAgICAgIHByZWZpeDogJ2dseXBoaWNvbicsCiAgICAgICAgICAgICAgICAgICAgZXh0cmFDbGFzc2VzOiAnZmEtcm90YXRlLTAnCiAgICAgICAgICAgICAgICAgICAgfSk7CiAgICAgICAgICAgICAgICBtYXJrZXJfMjVjOWE1Nzg4ZDA4NDQ1NTgxNGFkM2QxYTk2ZTJjYWIuc2V0SWNvbihpY29uX2IyZDU4YTc4OGEyYzQ2ZTA5NmMyMWQ4NTY1MmM5YmYzKTsKICAgICAgICAgICAgCiAgICAKICAgICAgICAgICAgdmFyIHBvcHVwXzI0YTg5NzY3MjI5NjQxNTY4Yzg1NDQ5YzFkODQyZWFjID0gTC5wb3B1cCh7bWF4V2lkdGg6ICczMDAnfSk7CgogICAgICAgICAgICAKICAgICAgICAgICAgICAgIHZhciBodG1sXzAyYmUyY2UyZTM4NzRhNjNhYTBkYWU1YzI3ZWFjNjUyID0gJCgnPGRpdiBpZD0iaHRtbF8wMmJlMmNlMmUzODc0YTYzYWEwZGFlNWMyN2VhYzY1MiIgc3R5bGU9IndpZHRoOiAxMDAuMCU7IGhlaWdodDogMTAwLjAlOyI+UGlja3VwX2R0OiAyMDE2LTAzLTA1IDA5OjMwOjMwICBEcm9wb2ZmX2R0OiAyMDE2LTAzLTA1IDA5OjQxOjA1ICA8L2Rpdj4nKVswXTsKICAgICAgICAgICAgICAgIHBvcHVwXzI0YTg5NzY3MjI5NjQxNTY4Yzg1NDQ5YzFkODQyZWFjLnNldENvbnRlbnQoaHRtbF8wMmJlMmNlMmUzODc0YTYzYWEwZGFlNWMyN2VhYzY1Mik7CiAgICAgICAgICAgIAoKICAgICAgICAgICAgbWFya2VyXzI1YzlhNTc4OGQwODQ0NTU4MTRhZDNkMWE5NmUyY2FiLmJpbmRQb3B1cChwb3B1cF8yNGE4OTc2NzIyOTY0MTU2OGM4NTQ0OWMxZDg0MmVhYyk7CgogICAgICAgICAgICAKICAgICAgICAKICAgIAoKICAgICAgICAgICAgdmFyIG1hcmtlcl8zYzgyMWU4YWY1ODk0NzM5OTY3ZjNiNTNjY2E3YTM5ZSA9IEwubWFya2VyKAogICAgICAgICAgICAgICAgWzQwLjc2NTQ1MzMzODYsLTczLjkyMTUwMTE1OTddLAogICAgICAgICAgICAgICAgewogICAgICAgICAgICAgICAgICAgIGljb246IG5ldyBMLkljb24uRGVmYXVsdCgpCiAgICAgICAgICAgICAgICAgICAgfQogICAgICAgICAgICAgICAgKQogICAgICAgICAgICAgICAgLmFkZFRvKG1hcF9jNTExMzhmYWZkYmM0MjQyYTU1ZTQzMmQwZGU2OGZmZSk7CiAgICAgICAgICAgIAogICAgCgogICAgICAgICAgICAgICAgdmFyIGljb25fMjE0YzYxZmU3OGNkNGQ2ZjhjMGE3ZWZhYjYxYTNmOWEgPSBMLkF3ZXNvbWVNYXJrZXJzLmljb24oewogICAgICAgICAgICAgICAgICAgIGljb246ICdjbG91ZCcsCiAgICAgICAgICAgICAgICAgICAgaWNvbkNvbG9yOiAnd2hpdGUnLAogICAgICAgICAgICAgICAgICAgIG1hcmtlckNvbG9yOiAncmVkJywKICAgICAgICAgICAgICAgICAgICBwcmVmaXg6ICdnbHlwaGljb24nLAogICAgICAgICAgICAgICAgICAgIGV4dHJhQ2xhc3NlczogJ2ZhLXJvdGF0ZS0wJwogICAgICAgICAgICAgICAgICAgIH0pOwogICAgICAgICAgICAgICAgbWFya2VyXzNjODIxZThhZjU4OTQ3Mzk5NjdmM2I1M2NjYTdhMzllLnNldEljb24oaWNvbl8yMTRjNjFmZTc4Y2Q0ZDZmOGMwYTdlZmFiNjFhM2Y5YSk7CiAgICAgICAgICAgIAogICAgCiAgICAgICAgICAgIHZhciBwb3B1cF84MmIzNjBmZWMyNDE0YzRkYWFiYTQ1N2VmMjFjYmUzOCA9IEwucG9wdXAoe21heFdpZHRoOiAnMzAwJ30pOwoKICAgICAgICAgICAgCiAgICAgICAgICAgICAgICB2YXIgaHRtbF9mNTc4Y2M3ZjIzZDc0ZWIzYjhhOTUxYjJhY2MxMTQ1YSA9ICQoJzxkaXYgaWQ9Imh0bWxfZjU3OGNjN2YyM2Q3NGViM2I4YTk1MWIyYWNjMTE0NWEiIHN0eWxlPSJ3aWR0aDogMTAwLjAlOyBoZWlnaHQ6IDEwMC4wJTsiPlBpY2t1cF9kdDogMjAxNi0wMy0yMCAwNTo0MzoxMSAgRHJvcG9mZl9kdDogMjAxNi0wMy0yMCAwNTo0Nzo1NyAgPC9kaXY+JylbMF07CiAgICAgICAgICAgICAgICBwb3B1cF84MmIzNjBmZWMyNDE0YzRkYWFiYTQ1N2VmMjFjYmUzOC5zZXRDb250ZW50KGh0bWxfZjU3OGNjN2YyM2Q3NGViM2I4YTk1MWIyYWNjMTE0NWEpOwogICAgICAgICAgICAKCiAgICAgICAgICAgIG1hcmtlcl8zYzgyMWU4YWY1ODk0NzM5OTY3ZjNiNTNjY2E3YTM5ZS5iaW5kUG9wdXAocG9wdXBfODJiMzYwZmVjMjQxNGM0ZGFhYmE0NTdlZjIxY2JlMzgpOwoKICAgICAgICAgICAgCiAgICAgICAgCiAgICAKCiAgICAgICAgICAgIHZhciBtYXJrZXJfYzM3MDM3MjlmY2M3NDRjODliODIyOGRlYWQxNjViNTUgPSBMLm1hcmtlcigKICAgICAgICAgICAgICAgIFs0MC43MzI1NTUzODk0LC03My45NTc5OTI1NTM3XSwKICAgICAgICAgICAgICAgIHsKICAgICAgICAgICAgICAgICAgICBpY29uOiBuZXcgTC5JY29uLkRlZmF1bHQoKQogICAgICAgICAgICAgICAgICAgIH0KICAgICAgICAgICAgICAgICkKICAgICAgICAgICAgICAgIC5hZGRUbyhtYXBfYzUxMTM4ZmFmZGJjNDI0MmE1NWU0MzJkMGRlNjhmZmUpOwogICAgICAgICAgICAKICAgIAoKICAgICAgICAgICAgICAgIHZhciBpY29uX2RhNTI2YmM2MWFmMzQ4NjdhYjcwODFmZWU3MzJkNGU4ID0gTC5Bd2Vzb21lTWFya2Vycy5pY29uKHsKICAgICAgICAgICAgICAgICAgICBpY29uOiAnY2xvdWQnLAogICAgICAgICAgICAgICAgICAgIGljb25Db2xvcjogJ3doaXRlJywKICAgICAgICAgICAgICAgICAgICBtYXJrZXJDb2xvcjogJ3JlZCcsCiAgICAgICAgICAgICAgICAgICAgcHJlZml4OiAnZ2x5cGhpY29uJywKICAgICAgICAgICAgICAgICAgICBleHRyYUNsYXNzZXM6ICdmYS1yb3RhdGUtMCcKICAgICAgICAgICAgICAgICAgICB9KTsKICAgICAgICAgICAgICAgIG1hcmtlcl9jMzcwMzcyOWZjYzc0NGM4OWI4MjI4ZGVhZDE2NWI1NS5zZXRJY29uKGljb25fZGE1MjZiYzYxYWYzNDg2N2FiNzA4MWZlZTczMmQ0ZTgpOwogICAgICAgICAgICAKICAgIAogICAgICAgICAgICB2YXIgcG9wdXBfOTM2MmZlNWNkMGMzNDBhOWE1N2EzZmI4NzBjNWE1MmEgPSBMLnBvcHVwKHttYXhXaWR0aDogJzMwMCd9KTsKCiAgICAgICAgICAgIAogICAgICAgICAgICAgICAgdmFyIGh0bWxfMjk0MTAzMmM1MTUzNDdlNGFmZjVmZjBhNzMwYTBjNWEgPSAkKCc8ZGl2IGlkPSJodG1sXzI5NDEwMzJjNTE1MzQ3ZTRhZmY1ZmYwYTczMGEwYzVhIiBzdHlsZT0id2lkdGg6IDEwMC4wJTsgaGVpZ2h0OiAxMDAuMCU7Ij5QaWNrdXBfZHQ6IDIwMTYtMDEtMDkgMTU6MTg6NDkgIERyb3BvZmZfZHQ6IDIwMTYtMDEtMDkgMTU6Mjc6NDUgIDwvZGl2PicpWzBdOwogICAgICAgICAgICAgICAgcG9wdXBfOTM2MmZlNWNkMGMzNDBhOWE1N2EzZmI4NzBjNWE1MmEuc2V0Q29udGVudChodG1sXzI5NDEwMzJjNTE1MzQ3ZTRhZmY1ZmYwYTczMGEwYzVhKTsKICAgICAgICAgICAgCgogICAgICAgICAgICBtYXJrZXJfYzM3MDM3MjlmY2M3NDRjODliODIyOGRlYWQxNjViNTUuYmluZFBvcHVwKHBvcHVwXzkzNjJmZTVjZDBjMzQwYTlhNTdhM2ZiODcwYzVhNTJhKTsKCiAgICAgICAgICAgIAogICAgICAgIAogICAgCgogICAgICAgICAgICB2YXIgbWFya2VyX2MxMmM2NzA5ODM2YTQ0YmRhZjEzMDRjYTBmMGRkMzYyID0gTC5tYXJrZXIoCiAgICAgICAgICAgICAgICBbNDAuODEyNjY0MDMyLC03My45Mzg1ODMzNzRdLAogICAgICAgICAgICAgICAgewogICAgICAgICAgICAgICAgICAgIGljb246IG5ldyBMLkljb24uRGVmYXVsdCgpCiAgICAgICAgICAgICAgICAgICAgfQogICAgICAgICAgICAgICAgKQogICAgICAgICAgICAgICAgLmFkZFRvKG1hcF9jNTExMzhmYWZkYmM0MjQyYTU1ZTQzMmQwZGU2OGZmZSk7CiAgICAgICAgICAgIAogICAgCgogICAgICAgICAgICAgICAgdmFyIGljb25fMGU1MTcyNWI4ZGI3NGY5ZjhjMjg4YzVmOTEyYWY5MTcgPSBMLkF3ZXNvbWVNYXJrZXJzLmljb24oewogICAgICAgICAgICAgICAgICAgIGljb246ICdjbG91ZCcsCiAgICAgICAgICAgICAgICAgICAgaWNvbkNvbG9yOiAnd2hpdGUnLAogICAgICAgICAgICAgICAgICAgIG1hcmtlckNvbG9yOiAncmVkJywKICAgICAgICAgICAgICAgICAgICBwcmVmaXg6ICdnbHlwaGljb24nLAogICAgICAgICAgICAgICAgICAgIGV4dHJhQ2xhc3NlczogJ2ZhLXJvdGF0ZS0wJwogICAgICAgICAgICAgICAgICAgIH0pOwogICAgICAgICAgICAgICAgbWFya2VyX2MxMmM2NzA5ODM2YTQ0YmRhZjEzMDRjYTBmMGRkMzYyLnNldEljb24oaWNvbl8wZTUxNzI1YjhkYjc0ZjlmOGMyODhjNWY5MTJhZjkxNyk7CiAgICAgICAgICAgIAogICAgCiAgICAgICAgICAgIHZhciBwb3B1cF8zNjlhODZhOTk0NDI0YTc5YWNlMTljZjhlMDU4ZmQ1MSA9IEwucG9wdXAoe21heFdpZHRoOiAnMzAwJ30pOwoKICAgICAgICAgICAgCiAgICAgICAgICAgICAgICB2YXIgaHRtbF9mNDUwODYxMDk0NmI0ZDk2YTA3NjA4ZGMwYWY2N2Q2OSA9ICQoJzxkaXYgaWQ9Imh0bWxfZjQ1MDg2MTA5NDZiNGQ5NmEwNzYwOGRjMGFmNjdkNjkiIHN0eWxlPSJ3aWR0aDogMTAwLjAlOyBoZWlnaHQ6IDEwMC4wJTsiPlBpY2t1cF9kdDogMjAxNi0wMy0wNSAyMToxMDo1OCAgRHJvcG9mZl9kdDogMjAxNi0wMy0wNSAyMToxNjoxNCAgPC9kaXY+JylbMF07CiAgICAgICAgICAgICAgICBwb3B1cF8zNjlhODZhOTk0NDI0YTc5YWNlMTljZjhlMDU4ZmQ1MS5zZXRDb250ZW50KGh0bWxfZjQ1MDg2MTA5NDZiNGQ5NmEwNzYwOGRjMGFmNjdkNjkpOwogICAgICAgICAgICAKCiAgICAgICAgICAgIG1hcmtlcl9jMTJjNjcwOTgzNmE0NGJkYWYxMzA0Y2EwZjBkZDM2Mi5iaW5kUG9wdXAocG9wdXBfMzY5YTg2YTk5NDQyNGE3OWFjZTE5Y2Y4ZTA1OGZkNTEpOwoKICAgICAgICAgICAgCiAgICAgICAgCiAgICAKCiAgICAgICAgICAgIHZhciBtYXJrZXJfNTZlMmM2Mzg4NGU4NDYxYmI0NzNiMWYxNTgyN2YzYjcgPSBMLm1hcmtlcigKICAgICAgICAgICAgICAgIFs0MC42OTM4NDM4NDE2LC03My45MTE4MTk0NThdLAogICAgICAgICAgICAgICAgewogICAgICAgICAgICAgICAgICAgIGljb246IG5ldyBMLkljb24uRGVmYXVsdCgpCiAgICAgICAgICAgICAgICAgICAgfQogICAgICAgICAgICAgICAgKQogICAgICAgICAgICAgICAgLmFkZFRvKG1hcF9jNTExMzhmYWZkYmM0MjQyYTU1ZTQzMmQwZGU2OGZmZSk7CiAgICAgICAgICAgIAogICAgCgogICAgICAgICAgICAgICAgdmFyIGljb25fZTU3YWU5N2M5NWJjNDg0YmIzYzZkMTgyZmRiODBlYTIgPSBMLkF3ZXNvbWVNYXJrZXJzLmljb24oewogICAgICAgICAgICAgICAgICAgIGljb246ICdjbG91ZCcsCiAgICAgICAgICAgICAgICAgICAgaWNvbkNvbG9yOiAnd2hpdGUnLAogICAgICAgICAgICAgICAgICAgIG1hcmtlckNvbG9yOiAncmVkJywKICAgICAgICAgICAgICAgICAgICBwcmVmaXg6ICdnbHlwaGljb24nLAogICAgICAgICAgICAgICAgICAgIGV4dHJhQ2xhc3NlczogJ2ZhLXJvdGF0ZS0wJwogICAgICAgICAgICAgICAgICAgIH0pOwogICAgICAgICAgICAgICAgbWFya2VyXzU2ZTJjNjM4ODRlODQ2MWJiNDczYjFmMTU4MjdmM2I3LnNldEljb24oaWNvbl9lNTdhZTk3Yzk1YmM0ODRiYjNjNmQxODJmZGI4MGVhMik7CiAgICAgICAgICAgIAogICAgCiAgICAgICAgICAgIHZhciBwb3B1cF80ODUyMDcxMWVkYzI0ZjdiYTgwZTBkZDExYTEyMTcyZCA9IEwucG9wdXAoe21heFdpZHRoOiAnMzAwJ30pOwoKICAgICAgICAgICAgCiAgICAgICAgICAgICAgICB2YXIgaHRtbF83NmZkOTVjZWZmNzg0YmVhOGY1NDcyOGMxM2U5MWVmMiA9ICQoJzxkaXYgaWQ9Imh0bWxfNzZmZDk1Y2VmZjc4NGJlYThmNTQ3MjhjMTNlOTFlZjIiIHN0eWxlPSJ3aWR0aDogMTAwLjAlOyBoZWlnaHQ6IDEwMC4wJTsiPlBpY2t1cF9kdDogMjAxNS0xMi0yNSAwMDozNzoyNiAgRHJvcG9mZl9kdDogMjAxNS0xMi0yNSAwMDo1NToxMSAgPC9kaXY+JylbMF07CiAgICAgICAgICAgICAgICBwb3B1cF80ODUyMDcxMWVkYzI0ZjdiYTgwZTBkZDExYTEyMTcyZC5zZXRDb250ZW50KGh0bWxfNzZmZDk1Y2VmZjc4NGJlYThmNTQ3MjhjMTNlOTFlZjIpOwogICAgICAgICAgICAKCiAgICAgICAgICAgIG1hcmtlcl81NmUyYzYzODg0ZTg0NjFiYjQ3M2IxZjE1ODI3ZjNiNy5iaW5kUG9wdXAocG9wdXBfNDg1MjA3MTFlZGMyNGY3YmE4MGUwZGQxMWExMjE3MmQpOwoKICAgICAgICAgICAgCiAgICAgICAgCiAgICAKCiAgICAgICAgICAgIHZhciBtYXJrZXJfN2NhZjgyYmUwNmI3NGFmODk3NTUzMDk5NTQ4YWQ1MWIgPSBMLm1hcmtlcigKICAgICAgICAgICAgICAgIFs0MC42MzQ4NTcxNzc3LC03My45MzQ4OTA3NDcxXSwKICAgICAgICAgICAgICAgIHsKICAgICAgICAgICAgICAgICAgICBpY29uOiBuZXcgTC5JY29uLkRlZmF1bHQoKQogICAgICAgICAgICAgICAgICAgIH0KICAgICAgICAgICAgICAgICkKICAgICAgICAgICAgICAgIC5hZGRUbyhtYXBfYzUxMTM4ZmFmZGJjNDI0MmE1NWU0MzJkMGRlNjhmZmUpOwogICAgICAgICAgICAKICAgIAoKICAgICAgICAgICAgICAgIHZhciBpY29uX2M5MWQ2ZWExZWZlODRjODBhNjMyYmJmNTMxOTdiNzQ5ID0gTC5Bd2Vzb21lTWFya2Vycy5pY29uKHsKICAgICAgICAgICAgICAgICAgICBpY29uOiAnY2xvdWQnLAogICAgICAgICAgICAgICAgICAgIGljb25Db2xvcjogJ3doaXRlJywKICAgICAgICAgICAgICAgICAgICBtYXJrZXJDb2xvcjogJ3JlZCcsCiAgICAgICAgICAgICAgICAgICAgcHJlZml4OiAnZ2x5cGhpY29uJywKICAgICAgICAgICAgICAgICAgICBleHRyYUNsYXNzZXM6ICdmYS1yb3RhdGUtMCcKICAgICAgICAgICAgICAgICAgICB9KTsKICAgICAgICAgICAgICAgIG1hcmtlcl83Y2FmODJiZTA2Yjc0YWY4OTc1NTMwOTk1NDhhZDUxYi5zZXRJY29uKGljb25fYzkxZDZlYTFlZmU4NGM4MGE2MzJiYmY1MzE5N2I3NDkpOwogICAgICAgICAgICAKICAgIAogICAgICAgICAgICB2YXIgcG9wdXBfYzg5N2FjZDRlZDgxNDhhN2I4OWE0MGYwN2IxNjg0NmUgPSBMLnBvcHVwKHttYXhXaWR0aDogJzMwMCd9KTsKCiAgICAgICAgICAgIAogICAgICAgICAgICAgICAgdmFyIGh0bWxfZWMwMTgxY2QzMzFmNGFhOTllNjY0YTk4OGY1ODQyMWMgPSAkKCc8ZGl2IGlkPSJodG1sX2VjMDE4MWNkMzMxZjRhYTk5ZTY2NGE5ODhmNTg0MjFjIiBzdHlsZT0id2lkdGg6IDEwMC4wJTsgaGVpZ2h0OiAxMDAuMCU7Ij5QaWNrdXBfZHQ6IDIwMTYtMDEtMDQgMTE6MzI6NDYgIERyb3BvZmZfZHQ6IDIwMTYtMDEtMDQgMTE6MzM6MDMgIDwvZGl2PicpWzBdOwogICAgICAgICAgICAgICAgcG9wdXBfYzg5N2FjZDRlZDgxNDhhN2I4OWE0MGYwN2IxNjg0NmUuc2V0Q29udGVudChodG1sX2VjMDE4MWNkMzMxZjRhYTk5ZTY2NGE5ODhmNTg0MjFjKTsKICAgICAgICAgICAgCgogICAgICAgICAgICBtYXJrZXJfN2NhZjgyYmUwNmI3NGFmODk3NTUzMDk5NTQ4YWQ1MWIuYmluZFBvcHVwKHBvcHVwX2M4OTdhY2Q0ZWQ4MTQ4YTdiODlhNDBmMDdiMTY4NDZlKTsKCiAgICAgICAgICAgIAogICAgICAgIAogICAgCgogICAgICAgICAgICB2YXIgbWFya2VyXzllMzZkZTYwYjM5NzQyYjVhNWYyNjg1MTI1N2U2YTEwID0gTC5tYXJrZXIoCiAgICAgICAgICAgICAgICBbNDAuNzk3NTQyNTcyLC03My45MzExNDQ3MTQ0XSwKICAgICAgICAgICAgICAgIHsKICAgICAgICAgICAgICAgICAgICBpY29uOiBuZXcgTC5JY29uLkRlZmF1bHQoKQogICAgICAgICAgICAgICAgICAgIH0KICAgICAgICAgICAgICAgICkKICAgICAgICAgICAgICAgIC5hZGRUbyhtYXBfYzUxMTM4ZmFmZGJjNDI0MmE1NWU0MzJkMGRlNjhmZmUpOwogICAgICAgICAgICAKICAgIAoKICAgICAgICAgICAgICAgIHZhciBpY29uXzVmYjRkOGM4NzNmNzQ2MTRiOTBmNDZmMjBkMzIxODI3ID0gTC5Bd2Vzb21lTWFya2Vycy5pY29uKHsKICAgICAgICAgICAgICAgICAgICBpY29uOiAnY2xvdWQnLAogICAgICAgICAgICAgICAgICAgIGljb25Db2xvcjogJ3doaXRlJywKICAgICAgICAgICAgICAgICAgICBtYXJrZXJDb2xvcjogJ3JlZCcsCiAgICAgICAgICAgICAgICAgICAgcHJlZml4OiAnZ2x5cGhpY29uJywKICAgICAgICAgICAgICAgICAgICBleHRyYUNsYXNzZXM6ICdmYS1yb3RhdGUtMCcKICAgICAgICAgICAgICAgICAgICB9KTsKICAgICAgICAgICAgICAgIG1hcmtlcl85ZTM2ZGU2MGIzOTc0MmI1YTVmMjY4NTEyNTdlNmExMC5zZXRJY29uKGljb25fNWZiNGQ4Yzg3M2Y3NDYxNGI5MGY0NmYyMGQzMjE4MjcpOwogICAgICAgICAgICAKICAgIAogICAgICAgICAgICB2YXIgcG9wdXBfM2NiYTA4YWJjZmQwNDI3ZmE5ZWY2ZDk0NmIyYzhmYmUgPSBMLnBvcHVwKHttYXhXaWR0aDogJzMwMCd9KTsKCiAgICAgICAgICAgIAogICAgICAgICAgICAgICAgdmFyIGh0bWxfZDg4OTQwODEzYmY1NDQ2OGE0MTM3ODlkNzY3OGM3ZGMgPSAkKCc8ZGl2IGlkPSJodG1sX2Q4ODk0MDgxM2JmNTQ0NjhhNDEzNzg5ZDc2NzhjN2RjIiBzdHlsZT0id2lkdGg6IDEwMC4wJTsgaGVpZ2h0OiAxMDAuMCU7Ij5QaWNrdXBfZHQ6IDIwMTYtMDMtMTkgMDA6NTc6MjkgIERyb3BvZmZfZHQ6IDIwMTYtMDMtMTkgMDE6MTA6MDggIDwvZGl2PicpWzBdOwogICAgICAgICAgICAgICAgcG9wdXBfM2NiYTA4YWJjZmQwNDI3ZmE5ZWY2ZDk0NmIyYzhmYmUuc2V0Q29udGVudChodG1sX2Q4ODk0MDgxM2JmNTQ0NjhhNDEzNzg5ZDc2NzhjN2RjKTsKICAgICAgICAgICAgCgogICAgICAgICAgICBtYXJrZXJfOWUzNmRlNjBiMzk3NDJiNWE1ZjI2ODUxMjU3ZTZhMTAuYmluZFBvcHVwKHBvcHVwXzNjYmEwOGFiY2ZkMDQyN2ZhOWVmNmQ5NDZiMmM4ZmJlKTsKCiAgICAgICAgICAgIAogICAgICAgIAogICAgCgogICAgICAgICAgICB2YXIgbWFya2VyX2MzZGEzOTFiMzg3NTRmMDM5MzEwZTFjYjFiM2I3NzZlID0gTC5tYXJrZXIoCiAgICAgICAgICAgICAgICBbNDAuNzQ4MTE5MzU0MiwtNzMuOTc2NDE3NTQxNV0sCiAgICAgICAgICAgICAgICB7CiAgICAgICAgICAgICAgICAgICAgaWNvbjogbmV3IEwuSWNvbi5EZWZhdWx0KCkKICAgICAgICAgICAgICAgICAgICB9CiAgICAgICAgICAgICAgICApCiAgICAgICAgICAgICAgICAuYWRkVG8obWFwX2M1MTEzOGZhZmRiYzQyNDJhNTVlNDMyZDBkZTY4ZmZlKTsKICAgICAgICAgICAgCiAgICAKCiAgICAgICAgICAgICAgICB2YXIgaWNvbl84YzQ3ZjkzY2IwOWE0MGNjOWFlYzA3NGQzZDI1YTJmOCA9IEwuQXdlc29tZU1hcmtlcnMuaWNvbih7CiAgICAgICAgICAgICAgICAgICAgaWNvbjogJ2Nsb3VkJywKICAgICAgICAgICAgICAgICAgICBpY29uQ29sb3I6ICd3aGl0ZScsCiAgICAgICAgICAgICAgICAgICAgbWFya2VyQ29sb3I6ICdyZWQnLAogICAgICAgICAgICAgICAgICAgIHByZWZpeDogJ2dseXBoaWNvbicsCiAgICAgICAgICAgICAgICAgICAgZXh0cmFDbGFzc2VzOiAnZmEtcm90YXRlLTAnCiAgICAgICAgICAgICAgICAgICAgfSk7CiAgICAgICAgICAgICAgICBtYXJrZXJfYzNkYTM5MWIzODc1NGYwMzkzMTBlMWNiMWIzYjc3NmUuc2V0SWNvbihpY29uXzhjNDdmOTNjYjA5YTQwY2M5YWVjMDc0ZDNkMjVhMmY4KTsKICAgICAgICAgICAgCiAgICAKICAgICAgICAgICAgdmFyIHBvcHVwXzU1NjMxNGRhZDFiNDQwYmVhZDgxZmNjMmFjMzVkODE3ID0gTC5wb3B1cCh7bWF4V2lkdGg6ICczMDAnfSk7CgogICAgICAgICAgICAKICAgICAgICAgICAgICAgIHZhciBodG1sXzJhZmZiNDc3YjUxNzQ3NGE4OTE3YTZmNzQwNDI4MzU2ID0gJCgnPGRpdiBpZD0iaHRtbF8yYWZmYjQ3N2I1MTc0NzRhODkxN2E2Zjc0MDQyODM1NiIgc3R5bGU9IndpZHRoOiAxMDAuMCU7IGhlaWdodDogMTAwLjAlOyI+UGlja3VwX2R0OiAyMDE2LTAxLTAzIDAxOjQ3OjIwICBEcm9wb2ZmX2R0OiAyMDE2LTAxLTAzIDAyOjA3OjA1ICA8L2Rpdj4nKVswXTsKICAgICAgICAgICAgICAgIHBvcHVwXzU1NjMxNGRhZDFiNDQwYmVhZDgxZmNjMmFjMzVkODE3LnNldENvbnRlbnQoaHRtbF8yYWZmYjQ3N2I1MTc0NzRhODkxN2E2Zjc0MDQyODM1Nik7CiAgICAgICAgICAgIAoKICAgICAgICAgICAgbWFya2VyX2MzZGEzOTFiMzg3NTRmMDM5MzEwZTFjYjFiM2I3NzZlLmJpbmRQb3B1cChwb3B1cF81NTYzMTRkYWQxYjQ0MGJlYWQ4MWZjYzJhYzM1ZDgxNyk7CgogICAgICAgICAgICAKICAgICAgICAKICAgIAoKICAgICAgICAgICAgdmFyIG1hcmtlcl85ZDE2ZTIyZjBlMmI0OTlkYmE0YTExNmFjODBjNzFlMCA9IEwubWFya2VyKAogICAgICAgICAgICAgICAgWzQwLjcyMTM0NzgwODgsLTczLjk0Nzg0NTQ1OV0sCiAgICAgICAgICAgICAgICB7CiAgICAgICAgICAgICAgICAgICAgaWNvbjogbmV3IEwuSWNvbi5EZWZhdWx0KCkKICAgICAgICAgICAgICAgICAgICB9CiAgICAgICAgICAgICAgICApCiAgICAgICAgICAgICAgICAuYWRkVG8obWFwX2M1MTEzOGZhZmRiYzQyNDJhNTVlNDMyZDBkZTY4ZmZlKTsKICAgICAgICAgICAgCiAgICAKCiAgICAgICAgICAgICAgICB2YXIgaWNvbl8zZGEwNTAyZmY4YjI0MTJjYTM5MDlkMzU4ZTkwODQ2YiA9IEwuQXdlc29tZU1hcmtlcnMuaWNvbih7CiAgICAgICAgICAgICAgICAgICAgaWNvbjogJ2Nsb3VkJywKICAgICAgICAgICAgICAgICAgICBpY29uQ29sb3I6ICd3aGl0ZScsCiAgICAgICAgICAgICAgICAgICAgbWFya2VyQ29sb3I6ICdyZWQnLAogICAgICAgICAgICAgICAgICAgIHByZWZpeDogJ2dseXBoaWNvbicsCiAgICAgICAgICAgICAgICAgICAgZXh0cmFDbGFzc2VzOiAnZmEtcm90YXRlLTAnCiAgICAgICAgICAgICAgICAgICAgfSk7CiAgICAgICAgICAgICAgICBtYXJrZXJfOWQxNmUyMmYwZTJiNDk5ZGJhNGExMTZhYzgwYzcxZTAuc2V0SWNvbihpY29uXzNkYTA1MDJmZjhiMjQxMmNhMzkwOWQzNThlOTA4NDZiKTsKICAgICAgICAgICAgCiAgICAKICAgICAgICAgICAgdmFyIHBvcHVwX2I1NWRkMzZmN2NlNTRkNzY5OTYxZmRmNjgxZDk5ZTgxID0gTC5wb3B1cCh7bWF4V2lkdGg6ICczMDAnfSk7CgogICAgICAgICAgICAKICAgICAgICAgICAgICAgIHZhciBodG1sX2FkYzQ5NDhkYmI5ZjRmM2M4ZDE3MzQwNDA0ODExNjdiID0gJCgnPGRpdiBpZD0iaHRtbF9hZGM0OTQ4ZGJiOWY0ZjNjOGQxNzM0MDQwNDgxMTY3YiIgc3R5bGU9IndpZHRoOiAxMDAuMCU7IGhlaWdodDogMTAwLjAlOyI+UGlja3VwX2R0OiAyMDE2LTAxLTI5IDE1OjU5OjUzICBEcm9wb2ZmX2R0OiAyMDE2LTAxLTI5IDE2OjA2OjAzICA8L2Rpdj4nKVswXTsKICAgICAgICAgICAgICAgIHBvcHVwX2I1NWRkMzZmN2NlNTRkNzY5OTYxZmRmNjgxZDk5ZTgxLnNldENvbnRlbnQoaHRtbF9hZGM0OTQ4ZGJiOWY0ZjNjOGQxNzM0MDQwNDgxMTY3Yik7CiAgICAgICAgICAgIAoKICAgICAgICAgICAgbWFya2VyXzlkMTZlMjJmMGUyYjQ5OWRiYTRhMTE2YWM4MGM3MWUwLmJpbmRQb3B1cChwb3B1cF9iNTVkZDM2ZjdjZTU0ZDc2OTk2MWZkZjY4MWQ5OWU4MSk7CgogICAgICAgICAgICAKICAgICAgICAKICAgIAoKICAgICAgICAgICAgdmFyIG1hcmtlcl8wYjc1ZmNhNzg0ODM0MjExOWFhNWUzNjRiYjQ0NjQ4NSA9IEwubWFya2VyKAogICAgICAgICAgICAgICAgWzQwLjY3NjM4Nzc4NjksLTczLjk4MDI3MDM4NTddLAogICAgICAgICAgICAgICAgewogICAgICAgICAgICAgICAgICAgIGljb246IG5ldyBMLkljb24uRGVmYXVsdCgpCiAgICAgICAgICAgICAgICAgICAgfQogICAgICAgICAgICAgICAgKQogICAgICAgICAgICAgICAgLmFkZFRvKG1hcF9jNTExMzhmYWZkYmM0MjQyYTU1ZTQzMmQwZGU2OGZmZSk7CiAgICAgICAgICAgIAogICAgCgogICAgICAgICAgICAgICAgdmFyIGljb25fNWI2MmZiN2NkMTgyNDhhNjhjMDZlZjkyNWYzYWYyNGEgPSBMLkF3ZXNvbWVNYXJrZXJzLmljb24oewogICAgICAgICAgICAgICAgICAgIGljb246ICdjbG91ZCcsCiAgICAgICAgICAgICAgICAgICAgaWNvbkNvbG9yOiAnd2hpdGUnLAogICAgICAgICAgICAgICAgICAgIG1hcmtlckNvbG9yOiAncmVkJywKICAgICAgICAgICAgICAgICAgICBwcmVmaXg6ICdnbHlwaGljb24nLAogICAgICAgICAgICAgICAgICAgIGV4dHJhQ2xhc3NlczogJ2ZhLXJvdGF0ZS0wJwogICAgICAgICAgICAgICAgICAgIH0pOwogICAgICAgICAgICAgICAgbWFya2VyXzBiNzVmY2E3ODQ4MzQyMTE5YWE1ZTM2NGJiNDQ2NDg1LnNldEljb24oaWNvbl81YjYyZmI3Y2QxODI0OGE2OGMwNmVmOTI1ZjNhZjI0YSk7CiAgICAgICAgICAgIAogICAgCiAgICAgICAgICAgIHZhciBwb3B1cF84OTIwZjEwNWI5Zjg0MGQ2OTQzMjRiM2Q0ZTI5OGFiZiA9IEwucG9wdXAoe21heFdpZHRoOiAnMzAwJ30pOwoKICAgICAgICAgICAgCiAgICAgICAgICAgICAgICB2YXIgaHRtbF8zMTc3MmVkZWFkYmU0NzEwYmI4ZWI2NzFkODRlZjI3MCA9ICQoJzxkaXYgaWQ9Imh0bWxfMzE3NzJlZGVhZGJlNDcxMGJiOGViNjcxZDg0ZWYyNzAiIHN0eWxlPSJ3aWR0aDogMTAwLjAlOyBoZWlnaHQ6IDEwMC4wJTsiPlBpY2t1cF9kdDogMjAxNS0xMi0yNiAyMDo1ODoyMiAgRHJvcG9mZl9kdDogMjAxNS0xMi0yNiAyMTowMzowMSAgPC9kaXY+JylbMF07CiAgICAgICAgICAgICAgICBwb3B1cF84OTIwZjEwNWI5Zjg0MGQ2OTQzMjRiM2Q0ZTI5OGFiZi5zZXRDb250ZW50KGh0bWxfMzE3NzJlZGVhZGJlNDcxMGJiOGViNjcxZDg0ZWYyNzApOwogICAgICAgICAgICAKCiAgICAgICAgICAgIG1hcmtlcl8wYjc1ZmNhNzg0ODM0MjExOWFhNWUzNjRiYjQ0NjQ4NS5iaW5kUG9wdXAocG9wdXBfODkyMGYxMDViOWY4NDBkNjk0MzI0YjNkNGUyOThhYmYpOwoKICAgICAgICAgICAgCiAgICAgICAgCiAgICAKCiAgICAgICAgICAgIHZhciBtYXJrZXJfNDAwMTAxN2UzYWNjNDgxY2FhNzNlOWE3YTAyZmJiZDQgPSBMLm1hcmtlcigKICAgICAgICAgICAgICAgIFs0MC43NTE4NjUzODcsLTczLjk3NTIxMjA5NzJdLAogICAgICAgICAgICAgICAgewogICAgICAgICAgICAgICAgICAgIGljb246IG5ldyBMLkljb24uRGVmYXVsdCgpCiAgICAgICAgICAgICAgICAgICAgfQogICAgICAgICAgICAgICAgKQogICAgICAgICAgICAgICAgLmFkZFRvKG1hcF9jNTExMzhmYWZkYmM0MjQyYTU1ZTQzMmQwZGU2OGZmZSk7CiAgICAgICAgICAgIAogICAgCgogICAgICAgICAgICAgICAgdmFyIGljb25fMGJmYTQxMmQ2MmE5NDQ5YTk4ZGE0Nzk5NDUzYTdhMjcgPSBMLkF3ZXNvbWVNYXJrZXJzLmljb24oewogICAgICAgICAgICAgICAgICAgIGljb246ICdjbG91ZCcsCiAgICAgICAgICAgICAgICAgICAgaWNvbkNvbG9yOiAnd2hpdGUnLAogICAgICAgICAgICAgICAgICAgIG1hcmtlckNvbG9yOiAncmVkJywKICAgICAgICAgICAgICAgICAgICBwcmVmaXg6ICdnbHlwaGljb24nLAogICAgICAgICAgICAgICAgICAgIGV4dHJhQ2xhc3NlczogJ2ZhLXJvdGF0ZS0wJwogICAgICAgICAgICAgICAgICAgIH0pOwogICAgICAgICAgICAgICAgbWFya2VyXzQwMDEwMTdlM2FjYzQ4MWNhYTczZTlhN2EwMmZiYmQ0LnNldEljb24oaWNvbl8wYmZhNDEyZDYyYTk0NDlhOThkYTQ3OTk0NTNhN2EyNyk7CiAgICAgICAgICAgIAogICAgCiAgICAgICAgICAgIHZhciBwb3B1cF9mMmE1NjA3YTU5YmI0NTdlYTU2NjQ2MzljODMzOTM0NSA9IEwucG9wdXAoe21heFdpZHRoOiAnMzAwJ30pOwoKICAgICAgICAgICAgCiAgICAgICAgICAgICAgICB2YXIgaHRtbF9hZGRmMzk4ODFmYzU0ZWRmYTE3YjViZDk3ZmU0NTkzNSA9ICQoJzxkaXYgaWQ9Imh0bWxfYWRkZjM5ODgxZmM1NGVkZmExN2I1YmQ5N2ZlNDU5MzUiIHN0eWxlPSJ3aWR0aDogMTAwLjAlOyBoZWlnaHQ6IDEwMC4wJTsiPlBpY2t1cF9kdDogMjAxNi0wMy0wMyAxODozNjo1MCAgRHJvcG9mZl9kdDogMjAxNi0wMy0wMyAxODo1NzowNyAgPC9kaXY+JylbMF07CiAgICAgICAgICAgICAgICBwb3B1cF9mMmE1NjA3YTU5YmI0NTdlYTU2NjQ2MzljODMzOTM0NS5zZXRDb250ZW50KGh0bWxfYWRkZjM5ODgxZmM1NGVkZmExN2I1YmQ5N2ZlNDU5MzUpOwogICAgICAgICAgICAKCiAgICAgICAgICAgIG1hcmtlcl80MDAxMDE3ZTNhY2M0ODFjYWE3M2U5YTdhMDJmYmJkNC5iaW5kUG9wdXAocG9wdXBfZjJhNTYwN2E1OWJiNDU3ZWE1NjY0NjM5YzgzMzkzNDUpOwoKICAgICAgICAgICAgCiAgICAgICAgCiAgICAKCiAgICAgICAgICAgIHZhciBtYXJrZXJfMzFmZWYyODYzYmUzNDA1Mjg3NDg5MzE4MzZiMjIxNGIgPSBMLm1hcmtlcigKICAgICAgICAgICAgICAgIFs0MC43MTI1NjYzNzU3LC03My44NTM1Mzg1MTMyXSwKICAgICAgICAgICAgICAgIHsKICAgICAgICAgICAgICAgICAgICBpY29uOiBuZXcgTC5JY29uLkRlZmF1bHQoKQogICAgICAgICAgICAgICAgICAgIH0KICAgICAgICAgICAgICAgICkKICAgICAgICAgICAgICAgIC5hZGRUbyhtYXBfYzUxMTM4ZmFmZGJjNDI0MmE1NWU0MzJkMGRlNjhmZmUpOwogICAgICAgICAgICAKICAgIAoKICAgICAgICAgICAgICAgIHZhciBpY29uXzVhZjZmNTU5MmQ3ZTQ1MjFhMzE4ODBlZTc4NmM5Zjg3ID0gTC5Bd2Vzb21lTWFya2Vycy5pY29uKHsKICAgICAgICAgICAgICAgICAgICBpY29uOiAnY2xvdWQnLAogICAgICAgICAgICAgICAgICAgIGljb25Db2xvcjogJ3doaXRlJywKICAgICAgICAgICAgICAgICAgICBtYXJrZXJDb2xvcjogJ3JlZCcsCiAgICAgICAgICAgICAgICAgICAgcHJlZml4OiAnZ2x5cGhpY29uJywKICAgICAgICAgICAgICAgICAgICBleHRyYUNsYXNzZXM6ICdmYS1yb3RhdGUtMCcKICAgICAgICAgICAgICAgICAgICB9KTsKICAgICAgICAgICAgICAgIG1hcmtlcl8zMWZlZjI4NjNiZTM0MDUyODc0ODkzMTgzNmIyMjE0Yi5zZXRJY29uKGljb25fNWFmNmY1NTkyZDdlNDUyMWEzMTg4MGVlNzg2YzlmODcpOwogICAgICAgICAgICAKICAgIAogICAgICAgICAgICB2YXIgcG9wdXBfYjJhNGRiNzJlZjAzNDZhYjhiYjRmYThlYzZiMjdmMGMgPSBMLnBvcHVwKHttYXhXaWR0aDogJzMwMCd9KTsKCiAgICAgICAgICAgIAogICAgICAgICAgICAgICAgdmFyIGh0bWxfYTg1NzdhYjgxOWJhNDcwZGEyYmIxM2RiNGQzY2ZkNzggPSAkKCc8ZGl2IGlkPSJodG1sX2E4NTc3YWI4MTliYTQ3MGRhMmJiMTNkYjRkM2NmZDc4IiBzdHlsZT0id2lkdGg6IDEwMC4wJTsgaGVpZ2h0OiAxMDAuMCU7Ij5QaWNrdXBfZHQ6IDIwMTYtMDEtMTMgMTk6NDE6MjQgIERyb3BvZmZfZHQ6IDIwMTYtMDEtMTMgMTk6NDg6MDIgIDwvZGl2PicpWzBdOwogICAgICAgICAgICAgICAgcG9wdXBfYjJhNGRiNzJlZjAzNDZhYjhiYjRmYThlYzZiMjdmMGMuc2V0Q29udGVudChodG1sX2E4NTc3YWI4MTliYTQ3MGRhMmJiMTNkYjRkM2NmZDc4KTsKICAgICAgICAgICAgCgogICAgICAgICAgICBtYXJrZXJfMzFmZWYyODYzYmUzNDA1Mjg3NDg5MzE4MzZiMjIxNGIuYmluZFBvcHVwKHBvcHVwX2IyYTRkYjcyZWYwMzQ2YWI4YmI0ZmE4ZWM2YjI3ZjBjKTsKCiAgICAgICAgICAgIAogICAgICAgIAogICAgCgogICAgICAgICAgICB2YXIgbWFya2VyX2M0NjVhZTBkZDQzYTQ5MDc5YmJmZjQ2OTIwNmY1NTMyID0gTC5tYXJrZXIoCiAgICAgICAgICAgICAgICBbNDAuNjc3ODEwNjY4OSwtNzMuOTY5NDY3MTYzMV0sCiAgICAgICAgICAgICAgICB7CiAgICAgICAgICAgICAgICAgICAgaWNvbjogbmV3IEwuSWNvbi5EZWZhdWx0KCkKICAgICAgICAgICAgICAgICAgICB9CiAgICAgICAgICAgICAgICApCiAgICAgICAgICAgICAgICAuYWRkVG8obWFwX2M1MTEzOGZhZmRiYzQyNDJhNTVlNDMyZDBkZTY4ZmZlKTsKICAgICAgICAgICAgCiAgICAKCiAgICAgICAgICAgICAgICB2YXIgaWNvbl82OWMwYTg4YzExNWM0Y2ZlOGU5YzM4M2Y4M2U1MTcyNCA9IEwuQXdlc29tZU1hcmtlcnMuaWNvbih7CiAgICAgICAgICAgICAgICAgICAgaWNvbjogJ2Nsb3VkJywKICAgICAgICAgICAgICAgICAgICBpY29uQ29sb3I6ICd3aGl0ZScsCiAgICAgICAgICAgICAgICAgICAgbWFya2VyQ29sb3I6ICdyZWQnLAogICAgICAgICAgICAgICAgICAgIHByZWZpeDogJ2dseXBoaWNvbicsCiAgICAgICAgICAgICAgICAgICAgZXh0cmFDbGFzc2VzOiAnZmEtcm90YXRlLTAnCiAgICAgICAgICAgICAgICAgICAgfSk7CiAgICAgICAgICAgICAgICBtYXJrZXJfYzQ2NWFlMGRkNDNhNDkwNzliYmZmNDY5MjA2ZjU1MzIuc2V0SWNvbihpY29uXzY5YzBhODhjMTE1YzRjZmU4ZTljMzgzZjgzZTUxNzI0KTsKICAgICAgICAgICAgCiAgICAKICAgICAgICAgICAgdmFyIHBvcHVwXzg0ODJiYjIwZmFhMjQwOTdhZDEzNWZhODczYmJiNDcwID0gTC5wb3B1cCh7bWF4V2lkdGg6ICczMDAnfSk7CgogICAgICAgICAgICAKICAgICAgICAgICAgICAgIHZhciBodG1sXzkxMjA3YTliMzEzZTQwMjE5YjY1Nzg2MDIzMDk1NGQ0ID0gJCgnPGRpdiBpZD0iaHRtbF85MTIwN2E5YjMxM2U0MDIxOWI2NTc4NjAyMzA5NTRkNCIgc3R5bGU9IndpZHRoOiAxMDAuMCU7IGhlaWdodDogMTAwLjAlOyI+UGlja3VwX2R0OiAyMDE2LTAyLTA2IDE4OjI4OjE0ICBEcm9wb2ZmX2R0OiAyMDE2LTAyLTA2IDE4OjQ0OjM2ICA8L2Rpdj4nKVswXTsKICAgICAgICAgICAgICAgIHBvcHVwXzg0ODJiYjIwZmFhMjQwOTdhZDEzNWZhODczYmJiNDcwLnNldENvbnRlbnQoaHRtbF85MTIwN2E5YjMxM2U0MDIxOWI2NTc4NjAyMzA5NTRkNCk7CiAgICAgICAgICAgIAoKICAgICAgICAgICAgbWFya2VyX2M0NjVhZTBkZDQzYTQ5MDc5YmJmZjQ2OTIwNmY1NTMyLmJpbmRQb3B1cChwb3B1cF84NDgyYmIyMGZhYTI0MDk3YWQxMzVmYTg3M2JiYjQ3MCk7CgogICAgICAgICAgICAKICAgICAgICAKICAgIAoKICAgICAgICAgICAgdmFyIG1hcmtlcl83ZjgxYzY5MTc3Zjk0NDY3OGMwZDRmM2IzNzUxMTk3MCA9IEwubWFya2VyKAogICAgICAgICAgICAgICAgWzQwLjU4MzcxMzUzMTUsLTczLjk0MDg3OTgyMThdLAogICAgICAgICAgICAgICAgewogICAgICAgICAgICAgICAgICAgIGljb246IG5ldyBMLkljb24uRGVmYXVsdCgpCiAgICAgICAgICAgICAgICAgICAgfQogICAgICAgICAgICAgICAgKQogICAgICAgICAgICAgICAgLmFkZFRvKG1hcF9jNTExMzhmYWZkYmM0MjQyYTU1ZTQzMmQwZGU2OGZmZSk7CiAgICAgICAgICAgIAogICAgCgogICAgICAgICAgICAgICAgdmFyIGljb25fZDI5NWE2ZDg5NzRlNDEwOTgzM2RmMGZhMDE5YjA5ZWQgPSBMLkF3ZXNvbWVNYXJrZXJzLmljb24oewogICAgICAgICAgICAgICAgICAgIGljb246ICdjbG91ZCcsCiAgICAgICAgICAgICAgICAgICAgaWNvbkNvbG9yOiAnd2hpdGUnLAogICAgICAgICAgICAgICAgICAgIG1hcmtlckNvbG9yOiAncmVkJywKICAgICAgICAgICAgICAgICAgICBwcmVmaXg6ICdnbHlwaGljb24nLAogICAgICAgICAgICAgICAgICAgIGV4dHJhQ2xhc3NlczogJ2ZhLXJvdGF0ZS0wJwogICAgICAgICAgICAgICAgICAgIH0pOwogICAgICAgICAgICAgICAgbWFya2VyXzdmODFjNjkxNzdmOTQ0Njc4YzBkNGYzYjM3NTExOTcwLnNldEljb24oaWNvbl9kMjk1YTZkODk3NGU0MTA5ODMzZGYwZmEwMTliMDllZCk7CiAgICAgICAgICAgIAogICAgCiAgICAgICAgICAgIHZhciBwb3B1cF82ZGY1ODY1NWFhYTY0ZTQ5OTFmM2Y5YTFkZTM0ODAwMSA9IEwucG9wdXAoe21heFdpZHRoOiAnMzAwJ30pOwoKICAgICAgICAgICAgCiAgICAgICAgICAgICAgICB2YXIgaHRtbF9iNjc4MzM5OWQ1NDI0OWExYmM5YTI5OTE1NTc3MjgwNiA9ICQoJzxkaXYgaWQ9Imh0bWxfYjY3ODMzOTlkNTQyNDlhMWJjOWEyOTkxNTU3NzI4MDYiIHN0eWxlPSJ3aWR0aDogMTAwLjAlOyBoZWlnaHQ6IDEwMC4wJTsiPlBpY2t1cF9kdDogMjAxNi0wMy0yNiAwODowMTozNSAgRHJvcG9mZl9kdDogMjAxNi0wMy0yNiAwODoxMTo1NyAgPC9kaXY+JylbMF07CiAgICAgICAgICAgICAgICBwb3B1cF82ZGY1ODY1NWFhYTY0ZTQ5OTFmM2Y5YTFkZTM0ODAwMS5zZXRDb250ZW50KGh0bWxfYjY3ODMzOTlkNTQyNDlhMWJjOWEyOTkxNTU3NzI4MDYpOwogICAgICAgICAgICAKCiAgICAgICAgICAgIG1hcmtlcl83ZjgxYzY5MTc3Zjk0NDY3OGMwZDRmM2IzNzUxMTk3MC5iaW5kUG9wdXAocG9wdXBfNmRmNTg2NTVhYWE2NGU0OTkxZjNmOWExZGUzNDgwMDEpOwoKICAgICAgICAgICAgCiAgICAgICAgCiAgICAKCiAgICAgICAgICAgIHZhciBtYXJrZXJfNzYxMjhiZDA5YmMwNDliZmJmYzQxZjk4OGIyZDdmOTEgPSBMLm1hcmtlcigKICAgICAgICAgICAgICAgIFs0MC43MDY5ODE2NTg5LC03My44MzQ5MzgwNDkzXSwKICAgICAgICAgICAgICAgIHsKICAgICAgICAgICAgICAgICAgICBpY29uOiBuZXcgTC5JY29uLkRlZmF1bHQoKQogICAgICAgICAgICAgICAgICAgIH0KICAgICAgICAgICAgICAgICkKICAgICAgICAgICAgICAgIC5hZGRUbyhtYXBfYzUxMTM4ZmFmZGJjNDI0MmE1NWU0MzJkMGRlNjhmZmUpOwogICAgICAgICAgICAKICAgIAoKICAgICAgICAgICAgICAgIHZhciBpY29uX2U4MmYzMmY3MjA0YjQzNTU4OGZjZTliODVlYzA5MDM1ID0gTC5Bd2Vzb21lTWFya2Vycy5pY29uKHsKICAgICAgICAgICAgICAgICAgICBpY29uOiAnY2xvdWQnLAogICAgICAgICAgICAgICAgICAgIGljb25Db2xvcjogJ3doaXRlJywKICAgICAgICAgICAgICAgICAgICBtYXJrZXJDb2xvcjogJ3JlZCcsCiAgICAgICAgICAgICAgICAgICAgcHJlZml4OiAnZ2x5cGhpY29uJywKICAgICAgICAgICAgICAgICAgICBleHRyYUNsYXNzZXM6ICdmYS1yb3RhdGUtMCcKICAgICAgICAgICAgICAgICAgICB9KTsKICAgICAgICAgICAgICAgIG1hcmtlcl83NjEyOGJkMDliYzA0OWJmYmZjNDFmOTg4YjJkN2Y5MS5zZXRJY29uKGljb25fZTgyZjMyZjcyMDRiNDM1NTg4ZmNlOWI4NWVjMDkwMzUpOwogICAgICAgICAgICAKICAgIAogICAgICAgICAgICB2YXIgcG9wdXBfZjY2MmZiMmY5NTg0NGU3ZDllNmMwODRhMjhhZjg5MTUgPSBMLnBvcHVwKHttYXhXaWR0aDogJzMwMCd9KTsKCiAgICAgICAgICAgIAogICAgICAgICAgICAgICAgdmFyIGh0bWxfYTk5YmZhNTdmMTQwNDhmZmE2OTU0NTZlYTJkYWRjZjggPSAkKCc8ZGl2IGlkPSJodG1sX2E5OWJmYTU3ZjE0MDQ4ZmZhNjk1NDU2ZWEyZGFkY2Y4IiBzdHlsZT0id2lkdGg6IDEwMC4wJTsgaGVpZ2h0OiAxMDAuMCU7Ij5QaWNrdXBfZHQ6IDIwMTYtMDMtMTcgMjI6MDQ6MjcgIERyb3BvZmZfZHQ6IDIwMTYtMDMtMTcgMjI6MDk6MjAgIDwvZGl2PicpWzBdOwogICAgICAgICAgICAgICAgcG9wdXBfZjY2MmZiMmY5NTg0NGU3ZDllNmMwODRhMjhhZjg5MTUuc2V0Q29udGVudChodG1sX2E5OWJmYTU3ZjE0MDQ4ZmZhNjk1NDU2ZWEyZGFkY2Y4KTsKICAgICAgICAgICAgCgogICAgICAgICAgICBtYXJrZXJfNzYxMjhiZDA5YmMwNDliZmJmYzQxZjk4OGIyZDdmOTEuYmluZFBvcHVwKHBvcHVwX2Y2NjJmYjJmOTU4NDRlN2Q5ZTZjMDg0YTI4YWY4OTE1KTsKCiAgICAgICAgICAgIAogICAgICAgIAogICAgCgogICAgICAgICAgICB2YXIgbWFya2VyXzhmZGQwNzI3NjI0YTRlYThiOGU3NjgwOTgzYTdmMmMzID0gTC5tYXJrZXIoCiAgICAgICAgICAgICAgICBbNDAuNjczMzI0NTg1LC03My45ODI2MTI2MDk5XSwKICAgICAgICAgICAgICAgIHsKICAgICAgICAgICAgICAgICAgICBpY29uOiBuZXcgTC5JY29uLkRlZmF1bHQoKQogICAgICAgICAgICAgICAgICAgIH0KICAgICAgICAgICAgICAgICkKICAgICAgICAgICAgICAgIC5hZGRUbyhtYXBfYzUxMTM4ZmFmZGJjNDI0MmE1NWU0MzJkMGRlNjhmZmUpOwogICAgICAgICAgICAKICAgIAoKICAgICAgICAgICAgICAgIHZhciBpY29uXzJkNjk2ODY0YzExMTRiOTc4Y2Q3NGNmZWYwMzIyY2NlID0gTC5Bd2Vzb21lTWFya2Vycy5pY29uKHsKICAgICAgICAgICAgICAgICAgICBpY29uOiAnY2xvdWQnLAogICAgICAgICAgICAgICAgICAgIGljb25Db2xvcjogJ3doaXRlJywKICAgICAgICAgICAgICAgICAgICBtYXJrZXJDb2xvcjogJ3JlZCcsCiAgICAgICAgICAgICAgICAgICAgcHJlZml4OiAnZ2x5cGhpY29uJywKICAgICAgICAgICAgICAgICAgICBleHRyYUNsYXNzZXM6ICdmYS1yb3RhdGUtMCcKICAgICAgICAgICAgICAgICAgICB9KTsKICAgICAgICAgICAgICAgIG1hcmtlcl84ZmRkMDcyNzYyNGE0ZWE4YjhlNzY4MDk4M2E3ZjJjMy5zZXRJY29uKGljb25fMmQ2OTY4NjRjMTExNGI5NzhjZDc0Y2ZlZjAzMjJjY2UpOwogICAgICAgICAgICAKICAgIAogICAgICAgICAgICB2YXIgcG9wdXBfZTVlODUxOTU3ZWU3NDM0MTk4N2Q2NDIxYzAwZDlhZDkgPSBMLnBvcHVwKHttYXhXaWR0aDogJzMwMCd9KTsKCiAgICAgICAgICAgIAogICAgICAgICAgICAgICAgdmFyIGh0bWxfNDY4NzQ1NzA2OGQxNGM1N2E3MGRkMDU5MWQyYjVlYmMgPSAkKCc8ZGl2IGlkPSJodG1sXzQ2ODc0NTcwNjhkMTRjNTdhNzBkZDA1OTFkMmI1ZWJjIiBzdHlsZT0id2lkdGg6IDEwMC4wJTsgaGVpZ2h0OiAxMDAuMCU7Ij5QaWNrdXBfZHQ6IDIwMTYtMDItMTEgMTM6Mzg6MDkgIERyb3BvZmZfZHQ6IDIwMTYtMDItMTEgMTM6NDM6MDcgIDwvZGl2PicpWzBdOwogICAgICAgICAgICAgICAgcG9wdXBfZTVlODUxOTU3ZWU3NDM0MTk4N2Q2NDIxYzAwZDlhZDkuc2V0Q29udGVudChodG1sXzQ2ODc0NTcwNjhkMTRjNTdhNzBkZDA1OTFkMmI1ZWJjKTsKICAgICAgICAgICAgCgogICAgICAgICAgICBtYXJrZXJfOGZkZDA3Mjc2MjRhNGVhOGI4ZTc2ODA5ODNhN2YyYzMuYmluZFBvcHVwKHBvcHVwX2U1ZTg1MTk1N2VlNzQzNDE5ODdkNjQyMWMwMGQ5YWQ5KTsKCiAgICAgICAgICAgIAogICAgICAgIAogICAgCgogICAgICAgICAgICB2YXIgbWFya2VyXzQ1ZGEyNjg5Y2U2YTRmYjNhZTQ3Y2NmYWRkODMzNTM4ID0gTC5tYXJrZXIoCiAgICAgICAgICAgICAgICBbNDAuODMyMDM4ODc5NCwtNzMuOTI1NzM1NDczNl0sCiAgICAgICAgICAgICAgICB7CiAgICAgICAgICAgICAgICAgICAgaWNvbjogbmV3IEwuSWNvbi5EZWZhdWx0KCkKICAgICAgICAgICAgICAgICAgICB9CiAgICAgICAgICAgICAgICApCiAgICAgICAgICAgICAgICAuYWRkVG8obWFwX2M1MTEzOGZhZmRiYzQyNDJhNTVlNDMyZDBkZTY4ZmZlKTsKICAgICAgICAgICAgCiAgICAKCiAgICAgICAgICAgICAgICB2YXIgaWNvbl9mMmJhMjRkZGQ2Mzc0ZTNmYmQxMDlhYzQ4YjYyMDIzZSA9IEwuQXdlc29tZU1hcmtlcnMuaWNvbih7CiAgICAgICAgICAgICAgICAgICAgaWNvbjogJ2Nsb3VkJywKICAgICAgICAgICAgICAgICAgICBpY29uQ29sb3I6ICd3aGl0ZScsCiAgICAgICAgICAgICAgICAgICAgbWFya2VyQ29sb3I6ICdyZWQnLAogICAgICAgICAgICAgICAgICAgIHByZWZpeDogJ2dseXBoaWNvbicsCiAgICAgICAgICAgICAgICAgICAgZXh0cmFDbGFzc2VzOiAnZmEtcm90YXRlLTAnCiAgICAgICAgICAgICAgICAgICAgfSk7CiAgICAgICAgICAgICAgICBtYXJrZXJfNDVkYTI2ODljZTZhNGZiM2FlNDdjY2ZhZGQ4MzM1Mzguc2V0SWNvbihpY29uX2YyYmEyNGRkZDYzNzRlM2ZiZDEwOWFjNDhiNjIwMjNlKTsKICAgICAgICAgICAgCiAgICAKICAgICAgICAgICAgdmFyIHBvcHVwXzUzNDVjMDViMzk2NTQyODM4ZjhjMTlkY2UwZTJkZTkzID0gTC5wb3B1cCh7bWF4V2lkdGg6ICczMDAnfSk7CgogICAgICAgICAgICAKICAgICAgICAgICAgICAgIHZhciBodG1sXzU3MWE4NWRjOTFhZjRlNzk5Njg4ODYyODJjNTkzNmU2ID0gJCgnPGRpdiBpZD0iaHRtbF81NzFhODVkYzkxYWY0ZTc5OTY4ODg2MjgyYzU5MzZlNiIgc3R5bGU9IndpZHRoOiAxMDAuMCU7IGhlaWdodDogMTAwLjAlOyI+UGlja3VwX2R0OiAyMDE2LTAxLTI5IDE5OjQ4OjQ4ICBEcm9wb2ZmX2R0OiAyMDE2LTAxLTI5IDIwOjExOjQxICA8L2Rpdj4nKVswXTsKICAgICAgICAgICAgICAgIHBvcHVwXzUzNDVjMDViMzk2NTQyODM4ZjhjMTlkY2UwZTJkZTkzLnNldENvbnRlbnQoaHRtbF81NzFhODVkYzkxYWY0ZTc5OTY4ODg2MjgyYzU5MzZlNik7CiAgICAgICAgICAgIAoKICAgICAgICAgICAgbWFya2VyXzQ1ZGEyNjg5Y2U2YTRmYjNhZTQ3Y2NmYWRkODMzNTM4LmJpbmRQb3B1cChwb3B1cF81MzQ1YzA1YjM5NjU0MjgzOGY4YzE5ZGNlMGUyZGU5Myk7CgogICAgICAgICAgICAKICAgICAgICAKICAgIAoKICAgICAgICAgICAgdmFyIG1hcmtlcl8zMjIwZjM2NjZlNjU0ZTVlYmFhNjQwZjJkMzJmYzIzMSA9IEwubWFya2VyKAogICAgICAgICAgICAgICAgWzQwLjgwOTcxMTQ1NjMsLTczLjkxNTYxMTI2NzFdLAogICAgICAgICAgICAgICAgewogICAgICAgICAgICAgICAgICAgIGljb246IG5ldyBMLkljb24uRGVmYXVsdCgpCiAgICAgICAgICAgICAgICAgICAgfQogICAgICAgICAgICAgICAgKQogICAgICAgICAgICAgICAgLmFkZFRvKG1hcF9jNTExMzhmYWZkYmM0MjQyYTU1ZTQzMmQwZGU2OGZmZSk7CiAgICAgICAgICAgIAogICAgCgogICAgICAgICAgICAgICAgdmFyIGljb25fOTQ2ZGEzMmI4MWQ1NDZjNWI1NjVhMTRmNDVlMmQyYjIgPSBMLkF3ZXNvbWVNYXJrZXJzLmljb24oewogICAgICAgICAgICAgICAgICAgIGljb246ICdjbG91ZCcsCiAgICAgICAgICAgICAgICAgICAgaWNvbkNvbG9yOiAnd2hpdGUnLAogICAgICAgICAgICAgICAgICAgIG1hcmtlckNvbG9yOiAncmVkJywKICAgICAgICAgICAgICAgICAgICBwcmVmaXg6ICdnbHlwaGljb24nLAogICAgICAgICAgICAgICAgICAgIGV4dHJhQ2xhc3NlczogJ2ZhLXJvdGF0ZS0wJwogICAgICAgICAgICAgICAgICAgIH0pOwogICAgICAgICAgICAgICAgbWFya2VyXzMyMjBmMzY2NmU2NTRlNWViYWE2NDBmMmQzMmZjMjMxLnNldEljb24oaWNvbl85NDZkYTMyYjgxZDU0NmM1YjU2NWExNGY0NWUyZDJiMik7CiAgICAgICAgICAgIAogICAgCiAgICAgICAgICAgIHZhciBwb3B1cF9iM2ExMTdmYmRiMTM0ODFhYjY5YTk3MzIwZjFlNjY2NyA9IEwucG9wdXAoe21heFdpZHRoOiAnMzAwJ30pOwoKICAgICAgICAgICAgCiAgICAgICAgICAgICAgICB2YXIgaHRtbF9lMGVjYjJhYmViNzk0MjZjODMzYTk5YjI2NTg2ZWI2ZSA9ICQoJzxkaXYgaWQ9Imh0bWxfZTBlY2IyYWJlYjc5NDI2YzgzM2E5OWIyNjU4NmViNmUiIHN0eWxlPSJ3aWR0aDogMTAwLjAlOyBoZWlnaHQ6IDEwMC4wJTsiPlBpY2t1cF9kdDogMjAxNS0xMi0yNSAyMTo1NDoyMCAgRHJvcG9mZl9kdDogMjAxNS0xMi0yNSAyMjowNToxMiAgPC9kaXY+JylbMF07CiAgICAgICAgICAgICAgICBwb3B1cF9iM2ExMTdmYmRiMTM0ODFhYjY5YTk3MzIwZjFlNjY2Ny5zZXRDb250ZW50KGh0bWxfZTBlY2IyYWJlYjc5NDI2YzgzM2E5OWIyNjU4NmViNmUpOwogICAgICAgICAgICAKCiAgICAgICAgICAgIG1hcmtlcl8zMjIwZjM2NjZlNjU0ZTVlYmFhNjQwZjJkMzJmYzIzMS5iaW5kUG9wdXAocG9wdXBfYjNhMTE3ZmJkYjEzNDgxYWI2OWE5NzMyMGYxZTY2NjcpOwoKICAgICAgICAgICAgCiAgICAgICAgCiAgICAKCiAgICAgICAgICAgIHZhciBtYXJrZXJfYzllZWU4Y2YzNmY0NDdlMGIxMzM1NTY2NTQ0Nzc4Y2YgPSBMLm1hcmtlcigKICAgICAgICAgICAgICAgIFs0MC42OTgzOTg1OTAxLC03My45NTMxNDc4ODgyXSwKICAgICAgICAgICAgICAgIHsKICAgICAgICAgICAgICAgICAgICBpY29uOiBuZXcgTC5JY29uLkRlZmF1bHQoKQogICAgICAgICAgICAgICAgICAgIH0KICAgICAgICAgICAgICAgICkKICAgICAgICAgICAgICAgIC5hZGRUbyhtYXBfYzUxMTM4ZmFmZGJjNDI0MmE1NWU0MzJkMGRlNjhmZmUpOwogICAgICAgICAgICAKICAgIAoKICAgICAgICAgICAgICAgIHZhciBpY29uX2VjZGU0MGM4YmExMzRhNjU4YzFmY2NhOGU1OTIxMmQ5ID0gTC5Bd2Vzb21lTWFya2Vycy5pY29uKHsKICAgICAgICAgICAgICAgICAgICBpY29uOiAnY2xvdWQnLAogICAgICAgICAgICAgICAgICAgIGljb25Db2xvcjogJ3doaXRlJywKICAgICAgICAgICAgICAgICAgICBtYXJrZXJDb2xvcjogJ3JlZCcsCiAgICAgICAgICAgICAgICAgICAgcHJlZml4OiAnZ2x5cGhpY29uJywKICAgICAgICAgICAgICAgICAgICBleHRyYUNsYXNzZXM6ICdmYS1yb3RhdGUtMCcKICAgICAgICAgICAgICAgICAgICB9KTsKICAgICAgICAgICAgICAgIG1hcmtlcl9jOWVlZThjZjM2ZjQ0N2UwYjEzMzU1NjY1NDQ3NzhjZi5zZXRJY29uKGljb25fZWNkZTQwYzhiYTEzNGE2NThjMWZjY2E4ZTU5MjEyZDkpOwogICAgICAgICAgICAKICAgIAogICAgICAgICAgICB2YXIgcG9wdXBfNDljZDQ1MDg5NGY0NDU5YzgyZjQzMmVlNDJlMDQ1N2IgPSBMLnBvcHVwKHttYXhXaWR0aDogJzMwMCd9KTsKCiAgICAgICAgICAgIAogICAgICAgICAgICAgICAgdmFyIGh0bWxfM2UwMzgzNDlkZTU5NDE2ZWI4Y2I1ZTI1MzliZGQ4ODEgPSAkKCc8ZGl2IGlkPSJodG1sXzNlMDM4MzQ5ZGU1OTQxNmViOGNiNWUyNTM5YmRkODgxIiBzdHlsZT0id2lkdGg6IDEwMC4wJTsgaGVpZ2h0OiAxMDAuMCU7Ij5QaWNrdXBfZHQ6IDIwMTYtMDEtMjcgMTE6NDk6MjUgIERyb3BvZmZfZHQ6IDIwMTYtMDEtMjcgMTE6NTQ6NTIgIDwvZGl2PicpWzBdOwogICAgICAgICAgICAgICAgcG9wdXBfNDljZDQ1MDg5NGY0NDU5YzgyZjQzMmVlNDJlMDQ1N2Iuc2V0Q29udGVudChodG1sXzNlMDM4MzQ5ZGU1OTQxNmViOGNiNWUyNTM5YmRkODgxKTsKICAgICAgICAgICAgCgogICAgICAgICAgICBtYXJrZXJfYzllZWU4Y2YzNmY0NDdlMGIxMzM1NTY2NTQ0Nzc4Y2YuYmluZFBvcHVwKHBvcHVwXzQ5Y2Q0NTA4OTRmNDQ1OWM4MmY0MzJlZTQyZTA0NTdiKTsKCiAgICAgICAgICAgIAogICAgICAgIAogICAgCgogICAgICAgICAgICB2YXIgbWFya2VyXzdiMGRlYjQ4MTk3ZjQ0OTc5ZDJkM2FiNmI3ZmMwYjQwID0gTC5tYXJrZXIoCiAgICAgICAgICAgICAgICBbNDAuNzQwNjk5NzY4MSwtNzMuODc5MzQ4NzU0OV0sCiAgICAgICAgICAgICAgICB7CiAgICAgICAgICAgICAgICAgICAgaWNvbjogbmV3IEwuSWNvbi5EZWZhdWx0KCkKICAgICAgICAgICAgICAgICAgICB9CiAgICAgICAgICAgICAgICApCiAgICAgICAgICAgICAgICAuYWRkVG8obWFwX2M1MTEzOGZhZmRiYzQyNDJhNTVlNDMyZDBkZTY4ZmZlKTsKICAgICAgICAgICAgCiAgICAKCiAgICAgICAgICAgICAgICB2YXIgaWNvbl84OGQ4NGEzMDc5OGI0ZTNmOWEyOWQwMTMxYTUwYTZiMCA9IEwuQXdlc29tZU1hcmtlcnMuaWNvbih7CiAgICAgICAgICAgICAgICAgICAgaWNvbjogJ2Nsb3VkJywKICAgICAgICAgICAgICAgICAgICBpY29uQ29sb3I6ICd3aGl0ZScsCiAgICAgICAgICAgICAgICAgICAgbWFya2VyQ29sb3I6ICdyZWQnLAogICAgICAgICAgICAgICAgICAgIHByZWZpeDogJ2dseXBoaWNvbicsCiAgICAgICAgICAgICAgICAgICAgZXh0cmFDbGFzc2VzOiAnZmEtcm90YXRlLTAnCiAgICAgICAgICAgICAgICAgICAgfSk7CiAgICAgICAgICAgICAgICBtYXJrZXJfN2IwZGViNDgxOTdmNDQ5NzlkMmQzYWI2YjdmYzBiNDAuc2V0SWNvbihpY29uXzg4ZDg0YTMwNzk4YjRlM2Y5YTI5ZDAxMzFhNTBhNmIwKTsKICAgICAgICAgICAgCiAgICAKICAgICAgICAgICAgdmFyIHBvcHVwX2NkZjkxMDc4ZDhmZDRlOWZiZjk1ZDRhNWE5ZWI3YmIzID0gTC5wb3B1cCh7bWF4V2lkdGg6ICczMDAnfSk7CgogICAgICAgICAgICAKICAgICAgICAgICAgICAgIHZhciBodG1sXzk1ZmI0NTUzYTE2ZDQ4NzZiZjRlZThhMzdlNTIzZGJjID0gJCgnPGRpdiBpZD0iaHRtbF85NWZiNDU1M2ExNmQ0ODc2YmY0ZWU4YTM3ZTUyM2RiYyIgc3R5bGU9IndpZHRoOiAxMDAuMCU7IGhlaWdodDogMTAwLjAlOyI+UGlja3VwX2R0OiAyMDE2LTAyLTA5IDA4OjA4OjMzICBEcm9wb2ZmX2R0OiAyMDE2LTAyLTA5IDA4OjI0OjA4ICA8L2Rpdj4nKVswXTsKICAgICAgICAgICAgICAgIHBvcHVwX2NkZjkxMDc4ZDhmZDRlOWZiZjk1ZDRhNWE5ZWI3YmIzLnNldENvbnRlbnQoaHRtbF85NWZiNDU1M2ExNmQ0ODc2YmY0ZWU4YTM3ZTUyM2RiYyk7CiAgICAgICAgICAgIAoKICAgICAgICAgICAgbWFya2VyXzdiMGRlYjQ4MTk3ZjQ0OTc5ZDJkM2FiNmI3ZmMwYjQwLmJpbmRQb3B1cChwb3B1cF9jZGY5MTA3OGQ4ZmQ0ZTlmYmY5NWQ0YTVhOWViN2JiMyk7CgogICAgICAgICAgICAKICAgICAgICAKICAgIAoKICAgICAgICAgICAgdmFyIG1hcmtlcl9hMmEyYWZlZDdlYTI0ZjMwOThkY2ZhNDA1OTZjM2Y0ZiA9IEwubWFya2VyKAogICAgICAgICAgICAgICAgWzQwLjc3MjI3MDIwMjYsLTczLjkyNzUwNTQ5MzJdLAogICAgICAgICAgICAgICAgewogICAgICAgICAgICAgICAgICAgIGljb246IG5ldyBMLkljb24uRGVmYXVsdCgpCiAgICAgICAgICAgICAgICAgICAgfQogICAgICAgICAgICAgICAgKQogICAgICAgICAgICAgICAgLmFkZFRvKG1hcF9jNTExMzhmYWZkYmM0MjQyYTU1ZTQzMmQwZGU2OGZmZSk7CiAgICAgICAgICAgIAogICAgCgogICAgICAgICAgICAgICAgdmFyIGljb25fMGUzMTJlMDRiZDU4NDE0MGE4MjUyYzBiYWNlMjNmNWQgPSBMLkF3ZXNvbWVNYXJrZXJzLmljb24oewogICAgICAgICAgICAgICAgICAgIGljb246ICdjbG91ZCcsCiAgICAgICAgICAgICAgICAgICAgaWNvbkNvbG9yOiAnd2hpdGUnLAogICAgICAgICAgICAgICAgICAgIG1hcmtlckNvbG9yOiAncmVkJywKICAgICAgICAgICAgICAgICAgICBwcmVmaXg6ICdnbHlwaGljb24nLAogICAgICAgICAgICAgICAgICAgIGV4dHJhQ2xhc3NlczogJ2ZhLXJvdGF0ZS0wJwogICAgICAgICAgICAgICAgICAgIH0pOwogICAgICAgICAgICAgICAgbWFya2VyX2EyYTJhZmVkN2VhMjRmMzA5OGRjZmE0MDU5NmMzZjRmLnNldEljb24oaWNvbl8wZTMxMmUwNGJkNTg0MTQwYTgyNTJjMGJhY2UyM2Y1ZCk7CiAgICAgICAgICAgIAogICAgCiAgICAgICAgICAgIHZhciBwb3B1cF8zYzAwZjhiOWIyNDc0NDc1ODU5NGZjZTkxOTlhZWU0YyA9IEwucG9wdXAoe21heFdpZHRoOiAnMzAwJ30pOwoKICAgICAgICAgICAgCiAgICAgICAgICAgICAgICB2YXIgaHRtbF81ZjJkNzMxODdiZDE0YTljYjJkODYzYjQ3MDg5OWY5YSA9ICQoJzxkaXYgaWQ9Imh0bWxfNWYyZDczMTg3YmQxNGE5Y2IyZDg2M2I0NzA4OTlmOWEiIHN0eWxlPSJ3aWR0aDogMTAwLjAlOyBoZWlnaHQ6IDEwMC4wJTsiPlBpY2t1cF9kdDogMjAxNi0wMS0xNSAyMTo0Njo0OSAgRHJvcG9mZl9kdDogMjAxNi0wMS0xNiAyMTozODo0MSAgPC9kaXY+JylbMF07CiAgICAgICAgICAgICAgICBwb3B1cF8zYzAwZjhiOWIyNDc0NDc1ODU5NGZjZTkxOTlhZWU0Yy5zZXRDb250ZW50KGh0bWxfNWYyZDczMTg3YmQxNGE5Y2IyZDg2M2I0NzA4OTlmOWEpOwogICAgICAgICAgICAKCiAgICAgICAgICAgIG1hcmtlcl9hMmEyYWZlZDdlYTI0ZjMwOThkY2ZhNDA1OTZjM2Y0Zi5iaW5kUG9wdXAocG9wdXBfM2MwMGY4YjliMjQ3NDQ3NTg1OTRmY2U5MTk5YWVlNGMpOwoKICAgICAgICAgICAgCiAgICAgICAgCiAgICAKCiAgICAgICAgICAgIHZhciBtYXJrZXJfN2JjZTFjZWE0MDQ2NDYzMzk4MmQ3N2Y5ZmRlOTY4NjcgPSBMLm1hcmtlcigKICAgICAgICAgICAgICAgIFs0MC42NDI5NDgxNTA2LC03My45NTc3MjU1MjQ5XSwKICAgICAgICAgICAgICAgIHsKICAgICAgICAgICAgICAgICAgICBpY29uOiBuZXcgTC5JY29uLkRlZmF1bHQoKQogICAgICAgICAgICAgICAgICAgIH0KICAgICAgICAgICAgICAgICkKICAgICAgICAgICAgICAgIC5hZGRUbyhtYXBfYzUxMTM4ZmFmZGJjNDI0MmE1NWU0MzJkMGRlNjhmZmUpOwogICAgICAgICAgICAKICAgIAoKICAgICAgICAgICAgICAgIHZhciBpY29uXzU1MzhmZGFmMjkxZTQxM2ViMGZjZDA4NmYyZGFhZThhID0gTC5Bd2Vzb21lTWFya2Vycy5pY29uKHsKICAgICAgICAgICAgICAgICAgICBpY29uOiAnY2xvdWQnLAogICAgICAgICAgICAgICAgICAgIGljb25Db2xvcjogJ3doaXRlJywKICAgICAgICAgICAgICAgICAgICBtYXJrZXJDb2xvcjogJ3JlZCcsCiAgICAgICAgICAgICAgICAgICAgcHJlZml4OiAnZ2x5cGhpY29uJywKICAgICAgICAgICAgICAgICAgICBleHRyYUNsYXNzZXM6ICdmYS1yb3RhdGUtMCcKICAgICAgICAgICAgICAgICAgICB9KTsKICAgICAgICAgICAgICAgIG1hcmtlcl83YmNlMWNlYTQwNDY0NjMzOTgyZDc3ZjlmZGU5Njg2Ny5zZXRJY29uKGljb25fNTUzOGZkYWYyOTFlNDEzZWIwZmNkMDg2ZjJkYWFlOGEpOwogICAgICAgICAgICAKICAgIAogICAgICAgICAgICB2YXIgcG9wdXBfZjMyNDA3MmQyYThiNGYzNDhlNTg5NTE3ODYwYmY4ZTEgPSBMLnBvcHVwKHttYXhXaWR0aDogJzMwMCd9KTsKCiAgICAgICAgICAgIAogICAgICAgICAgICAgICAgdmFyIGh0bWxfYTdiOTFlYzJmZDVhNDMyOGJkNTgyMjhmNDU3NmYzNDMgPSAkKCc8ZGl2IGlkPSJodG1sX2E3YjkxZWMyZmQ1YTQzMjhiZDU4MjI4ZjQ1NzZmMzQzIiBzdHlsZT0id2lkdGg6IDEwMC4wJTsgaGVpZ2h0OiAxMDAuMCU7Ij5QaWNrdXBfZHQ6IDIwMTYtMDEtMDEgMjM6Mzc6MjAgIERyb3BvZmZfZHQ6IDIwMTYtMDEtMDIgMDA6MTY6MjEgIDwvZGl2PicpWzBdOwogICAgICAgICAgICAgICAgcG9wdXBfZjMyNDA3MmQyYThiNGYzNDhlNTg5NTE3ODYwYmY4ZTEuc2V0Q29udGVudChodG1sX2E3YjkxZWMyZmQ1YTQzMjhiZDU4MjI4ZjQ1NzZmMzQzKTsKICAgICAgICAgICAgCgogICAgICAgICAgICBtYXJrZXJfN2JjZTFjZWE0MDQ2NDYzMzk4MmQ3N2Y5ZmRlOTY4NjcuYmluZFBvcHVwKHBvcHVwX2YzMjQwNzJkMmE4YjRmMzQ4ZTU4OTUxNzg2MGJmOGUxKTsKCiAgICAgICAgICAgIAogICAgICAgIAo8L3NjcmlwdD4=\" style=\"position:absolute;width:100%;height:100%;left:0;top:0;border:none !important;\" allowfullscreen webkitallowfullscreen mozallowfullscreen></iframe></div></div>"
      ],
      "text/plain": [
       "<folium.folium.Map at 0x11ab02668>"
      ]
     },
     "execution_count": 94,
     "metadata": {},
     "output_type": "execute_result"
    }
   ],
   "source": [
    "# reset the map_example variable\n",
    "map_example = folium.Map(width=700,height=500,location=[40.7128,-74.0059], zoom_start=10)\n",
    "\n",
    "# You can also change the color and icon of the markers\n",
    "addMarkers(map_example, taxis, 'Dropoff_location', color='red', icon='cloud', popup_cols=[0,1])\n",
    "# type help(folium.Icon) to get some details of what you can put in color and icon\n",
    "\n",
    "map_example"
   ]
  },
  {
   "cell_type": "markdown",
   "metadata": {},
   "source": [
    "## Analyzing Data"
   ]
  },
  {
   "cell_type": "markdown",
   "metadata": {},
   "source": [
    "We start to actually look into how we are going to analyze the data. We will be looking at the latitude and longitude data from complaints and taxi as well as the times of each table (so if you dropped these columns earlier, go back and change your selection so these columns are included).\n",
    "\n",
    "Our rationale of the data is that DareDevil uses complaints sent to the NYPD to then go to the location of a crime. Thus, if we look at a crime that Daredevil was present, we expect to find a corresponding taxi that goes to the general area. Then, if we look at where this taxi originated from, we should be (in theory) able to find where Daredevil originates from and thus get closer to identify him.\n",
    "\n",
    "In the real world, you can imagine that we would use a variety of ideas to begin looking for specific people or narrow our search (e.g. photos of taxis celebrities emerged out of, knowledge of where someone lives, etc.)"
   ]
  },
  {
   "cell_type": "code",
   "execution_count": 95,
   "metadata": {},
   "outputs": [
    {
     "data": {
      "text/html": [
       "<table border=\"1\" class=\"dataframe\">\n",
       "    <thead>\n",
       "        <tr>\n",
       "            <th>Pickup_dt</th> <th>Dropoff_dt</th> <th>Passenger_count</th> <th>Pickup_location</th> <th>Dropoff_location</th>\n",
       "        </tr>\n",
       "    </thead>\n",
       "    <tbody>\n",
       "        <tr>\n",
       "            <td>2016-01-16 10:24:29</td> <td>2016-01-16 10:32:46</td> <td>1              </td> <td>[ 40.67527008 -73.95104218]</td> <td>[ 40.68263626 -73.93795776]</td>\n",
       "        </tr>\n",
       "    </tbody>\n",
       "</table>\n",
       "<p>... (20132 rows omitted)</p"
      ],
      "text/plain": [
       "<IPython.core.display.HTML object>"
      ]
     },
     "metadata": {},
     "output_type": "display_data"
    },
    {
     "data": {
      "text/html": [
       "<table border=\"1\" class=\"dataframe\">\n",
       "    <thead>\n",
       "        <tr>\n",
       "            <th>Complaint_dt</th> <th>OFNS_DESC</th> <th>PD_DESC</th> <th>LAW_CAT_CD</th> <th>Location</th>\n",
       "        </tr>\n",
       "    </thead>\n",
       "    <tbody>\n",
       "        <tr>\n",
       "            <td>2016-03-24 16:45:00</td> <td>HARRASSMENT 2</td> <td>HARASSMENT,SUBD 3,4,5</td> <td>VIOLATION </td> <td>[ 40.64067653 -73.93404401]</td>\n",
       "        </tr>\n",
       "    </tbody>\n",
       "</table>\n",
       "<p>... (9821 rows omitted)</p"
      ],
      "text/plain": [
       "<IPython.core.display.HTML object>"
      ]
     },
     "metadata": {},
     "output_type": "display_data"
    }
   ],
   "source": [
    "# Run this cell to display the tables\n",
    "taxis.show(1)\n",
    "complaints.show(1)"
   ]
  },
  {
   "cell_type": "code",
   "execution_count": null,
   "metadata": {
    "collapsed": true
   },
   "outputs": [],
   "source": []
  },
  {
   "cell_type": "markdown",
   "metadata": {},
   "source": [
    "Lets look at the times first. Perhaps we know that DareDevil took some taxi sometime near 11:00 pm (23:00) on January 4th. We can try to find the destination by looking at all taxi rides around that time using the taxi dataset. We can then easily write a function that checks if an event occurs within x minutes from a certain time. Then, we can use this function to select only rows from the tables that correspond to these times.\n",
    "\n",
    "We will use the Table.where function. This function takes in a column name and a function that returns a boolean value (True or False) and returns a table with only the rows where the function returned true when applied to that column."
   ]
  },
  {
   "cell_type": "code",
   "execution_count": 96,
   "metadata": {},
   "outputs": [
    {
     "data": {
      "text/html": [
       "<table border=\"1\" class=\"dataframe\">\n",
       "    <thead>\n",
       "        <tr>\n",
       "            <th>Pickup_dt</th> <th>Dropoff_dt</th> <th>Passenger_count</th> <th>Pickup_location</th> <th>Dropoff_location</th>\n",
       "        </tr>\n",
       "    </thead>\n",
       "    <tbody>\n",
       "        <tr>\n",
       "            <td>2016-01-04 23:02:03</td> <td>2016-01-04 23:32:31</td> <td>1              </td> <td>[ 40.83343887 -73.8605957 ]</td> <td>[ 40.75482559 -73.9465332 ]</td>\n",
       "        </tr>\n",
       "    </tbody>\n",
       "</table>"
      ],
      "text/plain": [
       "<IPython.core.display.HTML object>"
      ]
     },
     "metadata": {},
     "output_type": "display_data"
    }
   ],
   "source": [
    "def near_11pm_jan_4(time):\n",
    "    '''\n",
    "    Returns a boolean (true or false) whether a time is 5 minutes away from January 4, 2016 at 11pm.\n",
    "    '''\n",
    "    jan_4_11_pm = dt.datetime(2016,1,4,23)\n",
    "    return abs(time - jan_4_11_pm) <= dt.timedelta(minutes=5)\n",
    "\n",
    "# Now we use the .where function to select rows from taxi where the pickup time was within 5 minutes of 11pm\n",
    "# on January 4th!\n",
    "near_11_taxis = taxis.where('Pickup_dt', near_11pm_jan_4)\n",
    "near_11_taxis.show()"
   ]
  },
  {
   "cell_type": "markdown",
   "metadata": {},
   "source": [
    "You may have noticed that this function is pretty restrictive. It only allows us to check a table for one specific time! Below we will define a new function that is more general and will allow us to compare 2 times with each other. This will prove very useful to us later."
   ]
  },
  {
   "cell_type": "code",
   "execution_count": 97,
   "metadata": {},
   "outputs": [
    {
     "data": {
      "text/html": [
       "<table border=\"1\" class=\"dataframe\">\n",
       "    <thead>\n",
       "        <tr>\n",
       "            <th>Pickup_dt</th> <th>Dropoff_dt</th> <th>Passenger_count</th> <th>Pickup_location</th> <th>Dropoff_location</th>\n",
       "        </tr>\n",
       "    </thead>\n",
       "    <tbody>\n",
       "        <tr>\n",
       "            <td>2016-01-04 23:02:03</td> <td>2016-01-04 23:32:31</td> <td>1              </td> <td>[ 40.83343887 -73.8605957 ]</td> <td>[ 40.75482559 -73.9465332 ]</td>\n",
       "        </tr>\n",
       "    </tbody>\n",
       "</table>"
      ],
      "text/plain": [
       "<IPython.core.display.HTML object>"
      ]
     },
     "metadata": {},
     "output_type": "display_data"
    }
   ],
   "source": [
    "def time_near(time1, time2, error=5):\n",
    "    '''\n",
    "    Returns a boolean (true or false) whether 2 times are within error time of each other\n",
    "    error time is a number representing the minutes in between the two times (default 5 minutes)\n",
    "    '''\n",
    "    return abs(time1-time2) <= dt.timedelta(minutes=error)\n",
    "\n",
    "# Do not worry exactly what this line below does. It essentially creates the same \n",
    "# function we had before (and of the same name) using the more general function\n",
    "near_11pm_jan_4 = lambda x: time_near(x, dt.datetime(2016,1,4,23))\n",
    "near_11_taxis = taxis.where('Pickup_dt', near_11pm_jan_4)\n",
    "near_11_taxis.show()"
   ]
  },
  {
   "cell_type": "markdown",
   "metadata": {},
   "source": [
    "Using this method, we can look at the time of a crime we believe Daredevil to have gone to and look at dropoff or pickup times for taxis around the same time. Below, we will create a list of tables that correspond to the first 5 rows of crimes/complaints. These tables will be all the taxis that have dropoffs within 10 minutes of the crime being reported."
   ]
  },
  {
   "cell_type": "code",
   "execution_count": 98,
   "metadata": {},
   "outputs": [
    {
     "data": {
      "text/html": [
       "<table border=\"1\" class=\"dataframe\">\n",
       "    <thead>\n",
       "        <tr>\n",
       "            <th>Pickup_dt</th> <th>Dropoff_dt</th> <th>Passenger_count</th> <th>Pickup_location</th> <th>Dropoff_location</th>\n",
       "        </tr>\n",
       "    </thead>\n",
       "    <tbody>\n",
       "        <tr>\n",
       "            <td>2016-02-02 01:40:39</td> <td>2016-02-02 01:53:35</td> <td>1              </td> <td>[ 40.68479156 -73.97782135]</td> <td>[ 40.66083908 -73.9831543 ]</td>\n",
       "        </tr>\n",
       "    </tbody>\n",
       "</table>"
      ],
      "text/plain": [
       "<IPython.core.display.HTML object>"
      ]
     },
     "metadata": {},
     "output_type": "display_data"
    }
   ],
   "source": [
    "table_list = []\n",
    "for i in range(5):\n",
    "    time = complaints.column('Complaint_dt')[i] #gets the ith datetime of the complaint\n",
    "    temp_function = lambda x: time_near(x, time, 10)\n",
    "    table_list.append(taxis.where('Dropoff_dt', temp_function))\n",
    "table_list[4].show()"
   ]
  },
  {
   "cell_type": "markdown",
   "metadata": {},
   "source": [
    "Now lets look at location data. As with time, we can create a function to let us get all of the rows of a table with a location that is close to some certain coordinate. \n",
    "\n",
    "Before we do, we write a function that converts (roughly) the distance in km of two coordinates to make our lives easier."
   ]
  },
  {
   "cell_type": "code",
   "execution_count": 99,
   "metadata": {
    "collapsed": true
   },
   "outputs": [],
   "source": [
    "def dist_coord(loc1,loc2):\n",
    "    \"\"\"\n",
    "    returns distance in km between 2 coordinates\n",
    "    loc1 and loc2 should be a tuple of coordinates corresponding to the latitude and longitudes\n",
    "    of 2 locations\n",
    "    Not entirely accurate (assumes perfectly spherical earth) but works for our purposes\n",
    "    \"\"\"\n",
    "    R = 6373.0\n",
    "    lat1, lon1 = loc1\n",
    "    lat2, lon2 = loc2\n",
    "    lat1 = np.radians(lat1)\n",
    "    lon1 = np.radians(lon1)\n",
    "    lat2 = np.radians(lat2)\n",
    "    lon2 = np.radians(lon2)\n",
    "    dlon = lon2 - lon1\n",
    "    dlat = lat2 - lat1\n",
    "    a = (np.sin(dlat/2))**2 + np.cos(lat1) * np.cos(lat2) * (np.sin(dlon/2))**2\n",
    "    c = 2 * np.arctan2(np.sqrt(a), np.sqrt(1-a))\n",
    "    distance = R * c\n",
    "    return distance"
   ]
  },
  {
   "cell_type": "markdown",
   "metadata": {},
   "source": [
    "And now we write a general function (like we did for time) to be used in `.where` call of a table. That is, we will write a function that returns true if the coordinates are within x km of another set coordinate. We use the function to then generate a table of taxis that dropped off a passenger within 1 km of the first complaint location (40.638, -73.8985)"
   ]
  },
  {
   "cell_type": "code",
   "execution_count": 100,
   "metadata": {},
   "outputs": [
    {
     "data": {
      "text/html": [
       "<table border=\"1\" class=\"dataframe\">\n",
       "    <thead>\n",
       "        <tr>\n",
       "            <th>Pickup_dt</th> <th>Dropoff_dt</th> <th>Passenger_count</th> <th>Pickup_location</th> <th>Dropoff_location</th>\n",
       "        </tr>\n",
       "    </thead>\n",
       "    <tbody>\n",
       "        <tr>\n",
       "            <td>2016-01-04 11:32:46</td> <td>2016-01-04 11:33:03</td> <td>1              </td> <td>[ 40.63484955 -73.93488312]</td> <td>[ 40.63485718 -73.93489075]</td>\n",
       "        </tr>\n",
       "    </tbody>\n",
       "        <tr>\n",
       "            <td>2015-12-13 15:42:45</td> <td>2015-12-13 15:49:43</td> <td>1              </td> <td>[ 40.65153885 -73.95597839]</td> <td>[ 40.64172363 -73.9371109 ]</td>\n",
       "        </tr>\n",
       "    </tbody>\n",
       "        <tr>\n",
       "            <td>2016-01-30 16:43:17</td> <td>2016-01-30 16:59:45</td> <td>1              </td> <td>[ 40.67980576 -73.92873383]</td> <td>[ 40.64642715 -73.92745209]</td>\n",
       "        </tr>\n",
       "    </tbody>\n",
       "        <tr>\n",
       "            <td>2016-03-29 20:30:07</td> <td>2016-03-29 20:40:20</td> <td>1              </td> <td>[ 40.63330078 -73.94945526]</td> <td>[ 40.63592148 -73.93845367]</td>\n",
       "        </tr>\n",
       "    </tbody>\n",
       "        <tr>\n",
       "            <td>2015-12-04 18:46:34</td> <td>2015-12-04 19:07:52</td> <td>1              </td> <td>[ 40.6841011  -73.97599792]</td> <td>[ 40.64549637 -73.93251801]</td>\n",
       "        </tr>\n",
       "    </tbody>\n",
       "        <tr>\n",
       "            <td>2016-02-10 02:52:44</td> <td>2016-02-10 02:55:02</td> <td>1              </td> <td>[ 40.63214111 -73.94717407]</td> <td>[ 40.63244629 -73.93502045]</td>\n",
       "        </tr>\n",
       "    </tbody>\n",
       "        <tr>\n",
       "            <td>2016-02-28 21:19:52</td> <td>2016-02-28 21:31:19</td> <td>1              </td> <td>[ 40.63476562 -73.95101166]</td> <td>[ 40.64136505 -73.94203186]</td>\n",
       "        </tr>\n",
       "    </tbody>\n",
       "        <tr>\n",
       "            <td>2016-01-06 09:26:04</td> <td>2016-01-06 09:47:37</td> <td>2              </td> <td>[ 40.69321823 -73.96798706]</td> <td>[ 40.63546371 -73.94022369]</td>\n",
       "        </tr>\n",
       "    </tbody>\n",
       "        <tr>\n",
       "            <td>2015-12-15 03:16:12</td> <td>2015-12-15 03:23:31</td> <td>1              </td> <td>[ 40.63249207 -73.94744873]</td> <td>[ 40.63758469 -73.9230957 ]</td>\n",
       "        </tr>\n",
       "    </tbody>\n",
       "        <tr>\n",
       "            <td>2016-03-29 15:23:45</td> <td>2016-03-29 15:25:01</td> <td>1              </td> <td>[ 40.64242935 -73.94282532]</td> <td>[ 40.64245605 -73.94281006]</td>\n",
       "        </tr>\n",
       "    </tbody>\n",
       "        <tr>\n",
       "            <td>2016-02-28 15:28:35</td> <td>2016-02-28 16:17:55</td> <td>1              </td> <td>[ 40.6385231  -73.93961334]</td> <td>[ 40.63700867 -73.93711853]</td>\n",
       "        </tr>\n",
       "    </tbody>\n",
       "        <tr>\n",
       "            <td>2015-12-01 20:13:11</td> <td>2015-12-01 20:41:48</td> <td>2              </td> <td>[ 40.67145538 -73.95772552]</td> <td>[ 40.64227295 -73.93907928]</td>\n",
       "        </tr>\n",
       "    </tbody>\n",
       "        <tr>\n",
       "            <td>2016-03-15 04:23:08</td> <td>2016-03-15 04:33:47</td> <td>1              </td> <td>[ 40.68040848 -73.94943237]</td> <td>[ 40.64155579 -73.93869019]</td>\n",
       "        </tr>\n",
       "    </tbody>\n",
       "        <tr>\n",
       "            <td>2016-03-18 07:55:52</td> <td>2016-03-18 08:16:27</td> <td>1              </td> <td>[ 40.60087585 -73.94186401]</td> <td>[ 40.63479614 -73.93519592]</td>\n",
       "        </tr>\n",
       "    </tbody>\n",
       "        <tr>\n",
       "            <td>2016-01-27 11:40:20</td> <td>2016-01-27 11:59:12</td> <td>1              </td> <td>[ 40.64043427 -73.96615601]</td> <td>[ 40.63433838 -73.92858124]</td>\n",
       "        </tr>\n",
       "    </tbody>\n",
       "        <tr>\n",
       "            <td>2016-01-16 19:24:52</td> <td>2016-01-16 19:51:41</td> <td>1              </td> <td>[ 40.68815231 -73.96591187]</td> <td>[ 40.63405228 -73.94004822]</td>\n",
       "        </tr>\n",
       "    </tbody>\n",
       "        <tr>\n",
       "            <td>2016-02-01 21:41:59</td> <td>2016-02-01 22:08:34</td> <td>1              </td> <td>[ 40.72113037 -73.84407806]</td> <td>[ 40.63381577 -73.93910217]</td>\n",
       "        </tr>\n",
       "    </tbody>\n",
       "        <tr>\n",
       "            <td>2016-01-25 19:19:38</td> <td>2016-01-25 19:33:17</td> <td>1              </td> <td>[ 40.66674042 -73.93138123]</td> <td>[ 40.64409256 -73.93621063]</td>\n",
       "        </tr>\n",
       "    </tbody>\n",
       "        <tr>\n",
       "            <td>2016-03-08 21:24:31</td> <td>2016-03-08 21:38:07</td> <td>1              </td> <td>[ 40.67883682 -73.94963837]</td> <td>[ 40.64671707 -73.92783356]</td>\n",
       "        </tr>\n",
       "    </tbody>\n",
       "        <tr>\n",
       "            <td>2016-03-28 15:49:17</td> <td>2016-03-28 16:20:05</td> <td>1              </td> <td>[ 40.66834259 -73.98028564]</td> <td>[ 40.63336182 -73.92815399]</td>\n",
       "        </tr>\n",
       "    </tbody>\n",
       "        <tr>\n",
       "            <td>2016-02-03 00:13:00</td> <td>2016-02-03 01:07:23</td> <td>1              </td> <td>[ 40.76017342 -73.99981891]</td> <td>[ 40.64080182 -73.93017658]</td>\n",
       "        </tr>\n",
       "    </tbody>\n",
       "        <tr>\n",
       "            <td>2016-03-26 00:49:53</td> <td>2016-03-26 01:14:47</td> <td>1              </td> <td>[ 40.6920166  -73.99132538]</td> <td>[ 40.63359833 -73.9400177 ]</td>\n",
       "        </tr>\n",
       "    </tbody>\n",
       "        <tr>\n",
       "            <td>2016-03-30 23:53:00</td> <td>2016-03-31 00:18:31</td> <td>1              </td> <td>[ 40.69044113 -73.99204254]</td> <td>[ 40.64832306 -73.92782593]</td>\n",
       "        </tr>\n",
       "    </tbody>\n",
       "        <tr>\n",
       "            <td>2016-01-13 17:59:06</td> <td>2016-01-13 18:43:13</td> <td>1              </td> <td>[ 40.71359253 -73.95822906]</td> <td>[ 40.64325333 -73.93049622]</td>\n",
       "        </tr>\n",
       "    </tbody>\n",
       "        <tr>\n",
       "            <td>2015-12-13 20:55:42</td> <td>2015-12-13 20:56:14</td> <td>1              </td> <td>[ 40.64460754 -73.94316101]</td> <td>[ 40.64405823 -73.93520355]</td>\n",
       "        </tr>\n",
       "    </tbody>\n",
       "        <tr>\n",
       "            <td>2016-03-12 19:10:16</td> <td>2016-03-12 19:15:10</td> <td>2              </td> <td>[ 40.6318779  -73.94676971]</td> <td>[ 40.63491058 -73.93174744]</td>\n",
       "        </tr>\n",
       "    </tbody>\n",
       "        <tr>\n",
       "            <td>2016-03-23 00:09:23</td> <td>2016-03-23 00:15:28</td> <td>1              </td> <td>[ 40.65132141 -73.93915558]</td> <td>[ 40.63705063 -73.93483734]</td>\n",
       "        </tr>\n",
       "    </tbody>\n",
       "        <tr>\n",
       "            <td>2016-01-05 00:06:11</td> <td>2016-01-05 00:26:54</td> <td>1              </td> <td>[ 40.64306641 -73.94291687]</td> <td>[ 40.64218903 -73.94287872]</td>\n",
       "        </tr>\n",
       "    </tbody>\n",
       "        <tr>\n",
       "            <td>2016-02-02 14:16:26</td> <td>2016-02-02 14:18:52</td> <td>1              </td> <td>[ 40.6349411  -73.93471527]</td> <td>[ 40.63494873 -73.93478394]</td>\n",
       "        </tr>\n",
       "    </tbody>\n",
       "        <tr>\n",
       "            <td>2016-02-28 02:32:51</td> <td>2016-02-28 02:56:09</td> <td>1              </td> <td>[ 40.6871109  -73.97523499]</td> <td>[ 40.63808823 -73.94245911]</td>\n",
       "        </tr>\n",
       "    </tbody>\n",
       "        <tr>\n",
       "            <td>2016-01-15 21:09:21</td> <td>2016-01-15 21:13:23</td> <td>1              </td> <td>[ 40.63242722 -73.94760132]</td> <td>[ 40.63900375 -73.94308472]</td>\n",
       "        </tr>\n",
       "    </tbody>\n",
       "        <tr>\n",
       "            <td>2016-03-22 03:35:00</td> <td>2016-03-22 04:28:35</td> <td>1              </td> <td>[ 40.76005334 -74.00026565]</td> <td>[ 40.64290869 -73.93235795]</td>\n",
       "        </tr>\n",
       "    </tbody>\n",
       "        <tr>\n",
       "            <td>2015-12-21 18:54:12</td> <td>2015-12-22 00:00:00</td> <td>1              </td> <td>[ 40.6384964 -73.9425354]  </td> <td>[ 40.63853836 -73.94247437]</td>\n",
       "        </tr>\n",
       "    </tbody>\n",
       "</table>"
      ],
      "text/plain": [
       "<IPython.core.display.HTML object>"
      ]
     },
     "metadata": {},
     "output_type": "display_data"
    }
   ],
   "source": [
    "def dist_near(loc1, loc2, error=1):\n",
    "    \"\"\"\n",
    "    returns a boolean (True or False) of whether the coordinates (lat1,lon1) and (lat2,lon2) are\n",
    "    within error km (default 1 km) of each other\n",
    "    \"\"\"\n",
    "    return dist_coord(loc1, loc2) <= error\n",
    "\n",
    "complaint_loc = complaints.column('Location')[0]\n",
    "near_first_complaint_func = lambda x: dist_near(x, complaint_loc)\n",
    "near_first_complaint_table = taxis.where('Dropoff_location', near_first_complaint_func)\n",
    "near_first_complaint_table.show()"
   ]
  },
  {
   "cell_type": "markdown",
   "metadata": {},
   "source": [
    "Let's visualize this! We plot the location of the complaint in red, and the locations of the taxi dropoffs in green. In addition, we plot the pickup location for each of these taxis in blue so you can see where the taxis picked up passengers who were dropped near the location."
   ]
  },
  {
   "cell_type": "code",
   "execution_count": null,
   "metadata": {
    "scrolled": false
   },
   "outputs": [
    {
     "data": {
      "text/html": [
       "<div style=\"width:100%;\"><div style=\"position:relative;width:100%;height:0;padding-bottom:60%;\"><iframe src=\"data:text/html;charset=utf-8;base64,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\" style=\"position:absolute;width:100%;height:100%;left:0;top:0;border:none !important;\" allowfullscreen webkitallowfullscreen mozallowfullscreen></iframe></div></div>"
      ],
      "text/plain": [
       "<folium.folium.Map at 0x12dcdef98>"
      ]
     },
     "execution_count": 101,
     "metadata": {},
     "output_type": "execute_result"
    }
   ],
   "source": [
    "distance_example_map = folium.Map(width=700,height=500,location=complaint_loc.tolist(), zoom_start=12)\n",
    "\n",
    "addMarkers(distance_example_map, near_first_complaint_table, 'Dropoff_location', color='green',popup_cols=[3,4])\n",
    "addMarkers(distance_example_map, near_first_complaint_table, 'Pickup_location', color='blue',popup_cols=[3,4])\n",
    "folium.Marker(complaint_loc, icon=folium.Icon(color='red'),popup='Complaint_location: '+str(complaint_loc)).add_to(distance_example_map)\n",
    "\n",
    "distance_example_map"
   ]
  },
  {
   "cell_type": "markdown",
   "metadata": {
    "collapsed": true
   },
   "source": [
    "Now let's try to find DareDevil! We will try to go through the complaints data and find the complaints we believe (or know) that Daredevil has gone to. Then using this, we will match the crime with a taxi that is near in time and dropoff location. Finally, we will look for common pickup locations and suspect that this is the origin location of Daredevil.\n",
    "\n",
    "For the sake of speed, we will require that the passenger count in taxis be 1 and use only January's data. We also will set the location to 1 km away and the dropoff time to be within 15 minutes of the complaint time. You are free to change any of these parameters as you see fit. In addition, if you are comfortable, try to experiment by including some of the columns we removed earlier in the pre-processing stage! \n",
    "\n",
    "*Note that some of the visualizations can be time-consuming, so we encourage you to try to find a faster way that does not need visualizations (hint: try to use the distance function on the pickup locations you get).*"
   ]
  },
  {
   "cell_type": "code",
   "execution_count": null,
   "metadata": {},
   "outputs": [
    {
     "data": {
      "text/html": [
       "<table border=\"1\" class=\"dataframe\">\n",
       "    <thead>\n",
       "        <tr>\n",
       "            <th>Complaint_dt</th> <th>OFNS_DESC</th> <th>PD_DESC</th> <th>LAW_CAT_CD</th> <th>Location</th>\n",
       "        </tr>\n",
       "    </thead>\n",
       "    <tbody>\n",
       "        <tr>\n",
       "            <td>2016-01-24 03:55:00</td> <td>PETIT LARCENY                 </td> <td>LARCENY,PETIT FROM BUILDING,UN</td> <td>MISDEMEANOR</td> <td>[ 40.75288388 -73.98343469]</td>\n",
       "        </tr>\n",
       "    </tbody>\n",
       "        <tr>\n",
       "            <td>2016-01-11 06:05:00</td> <td>HARRASSMENT 2                 </td> <td>HARASSMENT,SUBD 1,CIVILIAN    </td> <td>VIOLATION  </td> <td>[ 40.6146244  -74.08471673]</td>\n",
       "        </tr>\n",
       "    </tbody>\n",
       "        <tr>\n",
       "            <td>2016-01-27 19:30:00</td> <td>FELONY ASSAULT                </td> <td>ASSAULT 2,1,UNCLASSIFIED      </td> <td>FELONY     </td> <td>[ 40.8291633  -73.93727189]</td>\n",
       "        </tr>\n",
       "    </tbody>\n",
       "        <tr>\n",
       "            <td>2016-01-17 23:09:00</td> <td>CRIMINAL MISCHIEF & RELATED OF</td> <td>TAMPERING 1,CRIMINAL          </td> <td>FELONY     </td> <td>[ 40.74978011 -73.98778087]</td>\n",
       "        </tr>\n",
       "    </tbody>\n",
       "        <tr>\n",
       "            <td>2016-01-12 18:19:00</td> <td>PETIT LARCENY                 </td> <td>LARCENY,PETIT FROM OPEN AREAS,</td> <td>MISDEMEANOR</td> <td>[ 40.69086637 -73.98584806]</td>\n",
       "        </tr>\n",
       "    </tbody>\n",
       "</table>\n",
       "<p>... (3211 rows omitted)</p"
      ],
      "text/plain": [
       "<IPython.core.display.HTML object>"
      ]
     },
     "metadata": {},
     "output_type": "display_data"
    }
   ],
   "source": [
    "distance_err = 1\n",
    "time_err = 15\n",
    "\n",
    "felonies = complaints.where(\"LAW_CAT_CD\", \"FELONY\")\n",
    "# We create a new table with only felonies\n",
    "felonies = complaints.where(\"Complaint_dt\", \n",
    "        are.between_or_equal_to(dt.datetime(2016,1,1), dt.datetime(2016,1,31)))\n",
    "felonies.show(5)\n",
    "\n",
    "# taxi_tables will be an array of tables corresponding to the table of taxis that\n",
    "# are suspected to be related to the associated felony\n",
    "taxi_tables = []\n",
    "for row_num in range(felonies.num_rows):\n",
    "    # This should all look familiar\n",
    "    complaint_loc = felonies.column('Location')[row_num]\n",
    "    complaint_desc = felonies.column('OFNS_DESC')[row_num]\n",
    "    complaint_dt = felonies.column('Complaint_dt')[row_num]\n",
    "    \n",
    "    near_complaint_loc_func = lambda x: dist_near(x, complaint_loc, distance_err)\n",
    "    near_complaint_time_func = lambda x: time_near(x, complaint_dt, time_err)\n",
    "    \n",
    "    temp_table = taxis.where('Dropoff_location', near_complaint_loc_func)\n",
    "    temp_table = temp_table.where('Dropoff_dt', near_complaint_time_func)\n",
    "    \n",
    "    taxi_tables.append(temp_table)\n",
    "    \n",
    "\n",
    "# For visualization. Note that this can take awhile to run\n",
    "NY_map = folium.Map(width=700,height=500,location=[40.7128,-74.0059], zoom_start=10)\n",
    "\n",
    "for i in range(len(taxi_tables)):\n",
    "    table = taxi_tables[i]\n",
    "    if (table.num_rows>0):\n",
    "        complaint_loc = felonies.column('Location')[i]\n",
    "        complaint_desc = felonies.column('OFNS_DESC')[i]\n",
    "        complaint_dt = felonies.column('Complaint_dt')[i]\n",
    "        \n",
    "        felony_marker = folium.Marker(complaint_loc, icon=folium.Icon(color='red'), popup=complaint_desc)\n",
    "        felony_marker.add_to(NY_map)\n",
    "        addMarkers(NY_map, table, 'Dropoff_location',color='green',popup_cols=[3,4])\n",
    "        addMarkers(NY_map, table, 'Pickup_location',color='blue',popup_cols=[3,4])\n",
    "        \n",
    "NY_map"
   ]
  },
  {
   "cell_type": "markdown",
   "metadata": {},
   "source": [
    "Remember that in the visualization, red indicates the crime, green indicates the dropoff location, and blue indicates the pickup location. Do you see anywhere that seems to be the origin of many of the blue clusters? In particular you should find that there is a small cluster of blue near the coordinates (40.76, -74.00).\n",
    "\n",
    "However, how can we be sure that this did not occur by random coincidence? There could be a variety of factors that impact the data (i.e. population, time, tourist-destination, etc). We recommend trying to explore the data yourself to find out more! You might even find more than just the location of Daredevil."
   ]
  },
  {
   "cell_type": "markdown",
   "metadata": {},
   "source": [
    "---\n",
    "\n",
    "## Credits\n",
    "This module was created as part of the DSEP Modules team for the Spring 2018 offering of INFO 290."
   ]
  },
  {
   "cell_type": "markdown",
   "metadata": {},
   "source": [
    "---"
   ]
  },
  {
   "cell_type": "code",
   "execution_count": null,
   "metadata": {
    "collapsed": true
   },
   "outputs": [],
   "source": []
  }
 ],
 "metadata": {
  "anaconda-cloud": {},
  "kernelspec": {
   "display_name": "Python 3",
   "language": "python",
   "name": "python3"
  },
  "language_info": {
   "codemirror_mode": {
    "name": "ipython",
    "version": 3
   },
   "file_extension": ".py",
   "mimetype": "text/x-python",
   "name": "python",
   "nbconvert_exporter": "python",
   "pygments_lexer": "ipython3",
   "version": "3.6.1"
  }
 },
 "nbformat": 4,
 "nbformat_minor": 1
}
